{
 "cells": [
  {
   "cell_type": "markdown",
   "metadata": {},
   "source": [
    "# EDA IBM stock 1min ticks\n",
    "\n",
    "## Takeouts -  december 29/2019\n",
    "* The distribution of the difference of the time series has very long tails: see plot. This was expected; still very ugly.\n",
    "* Created a very clean dataset with 'pastValues', 'currentValue', 'futureValue', 'deltaMinutes'. \n",
    "* The precision recall curve that we already have looks quite good: we trained one single time.\n",
    "\n",
    "## Takeouts -  december 30/2019\n",
    "* Plot a precision recall curve with several(monthly/weekly) training batches\n",
    "\n",
    "## To do\n",
    "\n",
    "* The current version of the target is not very realistic.\n",
    "* Need a more elaborated way of looking at histograms: the tails don't let me see anything: those tails are a huge concern.\n",
    "* Look out for sklearn methods to do crossvalidation in our setting: do not reinvent the wheel."
   ]
  },
  {
   "cell_type": "code",
   "execution_count": 1,
   "metadata": {},
   "outputs": [
    {
     "name": "stdout",
     "output_type": "stream",
     "text": [
      "/Users/lduque/Desktop/myProjects/moneyManager\n"
     ]
    }
   ],
   "source": [
    "cd ~/Desktop/MyProjects/moneyManager/"
   ]
  },
  {
   "cell_type": "code",
   "execution_count": 2,
   "metadata": {},
   "outputs": [],
   "source": [
    "from modeling.dataSetUtilities import createTrainingDataSet\n",
    "from modeling.generatePipeline import generatePipeline"
   ]
  },
  {
   "cell_type": "code",
   "execution_count": 3,
   "metadata": {},
   "outputs": [],
   "source": [
    "import pandas as pd\n",
    "import numpy as np\n",
    "from datetime import datetime\n",
    "import matplotlib.pyplot as plt\n",
    "\n",
    "from sklearn.metrics import precision_recall_curve \n",
    "from sklearn.metrics import average_precision_score\n",
    "from sklearn.metrics import plot_precision_recall_curve\n",
    "from sklearn.model_selection import GridSearchCV\n",
    "from sklearn.ensemble import RandomForestClassifier ## might not be necessary in the future?"
   ]
  },
  {
   "cell_type": "code",
   "execution_count": 4,
   "metadata": {},
   "outputs": [],
   "source": [
    "names = ['Date', 'Time', 'Open', 'High', 'Low', 'Close', 'Volume']\n",
    "df = pd.read_csv('data/sampleKibotData/minuteIntraday/IBM_adjusted.txt', header=None, names=names)\n",
    "df['DateTime']= pd.to_datetime((df.Date+' '+df.Time),infer_datetime_format=True) \n",
    "df = df.drop(columns=['Date', 'Time'])\n",
    "df = df.set_index('DateTime')\n"
   ]
  },
  {
   "cell_type": "code",
   "execution_count": 5,
   "metadata": {},
   "outputs": [
    {
     "data": {
      "text/html": [
       "<div>\n",
       "<style scoped>\n",
       "    .dataframe tbody tr th:only-of-type {\n",
       "        vertical-align: middle;\n",
       "    }\n",
       "\n",
       "    .dataframe tbody tr th {\n",
       "        vertical-align: top;\n",
       "    }\n",
       "\n",
       "    .dataframe thead th {\n",
       "        text-align: right;\n",
       "    }\n",
       "</style>\n",
       "<table border=\"1\" class=\"dataframe\">\n",
       "  <thead>\n",
       "    <tr style=\"text-align: right;\">\n",
       "      <th></th>\n",
       "      <th>Open</th>\n",
       "      <th>High</th>\n",
       "      <th>Low</th>\n",
       "      <th>Close</th>\n",
       "      <th>Volume</th>\n",
       "    </tr>\n",
       "    <tr>\n",
       "      <th>DateTime</th>\n",
       "      <th></th>\n",
       "      <th></th>\n",
       "      <th></th>\n",
       "      <th></th>\n",
       "      <th></th>\n",
       "    </tr>\n",
       "  </thead>\n",
       "  <tbody>\n",
       "    <tr>\n",
       "      <th>1998-01-02 09:30:00</th>\n",
       "      <td>33.69</td>\n",
       "      <td>33.69</td>\n",
       "      <td>33.69</td>\n",
       "      <td>33.69</td>\n",
       "      <td>207820</td>\n",
       "    </tr>\n",
       "    <tr>\n",
       "      <th>1998-01-02 09:31:00</th>\n",
       "      <td>33.65</td>\n",
       "      <td>33.69</td>\n",
       "      <td>33.65</td>\n",
       "      <td>33.65</td>\n",
       "      <td>33499</td>\n",
       "    </tr>\n",
       "    <tr>\n",
       "      <th>1998-01-02 09:32:00</th>\n",
       "      <td>33.67</td>\n",
       "      <td>33.69</td>\n",
       "      <td>33.65</td>\n",
       "      <td>33.69</td>\n",
       "      <td>41254</td>\n",
       "    </tr>\n",
       "    <tr>\n",
       "      <th>1998-01-02 09:33:00</th>\n",
       "      <td>33.67</td>\n",
       "      <td>33.69</td>\n",
       "      <td>33.65</td>\n",
       "      <td>33.65</td>\n",
       "      <td>52110</td>\n",
       "    </tr>\n",
       "    <tr>\n",
       "      <th>1998-01-02 09:34:00</th>\n",
       "      <td>33.65</td>\n",
       "      <td>33.69</td>\n",
       "      <td>33.65</td>\n",
       "      <td>33.65</td>\n",
       "      <td>14892</td>\n",
       "    </tr>\n",
       "  </tbody>\n",
       "</table>\n",
       "</div>"
      ],
      "text/plain": [
       "                      Open   High    Low  Close  Volume\n",
       "DateTime                                               \n",
       "1998-01-02 09:30:00  33.69  33.69  33.69  33.69  207820\n",
       "1998-01-02 09:31:00  33.65  33.69  33.65  33.65   33499\n",
       "1998-01-02 09:32:00  33.67  33.69  33.65  33.69   41254\n",
       "1998-01-02 09:33:00  33.67  33.69  33.65  33.65   52110\n",
       "1998-01-02 09:34:00  33.65  33.69  33.65  33.65   14892"
      ]
     },
     "execution_count": 5,
     "metadata": {},
     "output_type": "execute_result"
    }
   ],
   "source": [
    "df.head()"
   ]
  },
  {
   "cell_type": "code",
   "execution_count": 9,
   "metadata": {},
   "outputs": [],
   "source": [
    "df = df[-30000:]"
   ]
  },
  {
   "cell_type": "code",
   "execution_count": 10,
   "metadata": {},
   "outputs": [
    {
     "data": {
      "image/png": "[encoded data removed]",
      "text/plain": [
       "<Figure size 1080x360 with 1 Axes>"
      ]
     },
     "metadata": {
      "needs_background": "light"
     },
     "output_type": "display_data"
    }
   ],
   "source": [
    "#df.head()\n",
    "df.Open.plot(figsize=(15,5), title='IBM stock');\n",
    "#df.index.map(lambda x: x.year).value_counts().sort_index().plot.bar(figsize=(15, 5), title='ticks per year');\n",
    "#df.Open.diff().plot.hist(bins=200, figsize=(15,5), title= 'distribution of the differential');\n",
    "#pd.Series(df.index.map(lambda x: x.day)).value_counts().sort_index().plot.bar()"
   ]
  },
  {
   "cell_type": "code",
   "execution_count": 11,
   "metadata": {},
   "outputs": [],
   "source": [
    "dg  = createTrainingDataSet(df, presentStart=1, pastStart=5, futureEnd=-30)"
   ]
  },
  {
   "cell_type": "code",
   "execution_count": 12,
   "metadata": {},
   "outputs": [
    {
     "data": {
      "text/plain": [
       "False    12846\n",
       "True     12572\n",
       "Name: target, dtype: int64"
      ]
     },
     "execution_count": 12,
     "metadata": {},
     "output_type": "execute_result"
    }
   ],
   "source": [
    "dg.target.value_counts()"
   ]
  },
  {
   "cell_type": "code",
   "execution_count": 13,
   "metadata": {},
   "outputs": [],
   "source": [
    "X = dg.copy()\n",
    "y = X.pop('target')"
   ]
  },
  {
   "cell_type": "code",
   "execution_count": 14,
   "metadata": {},
   "outputs": [
    {
     "data": {
      "text/plain": [
       "(25418, 7)"
      ]
     },
     "execution_count": 14,
     "metadata": {},
     "output_type": "execute_result"
    }
   ],
   "source": [
    "X.shape"
   ]
  },
  {
   "cell_type": "code",
   "execution_count": 15,
   "metadata": {},
   "outputs": [
    {
     "data": {
      "text/html": [
       "<div>\n",
       "<style scoped>\n",
       "    .dataframe tbody tr th:only-of-type {\n",
       "        vertical-align: middle;\n",
       "    }\n",
       "\n",
       "    .dataframe tbody tr th {\n",
       "        vertical-align: top;\n",
       "    }\n",
       "\n",
       "    .dataframe thead th {\n",
       "        text-align: right;\n",
       "    }\n",
       "</style>\n",
       "<table border=\"1\" class=\"dataframe\">\n",
       "  <thead>\n",
       "    <tr style=\"text-align: right;\">\n",
       "      <th></th>\n",
       "      <th>DateTime</th>\n",
       "      <th>Open</th>\n",
       "      <th>High</th>\n",
       "      <th>Low</th>\n",
       "      <th>Close</th>\n",
       "      <th>Volume</th>\n",
       "      <th>unthresholdedTarget</th>\n",
       "    </tr>\n",
       "    <tr>\n",
       "      <th>DateTime</th>\n",
       "      <th></th>\n",
       "      <th></th>\n",
       "      <th></th>\n",
       "      <th></th>\n",
       "      <th></th>\n",
       "      <th></th>\n",
       "      <th></th>\n",
       "    </tr>\n",
       "  </thead>\n",
       "  <tbody>\n",
       "    <tr>\n",
       "      <th>2019-09-13 13:35:00</th>\n",
       "      <td>[2019-09-13 13:30:00, 2019-09-13 13:31:00, 201...</td>\n",
       "      <td>[142.1, 142.12, 142.12, 142.05, 142.07, 141.99]</td>\n",
       "      <td>[142.12, 142.14, 142.12, 142.06, 142.07, 142.07]</td>\n",
       "      <td>[142.1, 142.09, 142.07, 142.05, 142.02, 141.99]</td>\n",
       "      <td>[142.12, 142.13, 142.07, 142.06, 142.02, 142.04]</td>\n",
       "      <td>[425.0, 1539.0, 708.0, 202.0, 460.0, 3014.0]</td>\n",
       "      <td>-0.000577</td>\n",
       "    </tr>\n",
       "    <tr>\n",
       "      <th>2019-09-13 13:36:00</th>\n",
       "      <td>[2019-09-13 13:31:00, 2019-09-13 13:32:00, 201...</td>\n",
       "      <td>[142.12, 142.12, 142.05, 142.07, 141.99, 142.0]</td>\n",
       "      <td>[142.14, 142.12, 142.06, 142.07, 142.07, 142.01]</td>\n",
       "      <td>[142.09, 142.07, 142.05, 142.02, 141.99, 141.99]</td>\n",
       "      <td>[142.13, 142.07, 142.06, 142.02, 142.04, 142.01]</td>\n",
       "      <td>[1539.0, 708.0, 202.0, 460.0, 3014.0, 462.0]</td>\n",
       "      <td>-0.000433</td>\n",
       "    </tr>\n",
       "    <tr>\n",
       "      <th>2019-09-13 13:37:00</th>\n",
       "      <td>[2019-09-13 13:32:00, 2019-09-13 13:33:00, 201...</td>\n",
       "      <td>[142.12, 142.05, 142.07, 141.99, 142.0, 141.97]</td>\n",
       "      <td>[142.12, 142.06, 142.07, 142.07, 142.01, 142.01]</td>\n",
       "      <td>[142.07, 142.05, 142.02, 141.99, 141.99, 141.97]</td>\n",
       "      <td>[142.07, 142.06, 142.02, 142.04, 142.01, 142.01]</td>\n",
       "      <td>[708.0, 202.0, 460.0, 3014.0, 462.0, 708.0]</td>\n",
       "      <td>-0.000304</td>\n",
       "    </tr>\n",
       "    <tr>\n",
       "      <th>2019-09-13 13:38:00</th>\n",
       "      <td>[2019-09-13 13:33:00, 2019-09-13 13:34:00, 201...</td>\n",
       "      <td>[142.05, 142.07, 141.99, 142.0, 141.97, 141.99]</td>\n",
       "      <td>[142.06, 142.07, 142.07, 142.01, 142.01, 142.0]</td>\n",
       "      <td>[142.05, 142.02, 141.99, 141.99, 141.97, 141.96]</td>\n",
       "      <td>[142.06, 142.02, 142.04, 142.01, 142.01, 141.98]</td>\n",
       "      <td>[202.0, 460.0, 3014.0, 462.0, 708.0, 607.0]</td>\n",
       "      <td>-0.000244</td>\n",
       "    </tr>\n",
       "    <tr>\n",
       "      <th>2019-09-13 13:39:00</th>\n",
       "      <td>[2019-09-13 13:34:00, 2019-09-13 13:35:00, 201...</td>\n",
       "      <td>[142.07, 141.99, 142.0, 141.97, 141.99, 141.98]</td>\n",
       "      <td>[142.07, 142.07, 142.01, 142.01, 142.0, 141.99]</td>\n",
       "      <td>[142.02, 141.99, 141.99, 141.97, 141.96, 141.98]</td>\n",
       "      <td>[142.02, 142.04, 142.01, 142.01, 141.98, 141.99]</td>\n",
       "      <td>[460.0, 3014.0, 462.0, 708.0, 607.0, 818.0]</td>\n",
       "      <td>-0.000234</td>\n",
       "    </tr>\n",
       "  </tbody>\n",
       "</table>\n",
       "</div>"
      ],
      "text/plain": [
       "                                                              DateTime  \\\n",
       "DateTime                                                                 \n",
       "2019-09-13 13:35:00  [2019-09-13 13:30:00, 2019-09-13 13:31:00, 201...   \n",
       "2019-09-13 13:36:00  [2019-09-13 13:31:00, 2019-09-13 13:32:00, 201...   \n",
       "2019-09-13 13:37:00  [2019-09-13 13:32:00, 2019-09-13 13:33:00, 201...   \n",
       "2019-09-13 13:38:00  [2019-09-13 13:33:00, 2019-09-13 13:34:00, 201...   \n",
       "2019-09-13 13:39:00  [2019-09-13 13:34:00, 2019-09-13 13:35:00, 201...   \n",
       "\n",
       "                                                                Open  \\\n",
       "DateTime                                                               \n",
       "2019-09-13 13:35:00  [142.1, 142.12, 142.12, 142.05, 142.07, 141.99]   \n",
       "2019-09-13 13:36:00  [142.12, 142.12, 142.05, 142.07, 141.99, 142.0]   \n",
       "2019-09-13 13:37:00  [142.12, 142.05, 142.07, 141.99, 142.0, 141.97]   \n",
       "2019-09-13 13:38:00  [142.05, 142.07, 141.99, 142.0, 141.97, 141.99]   \n",
       "2019-09-13 13:39:00  [142.07, 141.99, 142.0, 141.97, 141.99, 141.98]   \n",
       "\n",
       "                                                                 High  \\\n",
       "DateTime                                                                \n",
       "2019-09-13 13:35:00  [142.12, 142.14, 142.12, 142.06, 142.07, 142.07]   \n",
       "2019-09-13 13:36:00  [142.14, 142.12, 142.06, 142.07, 142.07, 142.01]   \n",
       "2019-09-13 13:37:00  [142.12, 142.06, 142.07, 142.07, 142.01, 142.01]   \n",
       "2019-09-13 13:38:00   [142.06, 142.07, 142.07, 142.01, 142.01, 142.0]   \n",
       "2019-09-13 13:39:00   [142.07, 142.07, 142.01, 142.01, 142.0, 141.99]   \n",
       "\n",
       "                                                                  Low  \\\n",
       "DateTime                                                                \n",
       "2019-09-13 13:35:00   [142.1, 142.09, 142.07, 142.05, 142.02, 141.99]   \n",
       "2019-09-13 13:36:00  [142.09, 142.07, 142.05, 142.02, 141.99, 141.99]   \n",
       "2019-09-13 13:37:00  [142.07, 142.05, 142.02, 141.99, 141.99, 141.97]   \n",
       "2019-09-13 13:38:00  [142.05, 142.02, 141.99, 141.99, 141.97, 141.96]   \n",
       "2019-09-13 13:39:00  [142.02, 141.99, 141.99, 141.97, 141.96, 141.98]   \n",
       "\n",
       "                                                                Close  \\\n",
       "DateTime                                                                \n",
       "2019-09-13 13:35:00  [142.12, 142.13, 142.07, 142.06, 142.02, 142.04]   \n",
       "2019-09-13 13:36:00  [142.13, 142.07, 142.06, 142.02, 142.04, 142.01]   \n",
       "2019-09-13 13:37:00  [142.07, 142.06, 142.02, 142.04, 142.01, 142.01]   \n",
       "2019-09-13 13:38:00  [142.06, 142.02, 142.04, 142.01, 142.01, 141.98]   \n",
       "2019-09-13 13:39:00  [142.02, 142.04, 142.01, 142.01, 141.98, 141.99]   \n",
       "\n",
       "                                                           Volume  \\\n",
       "DateTime                                                            \n",
       "2019-09-13 13:35:00  [425.0, 1539.0, 708.0, 202.0, 460.0, 3014.0]   \n",
       "2019-09-13 13:36:00  [1539.0, 708.0, 202.0, 460.0, 3014.0, 462.0]   \n",
       "2019-09-13 13:37:00   [708.0, 202.0, 460.0, 3014.0, 462.0, 708.0]   \n",
       "2019-09-13 13:38:00   [202.0, 460.0, 3014.0, 462.0, 708.0, 607.0]   \n",
       "2019-09-13 13:39:00   [460.0, 3014.0, 462.0, 708.0, 607.0, 818.0]   \n",
       "\n",
       "                     unthresholdedTarget  \n",
       "DateTime                                  \n",
       "2019-09-13 13:35:00            -0.000577  \n",
       "2019-09-13 13:36:00            -0.000433  \n",
       "2019-09-13 13:37:00            -0.000304  \n",
       "2019-09-13 13:38:00            -0.000244  \n",
       "2019-09-13 13:39:00            -0.000234  "
      ]
     },
     "execution_count": 15,
     "metadata": {},
     "output_type": "execute_result"
    }
   ],
   "source": [
    "X.head()"
   ]
  },
  {
   "cell_type": "markdown",
   "metadata": {},
   "source": [
    "## A precision recall-curve with only one training split."
   ]
  },
  {
   "cell_type": "code",
   "execution_count": 16,
   "metadata": {},
   "outputs": [],
   "source": [
    "# temporal split of train/test\n",
    "trainPercentage = 50\n",
    "testBegins = (len(X)*trainPercentage)//100\n",
    "Xtrain, ytrain = X[:testBegins], y[:testBegins]\n",
    "Xtest, ytest = X[testBegins:], y[testBegins:]"
   ]
  },
  {
   "cell_type": "code",
   "execution_count": 17,
   "metadata": {},
   "outputs": [
    {
     "name": "stderr",
     "output_type": "stream",
     "text": [
      "/Users/lduque/Desktop/MyProjects/moneyManager/venv-money/lib/python3.6/site-packages/sklearn/linear_model/_sag.py:330: ConvergenceWarning: The max_iter was reached which means the coef_ did not converge\n",
      "  \"the coef_ did not converge\", ConvergenceWarning)\n"
     ]
    },
    {
     "data": {
      "text/plain": [
       "Pipeline(memory=None,\n",
       "         steps=[('selectcolumns',\n",
       "                 ColumnSelector(columns=['Open', 'High', 'Low', 'Close',\n",
       "                                         'Volume'])),\n",
       "                ('scaletimeseries',\n",
       "                 FunctionTransformer(accept_sparse=False, check_inverse=True,\n",
       "                                     func=<function timeSeriesScaler at 0x11bb71158>,\n",
       "                                     inv_kw_args=None, inverse_func=None,\n",
       "                                     kw_args=None, validate=False)),\n",
       "                ('featurengineering',\n",
       "                 FunctionTransformer(accept_spars...\n",
       "                 TransformationWrapper(transformation=MinMaxScaler(copy=True,\n",
       "                                                                   feature_range=(0,\n",
       "                                                                                  1)))),\n",
       "                ('classifier',\n",
       "                 LogisticRegression(C=1.0, class_weight=None, dual=False,\n",
       "                                    fit_intercept=True, intercept_scaling=1,\n",
       "                                    l1_ratio=None, max_iter=1000,\n",
       "                                    multi_class='auto', n_jobs=None,\n",
       "                                    penalty='none', random_state=None,\n",
       "                                    solver='sag', tol=0.0001, verbose=0,\n",
       "                                    warm_start=False))],\n",
       "         verbose=False)"
      ]
     },
     "execution_count": 17,
     "metadata": {},
     "output_type": "execute_result"
    }
   ],
   "source": [
    "model = generatePipeline()\n",
    "model.fit(Xtrain, ytrain)"
   ]
  },
  {
   "cell_type": "code",
   "execution_count": 18,
   "metadata": {},
   "outputs": [
    {
     "data": {
      "image/png": "[encoded data removed]",
      "text/plain": [
       "<Figure size 432x288 with 1 Axes>"
      ]
     },
     "metadata": {
      "needs_background": "light"
     },
     "output_type": "display_data"
    }
   ],
   "source": [
    "base_rate = sum(ytest)/len(ytest)\n",
    "ypredicted=model.predict_proba(Xtest)[:,1]\n",
    "average_precision = average_precision_score(ytest, ypredicted)\n",
    "disp = plot_precision_recall_curve(model, Xtest, ytest)\n",
    "disp.ax_.set_title('2-class Precision-Recall curve: AP={0:0.2f}'.format(average_precision))\n",
    "plt.plot([0, 1], [base_rate, base_rate]);"
   ]
  },
  {
   "cell_type": "code",
   "execution_count": 39,
   "metadata": {},
   "outputs": [],
   "source": [
    "evaluationDF = pd.DataFrame({'predicted':ypredicted, 'target':ytest, 'unthresholdedTarget':Xtest.unthresholdedTarget}, index=Xtest.index)\n",
    "topPredictions = evaluationDF.sort_values(by='predicted', ascending=False)[:100]"
   ]
  },
  {
   "cell_type": "code",
   "execution_count": 40,
   "metadata": {},
   "outputs": [
    {
     "data": {
      "text/plain": [
       "<matplotlib.axes._subplots.AxesSubplot at 0x121078438>"
      ]
     },
     "execution_count": 40,
     "metadata": {},
     "output_type": "execute_result"
    },
    {
     "data": {
      "image/png": "[encoded data removed]",
      "text/plain": [
       "<Figure size 432x288 with 1 Axes>"
      ]
     },
     "metadata": {
      "needs_background": "light"
     },
     "output_type": "display_data"
    }
   ],
   "source": [
    "evaluationDF.unthresholdedTarget.plot.hist()"
   ]
  },
  {
   "cell_type": "code",
   "execution_count": 41,
   "metadata": {},
   "outputs": [
    {
     "data": {
      "text/plain": [
       "<matplotlib.axes._subplots.AxesSubplot at 0x1221a0198>"
      ]
     },
     "execution_count": 41,
     "metadata": {},
     "output_type": "execute_result"
    },
    {
     "data": {
      "image/png": "[encoded data removed]",
      "text/plain": [
       "<Figure size 432x288 with 1 Axes>"
      ]
     },
     "metadata": {
      "needs_background": "light"
     },
     "output_type": "display_data"
    }
   ],
   "source": [
    "topPredictions.unthresholdedTarget.plot.hist()"
   ]
  },
  {
   "cell_type": "code",
   "execution_count": 42,
   "metadata": {},
   "outputs": [
    {
     "name": "stdout",
     "output_type": "stream",
     "text": [
      "-6.544810221910966e-05\n",
      "0.0008545406713984158\n"
     ]
    }
   ],
   "source": [
    "print(evaluationDF.unthresholdedTarget.mean())\n",
    "print(topPredictions.unthresholdedTarget.mean())"
   ]
  },
  {
   "cell_type": "code",
   "execution_count": 43,
   "metadata": {},
   "outputs": [
    {
     "name": "stdout",
     "output_type": "stream",
     "text": [
      "-7.315745135769097e-05\n",
      "0.0006417696312759471\n"
     ]
    }
   ],
   "source": [
    "print(evaluationDF.unthresholdedTarget.median())\n",
    "print(topPredictions.unthresholdedTarget.median())"
   ]
  },
  {
   "cell_type": "code",
   "execution_count": 49,
   "metadata": {},
   "outputs": [
    {
     "data": {
      "text/html": [
       "<div>\n",
       "<style scoped>\n",
       "    .dataframe tbody tr th:only-of-type {\n",
       "        vertical-align: middle;\n",
       "    }\n",
       "\n",
       "    .dataframe tbody tr th {\n",
       "        vertical-align: top;\n",
       "    }\n",
       "\n",
       "    .dataframe thead th {\n",
       "        text-align: right;\n",
       "    }\n",
       "</style>\n",
       "<table border=\"1\" class=\"dataframe\">\n",
       "  <thead>\n",
       "    <tr style=\"text-align: right;\">\n",
       "      <th></th>\n",
       "      <th>predicted</th>\n",
       "      <th>target</th>\n",
       "      <th>unthresholdedTarget</th>\n",
       "    </tr>\n",
       "    <tr>\n",
       "      <th>DateTime</th>\n",
       "      <th></th>\n",
       "      <th></th>\n",
       "      <th></th>\n",
       "    </tr>\n",
       "  </thead>\n",
       "  <tbody>\n",
       "    <tr>\n",
       "      <th>2019-12-12 10:03:00</th>\n",
       "      <td>0.861194</td>\n",
       "      <td>True</td>\n",
       "      <td>0.002109</td>\n",
       "    </tr>\n",
       "    <tr>\n",
       "      <th>2019-11-08 09:50:00</th>\n",
       "      <td>0.842287</td>\n",
       "      <td>True</td>\n",
       "      <td>0.000963</td>\n",
       "    </tr>\n",
       "    <tr>\n",
       "      <th>2019-12-12 09:35:00</th>\n",
       "      <td>0.835424</td>\n",
       "      <td>True</td>\n",
       "      <td>0.006730</td>\n",
       "    </tr>\n",
       "    <tr>\n",
       "      <th>2019-12-13 10:02:00</th>\n",
       "      <td>0.831981</td>\n",
       "      <td>True</td>\n",
       "      <td>0.000409</td>\n",
       "    </tr>\n",
       "    <tr>\n",
       "      <th>2019-12-10 10:12:00</th>\n",
       "      <td>0.829376</td>\n",
       "      <td>False</td>\n",
       "      <td>-0.000952</td>\n",
       "    </tr>\n",
       "    <tr>\n",
       "      <th>...</th>\n",
       "      <td>...</td>\n",
       "      <td>...</td>\n",
       "      <td>...</td>\n",
       "    </tr>\n",
       "    <tr>\n",
       "      <th>2019-11-19 10:19:00</th>\n",
       "      <td>0.706061</td>\n",
       "      <td>True</td>\n",
       "      <td>0.000049</td>\n",
       "    </tr>\n",
       "    <tr>\n",
       "      <th>2019-11-15 15:14:00</th>\n",
       "      <td>0.705970</td>\n",
       "      <td>False</td>\n",
       "      <td>-0.001020</td>\n",
       "    </tr>\n",
       "    <tr>\n",
       "      <th>2019-12-04 10:21:00</th>\n",
       "      <td>0.705750</td>\n",
       "      <td>False</td>\n",
       "      <td>-0.000255</td>\n",
       "    </tr>\n",
       "    <tr>\n",
       "      <th>2019-12-05 12:20:00</th>\n",
       "      <td>0.705095</td>\n",
       "      <td>False</td>\n",
       "      <td>-0.000146</td>\n",
       "    </tr>\n",
       "    <tr>\n",
       "      <th>2019-12-03 11:13:00</th>\n",
       "      <td>0.704764</td>\n",
       "      <td>True</td>\n",
       "      <td>0.000121</td>\n",
       "    </tr>\n",
       "  </tbody>\n",
       "</table>\n",
       "<p>100 rows × 3 columns</p>\n",
       "</div>"
      ],
      "text/plain": [
       "                     predicted  target  unthresholdedTarget\n",
       "DateTime                                                   \n",
       "2019-12-12 10:03:00   0.861194    True             0.002109\n",
       "2019-11-08 09:50:00   0.842287    True             0.000963\n",
       "2019-12-12 09:35:00   0.835424    True             0.006730\n",
       "2019-12-13 10:02:00   0.831981    True             0.000409\n",
       "2019-12-10 10:12:00   0.829376   False            -0.000952\n",
       "...                        ...     ...                  ...\n",
       "2019-11-19 10:19:00   0.706061    True             0.000049\n",
       "2019-11-15 15:14:00   0.705970   False            -0.001020\n",
       "2019-12-04 10:21:00   0.705750   False            -0.000255\n",
       "2019-12-05 12:20:00   0.705095   False            -0.000146\n",
       "2019-12-03 11:13:00   0.704764    True             0.000121\n",
       "\n",
       "[100 rows x 3 columns]"
      ]
     },
     "execution_count": 49,
     "metadata": {},
     "output_type": "execute_result"
    }
   ],
   "source": [
    "topPredictions"
   ]
  },
  {
   "cell_type": "code",
   "execution_count": 63,
   "metadata": {},
   "outputs": [
    {
     "data": {
      "text/plain": [
       "<matplotlib.axes._subplots.AxesSubplot at 0x11e278780>"
      ]
     },
     "execution_count": 63,
     "metadata": {},
     "output_type": "execute_result"
    },
    {
     "data": {
      "image/png": "[encoded data removed]",
      "text/plain": [
       "<Figure size 432x288 with 1 Axes>"
      ]
     },
     "metadata": {
      "needs_background": "light"
     },
     "output_type": "display_data"
    }
   ],
   "source": [
    "topPredictions.predicted.sort_index().plot()"
   ]
  },
  {
   "cell_type": "code",
   "execution_count": null,
   "metadata": {},
   "outputs": [],
   "source": [
    "## now lets do the same but predict when performance is going to be below median\n",
    "ytrain_neg = ~(ytrain)\n",
    "ytest_neg = ~(ytest)\n",
    "model = generatePipeline()\n",
    "model.fit(Xtrain, ytrain_neg)"
   ]
  },
  {
   "cell_type": "code",
   "execution_count": null,
   "metadata": {},
   "outputs": [],
   "source": [
    "base_rate = sum(ytest_neg)/len(ytest_neg)\n",
    "ypredicted_neg=model.predict_proba(Xtest)[:,1]\n",
    "average_precision = average_precision_score(ytest_neg, ypredicted_neg)\n",
    "disp = plot_precision_recall_curve(model, Xtest, ytest_neg)\n",
    "disp.ax_.set_title('2-class Precision-Recall curve: AP={0:0.2f}'.format(average_precision))\n",
    "plt.plot([0, 1], [base_rate, base_rate]);"
   ]
  },
  {
   "cell_type": "code",
   "execution_count": null,
   "metadata": {},
   "outputs": [],
   "source": []
  },
  {
   "cell_type": "markdown",
   "metadata": {},
   "source": [
    "# A precision-recall curve with multiple training batches: this probably needs some rewriting ! (maybe with crossvalidation?)"
   ]
  },
  {
   "cell_type": "code",
   "execution_count": null,
   "metadata": {},
   "outputs": [],
   "source": [
    "X = pd.concat([dg.pastValues.apply(lambda x:pd.Series(x)), dg.currentValue, dg.target], axis=1)\n",
    "firstTimeStamp=X.index[0]\n",
    "first_day = datetime(firstTimeStamp.year, firstTimeStamp.month, firstTimeStamp.day)\n",
    "X['week']=pd.Series(X.index).apply(lambda x: (datetime(x.year, x.month, x.day)-first_day).days//7).values"
   ]
  },
  {
   "cell_type": "code",
   "execution_count": null,
   "metadata": {},
   "outputs": [],
   "source": [
    "# notice that for the week zero we wont have a model.\n",
    "trainSets = [X[X.week==w] for w in X.week.unique()]\n",
    "trainTestBarches = [(None, None, None, None)]+[(trainSets[i].drop(columns='target'),trainSets[i].target,trainSets[i+1].drop(columns='target'),trainSets[i+1].target) for i in range(len(trainSets)-1)]\n",
    "models = [None] + [GridSearchCV(regr, parameters, cv=2, scoring='average_precision') for _ in range(len(trainSets)-1)]"
   ]
  },
  {
   "cell_type": "code",
   "execution_count": null,
   "metadata": {},
   "outputs": [],
   "source": [
    "Xtrain, ytrain, Xtest, ytest = trainTestBarches[1]"
   ]
  },
  {
   "cell_type": "code",
   "execution_count": null,
   "metadata": {},
   "outputs": [],
   "source": [
    "Xtrain # notice: week should not be in the model, but its ok for now"
   ]
  },
  {
   "cell_type": "code",
   "execution_count": null,
   "metadata": {},
   "outputs": [],
   "source": [
    "for i in range(1, len(models)):\n",
    "    print(i)\n",
    "    Xtrain, ytrain, Xtest, ytest = trainTestBarches[i]\n",
    "    models[i].fit(Xtrain.div(Xtrain.currentValue, axis=0), ytrain)"
   ]
  },
  {
   "cell_type": "code",
   "execution_count": null,
   "metadata": {},
   "outputs": [],
   "source": [
    "# this function is worth saving somewhere !\n",
    "def indexedModelEvaluation(x):\n",
    "    row = x.copy()\n",
    "    week = row['week']\n",
    "    row = row.drop('target')\n",
    "    row = [list(row/row.currentValue)]\n",
    "    model = models[week]\n",
    "    return np.nan if model==None else model.predict_proba(row)[0][1]"
   ]
  },
  {
   "cell_type": "code",
   "execution_count": null,
   "metadata": {},
   "outputs": [],
   "source": [
    "ypredicted = X.apply(indexedModelEvaluation,axis=1)"
   ]
  },
  {
   "cell_type": "code",
   "execution_count": null,
   "metadata": {},
   "outputs": [],
   "source": [
    "X['predicted']=ypredicted"
   ]
  },
  {
   "cell_type": "code",
   "execution_count": null,
   "metadata": {},
   "outputs": [],
   "source": [
    "dh = X[['predicted', 'target']].copy()"
   ]
  },
  {
   "cell_type": "code",
   "execution_count": null,
   "metadata": {},
   "outputs": [],
   "source": [
    "dh = dh[dh.predicted.notna()] "
   ]
  },
  {
   "cell_type": "code",
   "execution_count": null,
   "metadata": {},
   "outputs": [],
   "source": [
    "ytest = dh.target\n",
    "ypredicted = dh.predicted\n",
    "base_rate = sum(ytest)/len(ytest)\n",
    "average_precision = average_precision_score(ytest, ypredicted)\n",
    "precision, recall, _ = precision_recall_curve(ytest, ypredicted)"
   ]
  },
  {
   "cell_type": "code",
   "execution_count": null,
   "metadata": {},
   "outputs": [],
   "source": [
    "plt.plot(recall, precision)\n",
    "plt.plot([0, 1], [base_rate, base_rate]);"
   ]
  },
  {
   "cell_type": "code",
   "execution_count": null,
   "metadata": {},
   "outputs": [],
   "source": []
  },
  {
   "cell_type": "code",
   "execution_count": null,
   "metadata": {},
   "outputs": [],
   "source": [
    "A = [-1, -1, -1, -1, -1 ,6,7,8,9,10]"
   ]
  },
  {
   "cell_type": "code",
   "execution_count": null,
   "metadata": {},
   "outputs": [],
   "source": [
    "np.percentile(A, 100)"
   ]
  },
  {
   "cell_type": "code",
   "execution_count": null,
   "metadata": {},
   "outputs": [],
   "source": [
    "np.median(A)"
   ]
  },
  {
   "cell_type": "code",
   "execution_count": null,
   "metadata": {},
   "outputs": [],
   "source": []
  }
 ],
 "metadata": {
  "kernelspec": {
   "display_name": "Python 3",
   "language": "python",
   "name": "python3"
  },
  "language_info": {
   "codemirror_mode": {
    "name": "ipython",
    "version": 3
   },
   "file_extension": ".py",
   "mimetype": "text/x-python",
   "name": "python",
   "nbconvert_exporter": "python",
   "pygments_lexer": "ipython3",
   "version": "3.6.6"
  }
 },
 "nbformat": 4,
 "nbformat_minor": 2
}
