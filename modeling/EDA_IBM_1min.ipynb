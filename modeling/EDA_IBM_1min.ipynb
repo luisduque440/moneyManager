{
 "cells": [
  {
   "cell_type": "markdown",
   "metadata": {},
   "source": [
    "# Predicting IBM 1-min-time series\n",
    "* DO NOT TOUCH THIS UNTIL THE STRATEGY THAT THESE MODELS SUGGEST IS SIMULATED\n",
    "* It is possible to get (ocationally) a signal with around 1% recall and around 80% precision using a regularized logistic regression\n",
    "* If we managed to do this on many stocks we would be able to build a reasonable strategy from there.\n",
    "* Still need to simulate the strategy for many stocks. It might actually work\n",
    "* Do some slides to show Jake\n",
    "* What if we negate the target and study NPV instead: recall improves !\n",
    "* Use naive Bayes: BernoulliNB out of the box is producing nice precision-recall curves\n",
    "* What if we deal with class weights in the logistic regressions? class_weight"
   ]
  },
  {
   "cell_type": "code",
   "execution_count": 1,
   "metadata": {},
   "outputs": [
    {
     "name": "stdout",
     "output_type": "stream",
     "text": [
      "/Users/lduque/Desktop/myProjects/moneyManager\n"
     ]
    }
   ],
   "source": [
    "cd ~/Desktop/MyProjects/moneyManager/"
   ]
  },
  {
   "cell_type": "code",
   "execution_count": 2,
   "metadata": {},
   "outputs": [],
   "source": [
    "class_weight={True:0.7, False:0.3}"
   ]
  },
  {
   "cell_type": "code",
   "execution_count": 3,
   "metadata": {},
   "outputs": [],
   "source": [
    "import pandas as pd\n",
    "import numpy as np\n",
    "from datetime import datetime\n",
    "import matplotlib.pyplot as plt\n",
    "from sklearn.metrics import precision_recall_curve \n",
    "from sklearn.metrics import average_precision_score\n",
    "from sklearn.metrics import plot_precision_recall_curve\n",
    "from sklearn.model_selection import GridSearchCV\n",
    "from modeling.createTrainingDataSet import createTrainingDataSet, loadTimeSeries\n",
    "from modeling.StockModel import generatePipeline\n",
    "from modeling.sklearnUtilities import createTimeFeatures\n",
    "from sklearn.model_selection import GridSearchCV\n",
    "from sklearn.linear_model import LogisticRegression\n",
    "from sklearn.model_selection import GridSearchCV\n",
    "from sklearn.ensemble import RandomForestClassifier\n",
    "import random\n",
    "pd.set_option('display.max_columns', None)"
   ]
  },
  {
   "cell_type": "code",
   "execution_count": 4,
   "metadata": {},
   "outputs": [],
   "source": [
    "def plot_precision_recall_on_train_and_test(model, Xtrain, ytrain, Xtest, ytest):\n",
    "    disp = plot_precision_recall_curve(model, Xtrain, ytrain)\n",
    "    disp.ax_.set_xlim(0.0, 0.5);\n",
    "    disp.ax_.set_ylim(0.4, 1.0);\n",
    "    disp.ax_.set_title('precision - recall in train data set');\n",
    "\n",
    "\n",
    "    disp = plot_precision_recall_curve(model, Xtest, ytest);\n",
    "    disp.ax_.set_xlim(0.0, 0.5);\n",
    "    disp.ax_.set_ylim(0.4, 1.0);\n",
    "    disp.ax_.set_title('precision - recall in test data set');"
   ]
  },
  {
   "cell_type": "code",
   "execution_count": 5,
   "metadata": {},
   "outputs": [],
   "source": [
    "startDay=datetime(2019,1,1)\n",
    "endDay= datetime(2019,2,1)\n",
    "df = createTrainingDataSet('IBM',  startDay=startDay, endDay=endDay, pastStart=10)\n",
    "df = df[['consolidated', 'volume', 'target']]"
   ]
  },
  {
   "cell_type": "code",
   "execution_count": 6,
   "metadata": {},
   "outputs": [
    {
     "data": {
      "text/html": [
       "<div>\n",
       "<style scoped>\n",
       "    .dataframe tbody tr th:only-of-type {\n",
       "        vertical-align: middle;\n",
       "    }\n",
       "\n",
       "    .dataframe tbody tr th {\n",
       "        vertical-align: top;\n",
       "    }\n",
       "\n",
       "    .dataframe thead th {\n",
       "        text-align: right;\n",
       "    }\n",
       "</style>\n",
       "<table border=\"1\" class=\"dataframe\">\n",
       "  <thead>\n",
       "    <tr style=\"text-align: right;\">\n",
       "      <th></th>\n",
       "      <th>consolidated</th>\n",
       "      <th>volume</th>\n",
       "      <th>target</th>\n",
       "    </tr>\n",
       "    <tr>\n",
       "      <th>date</th>\n",
       "      <th></th>\n",
       "      <th></th>\n",
       "      <th></th>\n",
       "    </tr>\n",
       "  </thead>\n",
       "  <tbody>\n",
       "    <tr>\n",
       "      <th>2019-01-02 14:31:00</th>\n",
       "      <td>[nan, nan, nan, nan, nan, nan, nan, nan, nan, ...</td>\n",
       "      <td>[nan, nan, nan, nan, nan, nan, nan, nan, nan, ...</td>\n",
       "      <td>True</td>\n",
       "    </tr>\n",
       "    <tr>\n",
       "      <th>2019-01-02 14:32:00</th>\n",
       "      <td>[nan, nan, nan, nan, nan, nan, nan, nan, nan, ...</td>\n",
       "      <td>[nan, nan, nan, nan, nan, nan, nan, nan, nan, ...</td>\n",
       "      <td>True</td>\n",
       "    </tr>\n",
       "    <tr>\n",
       "      <th>2019-01-02 14:33:00</th>\n",
       "      <td>[nan, nan, nan, nan, nan, nan, nan, nan, 106.9...</td>\n",
       "      <td>[nan, nan, nan, nan, nan, nan, nan, nan, 85379...</td>\n",
       "      <td>True</td>\n",
       "    </tr>\n",
       "    <tr>\n",
       "      <th>2019-01-02 14:34:00</th>\n",
       "      <td>[nan, nan, nan, nan, nan, nan, nan, 106.9315, ...</td>\n",
       "      <td>[nan, nan, nan, nan, nan, nan, nan, 85379.0, 1...</td>\n",
       "      <td>True</td>\n",
       "    </tr>\n",
       "    <tr>\n",
       "      <th>2019-01-02 14:35:00</th>\n",
       "      <td>[nan, nan, nan, nan, nan, nan, 106.9315, 107.2...</td>\n",
       "      <td>[nan, nan, nan, nan, nan, nan, 85379.0, 12219....</td>\n",
       "      <td>True</td>\n",
       "    </tr>\n",
       "  </tbody>\n",
       "</table>\n",
       "</div>"
      ],
      "text/plain": [
       "                                                          consolidated  \\\n",
       "date                                                                     \n",
       "2019-01-02 14:31:00  [nan, nan, nan, nan, nan, nan, nan, nan, nan, ...   \n",
       "2019-01-02 14:32:00  [nan, nan, nan, nan, nan, nan, nan, nan, nan, ...   \n",
       "2019-01-02 14:33:00  [nan, nan, nan, nan, nan, nan, nan, nan, 106.9...   \n",
       "2019-01-02 14:34:00  [nan, nan, nan, nan, nan, nan, nan, 106.9315, ...   \n",
       "2019-01-02 14:35:00  [nan, nan, nan, nan, nan, nan, 106.9315, 107.2...   \n",
       "\n",
       "                                                                volume  target  \n",
       "date                                                                            \n",
       "2019-01-02 14:31:00  [nan, nan, nan, nan, nan, nan, nan, nan, nan, ...    True  \n",
       "2019-01-02 14:32:00  [nan, nan, nan, nan, nan, nan, nan, nan, nan, ...    True  \n",
       "2019-01-02 14:33:00  [nan, nan, nan, nan, nan, nan, nan, nan, 85379...    True  \n",
       "2019-01-02 14:34:00  [nan, nan, nan, nan, nan, nan, nan, 85379.0, 1...    True  \n",
       "2019-01-02 14:35:00  [nan, nan, nan, nan, nan, nan, 85379.0, 12219....    True  "
      ]
     },
     "execution_count": 6,
     "metadata": {},
     "output_type": "execute_result"
    }
   ],
   "source": [
    "df.head()"
   ]
  },
  {
   "cell_type": "code",
   "execution_count": 7,
   "metadata": {},
   "outputs": [
    {
     "data": {
      "text/plain": [
       "(8190, 3)"
      ]
     },
     "execution_count": 7,
     "metadata": {},
     "output_type": "execute_result"
    }
   ],
   "source": [
    "df.shape"
   ]
  },
  {
   "cell_type": "code",
   "execution_count": 8,
   "metadata": {},
   "outputs": [
    {
     "data": {
      "text/plain": [
       "<matplotlib.axes._subplots.AxesSubplot at 0x11b4acac8>"
      ]
     },
     "execution_count": 8,
     "metadata": {},
     "output_type": "execute_result"
    },
    {
     "data": {
      "image/png": "[encoded data removed]",
      "text/plain": [
       "<Figure size 432x288 with 1 Axes>"
      ]
     },
     "metadata": {
      "needs_background": "light"
     },
     "output_type": "display_data"
    }
   ],
   "source": [
    "df.target.value_counts().plot.bar()"
   ]
  },
  {
   "cell_type": "code",
   "execution_count": 9,
   "metadata": {},
   "outputs": [],
   "source": [
    "X = df.copy()\n",
    "y = X.pop('target')"
   ]
  },
  {
   "cell_type": "code",
   "execution_count": 10,
   "metadata": {},
   "outputs": [],
   "source": [
    "Xtrain, ytrain = X[:len(X)//2], y[:len(X)//2] \n",
    "Xtest, ytest = X[len(X)//2:], y[len(X)//2:]"
   ]
  },
  {
   "cell_type": "markdown",
   "metadata": {},
   "source": [
    "# Debugging the pipeline\n",
    "* So far we have 83 features"
   ]
  },
  {
   "cell_type": "code",
   "execution_count": 11,
   "metadata": {},
   "outputs": [
    {
     "name": "stderr",
     "output_type": "stream",
     "text": [
      "/Users/lduque/Desktop/myProjects/moneyManager/venv-money/lib/python3.6/site-packages/numpy/core/fromnumeric.py:3584: RuntimeWarning: Degrees of freedom <= 0 for slice\n",
      "  **kwargs)\n",
      "/Users/lduque/Desktop/myProjects/moneyManager/venv-money/lib/python3.6/site-packages/numpy/core/fromnumeric.py:3584: RuntimeWarning: Degrees of freedom <= 0 for slice\n",
      "  **kwargs)\n",
      "/Users/lduque/Desktop/myProjects/moneyManager/venv-money/lib/python3.6/site-packages/numpy/core/fromnumeric.py:3584: RuntimeWarning: Degrees of freedom <= 0 for slice\n",
      "  **kwargs)\n"
     ]
    },
    {
     "data": {
      "text/plain": [
       "(4095, 63)"
      ]
     },
     "execution_count": 11,
     "metadata": {},
     "output_type": "execute_result"
    }
   ],
   "source": [
    "pipeline = generatePipeline()\n",
    "pipeline.fit(Xtrain)\n",
    "XtrainTrf = pipeline.transform(Xtrain)\n",
    "XtestTrf = pipeline.transform(Xtest)\n",
    "XtrainTrf.shape"
   ]
  },
  {
   "cell_type": "code",
   "execution_count": 12,
   "metadata": {},
   "outputs": [
    {
     "data": {
      "text/html": [
       "<div>\n",
       "<style scoped>\n",
       "    .dataframe tbody tr th:only-of-type {\n",
       "        vertical-align: middle;\n",
       "    }\n",
       "\n",
       "    .dataframe tbody tr th {\n",
       "        vertical-align: top;\n",
       "    }\n",
       "\n",
       "    .dataframe thead th {\n",
       "        text-align: right;\n",
       "    }\n",
       "</style>\n",
       "<table border=\"1\" class=\"dataframe\">\n",
       "  <thead>\n",
       "    <tr style=\"text-align: right;\">\n",
       "      <th></th>\n",
       "      <th>consolidated</th>\n",
       "      <th>volume</th>\n",
       "    </tr>\n",
       "    <tr>\n",
       "      <th>date</th>\n",
       "      <th></th>\n",
       "      <th></th>\n",
       "    </tr>\n",
       "  </thead>\n",
       "  <tbody>\n",
       "    <tr>\n",
       "      <th>2019-01-02 14:31:00</th>\n",
       "      <td>[nan, nan, nan, nan, nan, nan, nan, nan, nan, ...</td>\n",
       "      <td>[nan, nan, nan, nan, nan, nan, nan, nan, nan, ...</td>\n",
       "    </tr>\n",
       "    <tr>\n",
       "      <th>2019-01-02 14:32:00</th>\n",
       "      <td>[nan, nan, nan, nan, nan, nan, nan, nan, nan, ...</td>\n",
       "      <td>[nan, nan, nan, nan, nan, nan, nan, nan, nan, ...</td>\n",
       "    </tr>\n",
       "    <tr>\n",
       "      <th>2019-01-02 14:33:00</th>\n",
       "      <td>[nan, nan, nan, nan, nan, nan, nan, nan, 106.9...</td>\n",
       "      <td>[nan, nan, nan, nan, nan, nan, nan, nan, 85379...</td>\n",
       "    </tr>\n",
       "    <tr>\n",
       "      <th>2019-01-02 14:34:00</th>\n",
       "      <td>[nan, nan, nan, nan, nan, nan, nan, 106.9315, ...</td>\n",
       "      <td>[nan, nan, nan, nan, nan, nan, nan, 85379.0, 1...</td>\n",
       "    </tr>\n",
       "    <tr>\n",
       "      <th>2019-01-02 14:35:00</th>\n",
       "      <td>[nan, nan, nan, nan, nan, nan, 106.9315, 107.2...</td>\n",
       "      <td>[nan, nan, nan, nan, nan, nan, 85379.0, 12219....</td>\n",
       "    </tr>\n",
       "  </tbody>\n",
       "</table>\n",
       "</div>"
      ],
      "text/plain": [
       "                                                          consolidated  \\\n",
       "date                                                                     \n",
       "2019-01-02 14:31:00  [nan, nan, nan, nan, nan, nan, nan, nan, nan, ...   \n",
       "2019-01-02 14:32:00  [nan, nan, nan, nan, nan, nan, nan, nan, nan, ...   \n",
       "2019-01-02 14:33:00  [nan, nan, nan, nan, nan, nan, nan, nan, 106.9...   \n",
       "2019-01-02 14:34:00  [nan, nan, nan, nan, nan, nan, nan, 106.9315, ...   \n",
       "2019-01-02 14:35:00  [nan, nan, nan, nan, nan, nan, 106.9315, 107.2...   \n",
       "\n",
       "                                                                volume  \n",
       "date                                                                    \n",
       "2019-01-02 14:31:00  [nan, nan, nan, nan, nan, nan, nan, nan, nan, ...  \n",
       "2019-01-02 14:32:00  [nan, nan, nan, nan, nan, nan, nan, nan, nan, ...  \n",
       "2019-01-02 14:33:00  [nan, nan, nan, nan, nan, nan, nan, nan, 85379...  \n",
       "2019-01-02 14:34:00  [nan, nan, nan, nan, nan, nan, nan, 85379.0, 1...  \n",
       "2019-01-02 14:35:00  [nan, nan, nan, nan, nan, nan, 85379.0, 12219....  "
      ]
     },
     "execution_count": 12,
     "metadata": {},
     "output_type": "execute_result"
    }
   ],
   "source": [
    "Xtrain.head()"
   ]
  },
  {
   "cell_type": "code",
   "execution_count": 13,
   "metadata": {},
   "outputs": [
    {
     "data": {
      "text/plain": [
       "consolidated_max          0\n",
       "consolidated_argmax       0\n",
       "consolidated_min          0\n",
       "consolidated_argmin       0\n",
       "consolidated_mean         0\n",
       "                         ..\n",
       "volumeDifference_last     0\n",
       "volumeDifference_first    0\n",
       "hour                      0\n",
       "minute                    0\n",
       "hourminute                0\n",
       "Length: 63, dtype: int64"
      ]
     },
     "execution_count": 13,
     "metadata": {},
     "output_type": "execute_result"
    }
   ],
   "source": [
    "XtrainTrf.isna().sum()"
   ]
  },
  {
   "cell_type": "code",
   "execution_count": 14,
   "metadata": {},
   "outputs": [
    {
     "data": {
      "text/html": [
       "<div>\n",
       "<style scoped>\n",
       "    .dataframe tbody tr th:only-of-type {\n",
       "        vertical-align: middle;\n",
       "    }\n",
       "\n",
       "    .dataframe tbody tr th {\n",
       "        vertical-align: top;\n",
       "    }\n",
       "\n",
       "    .dataframe thead th {\n",
       "        text-align: right;\n",
       "    }\n",
       "</style>\n",
       "<table border=\"1\" class=\"dataframe\">\n",
       "  <thead>\n",
       "    <tr style=\"text-align: right;\">\n",
       "      <th></th>\n",
       "      <th>consolidated_max</th>\n",
       "      <th>consolidated_argmax</th>\n",
       "      <th>consolidated_min</th>\n",
       "      <th>consolidated_argmin</th>\n",
       "      <th>consolidated_mean</th>\n",
       "      <th>consolidated_std</th>\n",
       "      <th>consolidated_var</th>\n",
       "      <th>consolidated_median</th>\n",
       "      <th>consolidated_kurtosis</th>\n",
       "      <th>consolidated_skew</th>\n",
       "      <th>consolidated_numpos</th>\n",
       "      <th>consolidated_posvar</th>\n",
       "      <th>consolidated_numnan</th>\n",
       "      <th>consolidated_last</th>\n",
       "      <th>consolidated_first</th>\n",
       "      <th>volume_max</th>\n",
       "      <th>volume_argmax</th>\n",
       "      <th>volume_min</th>\n",
       "      <th>volume_argmin</th>\n",
       "      <th>volume_mean</th>\n",
       "      <th>volume_std</th>\n",
       "      <th>volume_var</th>\n",
       "      <th>volume_median</th>\n",
       "      <th>volume_kurtosis</th>\n",
       "      <th>volume_skew</th>\n",
       "      <th>volume_numpos</th>\n",
       "      <th>volume_posvar</th>\n",
       "      <th>volume_numnan</th>\n",
       "      <th>volume_last</th>\n",
       "      <th>volume_first</th>\n",
       "      <th>consolidatedDifference_max</th>\n",
       "      <th>consolidatedDifference_argmax</th>\n",
       "      <th>consolidatedDifference_min</th>\n",
       "      <th>consolidatedDifference_argmin</th>\n",
       "      <th>consolidatedDifference_mean</th>\n",
       "      <th>consolidatedDifference_std</th>\n",
       "      <th>consolidatedDifference_var</th>\n",
       "      <th>consolidatedDifference_median</th>\n",
       "      <th>consolidatedDifference_kurtosis</th>\n",
       "      <th>consolidatedDifference_skew</th>\n",
       "      <th>consolidatedDifference_numpos</th>\n",
       "      <th>consolidatedDifference_posvar</th>\n",
       "      <th>consolidatedDifference_numnan</th>\n",
       "      <th>consolidatedDifference_last</th>\n",
       "      <th>consolidatedDifference_first</th>\n",
       "      <th>volumeDifference_max</th>\n",
       "      <th>volumeDifference_argmax</th>\n",
       "      <th>volumeDifference_min</th>\n",
       "      <th>volumeDifference_argmin</th>\n",
       "      <th>volumeDifference_mean</th>\n",
       "      <th>volumeDifference_std</th>\n",
       "      <th>volumeDifference_var</th>\n",
       "      <th>volumeDifference_median</th>\n",
       "      <th>volumeDifference_kurtosis</th>\n",
       "      <th>volumeDifference_skew</th>\n",
       "      <th>volumeDifference_numpos</th>\n",
       "      <th>volumeDifference_posvar</th>\n",
       "      <th>volumeDifference_numnan</th>\n",
       "      <th>volumeDifference_last</th>\n",
       "      <th>volumeDifference_first</th>\n",
       "      <th>hour</th>\n",
       "      <th>minute</th>\n",
       "      <th>hourminute</th>\n",
       "    </tr>\n",
       "    <tr>\n",
       "      <th>date</th>\n",
       "      <th></th>\n",
       "      <th></th>\n",
       "      <th></th>\n",
       "      <th></th>\n",
       "      <th></th>\n",
       "      <th></th>\n",
       "      <th></th>\n",
       "      <th></th>\n",
       "      <th></th>\n",
       "      <th></th>\n",
       "      <th></th>\n",
       "      <th></th>\n",
       "      <th></th>\n",
       "      <th></th>\n",
       "      <th></th>\n",
       "      <th></th>\n",
       "      <th></th>\n",
       "      <th></th>\n",
       "      <th></th>\n",
       "      <th></th>\n",
       "      <th></th>\n",
       "      <th></th>\n",
       "      <th></th>\n",
       "      <th></th>\n",
       "      <th></th>\n",
       "      <th></th>\n",
       "      <th></th>\n",
       "      <th></th>\n",
       "      <th></th>\n",
       "      <th></th>\n",
       "      <th></th>\n",
       "      <th></th>\n",
       "      <th></th>\n",
       "      <th></th>\n",
       "      <th></th>\n",
       "      <th></th>\n",
       "      <th></th>\n",
       "      <th></th>\n",
       "      <th></th>\n",
       "      <th></th>\n",
       "      <th></th>\n",
       "      <th></th>\n",
       "      <th></th>\n",
       "      <th></th>\n",
       "      <th></th>\n",
       "      <th></th>\n",
       "      <th></th>\n",
       "      <th></th>\n",
       "      <th></th>\n",
       "      <th></th>\n",
       "      <th></th>\n",
       "      <th></th>\n",
       "      <th></th>\n",
       "      <th></th>\n",
       "      <th></th>\n",
       "      <th></th>\n",
       "      <th></th>\n",
       "      <th></th>\n",
       "      <th></th>\n",
       "      <th></th>\n",
       "      <th></th>\n",
       "      <th></th>\n",
       "      <th></th>\n",
       "    </tr>\n",
       "  </thead>\n",
       "  <tbody>\n",
       "    <tr>\n",
       "      <th>2019-01-02 14:31:00</th>\n",
       "      <td>0.832025</td>\n",
       "      <td>0.0</td>\n",
       "      <td>0.829525</td>\n",
       "      <td>0.0</td>\n",
       "      <td>0.834304</td>\n",
       "      <td>0.058911</td>\n",
       "      <td>0.004731</td>\n",
       "      <td>0.83293</td>\n",
       "      <td>0.127969</td>\n",
       "      <td>0.466902</td>\n",
       "      <td>0.0</td>\n",
       "      <td>0.000000</td>\n",
       "      <td>1.0</td>\n",
       "      <td>0.021295</td>\n",
       "      <td>0.826192</td>\n",
       "      <td>0.057528</td>\n",
       "      <td>0.0</td>\n",
       "      <td>0.151695</td>\n",
       "      <td>0.0</td>\n",
       "      <td>0.101337</td>\n",
       "      <td>0.053244</td>\n",
       "      <td>0.004152</td>\n",
       "      <td>0.120835</td>\n",
       "      <td>0.202708</td>\n",
       "      <td>0.511589</td>\n",
       "      <td>0.0</td>\n",
       "      <td>0.000000</td>\n",
       "      <td>1.0</td>\n",
       "      <td>0.590499</td>\n",
       "      <td>0.038039</td>\n",
       "      <td>0.046515</td>\n",
       "      <td>0.0</td>\n",
       "      <td>0.832317</td>\n",
       "      <td>0.0</td>\n",
       "      <td>0.375181</td>\n",
       "      <td>0.057178</td>\n",
       "      <td>0.005121</td>\n",
       "      <td>0.590313</td>\n",
       "      <td>0.153408</td>\n",
       "      <td>0.459877</td>\n",
       "      <td>0.0</td>\n",
       "      <td>0.000604</td>\n",
       "      <td>1.0</td>\n",
       "      <td>0.266572</td>\n",
       "      <td>0.266572</td>\n",
       "      <td>0.048218</td>\n",
       "      <td>0.0</td>\n",
       "      <td>0.950324</td>\n",
       "      <td>0.0</td>\n",
       "      <td>0.506673</td>\n",
       "      <td>0.063274</td>\n",
       "      <td>0.005504</td>\n",
       "      <td>0.321381</td>\n",
       "      <td>0.19078</td>\n",
       "      <td>0.494124</td>\n",
       "      <td>0.000</td>\n",
       "      <td>0.002065</td>\n",
       "      <td>1.0</td>\n",
       "      <td>0.466735</td>\n",
       "      <td>0.466726</td>\n",
       "      <td>0.0</td>\n",
       "      <td>0.525424</td>\n",
       "      <td>0.000000</td>\n",
       "    </tr>\n",
       "    <tr>\n",
       "      <th>2019-01-02 14:32:00</th>\n",
       "      <td>0.832025</td>\n",
       "      <td>0.0</td>\n",
       "      <td>0.829525</td>\n",
       "      <td>0.0</td>\n",
       "      <td>0.834304</td>\n",
       "      <td>0.058911</td>\n",
       "      <td>0.004731</td>\n",
       "      <td>0.83293</td>\n",
       "      <td>0.127969</td>\n",
       "      <td>0.466902</td>\n",
       "      <td>0.1</td>\n",
       "      <td>0.029241</td>\n",
       "      <td>0.9</td>\n",
       "      <td>0.052057</td>\n",
       "      <td>0.826192</td>\n",
       "      <td>0.057528</td>\n",
       "      <td>0.0</td>\n",
       "      <td>0.151695</td>\n",
       "      <td>0.0</td>\n",
       "      <td>0.101337</td>\n",
       "      <td>0.053244</td>\n",
       "      <td>0.004152</td>\n",
       "      <td>0.120835</td>\n",
       "      <td>0.202708</td>\n",
       "      <td>0.511589</td>\n",
       "      <td>0.1</td>\n",
       "      <td>0.817773</td>\n",
       "      <td>0.9</td>\n",
       "      <td>0.084509</td>\n",
       "      <td>0.038039</td>\n",
       "      <td>0.046515</td>\n",
       "      <td>0.0</td>\n",
       "      <td>0.832317</td>\n",
       "      <td>0.0</td>\n",
       "      <td>0.375181</td>\n",
       "      <td>0.057178</td>\n",
       "      <td>0.005121</td>\n",
       "      <td>0.590313</td>\n",
       "      <td>0.153408</td>\n",
       "      <td>0.459877</td>\n",
       "      <td>0.1</td>\n",
       "      <td>0.000000</td>\n",
       "      <td>0.9</td>\n",
       "      <td>0.395530</td>\n",
       "      <td>0.266572</td>\n",
       "      <td>0.048218</td>\n",
       "      <td>0.0</td>\n",
       "      <td>0.950324</td>\n",
       "      <td>0.0</td>\n",
       "      <td>0.506673</td>\n",
       "      <td>0.063274</td>\n",
       "      <td>0.005504</td>\n",
       "      <td>0.321381</td>\n",
       "      <td>0.19078</td>\n",
       "      <td>0.494124</td>\n",
       "      <td>0.000</td>\n",
       "      <td>0.002065</td>\n",
       "      <td>0.9</td>\n",
       "      <td>0.140717</td>\n",
       "      <td>0.466726</td>\n",
       "      <td>0.0</td>\n",
       "      <td>0.542373</td>\n",
       "      <td>0.001495</td>\n",
       "    </tr>\n",
       "    <tr>\n",
       "      <th>2019-01-02 14:33:00</th>\n",
       "      <td>0.832025</td>\n",
       "      <td>0.0</td>\n",
       "      <td>0.829525</td>\n",
       "      <td>0.0</td>\n",
       "      <td>0.834304</td>\n",
       "      <td>0.058911</td>\n",
       "      <td>0.004731</td>\n",
       "      <td>0.83293</td>\n",
       "      <td>0.127969</td>\n",
       "      <td>0.466902</td>\n",
       "      <td>0.2</td>\n",
       "      <td>0.023930</td>\n",
       "      <td>0.8</td>\n",
       "      <td>0.049385</td>\n",
       "      <td>0.826192</td>\n",
       "      <td>0.057528</td>\n",
       "      <td>0.0</td>\n",
       "      <td>0.151695</td>\n",
       "      <td>0.0</td>\n",
       "      <td>0.101337</td>\n",
       "      <td>0.053244</td>\n",
       "      <td>0.004152</td>\n",
       "      <td>0.120835</td>\n",
       "      <td>0.202708</td>\n",
       "      <td>0.511589</td>\n",
       "      <td>0.2</td>\n",
       "      <td>0.819209</td>\n",
       "      <td>0.8</td>\n",
       "      <td>0.026835</td>\n",
       "      <td>0.038039</td>\n",
       "      <td>0.046515</td>\n",
       "      <td>0.0</td>\n",
       "      <td>0.832317</td>\n",
       "      <td>0.0</td>\n",
       "      <td>0.375181</td>\n",
       "      <td>0.057178</td>\n",
       "      <td>0.005121</td>\n",
       "      <td>0.590313</td>\n",
       "      <td>0.153408</td>\n",
       "      <td>0.459877</td>\n",
       "      <td>0.1</td>\n",
       "      <td>0.000000</td>\n",
       "      <td>0.8</td>\n",
       "      <td>0.254300</td>\n",
       "      <td>0.266572</td>\n",
       "      <td>0.048218</td>\n",
       "      <td>0.0</td>\n",
       "      <td>0.950324</td>\n",
       "      <td>0.0</td>\n",
       "      <td>0.506673</td>\n",
       "      <td>0.063274</td>\n",
       "      <td>0.005504</td>\n",
       "      <td>0.321381</td>\n",
       "      <td>0.19078</td>\n",
       "      <td>0.494124</td>\n",
       "      <td>0.000</td>\n",
       "      <td>0.002065</td>\n",
       "      <td>0.8</td>\n",
       "      <td>0.429508</td>\n",
       "      <td>0.466726</td>\n",
       "      <td>0.0</td>\n",
       "      <td>0.559322</td>\n",
       "      <td>0.002990</td>\n",
       "    </tr>\n",
       "    <tr>\n",
       "      <th>2019-01-02 14:34:00</th>\n",
       "      <td>0.832025</td>\n",
       "      <td>0.0</td>\n",
       "      <td>0.829525</td>\n",
       "      <td>0.0</td>\n",
       "      <td>0.834304</td>\n",
       "      <td>0.058911</td>\n",
       "      <td>0.004731</td>\n",
       "      <td>0.83293</td>\n",
       "      <td>0.127969</td>\n",
       "      <td>0.466902</td>\n",
       "      <td>0.3</td>\n",
       "      <td>0.026196</td>\n",
       "      <td>0.7</td>\n",
       "      <td>0.022047</td>\n",
       "      <td>0.826192</td>\n",
       "      <td>0.057528</td>\n",
       "      <td>0.0</td>\n",
       "      <td>0.151695</td>\n",
       "      <td>0.0</td>\n",
       "      <td>0.101337</td>\n",
       "      <td>0.053244</td>\n",
       "      <td>0.004152</td>\n",
       "      <td>0.120835</td>\n",
       "      <td>0.202708</td>\n",
       "      <td>0.511589</td>\n",
       "      <td>0.3</td>\n",
       "      <td>0.630571</td>\n",
       "      <td>0.7</td>\n",
       "      <td>0.151804</td>\n",
       "      <td>0.038039</td>\n",
       "      <td>0.046515</td>\n",
       "      <td>0.0</td>\n",
       "      <td>0.832317</td>\n",
       "      <td>0.0</td>\n",
       "      <td>0.375181</td>\n",
       "      <td>0.057178</td>\n",
       "      <td>0.005121</td>\n",
       "      <td>0.590313</td>\n",
       "      <td>0.153408</td>\n",
       "      <td>0.459877</td>\n",
       "      <td>0.1</td>\n",
       "      <td>0.000000</td>\n",
       "      <td>0.7</td>\n",
       "      <td>0.150104</td>\n",
       "      <td>0.266572</td>\n",
       "      <td>0.048218</td>\n",
       "      <td>0.0</td>\n",
       "      <td>0.950324</td>\n",
       "      <td>0.0</td>\n",
       "      <td>0.506673</td>\n",
       "      <td>0.063274</td>\n",
       "      <td>0.005504</td>\n",
       "      <td>0.321381</td>\n",
       "      <td>0.19078</td>\n",
       "      <td>0.494124</td>\n",
       "      <td>0.125</td>\n",
       "      <td>0.000000</td>\n",
       "      <td>0.7</td>\n",
       "      <td>0.547160</td>\n",
       "      <td>0.466726</td>\n",
       "      <td>0.0</td>\n",
       "      <td>0.576271</td>\n",
       "      <td>0.004484</td>\n",
       "    </tr>\n",
       "    <tr>\n",
       "      <th>2019-01-02 14:35:00</th>\n",
       "      <td>0.832025</td>\n",
       "      <td>0.0</td>\n",
       "      <td>0.829525</td>\n",
       "      <td>0.0</td>\n",
       "      <td>0.834304</td>\n",
       "      <td>0.058911</td>\n",
       "      <td>0.004731</td>\n",
       "      <td>0.83293</td>\n",
       "      <td>0.127969</td>\n",
       "      <td>0.466902</td>\n",
       "      <td>0.4</td>\n",
       "      <td>0.037810</td>\n",
       "      <td>0.6</td>\n",
       "      <td>0.007003</td>\n",
       "      <td>0.826192</td>\n",
       "      <td>0.057528</td>\n",
       "      <td>0.0</td>\n",
       "      <td>0.151695</td>\n",
       "      <td>0.0</td>\n",
       "      <td>0.101337</td>\n",
       "      <td>0.053244</td>\n",
       "      <td>0.004152</td>\n",
       "      <td>0.120835</td>\n",
       "      <td>0.202708</td>\n",
       "      <td>0.511589</td>\n",
       "      <td>0.4</td>\n",
       "      <td>0.550909</td>\n",
       "      <td>0.6</td>\n",
       "      <td>0.062668</td>\n",
       "      <td>0.038039</td>\n",
       "      <td>0.046515</td>\n",
       "      <td>0.0</td>\n",
       "      <td>0.832317</td>\n",
       "      <td>0.0</td>\n",
       "      <td>0.375181</td>\n",
       "      <td>0.057178</td>\n",
       "      <td>0.005121</td>\n",
       "      <td>0.590313</td>\n",
       "      <td>0.153408</td>\n",
       "      <td>0.459877</td>\n",
       "      <td>0.1</td>\n",
       "      <td>0.000000</td>\n",
       "      <td>0.6</td>\n",
       "      <td>0.202038</td>\n",
       "      <td>0.266572</td>\n",
       "      <td>0.048218</td>\n",
       "      <td>0.0</td>\n",
       "      <td>0.950324</td>\n",
       "      <td>0.0</td>\n",
       "      <td>0.506673</td>\n",
       "      <td>0.063274</td>\n",
       "      <td>0.005504</td>\n",
       "      <td>0.321381</td>\n",
       "      <td>0.19078</td>\n",
       "      <td>0.494124</td>\n",
       "      <td>0.125</td>\n",
       "      <td>0.000000</td>\n",
       "      <td>0.6</td>\n",
       "      <td>0.409241</td>\n",
       "      <td>0.466726</td>\n",
       "      <td>0.0</td>\n",
       "      <td>0.593220</td>\n",
       "      <td>0.005979</td>\n",
       "    </tr>\n",
       "  </tbody>\n",
       "</table>\n",
       "</div>"
      ],
      "text/plain": [
       "                     consolidated_max  consolidated_argmax  consolidated_min  \\\n",
       "date                                                                           \n",
       "2019-01-02 14:31:00          0.832025                  0.0          0.829525   \n",
       "2019-01-02 14:32:00          0.832025                  0.0          0.829525   \n",
       "2019-01-02 14:33:00          0.832025                  0.0          0.829525   \n",
       "2019-01-02 14:34:00          0.832025                  0.0          0.829525   \n",
       "2019-01-02 14:35:00          0.832025                  0.0          0.829525   \n",
       "\n",
       "                     consolidated_argmin  consolidated_mean  consolidated_std  \\\n",
       "date                                                                            \n",
       "2019-01-02 14:31:00                  0.0           0.834304          0.058911   \n",
       "2019-01-02 14:32:00                  0.0           0.834304          0.058911   \n",
       "2019-01-02 14:33:00                  0.0           0.834304          0.058911   \n",
       "2019-01-02 14:34:00                  0.0           0.834304          0.058911   \n",
       "2019-01-02 14:35:00                  0.0           0.834304          0.058911   \n",
       "\n",
       "                     consolidated_var  consolidated_median  \\\n",
       "date                                                         \n",
       "2019-01-02 14:31:00          0.004731              0.83293   \n",
       "2019-01-02 14:32:00          0.004731              0.83293   \n",
       "2019-01-02 14:33:00          0.004731              0.83293   \n",
       "2019-01-02 14:34:00          0.004731              0.83293   \n",
       "2019-01-02 14:35:00          0.004731              0.83293   \n",
       "\n",
       "                     consolidated_kurtosis  consolidated_skew  \\\n",
       "date                                                            \n",
       "2019-01-02 14:31:00               0.127969           0.466902   \n",
       "2019-01-02 14:32:00               0.127969           0.466902   \n",
       "2019-01-02 14:33:00               0.127969           0.466902   \n",
       "2019-01-02 14:34:00               0.127969           0.466902   \n",
       "2019-01-02 14:35:00               0.127969           0.466902   \n",
       "\n",
       "                     consolidated_numpos  consolidated_posvar  \\\n",
       "date                                                            \n",
       "2019-01-02 14:31:00                  0.0             0.000000   \n",
       "2019-01-02 14:32:00                  0.1             0.029241   \n",
       "2019-01-02 14:33:00                  0.2             0.023930   \n",
       "2019-01-02 14:34:00                  0.3             0.026196   \n",
       "2019-01-02 14:35:00                  0.4             0.037810   \n",
       "\n",
       "                     consolidated_numnan  consolidated_last  \\\n",
       "date                                                          \n",
       "2019-01-02 14:31:00                  1.0           0.021295   \n",
       "2019-01-02 14:32:00                  0.9           0.052057   \n",
       "2019-01-02 14:33:00                  0.8           0.049385   \n",
       "2019-01-02 14:34:00                  0.7           0.022047   \n",
       "2019-01-02 14:35:00                  0.6           0.007003   \n",
       "\n",
       "                     consolidated_first  volume_max  volume_argmax  \\\n",
       "date                                                                 \n",
       "2019-01-02 14:31:00            0.826192    0.057528            0.0   \n",
       "2019-01-02 14:32:00            0.826192    0.057528            0.0   \n",
       "2019-01-02 14:33:00            0.826192    0.057528            0.0   \n",
       "2019-01-02 14:34:00            0.826192    0.057528            0.0   \n",
       "2019-01-02 14:35:00            0.826192    0.057528            0.0   \n",
       "\n",
       "                     volume_min  volume_argmin  volume_mean  volume_std  \\\n",
       "date                                                                      \n",
       "2019-01-02 14:31:00    0.151695            0.0     0.101337    0.053244   \n",
       "2019-01-02 14:32:00    0.151695            0.0     0.101337    0.053244   \n",
       "2019-01-02 14:33:00    0.151695            0.0     0.101337    0.053244   \n",
       "2019-01-02 14:34:00    0.151695            0.0     0.101337    0.053244   \n",
       "2019-01-02 14:35:00    0.151695            0.0     0.101337    0.053244   \n",
       "\n",
       "                     volume_var  volume_median  volume_kurtosis  volume_skew  \\\n",
       "date                                                                           \n",
       "2019-01-02 14:31:00    0.004152       0.120835         0.202708     0.511589   \n",
       "2019-01-02 14:32:00    0.004152       0.120835         0.202708     0.511589   \n",
       "2019-01-02 14:33:00    0.004152       0.120835         0.202708     0.511589   \n",
       "2019-01-02 14:34:00    0.004152       0.120835         0.202708     0.511589   \n",
       "2019-01-02 14:35:00    0.004152       0.120835         0.202708     0.511589   \n",
       "\n",
       "                     volume_numpos  volume_posvar  volume_numnan  volume_last  \\\n",
       "date                                                                            \n",
       "2019-01-02 14:31:00            0.0       0.000000            1.0     0.590499   \n",
       "2019-01-02 14:32:00            0.1       0.817773            0.9     0.084509   \n",
       "2019-01-02 14:33:00            0.2       0.819209            0.8     0.026835   \n",
       "2019-01-02 14:34:00            0.3       0.630571            0.7     0.151804   \n",
       "2019-01-02 14:35:00            0.4       0.550909            0.6     0.062668   \n",
       "\n",
       "                     volume_first  consolidatedDifference_max  \\\n",
       "date                                                            \n",
       "2019-01-02 14:31:00      0.038039                    0.046515   \n",
       "2019-01-02 14:32:00      0.038039                    0.046515   \n",
       "2019-01-02 14:33:00      0.038039                    0.046515   \n",
       "2019-01-02 14:34:00      0.038039                    0.046515   \n",
       "2019-01-02 14:35:00      0.038039                    0.046515   \n",
       "\n",
       "                     consolidatedDifference_argmax  \\\n",
       "date                                                 \n",
       "2019-01-02 14:31:00                            0.0   \n",
       "2019-01-02 14:32:00                            0.0   \n",
       "2019-01-02 14:33:00                            0.0   \n",
       "2019-01-02 14:34:00                            0.0   \n",
       "2019-01-02 14:35:00                            0.0   \n",
       "\n",
       "                     consolidatedDifference_min  \\\n",
       "date                                              \n",
       "2019-01-02 14:31:00                    0.832317   \n",
       "2019-01-02 14:32:00                    0.832317   \n",
       "2019-01-02 14:33:00                    0.832317   \n",
       "2019-01-02 14:34:00                    0.832317   \n",
       "2019-01-02 14:35:00                    0.832317   \n",
       "\n",
       "                     consolidatedDifference_argmin  \\\n",
       "date                                                 \n",
       "2019-01-02 14:31:00                            0.0   \n",
       "2019-01-02 14:32:00                            0.0   \n",
       "2019-01-02 14:33:00                            0.0   \n",
       "2019-01-02 14:34:00                            0.0   \n",
       "2019-01-02 14:35:00                            0.0   \n",
       "\n",
       "                     consolidatedDifference_mean  consolidatedDifference_std  \\\n",
       "date                                                                           \n",
       "2019-01-02 14:31:00                     0.375181                    0.057178   \n",
       "2019-01-02 14:32:00                     0.375181                    0.057178   \n",
       "2019-01-02 14:33:00                     0.375181                    0.057178   \n",
       "2019-01-02 14:34:00                     0.375181                    0.057178   \n",
       "2019-01-02 14:35:00                     0.375181                    0.057178   \n",
       "\n",
       "                     consolidatedDifference_var  \\\n",
       "date                                              \n",
       "2019-01-02 14:31:00                    0.005121   \n",
       "2019-01-02 14:32:00                    0.005121   \n",
       "2019-01-02 14:33:00                    0.005121   \n",
       "2019-01-02 14:34:00                    0.005121   \n",
       "2019-01-02 14:35:00                    0.005121   \n",
       "\n",
       "                     consolidatedDifference_median  \\\n",
       "date                                                 \n",
       "2019-01-02 14:31:00                       0.590313   \n",
       "2019-01-02 14:32:00                       0.590313   \n",
       "2019-01-02 14:33:00                       0.590313   \n",
       "2019-01-02 14:34:00                       0.590313   \n",
       "2019-01-02 14:35:00                       0.590313   \n",
       "\n",
       "                     consolidatedDifference_kurtosis  \\\n",
       "date                                                   \n",
       "2019-01-02 14:31:00                         0.153408   \n",
       "2019-01-02 14:32:00                         0.153408   \n",
       "2019-01-02 14:33:00                         0.153408   \n",
       "2019-01-02 14:34:00                         0.153408   \n",
       "2019-01-02 14:35:00                         0.153408   \n",
       "\n",
       "                     consolidatedDifference_skew  \\\n",
       "date                                               \n",
       "2019-01-02 14:31:00                     0.459877   \n",
       "2019-01-02 14:32:00                     0.459877   \n",
       "2019-01-02 14:33:00                     0.459877   \n",
       "2019-01-02 14:34:00                     0.459877   \n",
       "2019-01-02 14:35:00                     0.459877   \n",
       "\n",
       "                     consolidatedDifference_numpos  \\\n",
       "date                                                 \n",
       "2019-01-02 14:31:00                            0.0   \n",
       "2019-01-02 14:32:00                            0.1   \n",
       "2019-01-02 14:33:00                            0.1   \n",
       "2019-01-02 14:34:00                            0.1   \n",
       "2019-01-02 14:35:00                            0.1   \n",
       "\n",
       "                     consolidatedDifference_posvar  \\\n",
       "date                                                 \n",
       "2019-01-02 14:31:00                       0.000604   \n",
       "2019-01-02 14:32:00                       0.000000   \n",
       "2019-01-02 14:33:00                       0.000000   \n",
       "2019-01-02 14:34:00                       0.000000   \n",
       "2019-01-02 14:35:00                       0.000000   \n",
       "\n",
       "                     consolidatedDifference_numnan  \\\n",
       "date                                                 \n",
       "2019-01-02 14:31:00                            1.0   \n",
       "2019-01-02 14:32:00                            0.9   \n",
       "2019-01-02 14:33:00                            0.8   \n",
       "2019-01-02 14:34:00                            0.7   \n",
       "2019-01-02 14:35:00                            0.6   \n",
       "\n",
       "                     consolidatedDifference_last  \\\n",
       "date                                               \n",
       "2019-01-02 14:31:00                     0.266572   \n",
       "2019-01-02 14:32:00                     0.395530   \n",
       "2019-01-02 14:33:00                     0.254300   \n",
       "2019-01-02 14:34:00                     0.150104   \n",
       "2019-01-02 14:35:00                     0.202038   \n",
       "\n",
       "                     consolidatedDifference_first  volumeDifference_max  \\\n",
       "date                                                                      \n",
       "2019-01-02 14:31:00                      0.266572              0.048218   \n",
       "2019-01-02 14:32:00                      0.266572              0.048218   \n",
       "2019-01-02 14:33:00                      0.266572              0.048218   \n",
       "2019-01-02 14:34:00                      0.266572              0.048218   \n",
       "2019-01-02 14:35:00                      0.266572              0.048218   \n",
       "\n",
       "                     volumeDifference_argmax  volumeDifference_min  \\\n",
       "date                                                                 \n",
       "2019-01-02 14:31:00                      0.0              0.950324   \n",
       "2019-01-02 14:32:00                      0.0              0.950324   \n",
       "2019-01-02 14:33:00                      0.0              0.950324   \n",
       "2019-01-02 14:34:00                      0.0              0.950324   \n",
       "2019-01-02 14:35:00                      0.0              0.950324   \n",
       "\n",
       "                     volumeDifference_argmin  volumeDifference_mean  \\\n",
       "date                                                                  \n",
       "2019-01-02 14:31:00                      0.0               0.506673   \n",
       "2019-01-02 14:32:00                      0.0               0.506673   \n",
       "2019-01-02 14:33:00                      0.0               0.506673   \n",
       "2019-01-02 14:34:00                      0.0               0.506673   \n",
       "2019-01-02 14:35:00                      0.0               0.506673   \n",
       "\n",
       "                     volumeDifference_std  volumeDifference_var  \\\n",
       "date                                                              \n",
       "2019-01-02 14:31:00              0.063274              0.005504   \n",
       "2019-01-02 14:32:00              0.063274              0.005504   \n",
       "2019-01-02 14:33:00              0.063274              0.005504   \n",
       "2019-01-02 14:34:00              0.063274              0.005504   \n",
       "2019-01-02 14:35:00              0.063274              0.005504   \n",
       "\n",
       "                     volumeDifference_median  volumeDifference_kurtosis  \\\n",
       "date                                                                      \n",
       "2019-01-02 14:31:00                 0.321381                    0.19078   \n",
       "2019-01-02 14:32:00                 0.321381                    0.19078   \n",
       "2019-01-02 14:33:00                 0.321381                    0.19078   \n",
       "2019-01-02 14:34:00                 0.321381                    0.19078   \n",
       "2019-01-02 14:35:00                 0.321381                    0.19078   \n",
       "\n",
       "                     volumeDifference_skew  volumeDifference_numpos  \\\n",
       "date                                                                  \n",
       "2019-01-02 14:31:00               0.494124                    0.000   \n",
       "2019-01-02 14:32:00               0.494124                    0.000   \n",
       "2019-01-02 14:33:00               0.494124                    0.000   \n",
       "2019-01-02 14:34:00               0.494124                    0.125   \n",
       "2019-01-02 14:35:00               0.494124                    0.125   \n",
       "\n",
       "                     volumeDifference_posvar  volumeDifference_numnan  \\\n",
       "date                                                                    \n",
       "2019-01-02 14:31:00                 0.002065                      1.0   \n",
       "2019-01-02 14:32:00                 0.002065                      0.9   \n",
       "2019-01-02 14:33:00                 0.002065                      0.8   \n",
       "2019-01-02 14:34:00                 0.000000                      0.7   \n",
       "2019-01-02 14:35:00                 0.000000                      0.6   \n",
       "\n",
       "                     volumeDifference_last  volumeDifference_first  hour  \\\n",
       "date                                                                       \n",
       "2019-01-02 14:31:00               0.466735                0.466726   0.0   \n",
       "2019-01-02 14:32:00               0.140717                0.466726   0.0   \n",
       "2019-01-02 14:33:00               0.429508                0.466726   0.0   \n",
       "2019-01-02 14:34:00               0.547160                0.466726   0.0   \n",
       "2019-01-02 14:35:00               0.409241                0.466726   0.0   \n",
       "\n",
       "                       minute  hourminute  \n",
       "date                                       \n",
       "2019-01-02 14:31:00  0.525424    0.000000  \n",
       "2019-01-02 14:32:00  0.542373    0.001495  \n",
       "2019-01-02 14:33:00  0.559322    0.002990  \n",
       "2019-01-02 14:34:00  0.576271    0.004484  \n",
       "2019-01-02 14:35:00  0.593220    0.005979  "
      ]
     },
     "execution_count": 14,
     "metadata": {},
     "output_type": "execute_result"
    }
   ],
   "source": [
    "XtrainTrf.head()"
   ]
  },
  {
   "cell_type": "markdown",
   "metadata": {},
   "source": [
    "# No regularization\n",
    "* Performance is not awesome\n",
    "* Huge overfit: notice how different precision and recall curves are."
   ]
  },
  {
   "cell_type": "code",
   "execution_count": 15,
   "metadata": {},
   "outputs": [],
   "source": [
    "clf =LogisticRegression(penalty='none', max_iter=10000, class_weight=class_weight)\n",
    "clf.fit(XtrainTrf, ytrain);  "
   ]
  },
  {
   "cell_type": "code",
   "execution_count": 16,
   "metadata": {},
   "outputs": [
    {
     "data": {
      "image/png": "[encoded data removed]",
      "text/plain": [
       "<Figure size 432x288 with 1 Axes>"
      ]
     },
     "metadata": {
      "needs_background": "light"
     },
     "output_type": "display_data"
    },
    {
     "data": {
      "image/png": "[encoded data removed]",
      "text/plain": [
       "<Figure size 432x288 with 1 Axes>"
      ]
     },
     "metadata": {
      "needs_background": "light"
     },
     "output_type": "display_data"
    }
   ],
   "source": [
    "plot_precision_recall_on_train_and_test(clf, XtrainTrf, ytrain, XtestTrf, ytest)"
   ]
  },
  {
   "cell_type": "markdown",
   "metadata": {},
   "source": [
    "# L1 regularization"
   ]
  },
  {
   "cell_type": "code",
   "execution_count": 17,
   "metadata": {},
   "outputs": [],
   "source": [
    "C = 10**np.linspace(-4,1,50) \n",
    "grid_parameters = {\n",
    "    'C': C,\n",
    "    'class_weight': [class_weight],\n",
    "    'penalty':['l1']\n",
    "}\n",
    "\n",
    "clf = GridSearchCV(LogisticRegression(solver='saga',max_iter=10000, multi_class='ovr', C=C), grid_parameters, scoring='average_precision', cv=2, return_train_score=True)\n",
    "clf.fit(XtrainTrf, ytrain);  \n",
    "test_scores = clf.cv_results_['mean_test_score']\n",
    "train_scores = clf.cv_results_['mean_train_score']\n",
    "ds = pd.DataFrame({'train_scores':train_scores, 'evaluation_scores':test_scores}, index=C)"
   ]
  },
  {
   "cell_type": "code",
   "execution_count": 18,
   "metadata": {},
   "outputs": [
    {
     "data": {
      "image/png": "[encoded data removed]",
      "text/plain": [
       "<Figure size 432x288 with 1 Axes>"
      ]
     },
     "metadata": {
      "needs_background": "light"
     },
     "output_type": "display_data"
    },
    {
     "data": {
      "image/png": "[encoded data removed]",
      "text/plain": [
       "<Figure size 432x288 with 1 Axes>"
      ]
     },
     "metadata": {
      "needs_background": "light"
     },
     "output_type": "display_data"
    }
   ],
   "source": [
    "plot_precision_recall_on_train_and_test(clf, XtrainTrf, ytrain, XtestTrf, ytest)"
   ]
  },
  {
   "cell_type": "code",
   "execution_count": 19,
   "metadata": {},
   "outputs": [
    {
     "name": "stdout",
     "output_type": "stream",
     "text": [
      "0.6073210347214588\n",
      "---\n",
      "consolidatedDifference_numpos    1.209152\n",
      "hour                             0.807137\n",
      "volumeDifference_std             0.537427\n",
      "consolidated_skew                0.499027\n",
      "consolidated_last                0.318698\n",
      "                                   ...   \n",
      "consolidatedDifference_std       0.000000\n",
      "consolidatedDifference_mean      0.000000\n",
      "consolidatedDifference_max       0.000000\n",
      "volume_first                     0.000000\n",
      "consolidated_max                 0.000000\n",
      "Length: 63, dtype: float64\n",
      "---\n",
      "LogisticRegression(C=0.3727593720314942, class_weight={False: 0.3, True: 0.7},\n",
      "                   dual=False, fit_intercept=True, intercept_scaling=1,\n",
      "                   l1_ratio=None, max_iter=10000, multi_class='ovr',\n",
      "                   n_jobs=None, penalty='l1', random_state=None, solver='saga',\n",
      "                   tol=0.0001, verbose=0, warm_start=False)\n"
     ]
    },
    {
     "data": {
      "image/png": "[encoded data removed]",
      "text/plain": [
       "<Figure size 432x288 with 1 Axes>"
      ]
     },
     "metadata": {
      "needs_background": "light"
     },
     "output_type": "display_data"
    }
   ],
   "source": [
    "ds.plot()\n",
    "print(ds.evaluation_scores.max())\n",
    "print('---')\n",
    "print(pd.Series(clf.best_estimator_.coef_[0], index=XtrainTrf.columns).abs().sort_values(ascending=False))\n",
    "print('---')\n",
    "print(clf.best_estimator_)"
   ]
  },
  {
   "cell_type": "code",
   "execution_count": 20,
   "metadata": {},
   "outputs": [
    {
     "data": {
      "image/png": "[encoded data removed]",
      "text/plain": [
       "<Figure size 720x360 with 1 Axes>"
      ]
     },
     "metadata": {
      "needs_background": "light"
     },
     "output_type": "display_data"
    }
   ],
   "source": [
    "pd.Series(clf.best_estimator_.coef_[0], index=XtrainTrf.columns).abs().sort_values(ascending=False).plot.bar(figsize=(10,5));"
   ]
  },
  {
   "cell_type": "markdown",
   "metadata": {},
   "source": [
    "# L2 regularization"
   ]
  },
  {
   "cell_type": "code",
   "execution_count": 21,
   "metadata": {},
   "outputs": [],
   "source": [
    "C = 10**np.linspace(-5,2,100) \n",
    "grid_parameters = {\n",
    "    'C': C,\n",
    "    'class_weight': [class_weight],\n",
    "    'penalty':['l2']\n",
    "}\n",
    "\n",
    "clf = GridSearchCV(LogisticRegression(solver='liblinear', multi_class='ovr', max_iter=10000, C=C), grid_parameters, scoring='average_precision', cv=3, return_train_score=True)\n",
    "clf.fit(XtrainTrf, ytrain);  \n",
    "test_scores = clf.cv_results_['mean_test_score']\n",
    "train_scores = clf.cv_results_['mean_train_score']\n",
    "ds = pd.DataFrame({'train_scores':train_scores, 'evaluation_scores':test_scores}, index=C)"
   ]
  },
  {
   "cell_type": "code",
   "execution_count": 22,
   "metadata": {},
   "outputs": [
    {
     "data": {
      "image/png": "[encoded data removed]",
      "text/plain": [
       "<Figure size 432x288 with 1 Axes>"
      ]
     },
     "metadata": {
      "needs_background": "light"
     },
     "output_type": "display_data"
    },
    {
     "data": {
      "image/png": "[encoded data removed]",
      "text/plain": [
       "<Figure size 432x288 with 1 Axes>"
      ]
     },
     "metadata": {
      "needs_background": "light"
     },
     "output_type": "display_data"
    }
   ],
   "source": [
    "plot_precision_recall_on_train_and_test(clf, XtrainTrf, ytrain, XtestTrf, ytest)"
   ]
  },
  {
   "cell_type": "code",
   "execution_count": 23,
   "metadata": {},
   "outputs": [
    {
     "name": "stdout",
     "output_type": "stream",
     "text": [
      "0.6164385638068834\n",
      "---\n",
      "consolidatedDifference_var       14.492212\n",
      "consolidatedDifference_max       13.576289\n",
      "volume_mean                      11.023581\n",
      "volumeDifference_max              9.740030\n",
      "consolidatedDifference_posvar     7.409380\n",
      "                                   ...    \n",
      "consolidatedDifference_first      0.052191\n",
      "consolidatedDifference_argmax     0.041719\n",
      "volume_argmin                     0.027806\n",
      "consolidated_argmax               0.020279\n",
      "volumeDifference_argmax           0.018202\n",
      "Length: 63, dtype: float64\n",
      "---\n",
      "LogisticRegression(C=100.0, class_weight={False: 0.3, True: 0.7}, dual=False,\n",
      "                   fit_intercept=True, intercept_scaling=1, l1_ratio=None,\n",
      "                   max_iter=10000, multi_class='ovr', n_jobs=None, penalty='l2',\n",
      "                   random_state=None, solver='liblinear', tol=0.0001, verbose=0,\n",
      "                   warm_start=False)\n"
     ]
    },
    {
     "data": {
      "image/png": "[encoded data removed]",
      "text/plain": [
       "<Figure size 432x288 with 1 Axes>"
      ]
     },
     "metadata": {
      "needs_background": "light"
     },
     "output_type": "display_data"
    }
   ],
   "source": [
    "ds.plot()\n",
    "print(ds.evaluation_scores.max())\n",
    "print('---')\n",
    "print(pd.Series(clf.best_estimator_.coef_[0], index=XtrainTrf.columns).abs().sort_values(ascending=False))\n",
    "print('---')\n",
    "print(clf.best_estimator_)"
   ]
  },
  {
   "cell_type": "markdown",
   "metadata": {},
   "source": [
    "# Random Forest\n",
    "* Horrible overift ... for now! ... unexpectedly hard to control !!"
   ]
  },
  {
   "cell_type": "code",
   "execution_count": null,
   "metadata": {},
   "outputs": [],
   "source": [
    "grid_parameters = {\n",
    "    #'min_samples_leaf' : [100, 1000, 2000],\n",
    "    'max_depth': [2, 3, 4, 5, 6, 7, 8,9, 10],\n",
    "    'n_estimators': [5, 10, 100],   \n",
    "    'max_features': ['sqrt', 0.1, 0.2, 0.5, 0.8]\n",
    "}\n",
    "\n",
    "clf = GridSearchCV(RandomForestClassifier(), grid_parameters, scoring='average_precision', cv=3, return_train_score=True)\n",
    "clf.fit(XtrainTrf, ytrain);  \n",
    "test_scores = clf.cv_results_['mean_test_score']\n",
    "train_scores = clf.cv_results_['mean_train_score']\n",
    "ds = pd.DataFrame({'train_scores':train_scores, 'evaluation_scores':test_scores})"
   ]
  },
  {
   "cell_type": "code",
   "execution_count": null,
   "metadata": {},
   "outputs": [],
   "source": [
    "plot_precision_recall_on_train_and_test(clf, XtrainTrf, ytrain, XtestTrf, ytest)"
   ]
  },
  {
   "cell_type": "code",
   "execution_count": null,
   "metadata": {},
   "outputs": [],
   "source": [
    "ds.sort_values(by='evaluation_scores', ascending=False).plot.bar(figsize=(15,5))"
   ]
  },
  {
   "cell_type": "code",
   "execution_count": null,
   "metadata": {},
   "outputs": [],
   "source": [
    "clf.best_estimator_"
   ]
  },
  {
   "cell_type": "code",
   "execution_count": null,
   "metadata": {},
   "outputs": [],
   "source": [
    "print(\"feature importance\")\n",
    "feature_importance = pd.DataFrame({'feature': XtrainTrf.columns, 'importance':clf.best_estimator_.feature_importances_}).set_index('feature').sort_values(by=['importance'], ascending=False)\n",
    "feature_importance[feature_importance.importance>0].plot.bar(figsize=(15,5))"
   ]
  },
  {
   "cell_type": "markdown",
   "metadata": {},
   "source": [
    "# Naive Bayes"
   ]
  },
  {
   "cell_type": "code",
   "execution_count": null,
   "metadata": {},
   "outputs": [],
   "source": [
    "from sklearn.naive_bayes import BernoulliNB\n",
    "clf = BernoulliNB()\n",
    "clf.fit(XtrainTrf, ytrain); "
   ]
  },
  {
   "cell_type": "code",
   "execution_count": null,
   "metadata": {},
   "outputs": [],
   "source": [
    "plot_precision_recall_on_train_and_test(clf, XtrainTrf, ytrain, XtestTrf, ytest)"
   ]
  }
 ],
 "metadata": {
  "kernelspec": {
   "display_name": "Python 3",
   "language": "python",
   "name": "python3"
  },
  "language_info": {
   "codemirror_mode": {
    "name": "ipython",
    "version": 3
   },
   "file_extension": ".py",
   "mimetype": "text/x-python",
   "name": "python",
   "nbconvert_exporter": "python",
   "pygments_lexer": "ipython3",
   "version": "3.6.6"
  }
 },
 "nbformat": 4,
 "nbformat_minor": 2
}
