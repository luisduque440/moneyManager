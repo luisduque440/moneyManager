{
 "cells": [
  {
   "cell_type": "markdown",
   "metadata": {},
   "source": [
    "# EDA IBM stock 1min ticks\n",
    "\n"
   ]
  },
  {
   "cell_type": "code",
   "execution_count": 1,
   "metadata": {},
   "outputs": [
    {
     "name": "stdout",
     "output_type": "stream",
     "text": [
      "/Users/lduque/Desktop/myProjects/moneyManager\n"
     ]
    }
   ],
   "source": [
    "cd ~/Desktop/MyProjects/moneyManager/"
   ]
  },
  {
   "cell_type": "code",
   "execution_count": 2,
   "metadata": {},
   "outputs": [],
   "source": [
    "from modeling.createTrainingDataSet import createTrainingDataSet\n",
    "from modeling.StockModel import generatePipeline"
   ]
  },
  {
   "cell_type": "code",
   "execution_count": 3,
   "metadata": {},
   "outputs": [],
   "source": [
    "import pandas as pd\n",
    "import numpy as np\n",
    "from datetime import datetime\n",
    "import matplotlib.pyplot as plt\n",
    "\n",
    "from sklearn.metrics import precision_recall_curve \n",
    "from sklearn.metrics import average_precision_score\n",
    "from sklearn.metrics import plot_precision_recall_curve\n",
    "from sklearn.model_selection import GridSearchCV"
   ]
  },
  {
   "cell_type": "code",
   "execution_count": 4,
   "metadata": {},
   "outputs": [],
   "source": [
    "names = ['Date', 'Time', 'Open', 'High', 'Low', 'Close', 'Volume']\n",
    "df = pd.read_csv('data/sampleKibotData/minuteIntraday/IBM_adjusted.txt', header=None, names=names, nrows=2000)\n",
    "df['DateTime']= pd.to_datetime((df.Date+' '+df.Time),infer_datetime_format=True) \n",
    "df = df.drop(columns=['Date', 'Time'])\n",
    "df = df.set_index('DateTime')\n"
   ]
  },
  {
   "cell_type": "code",
   "execution_count": 5,
   "metadata": {},
   "outputs": [
    {
     "data": {
      "text/html": [
       "<div>\n",
       "<style scoped>\n",
       "    .dataframe tbody tr th:only-of-type {\n",
       "        vertical-align: middle;\n",
       "    }\n",
       "\n",
       "    .dataframe tbody tr th {\n",
       "        vertical-align: top;\n",
       "    }\n",
       "\n",
       "    .dataframe thead th {\n",
       "        text-align: right;\n",
       "    }\n",
       "</style>\n",
       "<table border=\"1\" class=\"dataframe\">\n",
       "  <thead>\n",
       "    <tr style=\"text-align: right;\">\n",
       "      <th></th>\n",
       "      <th>Open</th>\n",
       "      <th>High</th>\n",
       "      <th>Low</th>\n",
       "      <th>Close</th>\n",
       "      <th>Volume</th>\n",
       "    </tr>\n",
       "    <tr>\n",
       "      <th>DateTime</th>\n",
       "      <th></th>\n",
       "      <th></th>\n",
       "      <th></th>\n",
       "      <th></th>\n",
       "      <th></th>\n",
       "    </tr>\n",
       "  </thead>\n",
       "  <tbody>\n",
       "    <tr>\n",
       "      <th>1998-01-02 09:30:00</th>\n",
       "      <td>33.69</td>\n",
       "      <td>33.69</td>\n",
       "      <td>33.69</td>\n",
       "      <td>33.69</td>\n",
       "      <td>207820</td>\n",
       "    </tr>\n",
       "    <tr>\n",
       "      <th>1998-01-02 09:31:00</th>\n",
       "      <td>33.65</td>\n",
       "      <td>33.69</td>\n",
       "      <td>33.65</td>\n",
       "      <td>33.65</td>\n",
       "      <td>33499</td>\n",
       "    </tr>\n",
       "    <tr>\n",
       "      <th>1998-01-02 09:32:00</th>\n",
       "      <td>33.67</td>\n",
       "      <td>33.69</td>\n",
       "      <td>33.65</td>\n",
       "      <td>33.69</td>\n",
       "      <td>41254</td>\n",
       "    </tr>\n",
       "    <tr>\n",
       "      <th>1998-01-02 09:33:00</th>\n",
       "      <td>33.67</td>\n",
       "      <td>33.69</td>\n",
       "      <td>33.65</td>\n",
       "      <td>33.65</td>\n",
       "      <td>52110</td>\n",
       "    </tr>\n",
       "    <tr>\n",
       "      <th>1998-01-02 09:34:00</th>\n",
       "      <td>33.65</td>\n",
       "      <td>33.69</td>\n",
       "      <td>33.65</td>\n",
       "      <td>33.65</td>\n",
       "      <td>14892</td>\n",
       "    </tr>\n",
       "  </tbody>\n",
       "</table>\n",
       "</div>"
      ],
      "text/plain": [
       "                      Open   High    Low  Close  Volume\n",
       "DateTime                                               \n",
       "1998-01-02 09:30:00  33.69  33.69  33.69  33.69  207820\n",
       "1998-01-02 09:31:00  33.65  33.69  33.65  33.65   33499\n",
       "1998-01-02 09:32:00  33.67  33.69  33.65  33.69   41254\n",
       "1998-01-02 09:33:00  33.67  33.69  33.65  33.65   52110\n",
       "1998-01-02 09:34:00  33.65  33.69  33.65  33.65   14892"
      ]
     },
     "execution_count": 5,
     "metadata": {},
     "output_type": "execute_result"
    }
   ],
   "source": [
    "df.head()"
   ]
  },
  {
   "cell_type": "code",
   "execution_count": 6,
   "metadata": {},
   "outputs": [],
   "source": [
    "df = df[-10000:]"
   ]
  },
  {
   "cell_type": "code",
   "execution_count": 7,
   "metadata": {},
   "outputs": [
    {
     "data": {
      "image/png": "[encoded data removed]",
      "text/plain": [
       "<Figure size 1080x360 with 1 Axes>"
      ]
     },
     "metadata": {
      "needs_background": "light"
     },
     "output_type": "display_data"
    }
   ],
   "source": [
    "#df.head()\n",
    "df.Open.plot(figsize=(15,5), title='IBM stock');\n",
    "#df.index.map(lambda x: x.year).value_counts().sort_index().plot.bar(figsize=(15, 5), title='ticks per year');\n",
    "#df.Open.diff().plot.hist(bins=200, figsize=(15,5), title= 'distribution of the differential');\n",
    "#pd.Series(df.index.map(lambda x: x.day)).value_counts().sort_index().plot.bar()"
   ]
  },
  {
   "cell_type": "code",
   "execution_count": 8,
   "metadata": {},
   "outputs": [],
   "source": [
    "dg  = createTrainingDataSet(df, presentStart=1, pastStart=5, futureEnd=-30)"
   ]
  },
  {
   "cell_type": "code",
   "execution_count": 9,
   "metadata": {},
   "outputs": [
    {
     "data": {
      "text/plain": [
       "False    476\n",
       "True     436\n",
       "Name: target, dtype: int64"
      ]
     },
     "execution_count": 9,
     "metadata": {},
     "output_type": "execute_result"
    }
   ],
   "source": [
    "dg.target.value_counts()"
   ]
  },
  {
   "cell_type": "code",
   "execution_count": 10,
   "metadata": {},
   "outputs": [],
   "source": [
    "X = dg.copy()\n",
    "y = X.pop('target')"
   ]
  },
  {
   "cell_type": "code",
   "execution_count": 11,
   "metadata": {},
   "outputs": [
    {
     "data": {
      "text/plain": [
       "(912, 6)"
      ]
     },
     "execution_count": 11,
     "metadata": {},
     "output_type": "execute_result"
    }
   ],
   "source": [
    "X.shape"
   ]
  },
  {
   "cell_type": "code",
   "execution_count": 12,
   "metadata": {},
   "outputs": [
    {
     "data": {
      "text/html": [
       "<div>\n",
       "<style scoped>\n",
       "    .dataframe tbody tr th:only-of-type {\n",
       "        vertical-align: middle;\n",
       "    }\n",
       "\n",
       "    .dataframe tbody tr th {\n",
       "        vertical-align: top;\n",
       "    }\n",
       "\n",
       "    .dataframe thead th {\n",
       "        text-align: right;\n",
       "    }\n",
       "</style>\n",
       "<table border=\"1\" class=\"dataframe\">\n",
       "  <thead>\n",
       "    <tr style=\"text-align: right;\">\n",
       "      <th></th>\n",
       "      <th>DateTime</th>\n",
       "      <th>Open</th>\n",
       "      <th>High</th>\n",
       "      <th>Low</th>\n",
       "      <th>Close</th>\n",
       "      <th>Volume</th>\n",
       "    </tr>\n",
       "    <tr>\n",
       "      <th>DateTime</th>\n",
       "      <th></th>\n",
       "      <th></th>\n",
       "      <th></th>\n",
       "      <th></th>\n",
       "      <th></th>\n",
       "      <th></th>\n",
       "    </tr>\n",
       "  </thead>\n",
       "  <tbody>\n",
       "    <tr>\n",
       "      <th>1998-01-02 09:35:00</th>\n",
       "      <td>[1998-01-02 09:30:00, 1998-01-02 09:31:00, 199...</td>\n",
       "      <td>[33.69, 33.65, 33.67, 33.67, 33.65, 33.67]</td>\n",
       "      <td>[33.69, 33.69, 33.69, 33.69, 33.69, 33.69]</td>\n",
       "      <td>[33.69, 33.65, 33.65, 33.65, 33.65, 33.65]</td>\n",
       "      <td>[33.69, 33.65, 33.69, 33.65, 33.65, 33.65]</td>\n",
       "      <td>[207820.0, 33499.0, 41254.0, 52110.0, 14892.0,...</td>\n",
       "    </tr>\n",
       "    <tr>\n",
       "      <th>1998-01-02 09:36:00</th>\n",
       "      <td>[1998-01-02 09:31:00, 1998-01-02 09:32:00, 199...</td>\n",
       "      <td>[33.65, 33.67, 33.67, 33.65, 33.67, 33.67]</td>\n",
       "      <td>[33.69, 33.69, 33.69, 33.69, 33.69, 33.67]</td>\n",
       "      <td>[33.65, 33.65, 33.65, 33.65, 33.65, 33.65]</td>\n",
       "      <td>[33.65, 33.69, 33.65, 33.65, 33.65, 33.67]</td>\n",
       "      <td>[33499.0, 41254.0, 52110.0, 14892.0, 72272.0, ...</td>\n",
       "    </tr>\n",
       "    <tr>\n",
       "      <th>1998-01-02 09:37:00</th>\n",
       "      <td>[1998-01-02 09:32:00, 1998-01-02 09:33:00, 199...</td>\n",
       "      <td>[33.67, 33.67, 33.65, 33.67, 33.67, 33.65]</td>\n",
       "      <td>[33.69, 33.69, 33.69, 33.69, 33.67, 33.65]</td>\n",
       "      <td>[33.65, 33.65, 33.65, 33.65, 33.65, 33.65]</td>\n",
       "      <td>[33.69, 33.65, 33.65, 33.65, 33.67, 33.65]</td>\n",
       "      <td>[41254.0, 52110.0, 14892.0, 72272.0, 8065.0, 8...</td>\n",
       "    </tr>\n",
       "    <tr>\n",
       "      <th>1998-01-02 09:38:00</th>\n",
       "      <td>[1998-01-02 09:33:00, 1998-01-02 09:34:00, 199...</td>\n",
       "      <td>[33.67, 33.65, 33.67, 33.67, 33.65, 33.65]</td>\n",
       "      <td>[33.69, 33.69, 33.69, 33.67, 33.65, 33.67]</td>\n",
       "      <td>[33.65, 33.65, 33.65, 33.65, 33.65, 33.65]</td>\n",
       "      <td>[33.65, 33.65, 33.65, 33.67, 33.65, 33.67]</td>\n",
       "      <td>[52110.0, 14892.0, 72272.0, 8065.0, 8685.0, 34...</td>\n",
       "    </tr>\n",
       "    <tr>\n",
       "      <th>1998-01-02 09:39:00</th>\n",
       "      <td>[1998-01-02 09:34:00, 1998-01-02 09:35:00, 199...</td>\n",
       "      <td>[33.65, 33.67, 33.67, 33.65, 33.65, 33.65]</td>\n",
       "      <td>[33.69, 33.69, 33.67, 33.65, 33.67, 33.67]</td>\n",
       "      <td>[33.65, 33.65, 33.65, 33.65, 33.65, 33.65]</td>\n",
       "      <td>[33.65, 33.65, 33.67, 33.65, 33.67, 33.67]</td>\n",
       "      <td>[14892.0, 72272.0, 8065.0, 8685.0, 34433.0, 77...</td>\n",
       "    </tr>\n",
       "  </tbody>\n",
       "</table>\n",
       "</div>"
      ],
      "text/plain": [
       "                                                              DateTime  \\\n",
       "DateTime                                                                 \n",
       "1998-01-02 09:35:00  [1998-01-02 09:30:00, 1998-01-02 09:31:00, 199...   \n",
       "1998-01-02 09:36:00  [1998-01-02 09:31:00, 1998-01-02 09:32:00, 199...   \n",
       "1998-01-02 09:37:00  [1998-01-02 09:32:00, 1998-01-02 09:33:00, 199...   \n",
       "1998-01-02 09:38:00  [1998-01-02 09:33:00, 1998-01-02 09:34:00, 199...   \n",
       "1998-01-02 09:39:00  [1998-01-02 09:34:00, 1998-01-02 09:35:00, 199...   \n",
       "\n",
       "                                                           Open  \\\n",
       "DateTime                                                          \n",
       "1998-01-02 09:35:00  [33.69, 33.65, 33.67, 33.67, 33.65, 33.67]   \n",
       "1998-01-02 09:36:00  [33.65, 33.67, 33.67, 33.65, 33.67, 33.67]   \n",
       "1998-01-02 09:37:00  [33.67, 33.67, 33.65, 33.67, 33.67, 33.65]   \n",
       "1998-01-02 09:38:00  [33.67, 33.65, 33.67, 33.67, 33.65, 33.65]   \n",
       "1998-01-02 09:39:00  [33.65, 33.67, 33.67, 33.65, 33.65, 33.65]   \n",
       "\n",
       "                                                           High  \\\n",
       "DateTime                                                          \n",
       "1998-01-02 09:35:00  [33.69, 33.69, 33.69, 33.69, 33.69, 33.69]   \n",
       "1998-01-02 09:36:00  [33.69, 33.69, 33.69, 33.69, 33.69, 33.67]   \n",
       "1998-01-02 09:37:00  [33.69, 33.69, 33.69, 33.69, 33.67, 33.65]   \n",
       "1998-01-02 09:38:00  [33.69, 33.69, 33.69, 33.67, 33.65, 33.67]   \n",
       "1998-01-02 09:39:00  [33.69, 33.69, 33.67, 33.65, 33.67, 33.67]   \n",
       "\n",
       "                                                            Low  \\\n",
       "DateTime                                                          \n",
       "1998-01-02 09:35:00  [33.69, 33.65, 33.65, 33.65, 33.65, 33.65]   \n",
       "1998-01-02 09:36:00  [33.65, 33.65, 33.65, 33.65, 33.65, 33.65]   \n",
       "1998-01-02 09:37:00  [33.65, 33.65, 33.65, 33.65, 33.65, 33.65]   \n",
       "1998-01-02 09:38:00  [33.65, 33.65, 33.65, 33.65, 33.65, 33.65]   \n",
       "1998-01-02 09:39:00  [33.65, 33.65, 33.65, 33.65, 33.65, 33.65]   \n",
       "\n",
       "                                                          Close  \\\n",
       "DateTime                                                          \n",
       "1998-01-02 09:35:00  [33.69, 33.65, 33.69, 33.65, 33.65, 33.65]   \n",
       "1998-01-02 09:36:00  [33.65, 33.69, 33.65, 33.65, 33.65, 33.67]   \n",
       "1998-01-02 09:37:00  [33.69, 33.65, 33.65, 33.65, 33.67, 33.65]   \n",
       "1998-01-02 09:38:00  [33.65, 33.65, 33.65, 33.67, 33.65, 33.67]   \n",
       "1998-01-02 09:39:00  [33.65, 33.65, 33.67, 33.65, 33.67, 33.67]   \n",
       "\n",
       "                                                                Volume  \n",
       "DateTime                                                                \n",
       "1998-01-02 09:35:00  [207820.0, 33499.0, 41254.0, 52110.0, 14892.0,...  \n",
       "1998-01-02 09:36:00  [33499.0, 41254.0, 52110.0, 14892.0, 72272.0, ...  \n",
       "1998-01-02 09:37:00  [41254.0, 52110.0, 14892.0, 72272.0, 8065.0, 8...  \n",
       "1998-01-02 09:38:00  [52110.0, 14892.0, 72272.0, 8065.0, 8685.0, 34...  \n",
       "1998-01-02 09:39:00  [14892.0, 72272.0, 8065.0, 8685.0, 34433.0, 77...  "
      ]
     },
     "execution_count": 12,
     "metadata": {},
     "output_type": "execute_result"
    }
   ],
   "source": [
    "X.head()"
   ]
  },
  {
   "cell_type": "markdown",
   "metadata": {},
   "source": [
    "# Debugging the pipeline"
   ]
  },
  {
   "cell_type": "code",
   "execution_count": 13,
   "metadata": {},
   "outputs": [
    {
     "data": {
      "text/html": [
       "<div>\n",
       "<style scoped>\n",
       "    .dataframe tbody tr th:only-of-type {\n",
       "        vertical-align: middle;\n",
       "    }\n",
       "\n",
       "    .dataframe tbody tr th {\n",
       "        vertical-align: top;\n",
       "    }\n",
       "\n",
       "    .dataframe thead th {\n",
       "        text-align: right;\n",
       "    }\n",
       "</style>\n",
       "<table border=\"1\" class=\"dataframe\">\n",
       "  <thead>\n",
       "    <tr style=\"text-align: right;\">\n",
       "      <th></th>\n",
       "      <th>DateTime</th>\n",
       "      <th>Open</th>\n",
       "      <th>High</th>\n",
       "      <th>Low</th>\n",
       "      <th>Close</th>\n",
       "      <th>Volume</th>\n",
       "    </tr>\n",
       "    <tr>\n",
       "      <th>DateTime</th>\n",
       "      <th></th>\n",
       "      <th></th>\n",
       "      <th></th>\n",
       "      <th></th>\n",
       "      <th></th>\n",
       "      <th></th>\n",
       "    </tr>\n",
       "  </thead>\n",
       "  <tbody>\n",
       "    <tr>\n",
       "      <th>1998-01-02 09:35:00</th>\n",
       "      <td>[1998-01-02 09:30:00, 1998-01-02 09:31:00, 199...</td>\n",
       "      <td>[33.69, 33.65, 33.67, 33.67, 33.65, 33.67]</td>\n",
       "      <td>[33.69, 33.69, 33.69, 33.69, 33.69, 33.69]</td>\n",
       "      <td>[33.69, 33.65, 33.65, 33.65, 33.65, 33.65]</td>\n",
       "      <td>[33.69, 33.65, 33.69, 33.65, 33.65, 33.65]</td>\n",
       "      <td>[207820.0, 33499.0, 41254.0, 52110.0, 14892.0,...</td>\n",
       "    </tr>\n",
       "    <tr>\n",
       "      <th>1998-01-02 09:36:00</th>\n",
       "      <td>[1998-01-02 09:31:00, 1998-01-02 09:32:00, 199...</td>\n",
       "      <td>[33.65, 33.67, 33.67, 33.65, 33.67, 33.67]</td>\n",
       "      <td>[33.69, 33.69, 33.69, 33.69, 33.69, 33.67]</td>\n",
       "      <td>[33.65, 33.65, 33.65, 33.65, 33.65, 33.65]</td>\n",
       "      <td>[33.65, 33.69, 33.65, 33.65, 33.65, 33.67]</td>\n",
       "      <td>[33499.0, 41254.0, 52110.0, 14892.0, 72272.0, ...</td>\n",
       "    </tr>\n",
       "    <tr>\n",
       "      <th>1998-01-02 09:37:00</th>\n",
       "      <td>[1998-01-02 09:32:00, 1998-01-02 09:33:00, 199...</td>\n",
       "      <td>[33.67, 33.67, 33.65, 33.67, 33.67, 33.65]</td>\n",
       "      <td>[33.69, 33.69, 33.69, 33.69, 33.67, 33.65]</td>\n",
       "      <td>[33.65, 33.65, 33.65, 33.65, 33.65, 33.65]</td>\n",
       "      <td>[33.69, 33.65, 33.65, 33.65, 33.67, 33.65]</td>\n",
       "      <td>[41254.0, 52110.0, 14892.0, 72272.0, 8065.0, 8...</td>\n",
       "    </tr>\n",
       "    <tr>\n",
       "      <th>1998-01-02 09:38:00</th>\n",
       "      <td>[1998-01-02 09:33:00, 1998-01-02 09:34:00, 199...</td>\n",
       "      <td>[33.67, 33.65, 33.67, 33.67, 33.65, 33.65]</td>\n",
       "      <td>[33.69, 33.69, 33.69, 33.67, 33.65, 33.67]</td>\n",
       "      <td>[33.65, 33.65, 33.65, 33.65, 33.65, 33.65]</td>\n",
       "      <td>[33.65, 33.65, 33.65, 33.67, 33.65, 33.67]</td>\n",
       "      <td>[52110.0, 14892.0, 72272.0, 8065.0, 8685.0, 34...</td>\n",
       "    </tr>\n",
       "    <tr>\n",
       "      <th>1998-01-02 09:39:00</th>\n",
       "      <td>[1998-01-02 09:34:00, 1998-01-02 09:35:00, 199...</td>\n",
       "      <td>[33.65, 33.67, 33.67, 33.65, 33.65, 33.65]</td>\n",
       "      <td>[33.69, 33.69, 33.67, 33.65, 33.67, 33.67]</td>\n",
       "      <td>[33.65, 33.65, 33.65, 33.65, 33.65, 33.65]</td>\n",
       "      <td>[33.65, 33.65, 33.67, 33.65, 33.67, 33.67]</td>\n",
       "      <td>[14892.0, 72272.0, 8065.0, 8685.0, 34433.0, 77...</td>\n",
       "    </tr>\n",
       "    <tr>\n",
       "      <th>...</th>\n",
       "      <td>...</td>\n",
       "      <td>...</td>\n",
       "      <td>...</td>\n",
       "      <td>...</td>\n",
       "      <td>...</td>\n",
       "      <td>...</td>\n",
       "    </tr>\n",
       "    <tr>\n",
       "      <th>1998-01-09 10:20:00</th>\n",
       "      <td>[1998-01-09 10:15:00, 1998-01-09 10:16:00, 199...</td>\n",
       "      <td>[33.23, 33.21, 33.17, 33.21, 33.23, 33.29]</td>\n",
       "      <td>[33.23, 33.25, 33.23, 33.23, 33.29, 33.29]</td>\n",
       "      <td>[33.21, 33.21, 33.17, 33.19, 33.23, 33.25]</td>\n",
       "      <td>[33.21, 33.21, 33.21, 33.21, 33.29, 33.25]</td>\n",
       "      <td>[49008.0, 35671.0, 6833.0, 58934.0, 96156.0, 6...</td>\n",
       "    </tr>\n",
       "    <tr>\n",
       "      <th>1998-01-09 10:21:00</th>\n",
       "      <td>[1998-01-09 10:16:00, 1998-01-09 10:17:00, 199...</td>\n",
       "      <td>[33.21, 33.17, 33.21, 33.23, 33.29, 33.27]</td>\n",
       "      <td>[33.25, 33.23, 33.23, 33.29, 33.29, 33.27]</td>\n",
       "      <td>[33.21, 33.17, 33.19, 33.23, 33.25, 33.21]</td>\n",
       "      <td>[33.21, 33.21, 33.21, 33.29, 33.25, 33.21]</td>\n",
       "      <td>[35671.0, 6833.0, 58934.0, 96156.0, 60485.0, 4...</td>\n",
       "    </tr>\n",
       "    <tr>\n",
       "      <th>1998-01-09 10:22:00</th>\n",
       "      <td>[1998-01-09 10:17:00, 1998-01-09 10:18:00, 199...</td>\n",
       "      <td>[33.17, 33.21, 33.23, 33.29, 33.27, 33.21]</td>\n",
       "      <td>[33.23, 33.23, 33.29, 33.29, 33.27, 33.25]</td>\n",
       "      <td>[33.17, 33.19, 33.23, 33.25, 33.21, 33.21]</td>\n",
       "      <td>[33.21, 33.21, 33.29, 33.25, 33.21, 33.25]</td>\n",
       "      <td>[6833.0, 58934.0, 96156.0, 60485.0, 49008.0, 3...</td>\n",
       "    </tr>\n",
       "    <tr>\n",
       "      <th>1998-01-09 10:23:00</th>\n",
       "      <td>[1998-01-09 10:18:00, 1998-01-09 10:19:00, 199...</td>\n",
       "      <td>[33.21, 33.23, 33.29, 33.27, 33.21, 33.25]</td>\n",
       "      <td>[33.23, 33.29, 33.29, 33.27, 33.25, 33.25]</td>\n",
       "      <td>[33.19, 33.23, 33.25, 33.21, 33.21, 33.23]</td>\n",
       "      <td>[33.21, 33.29, 33.25, 33.21, 33.25, 33.23]</td>\n",
       "      <td>[58934.0, 96156.0, 60485.0, 49008.0, 38152.0, ...</td>\n",
       "    </tr>\n",
       "    <tr>\n",
       "      <th>1998-01-09 10:24:00</th>\n",
       "      <td>[1998-01-09 10:19:00, 1998-01-09 10:20:00, 199...</td>\n",
       "      <td>[33.23, 33.29, 33.27, 33.21, 33.25, 33.25]</td>\n",
       "      <td>[33.29, 33.29, 33.27, 33.25, 33.25, 33.25]</td>\n",
       "      <td>[33.23, 33.25, 33.21, 33.21, 33.23, 33.23]</td>\n",
       "      <td>[33.29, 33.25, 33.21, 33.25, 33.23, 33.23]</td>\n",
       "      <td>[96156.0, 60485.0, 49008.0, 38152.0, 9305.0, 5...</td>\n",
       "    </tr>\n",
       "  </tbody>\n",
       "</table>\n",
       "<p>912 rows × 6 columns</p>\n",
       "</div>"
      ],
      "text/plain": [
       "                                                              DateTime  \\\n",
       "DateTime                                                                 \n",
       "1998-01-02 09:35:00  [1998-01-02 09:30:00, 1998-01-02 09:31:00, 199...   \n",
       "1998-01-02 09:36:00  [1998-01-02 09:31:00, 1998-01-02 09:32:00, 199...   \n",
       "1998-01-02 09:37:00  [1998-01-02 09:32:00, 1998-01-02 09:33:00, 199...   \n",
       "1998-01-02 09:38:00  [1998-01-02 09:33:00, 1998-01-02 09:34:00, 199...   \n",
       "1998-01-02 09:39:00  [1998-01-02 09:34:00, 1998-01-02 09:35:00, 199...   \n",
       "...                                                                ...   \n",
       "1998-01-09 10:20:00  [1998-01-09 10:15:00, 1998-01-09 10:16:00, 199...   \n",
       "1998-01-09 10:21:00  [1998-01-09 10:16:00, 1998-01-09 10:17:00, 199...   \n",
       "1998-01-09 10:22:00  [1998-01-09 10:17:00, 1998-01-09 10:18:00, 199...   \n",
       "1998-01-09 10:23:00  [1998-01-09 10:18:00, 1998-01-09 10:19:00, 199...   \n",
       "1998-01-09 10:24:00  [1998-01-09 10:19:00, 1998-01-09 10:20:00, 199...   \n",
       "\n",
       "                                                           Open  \\\n",
       "DateTime                                                          \n",
       "1998-01-02 09:35:00  [33.69, 33.65, 33.67, 33.67, 33.65, 33.67]   \n",
       "1998-01-02 09:36:00  [33.65, 33.67, 33.67, 33.65, 33.67, 33.67]   \n",
       "1998-01-02 09:37:00  [33.67, 33.67, 33.65, 33.67, 33.67, 33.65]   \n",
       "1998-01-02 09:38:00  [33.67, 33.65, 33.67, 33.67, 33.65, 33.65]   \n",
       "1998-01-02 09:39:00  [33.65, 33.67, 33.67, 33.65, 33.65, 33.65]   \n",
       "...                                                         ...   \n",
       "1998-01-09 10:20:00  [33.23, 33.21, 33.17, 33.21, 33.23, 33.29]   \n",
       "1998-01-09 10:21:00  [33.21, 33.17, 33.21, 33.23, 33.29, 33.27]   \n",
       "1998-01-09 10:22:00  [33.17, 33.21, 33.23, 33.29, 33.27, 33.21]   \n",
       "1998-01-09 10:23:00  [33.21, 33.23, 33.29, 33.27, 33.21, 33.25]   \n",
       "1998-01-09 10:24:00  [33.23, 33.29, 33.27, 33.21, 33.25, 33.25]   \n",
       "\n",
       "                                                           High  \\\n",
       "DateTime                                                          \n",
       "1998-01-02 09:35:00  [33.69, 33.69, 33.69, 33.69, 33.69, 33.69]   \n",
       "1998-01-02 09:36:00  [33.69, 33.69, 33.69, 33.69, 33.69, 33.67]   \n",
       "1998-01-02 09:37:00  [33.69, 33.69, 33.69, 33.69, 33.67, 33.65]   \n",
       "1998-01-02 09:38:00  [33.69, 33.69, 33.69, 33.67, 33.65, 33.67]   \n",
       "1998-01-02 09:39:00  [33.69, 33.69, 33.67, 33.65, 33.67, 33.67]   \n",
       "...                                                         ...   \n",
       "1998-01-09 10:20:00  [33.23, 33.25, 33.23, 33.23, 33.29, 33.29]   \n",
       "1998-01-09 10:21:00  [33.25, 33.23, 33.23, 33.29, 33.29, 33.27]   \n",
       "1998-01-09 10:22:00  [33.23, 33.23, 33.29, 33.29, 33.27, 33.25]   \n",
       "1998-01-09 10:23:00  [33.23, 33.29, 33.29, 33.27, 33.25, 33.25]   \n",
       "1998-01-09 10:24:00  [33.29, 33.29, 33.27, 33.25, 33.25, 33.25]   \n",
       "\n",
       "                                                            Low  \\\n",
       "DateTime                                                          \n",
       "1998-01-02 09:35:00  [33.69, 33.65, 33.65, 33.65, 33.65, 33.65]   \n",
       "1998-01-02 09:36:00  [33.65, 33.65, 33.65, 33.65, 33.65, 33.65]   \n",
       "1998-01-02 09:37:00  [33.65, 33.65, 33.65, 33.65, 33.65, 33.65]   \n",
       "1998-01-02 09:38:00  [33.65, 33.65, 33.65, 33.65, 33.65, 33.65]   \n",
       "1998-01-02 09:39:00  [33.65, 33.65, 33.65, 33.65, 33.65, 33.65]   \n",
       "...                                                         ...   \n",
       "1998-01-09 10:20:00  [33.21, 33.21, 33.17, 33.19, 33.23, 33.25]   \n",
       "1998-01-09 10:21:00  [33.21, 33.17, 33.19, 33.23, 33.25, 33.21]   \n",
       "1998-01-09 10:22:00  [33.17, 33.19, 33.23, 33.25, 33.21, 33.21]   \n",
       "1998-01-09 10:23:00  [33.19, 33.23, 33.25, 33.21, 33.21, 33.23]   \n",
       "1998-01-09 10:24:00  [33.23, 33.25, 33.21, 33.21, 33.23, 33.23]   \n",
       "\n",
       "                                                          Close  \\\n",
       "DateTime                                                          \n",
       "1998-01-02 09:35:00  [33.69, 33.65, 33.69, 33.65, 33.65, 33.65]   \n",
       "1998-01-02 09:36:00  [33.65, 33.69, 33.65, 33.65, 33.65, 33.67]   \n",
       "1998-01-02 09:37:00  [33.69, 33.65, 33.65, 33.65, 33.67, 33.65]   \n",
       "1998-01-02 09:38:00  [33.65, 33.65, 33.65, 33.67, 33.65, 33.67]   \n",
       "1998-01-02 09:39:00  [33.65, 33.65, 33.67, 33.65, 33.67, 33.67]   \n",
       "...                                                         ...   \n",
       "1998-01-09 10:20:00  [33.21, 33.21, 33.21, 33.21, 33.29, 33.25]   \n",
       "1998-01-09 10:21:00  [33.21, 33.21, 33.21, 33.29, 33.25, 33.21]   \n",
       "1998-01-09 10:22:00  [33.21, 33.21, 33.29, 33.25, 33.21, 33.25]   \n",
       "1998-01-09 10:23:00  [33.21, 33.29, 33.25, 33.21, 33.25, 33.23]   \n",
       "1998-01-09 10:24:00  [33.29, 33.25, 33.21, 33.25, 33.23, 33.23]   \n",
       "\n",
       "                                                                Volume  \n",
       "DateTime                                                                \n",
       "1998-01-02 09:35:00  [207820.0, 33499.0, 41254.0, 52110.0, 14892.0,...  \n",
       "1998-01-02 09:36:00  [33499.0, 41254.0, 52110.0, 14892.0, 72272.0, ...  \n",
       "1998-01-02 09:37:00  [41254.0, 52110.0, 14892.0, 72272.0, 8065.0, 8...  \n",
       "1998-01-02 09:38:00  [52110.0, 14892.0, 72272.0, 8065.0, 8685.0, 34...  \n",
       "1998-01-02 09:39:00  [14892.0, 72272.0, 8065.0, 8685.0, 34433.0, 77...  \n",
       "...                                                                ...  \n",
       "1998-01-09 10:20:00  [49008.0, 35671.0, 6833.0, 58934.0, 96156.0, 6...  \n",
       "1998-01-09 10:21:00  [35671.0, 6833.0, 58934.0, 96156.0, 60485.0, 4...  \n",
       "1998-01-09 10:22:00  [6833.0, 58934.0, 96156.0, 60485.0, 49008.0, 3...  \n",
       "1998-01-09 10:23:00  [58934.0, 96156.0, 60485.0, 49008.0, 38152.0, ...  \n",
       "1998-01-09 10:24:00  [96156.0, 60485.0, 49008.0, 38152.0, 9305.0, 5...  \n",
       "\n",
       "[912 rows x 6 columns]"
      ]
     },
     "execution_count": 13,
     "metadata": {},
     "output_type": "execute_result"
    }
   ],
   "source": [
    "X"
   ]
  },
  {
   "cell_type": "code",
   "execution_count": 14,
   "metadata": {},
   "outputs": [],
   "source": [
    "pipeline = generatePipeline()"
   ]
  },
  {
   "cell_type": "code",
   "execution_count": 16,
   "metadata": {},
   "outputs": [
    {
     "data": {
      "text/html": [
       "<div>\n",
       "<style scoped>\n",
       "    .dataframe tbody tr th:only-of-type {\n",
       "        vertical-align: middle;\n",
       "    }\n",
       "\n",
       "    .dataframe tbody tr th {\n",
       "        vertical-align: top;\n",
       "    }\n",
       "\n",
       "    .dataframe thead th {\n",
       "        text-align: right;\n",
       "    }\n",
       "</style>\n",
       "<table border=\"1\" class=\"dataframe\">\n",
       "  <thead>\n",
       "    <tr style=\"text-align: right;\">\n",
       "      <th></th>\n",
       "      <th>Open_max</th>\n",
       "      <th>Open_argmax</th>\n",
       "      <th>Open_min</th>\n",
       "      <th>Open_argmin</th>\n",
       "      <th>Open_mean</th>\n",
       "      <th>Open_std</th>\n",
       "      <th>Open_median</th>\n",
       "      <th>Open_last</th>\n",
       "      <th>High_max</th>\n",
       "      <th>High_argmax</th>\n",
       "      <th>...</th>\n",
       "      <th>Volume_max</th>\n",
       "      <th>Volume_argmax</th>\n",
       "      <th>Volume_min</th>\n",
       "      <th>Volume_argmin</th>\n",
       "      <th>Volume_mean</th>\n",
       "      <th>Volume_std</th>\n",
       "      <th>Volume_median</th>\n",
       "      <th>Volume_last</th>\n",
       "      <th>hour</th>\n",
       "      <th>tenminute</th>\n",
       "    </tr>\n",
       "    <tr>\n",
       "      <th>DateTime</th>\n",
       "      <th></th>\n",
       "      <th></th>\n",
       "      <th></th>\n",
       "      <th></th>\n",
       "      <th></th>\n",
       "      <th></th>\n",
       "      <th></th>\n",
       "      <th></th>\n",
       "      <th></th>\n",
       "      <th></th>\n",
       "      <th></th>\n",
       "      <th></th>\n",
       "      <th></th>\n",
       "      <th></th>\n",
       "      <th></th>\n",
       "      <th></th>\n",
       "      <th></th>\n",
       "      <th></th>\n",
       "      <th></th>\n",
       "      <th></th>\n",
       "      <th></th>\n",
       "    </tr>\n",
       "  </thead>\n",
       "  <tbody>\n",
       "    <tr>\n",
       "      <th>1998-01-02 09:35:00</th>\n",
       "      <td>1.000594</td>\n",
       "      <td>0.0</td>\n",
       "      <td>0.999406</td>\n",
       "      <td>1.0</td>\n",
       "      <td>0.999901</td>\n",
       "      <td>0.000408</td>\n",
       "      <td>1.000000</td>\n",
       "      <td>1.0</td>\n",
       "      <td>1.000000</td>\n",
       "      <td>0.0</td>\n",
       "      <td>...</td>\n",
       "      <td>2.875526</td>\n",
       "      <td>0.0</td>\n",
       "      <td>0.206055</td>\n",
       "      <td>4.0</td>\n",
       "      <td>0.972823</td>\n",
       "      <td>0.884436</td>\n",
       "      <td>0.645921</td>\n",
       "      <td>1.0</td>\n",
       "      <td>9.0</td>\n",
       "      <td>3.0</td>\n",
       "    </tr>\n",
       "    <tr>\n",
       "      <th>1998-01-02 09:36:00</th>\n",
       "      <td>1.000000</td>\n",
       "      <td>1.0</td>\n",
       "      <td>0.999406</td>\n",
       "      <td>0.0</td>\n",
       "      <td>0.999802</td>\n",
       "      <td>0.000280</td>\n",
       "      <td>1.000000</td>\n",
       "      <td>1.0</td>\n",
       "      <td>1.000594</td>\n",
       "      <td>0.0</td>\n",
       "      <td>...</td>\n",
       "      <td>8.961190</td>\n",
       "      <td>4.0</td>\n",
       "      <td>1.000000</td>\n",
       "      <td>5.0</td>\n",
       "      <td>4.589626</td>\n",
       "      <td>2.692274</td>\n",
       "      <td>4.634408</td>\n",
       "      <td>1.0</td>\n",
       "      <td>9.0</td>\n",
       "      <td>3.0</td>\n",
       "    </tr>\n",
       "    <tr>\n",
       "      <th>1998-01-02 09:37:00</th>\n",
       "      <td>1.000594</td>\n",
       "      <td>0.0</td>\n",
       "      <td>1.000000</td>\n",
       "      <td>2.0</td>\n",
       "      <td>1.000396</td>\n",
       "      <td>0.000280</td>\n",
       "      <td>1.000594</td>\n",
       "      <td>1.0</td>\n",
       "      <td>1.001189</td>\n",
       "      <td>0.0</td>\n",
       "      <td>...</td>\n",
       "      <td>8.321474</td>\n",
       "      <td>3.0</td>\n",
       "      <td>0.928613</td>\n",
       "      <td>4.0</td>\n",
       "      <td>3.785799</td>\n",
       "      <td>2.787427</td>\n",
       "      <td>3.232355</td>\n",
       "      <td>1.0</td>\n",
       "      <td>9.0</td>\n",
       "      <td>3.0</td>\n",
       "    </tr>\n",
       "    <tr>\n",
       "      <th>1998-01-02 09:38:00</th>\n",
       "      <td>1.000594</td>\n",
       "      <td>0.0</td>\n",
       "      <td>1.000000</td>\n",
       "      <td>1.0</td>\n",
       "      <td>1.000297</td>\n",
       "      <td>0.000297</td>\n",
       "      <td>1.000297</td>\n",
       "      <td>1.0</td>\n",
       "      <td>1.000594</td>\n",
       "      <td>0.0</td>\n",
       "      <td>...</td>\n",
       "      <td>2.098917</td>\n",
       "      <td>2.0</td>\n",
       "      <td>0.234223</td>\n",
       "      <td>3.0</td>\n",
       "      <td>0.921872</td>\n",
       "      <td>0.695484</td>\n",
       "      <td>0.716246</td>\n",
       "      <td>1.0</td>\n",
       "      <td>9.0</td>\n",
       "      <td>3.0</td>\n",
       "    </tr>\n",
       "    <tr>\n",
       "      <th>1998-01-02 09:39:00</th>\n",
       "      <td>1.000594</td>\n",
       "      <td>1.0</td>\n",
       "      <td>1.000000</td>\n",
       "      <td>0.0</td>\n",
       "      <td>1.000198</td>\n",
       "      <td>0.000280</td>\n",
       "      <td>1.000000</td>\n",
       "      <td>1.0</td>\n",
       "      <td>1.000594</td>\n",
       "      <td>0.0</td>\n",
       "      <td>...</td>\n",
       "      <td>9.320609</td>\n",
       "      <td>1.0</td>\n",
       "      <td>1.000000</td>\n",
       "      <td>5.0</td>\n",
       "      <td>3.140336</td>\n",
       "      <td>3.012419</td>\n",
       "      <td>1.520312</td>\n",
       "      <td>1.0</td>\n",
       "      <td>9.0</td>\n",
       "      <td>3.0</td>\n",
       "    </tr>\n",
       "  </tbody>\n",
       "</table>\n",
       "<p>5 rows × 42 columns</p>\n",
       "</div>"
      ],
      "text/plain": [
       "                     Open_max  Open_argmax  Open_min  Open_argmin  Open_mean  \\\n",
       "DateTime                                                                       \n",
       "1998-01-02 09:35:00  1.000594          0.0  0.999406          1.0   0.999901   \n",
       "1998-01-02 09:36:00  1.000000          1.0  0.999406          0.0   0.999802   \n",
       "1998-01-02 09:37:00  1.000594          0.0  1.000000          2.0   1.000396   \n",
       "1998-01-02 09:38:00  1.000594          0.0  1.000000          1.0   1.000297   \n",
       "1998-01-02 09:39:00  1.000594          1.0  1.000000          0.0   1.000198   \n",
       "\n",
       "                     Open_std  Open_median  Open_last  High_max  High_argmax  \\\n",
       "DateTime                                                                       \n",
       "1998-01-02 09:35:00  0.000408     1.000000        1.0  1.000000          0.0   \n",
       "1998-01-02 09:36:00  0.000280     1.000000        1.0  1.000594          0.0   \n",
       "1998-01-02 09:37:00  0.000280     1.000594        1.0  1.001189          0.0   \n",
       "1998-01-02 09:38:00  0.000297     1.000297        1.0  1.000594          0.0   \n",
       "1998-01-02 09:39:00  0.000280     1.000000        1.0  1.000594          0.0   \n",
       "\n",
       "                     ...  Volume_max  Volume_argmax  Volume_min  \\\n",
       "DateTime             ...                                          \n",
       "1998-01-02 09:35:00  ...    2.875526            0.0    0.206055   \n",
       "1998-01-02 09:36:00  ...    8.961190            4.0    1.000000   \n",
       "1998-01-02 09:37:00  ...    8.321474            3.0    0.928613   \n",
       "1998-01-02 09:38:00  ...    2.098917            2.0    0.234223   \n",
       "1998-01-02 09:39:00  ...    9.320609            1.0    1.000000   \n",
       "\n",
       "                     Volume_argmin  Volume_mean  Volume_std  Volume_median  \\\n",
       "DateTime                                                                     \n",
       "1998-01-02 09:35:00            4.0     0.972823    0.884436       0.645921   \n",
       "1998-01-02 09:36:00            5.0     4.589626    2.692274       4.634408   \n",
       "1998-01-02 09:37:00            4.0     3.785799    2.787427       3.232355   \n",
       "1998-01-02 09:38:00            3.0     0.921872    0.695484       0.716246   \n",
       "1998-01-02 09:39:00            5.0     3.140336    3.012419       1.520312   \n",
       "\n",
       "                     Volume_last  hour  tenminute  \n",
       "DateTime                                           \n",
       "1998-01-02 09:35:00          1.0   9.0        3.0  \n",
       "1998-01-02 09:36:00          1.0   9.0        3.0  \n",
       "1998-01-02 09:37:00          1.0   9.0        3.0  \n",
       "1998-01-02 09:38:00          1.0   9.0        3.0  \n",
       "1998-01-02 09:39:00          1.0   9.0        3.0  \n",
       "\n",
       "[5 rows x 42 columns]"
      ]
     },
     "execution_count": 16,
     "metadata": {},
     "output_type": "execute_result"
    }
   ],
   "source": [
    "pipeline.fit_transform(X).head()"
   ]
  },
  {
   "cell_type": "code",
   "execution_count": null,
   "metadata": {},
   "outputs": [],
   "source": []
  },
  {
   "cell_type": "code",
   "execution_count": null,
   "metadata": {},
   "outputs": [],
   "source": []
  },
  {
   "cell_type": "code",
   "execution_count": null,
   "metadata": {},
   "outputs": [],
   "source": []
  },
  {
   "cell_type": "markdown",
   "metadata": {},
   "source": [
    "## MIGHT BE USEFUL?. A precision recall-curve with only one training split."
   ]
  },
  {
   "cell_type": "code",
   "execution_count": null,
   "metadata": {},
   "outputs": [],
   "source": [
    "# temporal split of train/test\n",
    "trainPercentage = 50\n",
    "testBegins = (len(X)*trainPercentage)//100\n",
    "Xtrain, ytrain = X[:testBegins], y[:testBegins]\n",
    "Xtest, ytest = X[testBegins:], y[testBegins:]"
   ]
  },
  {
   "cell_type": "code",
   "execution_count": null,
   "metadata": {},
   "outputs": [],
   "source": [
    "model = generatePipeline()\n",
    "model.fit(Xtrain, ytrain)"
   ]
  },
  {
   "cell_type": "code",
   "execution_count": null,
   "metadata": {},
   "outputs": [],
   "source": [
    "# how to pick a threshold? classic Luis!\n",
    "ypredictedTrain=list(model.predict_proba(Xtrain)[:,1])"
   ]
  },
  {
   "cell_type": "code",
   "execution_count": null,
   "metadata": {},
   "outputs": [],
   "source": [
    "ypredictedTrain.sort(reverse=True)"
   ]
  },
  {
   "cell_type": "code",
   "execution_count": null,
   "metadata": {},
   "outputs": [],
   "source": [
    "threshold = ypredictedTrain[100]"
   ]
  },
  {
   "cell_type": "code",
   "execution_count": null,
   "metadata": {},
   "outputs": [],
   "source": [
    "threshold"
   ]
  },
  {
   "cell_type": "code",
   "execution_count": null,
   "metadata": {},
   "outputs": [],
   "source": [
    "# ploting precision-recall !\n",
    "base_rate = sum(ytest)/len(ytest)\n",
    "ypredicted=model.predict_proba(Xtest)[:,1]\n",
    "average_precision = average_precision_score(ytest, ypredicted)\n",
    "disp = plot_precision_recall_curve(model, Xtest, ytest)\n",
    "disp.ax_.set_title('2-class Precision-Recall curve: AP={0:0.2f}'.format(average_precision))\n",
    "plt.plot([0, 1], [base_rate, base_rate]);"
   ]
  },
  {
   "cell_type": "code",
   "execution_count": null,
   "metadata": {},
   "outputs": [],
   "source": [
    "evaluationDF = pd.DataFrame({'predicted':ypredicted, 'target':ytest, 'unthresholdedTarget':Xtest.unthresholdedTarget}, index=Xtest.index)\n",
    "#topPredictions = evaluationDF.sort_values(by='predicted', ascending=False)[:100]"
   ]
  },
  {
   "cell_type": "code",
   "execution_count": null,
   "metadata": {},
   "outputs": [],
   "source": [
    "evaluationDF['thresholdedPrediction']=evaluationDF.predicted>threshold"
   ]
  },
  {
   "cell_type": "code",
   "execution_count": null,
   "metadata": {},
   "outputs": [],
   "source": [
    "topPredictions=evaluationDF[evaluationDF.thresholdedPrediction==True]"
   ]
  },
  {
   "cell_type": "code",
   "execution_count": null,
   "metadata": {},
   "outputs": [],
   "source": [
    "topPredictions"
   ]
  },
  {
   "cell_type": "code",
   "execution_count": null,
   "metadata": {},
   "outputs": [],
   "source": [
    "evaluationDF.unthresholdedTarget.plot.hist()"
   ]
  },
  {
   "cell_type": "code",
   "execution_count": null,
   "metadata": {},
   "outputs": [],
   "source": [
    "topPredictions.unthresholdedTarget.plot.hist()"
   ]
  },
  {
   "cell_type": "code",
   "execution_count": null,
   "metadata": {},
   "outputs": [],
   "source": [
    "print(evaluationDF.unthresholdedTarget.mean())\n",
    "print(topPredictions.unthresholdedTarget.mean())"
   ]
  },
  {
   "cell_type": "code",
   "execution_count": null,
   "metadata": {},
   "outputs": [],
   "source": [
    "print(evaluationDF.unthresholdedTarget.median())\n",
    "print(topPredictions.unthresholdedTarget.median())"
   ]
  },
  {
   "cell_type": "code",
   "execution_count": null,
   "metadata": {},
   "outputs": [],
   "source": [
    "topPredictions.shape"
   ]
  },
  {
   "cell_type": "code",
   "execution_count": null,
   "metadata": {},
   "outputs": [],
   "source": [
    "topPredictions.predicted.sort_index().plot()"
   ]
  },
  {
   "cell_type": "code",
   "execution_count": null,
   "metadata": {},
   "outputs": [],
   "source": [
    "## now lets do the same but predict when performance is going to be below median\n",
    "ytrain_neg = ~(ytrain)\n",
    "ytest_neg = ~(ytest)\n",
    "model = generatePipeline()\n",
    "model.fit(Xtrain, ytrain_neg)"
   ]
  },
  {
   "cell_type": "code",
   "execution_count": null,
   "metadata": {},
   "outputs": [],
   "source": [
    "base_rate = sum(ytest_neg)/len(ytest_neg)\n",
    "ypredicted_neg=model.predict_proba(Xtest)[:,1]\n",
    "average_precision = average_precision_score(ytest_neg, ypredicted_neg)\n",
    "disp = plot_precision_recall_curve(model, Xtest, ytest_neg)\n",
    "disp.ax_.set_title('2-class Precision-Recall curve: AP={0:0.2f}'.format(average_precision))\n",
    "plt.plot([0, 1], [base_rate, base_rate]);"
   ]
  }
 ],
 "metadata": {
  "kernelspec": {
   "display_name": "Python 3",
   "language": "python",
   "name": "python3"
  },
  "language_info": {
   "codemirror_mode": {
    "name": "ipython",
    "version": 3
   },
   "file_extension": ".py",
   "mimetype": "text/x-python",
   "name": "python",
   "nbconvert_exporter": "python",
   "pygments_lexer": "ipython3",
   "version": "3.6.6"
  }
 },
 "nbformat": 4,
 "nbformat_minor": 2
}
