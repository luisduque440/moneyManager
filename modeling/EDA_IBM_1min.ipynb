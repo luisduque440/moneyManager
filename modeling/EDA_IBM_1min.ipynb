{
 "cells": [
  {
   "cell_type": "markdown",
   "metadata": {},
   "source": [
    "# EDA IBM stock 1min ticks\n",
    "\n",
    "## Takeouts -  december 29/2019\n",
    "* The distribution of the difference of the time series has very long tails: see plot. This was expected; still very ugly.\n",
    "* Created a very clean dataset with 'pastValues', 'currentValue', 'futureValue', 'deltaMinutes'. \n",
    "* The precision recall curve that we already have looks quite good: we trained one single time.\n",
    "\n",
    "## Takeouts -  december 30/2019\n",
    "* Plot a precision recall curve with several(monthly/weekly) training batches\n",
    "\n",
    "## Takeouts January 4/2020\n",
    "* Models are apparently ok the baseline is definitely improved.\n",
    "* Lets start turning them into a deployable strategy, maybe try to get alpha on top of DowJones?\n",
    "* We could encode time way better.\n",
    "\n",
    "\n",
    "* Need a more elaborated way of looking at histograms: the tails don't let me see anything: those tails are a huge concern.\n",
    "* Look out for sklearn methods to do crossvalidation in our setting: do not reinvent the wheel."
   ]
  },
  {
   "cell_type": "code",
   "execution_count": 148,
   "metadata": {},
   "outputs": [
    {
     "name": "stdout",
     "output_type": "stream",
     "text": [
      "/Users/lduque/Desktop/myProjects/moneyManager\n"
     ]
    }
   ],
   "source": [
    "cd ~/Desktop/MyProjects/moneyManager/"
   ]
  },
  {
   "cell_type": "code",
   "execution_count": 149,
   "metadata": {},
   "outputs": [],
   "source": [
    "from modeling.dataSetUtilities import createTrainingDataSet\n",
    "from modeling.generatePipeline import generatePipeline"
   ]
  },
  {
   "cell_type": "code",
   "execution_count": 102,
   "metadata": {},
   "outputs": [],
   "source": [
    "import pandas as pd\n",
    "import numpy as np\n",
    "from datetime import datetime\n",
    "import matplotlib.pyplot as plt\n",
    "\n",
    "from sklearn.metrics import precision_recall_curve \n",
    "from sklearn.metrics import average_precision_score\n",
    "from sklearn.metrics import plot_precision_recall_curve\n",
    "from sklearn.model_selection import GridSearchCV\n",
    "from sklearn.ensemble import RandomForestClassifier ## might not be necessary in the future?"
   ]
  },
  {
   "cell_type": "code",
   "execution_count": 103,
   "metadata": {},
   "outputs": [],
   "source": [
    "names = ['Date', 'Time', 'Open', 'High', 'Low', 'Close', 'Volume']\n",
    "df = pd.read_csv('data/sampleKibotData/minuteIntraday/IBM_adjusted.txt', header=None, names=names)\n",
    "df['DateTime']= pd.to_datetime((df.Date+' '+df.Time),infer_datetime_format=True) \n",
    "df = df.drop(columns=['Date', 'Time'])\n",
    "df = df.set_index('DateTime')\n"
   ]
  },
  {
   "cell_type": "code",
   "execution_count": 104,
   "metadata": {},
   "outputs": [
    {
     "data": {
      "text/html": [
       "<div>\n",
       "<style scoped>\n",
       "    .dataframe tbody tr th:only-of-type {\n",
       "        vertical-align: middle;\n",
       "    }\n",
       "\n",
       "    .dataframe tbody tr th {\n",
       "        vertical-align: top;\n",
       "    }\n",
       "\n",
       "    .dataframe thead th {\n",
       "        text-align: right;\n",
       "    }\n",
       "</style>\n",
       "<table border=\"1\" class=\"dataframe\">\n",
       "  <thead>\n",
       "    <tr style=\"text-align: right;\">\n",
       "      <th></th>\n",
       "      <th>Open</th>\n",
       "      <th>High</th>\n",
       "      <th>Low</th>\n",
       "      <th>Close</th>\n",
       "      <th>Volume</th>\n",
       "    </tr>\n",
       "    <tr>\n",
       "      <th>DateTime</th>\n",
       "      <th></th>\n",
       "      <th></th>\n",
       "      <th></th>\n",
       "      <th></th>\n",
       "      <th></th>\n",
       "    </tr>\n",
       "  </thead>\n",
       "  <tbody>\n",
       "    <tr>\n",
       "      <th>1998-01-02 09:30:00</th>\n",
       "      <td>33.69</td>\n",
       "      <td>33.69</td>\n",
       "      <td>33.69</td>\n",
       "      <td>33.69</td>\n",
       "      <td>207820</td>\n",
       "    </tr>\n",
       "    <tr>\n",
       "      <th>1998-01-02 09:31:00</th>\n",
       "      <td>33.65</td>\n",
       "      <td>33.69</td>\n",
       "      <td>33.65</td>\n",
       "      <td>33.65</td>\n",
       "      <td>33499</td>\n",
       "    </tr>\n",
       "    <tr>\n",
       "      <th>1998-01-02 09:32:00</th>\n",
       "      <td>33.67</td>\n",
       "      <td>33.69</td>\n",
       "      <td>33.65</td>\n",
       "      <td>33.69</td>\n",
       "      <td>41254</td>\n",
       "    </tr>\n",
       "    <tr>\n",
       "      <th>1998-01-02 09:33:00</th>\n",
       "      <td>33.67</td>\n",
       "      <td>33.69</td>\n",
       "      <td>33.65</td>\n",
       "      <td>33.65</td>\n",
       "      <td>52110</td>\n",
       "    </tr>\n",
       "    <tr>\n",
       "      <th>1998-01-02 09:34:00</th>\n",
       "      <td>33.65</td>\n",
       "      <td>33.69</td>\n",
       "      <td>33.65</td>\n",
       "      <td>33.65</td>\n",
       "      <td>14892</td>\n",
       "    </tr>\n",
       "  </tbody>\n",
       "</table>\n",
       "</div>"
      ],
      "text/plain": [
       "                      Open   High    Low  Close  Volume\n",
       "DateTime                                               \n",
       "1998-01-02 09:30:00  33.69  33.69  33.69  33.69  207820\n",
       "1998-01-02 09:31:00  33.65  33.69  33.65  33.65   33499\n",
       "1998-01-02 09:32:00  33.67  33.69  33.65  33.69   41254\n",
       "1998-01-02 09:33:00  33.67  33.69  33.65  33.65   52110\n",
       "1998-01-02 09:34:00  33.65  33.69  33.65  33.65   14892"
      ]
     },
     "execution_count": 104,
     "metadata": {},
     "output_type": "execute_result"
    }
   ],
   "source": [
    "df.head()"
   ]
  },
  {
   "cell_type": "code",
   "execution_count": 105,
   "metadata": {},
   "outputs": [],
   "source": [
    "df = df[-10000:]"
   ]
  },
  {
   "cell_type": "code",
   "execution_count": 106,
   "metadata": {},
   "outputs": [
    {
     "data": {
      "image/png": "[encoded data removed]",
      "text/plain": [
       "<Figure size 1080x360 with 1 Axes>"
      ]
     },
     "metadata": {
      "needs_background": "light"
     },
     "output_type": "display_data"
    }
   ],
   "source": [
    "#df.head()\n",
    "df.Open.plot(figsize=(15,5), title='IBM stock');\n",
    "#df.index.map(lambda x: x.year).value_counts().sort_index().plot.bar(figsize=(15, 5), title='ticks per year');\n",
    "#df.Open.diff().plot.hist(bins=200, figsize=(15,5), title= 'distribution of the differential');\n",
    "#pd.Series(df.index.map(lambda x: x.day)).value_counts().sort_index().plot.bar()"
   ]
  },
  {
   "cell_type": "code",
   "execution_count": 107,
   "metadata": {},
   "outputs": [],
   "source": [
    "dg  = createTrainingDataSet(df, presentStart=1, pastStart=5, futureEnd=-30)"
   ]
  },
  {
   "cell_type": "code",
   "execution_count": 108,
   "metadata": {},
   "outputs": [
    {
     "data": {
      "text/plain": [
       "False    4500\n",
       "True     4160\n",
       "Name: target, dtype: int64"
      ]
     },
     "execution_count": 108,
     "metadata": {},
     "output_type": "execute_result"
    }
   ],
   "source": [
    "dg.target.value_counts()"
   ]
  },
  {
   "cell_type": "code",
   "execution_count": 109,
   "metadata": {},
   "outputs": [],
   "source": [
    "X = dg.copy()\n",
    "y = X.pop('target')"
   ]
  },
  {
   "cell_type": "code",
   "execution_count": 110,
   "metadata": {},
   "outputs": [
    {
     "data": {
      "text/plain": [
       "(8660, 7)"
      ]
     },
     "execution_count": 110,
     "metadata": {},
     "output_type": "execute_result"
    }
   ],
   "source": [
    "X.shape"
   ]
  },
  {
   "cell_type": "code",
   "execution_count": 111,
   "metadata": {},
   "outputs": [
    {
     "data": {
      "text/html": [
       "<div>\n",
       "<style scoped>\n",
       "    .dataframe tbody tr th:only-of-type {\n",
       "        vertical-align: middle;\n",
       "    }\n",
       "\n",
       "    .dataframe tbody tr th {\n",
       "        vertical-align: top;\n",
       "    }\n",
       "\n",
       "    .dataframe thead th {\n",
       "        text-align: right;\n",
       "    }\n",
       "</style>\n",
       "<table border=\"1\" class=\"dataframe\">\n",
       "  <thead>\n",
       "    <tr style=\"text-align: right;\">\n",
       "      <th></th>\n",
       "      <th>DateTime</th>\n",
       "      <th>Open</th>\n",
       "      <th>High</th>\n",
       "      <th>Low</th>\n",
       "      <th>Close</th>\n",
       "      <th>Volume</th>\n",
       "      <th>unthresholdedTarget</th>\n",
       "    </tr>\n",
       "    <tr>\n",
       "      <th>DateTime</th>\n",
       "      <th></th>\n",
       "      <th></th>\n",
       "      <th></th>\n",
       "      <th></th>\n",
       "      <th></th>\n",
       "      <th></th>\n",
       "      <th></th>\n",
       "    </tr>\n",
       "  </thead>\n",
       "  <tbody>\n",
       "    <tr>\n",
       "      <th>2019-11-20 12:28:00</th>\n",
       "      <td>[2019-11-20 12:23:00, 2019-11-20 12:24:00, 201...</td>\n",
       "      <td>[134.26, 134.279, 134.23, 134.24, 134.2358, 13...</td>\n",
       "      <td>[134.275, 134.279, 134.26, 134.25, 134.2408, 1...</td>\n",
       "      <td>[134.25, 134.2, 134.23, 134.23, 134.21, 134.16]</td>\n",
       "      <td>[134.26, 134.21, 134.26, 134.2388, 134.2103, 1...</td>\n",
       "      <td>[925.0, 2946.0, 1224.0, 1016.0, 3939.0, 4857.0]</td>\n",
       "      <td>-0.000547</td>\n",
       "    </tr>\n",
       "    <tr>\n",
       "      <th>2019-11-20 12:29:00</th>\n",
       "      <td>[2019-11-20 12:24:00, 2019-11-20 12:25:00, 201...</td>\n",
       "      <td>[134.279, 134.23, 134.24, 134.2358, 134.225, 1...</td>\n",
       "      <td>[134.279, 134.26, 134.25, 134.2408, 134.24, 13...</td>\n",
       "      <td>[134.2, 134.23, 134.23, 134.21, 134.16, 134.188]</td>\n",
       "      <td>[134.21, 134.26, 134.2388, 134.2103, 134.185, ...</td>\n",
       "      <td>[2946.0, 1224.0, 1016.0, 3939.0, 4857.0, 1281.0]</td>\n",
       "      <td>-0.000675</td>\n",
       "    </tr>\n",
       "    <tr>\n",
       "      <th>2019-11-20 12:30:00</th>\n",
       "      <td>[2019-11-20 12:25:00, 2019-11-20 12:26:00, 201...</td>\n",
       "      <td>[134.23, 134.24, 134.2358, 134.225, 134.188, 1...</td>\n",
       "      <td>[134.26, 134.25, 134.2408, 134.24, 134.24, 134...</td>\n",
       "      <td>[134.23, 134.23, 134.21, 134.16, 134.188, 134.2]</td>\n",
       "      <td>[134.26, 134.2388, 134.2103, 134.185, 134.2339...</td>\n",
       "      <td>[1224.0, 1016.0, 3939.0, 4857.0, 1281.0, 8150.0]</td>\n",
       "      <td>-0.000933</td>\n",
       "    </tr>\n",
       "    <tr>\n",
       "      <th>2019-11-20 12:31:00</th>\n",
       "      <td>[2019-11-20 12:26:00, 2019-11-20 12:27:00, 201...</td>\n",
       "      <td>[134.24, 134.2358, 134.225, 134.188, 134.2226,...</td>\n",
       "      <td>[134.25, 134.2408, 134.24, 134.24, 134.25, 134...</td>\n",
       "      <td>[134.23, 134.21, 134.16, 134.188, 134.2, 134.205]</td>\n",
       "      <td>[134.2388, 134.2103, 134.185, 134.2339, 134.22...</td>\n",
       "      <td>[1016.0, 3939.0, 4857.0, 1281.0, 8150.0, 917.0]</td>\n",
       "      <td>-0.001147</td>\n",
       "    </tr>\n",
       "    <tr>\n",
       "      <th>2019-11-20 12:32:00</th>\n",
       "      <td>[2019-11-20 12:27:00, 2019-11-20 12:28:00, 201...</td>\n",
       "      <td>[134.2358, 134.225, 134.188, 134.2226, 134.214...</td>\n",
       "      <td>[134.2408, 134.24, 134.24, 134.25, 134.26, 134...</td>\n",
       "      <td>[134.21, 134.16, 134.188, 134.2, 134.205, 134.21]</td>\n",
       "      <td>[134.2103, 134.185, 134.2339, 134.22, 134.26, ...</td>\n",
       "      <td>[3939.0, 4857.0, 1281.0, 8150.0, 917.0, 1905.0]</td>\n",
       "      <td>-0.001319</td>\n",
       "    </tr>\n",
       "  </tbody>\n",
       "</table>\n",
       "</div>"
      ],
      "text/plain": [
       "                                                              DateTime  \\\n",
       "DateTime                                                                 \n",
       "2019-11-20 12:28:00  [2019-11-20 12:23:00, 2019-11-20 12:24:00, 201...   \n",
       "2019-11-20 12:29:00  [2019-11-20 12:24:00, 2019-11-20 12:25:00, 201...   \n",
       "2019-11-20 12:30:00  [2019-11-20 12:25:00, 2019-11-20 12:26:00, 201...   \n",
       "2019-11-20 12:31:00  [2019-11-20 12:26:00, 2019-11-20 12:27:00, 201...   \n",
       "2019-11-20 12:32:00  [2019-11-20 12:27:00, 2019-11-20 12:28:00, 201...   \n",
       "\n",
       "                                                                  Open  \\\n",
       "DateTime                                                                 \n",
       "2019-11-20 12:28:00  [134.26, 134.279, 134.23, 134.24, 134.2358, 13...   \n",
       "2019-11-20 12:29:00  [134.279, 134.23, 134.24, 134.2358, 134.225, 1...   \n",
       "2019-11-20 12:30:00  [134.23, 134.24, 134.2358, 134.225, 134.188, 1...   \n",
       "2019-11-20 12:31:00  [134.24, 134.2358, 134.225, 134.188, 134.2226,...   \n",
       "2019-11-20 12:32:00  [134.2358, 134.225, 134.188, 134.2226, 134.214...   \n",
       "\n",
       "                                                                  High  \\\n",
       "DateTime                                                                 \n",
       "2019-11-20 12:28:00  [134.275, 134.279, 134.26, 134.25, 134.2408, 1...   \n",
       "2019-11-20 12:29:00  [134.279, 134.26, 134.25, 134.2408, 134.24, 13...   \n",
       "2019-11-20 12:30:00  [134.26, 134.25, 134.2408, 134.24, 134.24, 134...   \n",
       "2019-11-20 12:31:00  [134.25, 134.2408, 134.24, 134.24, 134.25, 134...   \n",
       "2019-11-20 12:32:00  [134.2408, 134.24, 134.24, 134.25, 134.26, 134...   \n",
       "\n",
       "                                                                   Low  \\\n",
       "DateTime                                                                 \n",
       "2019-11-20 12:28:00    [134.25, 134.2, 134.23, 134.23, 134.21, 134.16]   \n",
       "2019-11-20 12:29:00   [134.2, 134.23, 134.23, 134.21, 134.16, 134.188]   \n",
       "2019-11-20 12:30:00   [134.23, 134.23, 134.21, 134.16, 134.188, 134.2]   \n",
       "2019-11-20 12:31:00  [134.23, 134.21, 134.16, 134.188, 134.2, 134.205]   \n",
       "2019-11-20 12:32:00  [134.21, 134.16, 134.188, 134.2, 134.205, 134.21]   \n",
       "\n",
       "                                                                 Close  \\\n",
       "DateTime                                                                 \n",
       "2019-11-20 12:28:00  [134.26, 134.21, 134.26, 134.2388, 134.2103, 1...   \n",
       "2019-11-20 12:29:00  [134.21, 134.26, 134.2388, 134.2103, 134.185, ...   \n",
       "2019-11-20 12:30:00  [134.26, 134.2388, 134.2103, 134.185, 134.2339...   \n",
       "2019-11-20 12:31:00  [134.2388, 134.2103, 134.185, 134.2339, 134.22...   \n",
       "2019-11-20 12:32:00  [134.2103, 134.185, 134.2339, 134.22, 134.26, ...   \n",
       "\n",
       "                                                               Volume  \\\n",
       "DateTime                                                                \n",
       "2019-11-20 12:28:00   [925.0, 2946.0, 1224.0, 1016.0, 3939.0, 4857.0]   \n",
       "2019-11-20 12:29:00  [2946.0, 1224.0, 1016.0, 3939.0, 4857.0, 1281.0]   \n",
       "2019-11-20 12:30:00  [1224.0, 1016.0, 3939.0, 4857.0, 1281.0, 8150.0]   \n",
       "2019-11-20 12:31:00   [1016.0, 3939.0, 4857.0, 1281.0, 8150.0, 917.0]   \n",
       "2019-11-20 12:32:00   [3939.0, 4857.0, 1281.0, 8150.0, 917.0, 1905.0]   \n",
       "\n",
       "                     unthresholdedTarget  \n",
       "DateTime                                  \n",
       "2019-11-20 12:28:00            -0.000547  \n",
       "2019-11-20 12:29:00            -0.000675  \n",
       "2019-11-20 12:30:00            -0.000933  \n",
       "2019-11-20 12:31:00            -0.001147  \n",
       "2019-11-20 12:32:00            -0.001319  "
      ]
     },
     "execution_count": 111,
     "metadata": {},
     "output_type": "execute_result"
    }
   ],
   "source": [
    "X.head()"
   ]
  },
  {
   "cell_type": "markdown",
   "metadata": {},
   "source": [
    "## A precision recall-curve with only one training split."
   ]
  },
  {
   "cell_type": "code",
   "execution_count": 112,
   "metadata": {},
   "outputs": [],
   "source": [
    "# temporal split of train/test\n",
    "trainPercentage = 50\n",
    "testBegins = (len(X)*trainPercentage)//100\n",
    "Xtrain, ytrain = X[:testBegins], y[:testBegins]\n",
    "Xtest, ytest = X[testBegins:], y[testBegins:]"
   ]
  },
  {
   "cell_type": "code",
   "execution_count": 113,
   "metadata": {},
   "outputs": [
    {
     "name": "stderr",
     "output_type": "stream",
     "text": [
      "/Users/lduque/Desktop/MyProjects/moneyManager/venv-money/lib/python3.6/site-packages/sklearn/linear_model/_sag.py:330: ConvergenceWarning: The max_iter was reached which means the coef_ did not converge\n",
      "  \"the coef_ did not converge\", ConvergenceWarning)\n"
     ]
    },
    {
     "data": {
      "text/plain": [
       "Pipeline(memory=None,\n",
       "         steps=[('selectcolumns',\n",
       "                 ColumnSelector(columns=['Open', 'High', 'Low', 'Close',\n",
       "                                         'Volume'])),\n",
       "                ('scaletimeseries',\n",
       "                 FunctionTransformer(accept_sparse=False, check_inverse=True,\n",
       "                                     func=<function timeSeriesScaler at 0x11bb71158>,\n",
       "                                     inv_kw_args=None, inverse_func=None,\n",
       "                                     kw_args=None, validate=False)),\n",
       "                ('featurengineering',\n",
       "                 FunctionTransformer(accept_spars...\n",
       "                 TransformationWrapper(transformation=MinMaxScaler(copy=True,\n",
       "                                                                   feature_range=(0,\n",
       "                                                                                  1)))),\n",
       "                ('classifier',\n",
       "                 LogisticRegression(C=1.0, class_weight=None, dual=False,\n",
       "                                    fit_intercept=True, intercept_scaling=1,\n",
       "                                    l1_ratio=None, max_iter=1000,\n",
       "                                    multi_class='auto', n_jobs=None,\n",
       "                                    penalty='none', random_state=None,\n",
       "                                    solver='sag', tol=0.0001, verbose=0,\n",
       "                                    warm_start=False))],\n",
       "         verbose=False)"
      ]
     },
     "execution_count": 113,
     "metadata": {},
     "output_type": "execute_result"
    }
   ],
   "source": [
    "model = generatePipeline()\n",
    "model.fit(Xtrain, ytrain)"
   ]
  },
  {
   "cell_type": "code",
   "execution_count": 125,
   "metadata": {},
   "outputs": [],
   "source": [
    "# how to pick a threshold? classic Luis!\n",
    "ypredictedTrain=list(model.predict_proba(Xtrain)[:,1])"
   ]
  },
  {
   "cell_type": "code",
   "execution_count": 127,
   "metadata": {},
   "outputs": [],
   "source": [
    "ypredictedTrain.sort(reverse=True)"
   ]
  },
  {
   "cell_type": "code",
   "execution_count": 130,
   "metadata": {},
   "outputs": [],
   "source": [
    "threshold = ypredictedTrain[100]"
   ]
  },
  {
   "cell_type": "code",
   "execution_count": 131,
   "metadata": {},
   "outputs": [
    {
     "data": {
      "text/plain": [
       "0.6903268450251033"
      ]
     },
     "execution_count": 131,
     "metadata": {},
     "output_type": "execute_result"
    }
   ],
   "source": [
    "threshold"
   ]
  },
  {
   "cell_type": "code",
   "execution_count": 132,
   "metadata": {},
   "outputs": [
    {
     "data": {
      "image/png": "[encoded data removed]",
      "text/plain": [
       "<Figure size 432x288 with 1 Axes>"
      ]
     },
     "metadata": {
      "needs_background": "light"
     },
     "output_type": "display_data"
    }
   ],
   "source": [
    "base_rate = sum(ytest)/len(ytest)\n",
    "ypredicted=model.predict_proba(Xtest)[:,1]\n",
    "average_precision = average_precision_score(ytest, ypredicted)\n",
    "disp = plot_precision_recall_curve(model, Xtest, ytest)\n",
    "disp.ax_.set_title('2-class Precision-Recall curve: AP={0:0.2f}'.format(average_precision))\n",
    "plt.plot([0, 1], [base_rate, base_rate]);"
   ]
  },
  {
   "cell_type": "code",
   "execution_count": 133,
   "metadata": {},
   "outputs": [],
   "source": [
    "evaluationDF = pd.DataFrame({'predicted':ypredicted, 'target':ytest, 'unthresholdedTarget':Xtest.unthresholdedTarget}, index=Xtest.index)\n",
    "\n",
    "#topPredictions = evaluationDF.sort_values(by='predicted', ascending=False)[:100]"
   ]
  },
  {
   "cell_type": "code",
   "execution_count": 135,
   "metadata": {},
   "outputs": [],
   "source": [
    "evaluationDF['thresholdedPrediction']=evaluationDF.predicted>threshold"
   ]
  },
  {
   "cell_type": "code",
   "execution_count": 137,
   "metadata": {},
   "outputs": [],
   "source": [
    "topPredictions=evaluationDF[evaluationDF.thresholdedPrediction==True]"
   ]
  },
  {
   "cell_type": "code",
   "execution_count": 138,
   "metadata": {},
   "outputs": [
    {
     "data": {
      "text/html": [
       "<div>\n",
       "<style scoped>\n",
       "    .dataframe tbody tr th:only-of-type {\n",
       "        vertical-align: middle;\n",
       "    }\n",
       "\n",
       "    .dataframe tbody tr th {\n",
       "        vertical-align: top;\n",
       "    }\n",
       "\n",
       "    .dataframe thead th {\n",
       "        text-align: right;\n",
       "    }\n",
       "</style>\n",
       "<table border=\"1\" class=\"dataframe\">\n",
       "  <thead>\n",
       "    <tr style=\"text-align: right;\">\n",
       "      <th></th>\n",
       "      <th>predicted</th>\n",
       "      <th>target</th>\n",
       "      <th>unthresholdedTarget</th>\n",
       "      <th>thresholdedPrediction</th>\n",
       "    </tr>\n",
       "    <tr>\n",
       "      <th>DateTime</th>\n",
       "      <th></th>\n",
       "      <th></th>\n",
       "      <th></th>\n",
       "      <th></th>\n",
       "    </tr>\n",
       "  </thead>\n",
       "  <tbody>\n",
       "    <tr>\n",
       "      <th>2019-12-10 11:26:00</th>\n",
       "      <td>0.731296</td>\n",
       "      <td>True</td>\n",
       "      <td>0.001164</td>\n",
       "      <td>True</td>\n",
       "    </tr>\n",
       "    <tr>\n",
       "      <th>2019-12-10 11:40:00</th>\n",
       "      <td>0.703573</td>\n",
       "      <td>False</td>\n",
       "      <td>-0.000067</td>\n",
       "      <td>True</td>\n",
       "    </tr>\n",
       "    <tr>\n",
       "      <th>2019-12-10 15:13:00</th>\n",
       "      <td>0.715737</td>\n",
       "      <td>False</td>\n",
       "      <td>-0.000841</td>\n",
       "      <td>True</td>\n",
       "    </tr>\n",
       "    <tr>\n",
       "      <th>2019-12-11 09:48:00</th>\n",
       "      <td>0.725960</td>\n",
       "      <td>True</td>\n",
       "      <td>0.000653</td>\n",
       "      <td>True</td>\n",
       "    </tr>\n",
       "    <tr>\n",
       "      <th>2019-12-11 10:38:00</th>\n",
       "      <td>0.727518</td>\n",
       "      <td>False</td>\n",
       "      <td>-0.000289</td>\n",
       "      <td>True</td>\n",
       "    </tr>\n",
       "    <tr>\n",
       "      <th>...</th>\n",
       "      <td>...</td>\n",
       "      <td>...</td>\n",
       "      <td>...</td>\n",
       "      <td>...</td>\n",
       "    </tr>\n",
       "    <tr>\n",
       "      <th>2019-12-26 11:10:00</th>\n",
       "      <td>0.702488</td>\n",
       "      <td>True</td>\n",
       "      <td>0.000235</td>\n",
       "      <td>True</td>\n",
       "    </tr>\n",
       "    <tr>\n",
       "      <th>2019-12-27 09:52:00</th>\n",
       "      <td>0.725944</td>\n",
       "      <td>False</td>\n",
       "      <td>-0.001808</td>\n",
       "      <td>True</td>\n",
       "    </tr>\n",
       "    <tr>\n",
       "      <th>2019-12-27 10:20:00</th>\n",
       "      <td>0.703311</td>\n",
       "      <td>True</td>\n",
       "      <td>0.000528</td>\n",
       "      <td>True</td>\n",
       "    </tr>\n",
       "    <tr>\n",
       "      <th>2019-12-27 12:16:00</th>\n",
       "      <td>0.708616</td>\n",
       "      <td>False</td>\n",
       "      <td>-0.000618</td>\n",
       "      <td>True</td>\n",
       "    </tr>\n",
       "    <tr>\n",
       "      <th>2019-12-27 12:41:00</th>\n",
       "      <td>0.705219</td>\n",
       "      <td>True</td>\n",
       "      <td>0.001198</td>\n",
       "      <td>True</td>\n",
       "    </tr>\n",
       "  </tbody>\n",
       "</table>\n",
       "<p>81 rows × 4 columns</p>\n",
       "</div>"
      ],
      "text/plain": [
       "                     predicted  target  unthresholdedTarget  \\\n",
       "DateTime                                                      \n",
       "2019-12-10 11:26:00   0.731296    True             0.001164   \n",
       "2019-12-10 11:40:00   0.703573   False            -0.000067   \n",
       "2019-12-10 15:13:00   0.715737   False            -0.000841   \n",
       "2019-12-11 09:48:00   0.725960    True             0.000653   \n",
       "2019-12-11 10:38:00   0.727518   False            -0.000289   \n",
       "...                        ...     ...                  ...   \n",
       "2019-12-26 11:10:00   0.702488    True             0.000235   \n",
       "2019-12-27 09:52:00   0.725944   False            -0.001808   \n",
       "2019-12-27 10:20:00   0.703311    True             0.000528   \n",
       "2019-12-27 12:16:00   0.708616   False            -0.000618   \n",
       "2019-12-27 12:41:00   0.705219    True             0.001198   \n",
       "\n",
       "                     thresholdedPrediction  \n",
       "DateTime                                    \n",
       "2019-12-10 11:26:00                   True  \n",
       "2019-12-10 11:40:00                   True  \n",
       "2019-12-10 15:13:00                   True  \n",
       "2019-12-11 09:48:00                   True  \n",
       "2019-12-11 10:38:00                   True  \n",
       "...                                    ...  \n",
       "2019-12-26 11:10:00                   True  \n",
       "2019-12-27 09:52:00                   True  \n",
       "2019-12-27 10:20:00                   True  \n",
       "2019-12-27 12:16:00                   True  \n",
       "2019-12-27 12:41:00                   True  \n",
       "\n",
       "[81 rows x 4 columns]"
      ]
     },
     "execution_count": 138,
     "metadata": {},
     "output_type": "execute_result"
    }
   ],
   "source": [
    "topPredictions"
   ]
  },
  {
   "cell_type": "code",
   "execution_count": 139,
   "metadata": {},
   "outputs": [
    {
     "data": {
      "text/plain": [
       "<matplotlib.axes._subplots.AxesSubplot at 0x11ce91160>"
      ]
     },
     "execution_count": 139,
     "metadata": {},
     "output_type": "execute_result"
    },
    {
     "data": {
      "image/png": "[encoded data removed]",
      "text/plain": [
       "<Figure size 432x288 with 1 Axes>"
      ]
     },
     "metadata": {
      "needs_background": "light"
     },
     "output_type": "display_data"
    }
   ],
   "source": [
    "evaluationDF.unthresholdedTarget.plot.hist()"
   ]
  },
  {
   "cell_type": "code",
   "execution_count": 140,
   "metadata": {},
   "outputs": [
    {
     "data": {
      "text/plain": [
       "<matplotlib.axes._subplots.AxesSubplot at 0x12173d4a8>"
      ]
     },
     "execution_count": 140,
     "metadata": {},
     "output_type": "execute_result"
    },
    {
     "data": {
      "image/png": "[encoded data removed]",
      "text/plain": [
       "<Figure size 432x288 with 1 Axes>"
      ]
     },
     "metadata": {
      "needs_background": "light"
     },
     "output_type": "display_data"
    }
   ],
   "source": [
    "topPredictions.unthresholdedTarget.plot.hist()"
   ]
  },
  {
   "cell_type": "code",
   "execution_count": 141,
   "metadata": {},
   "outputs": [
    {
     "name": "stdout",
     "output_type": "stream",
     "text": [
      "-7.648035285351987e-05\n",
      "0.0005895098475111709\n"
     ]
    }
   ],
   "source": [
    "print(evaluationDF.unthresholdedTarget.mean())\n",
    "print(topPredictions.unthresholdedTarget.mean())"
   ]
  },
  {
   "cell_type": "code",
   "execution_count": 142,
   "metadata": {},
   "outputs": [
    {
     "name": "stdout",
     "output_type": "stream",
     "text": [
      "-9.216668721578544e-05\n",
      "0.0004563512901693121\n"
     ]
    }
   ],
   "source": [
    "print(evaluationDF.unthresholdedTarget.median())\n",
    "print(topPredictions.unthresholdedTarget.median())"
   ]
  },
  {
   "cell_type": "code",
   "execution_count": 144,
   "metadata": {},
   "outputs": [
    {
     "data": {
      "text/plain": [
       "(81, 4)"
      ]
     },
     "execution_count": 144,
     "metadata": {},
     "output_type": "execute_result"
    }
   ],
   "source": [
    "topPredictions.shape"
   ]
  },
  {
   "cell_type": "code",
   "execution_count": 145,
   "metadata": {},
   "outputs": [
    {
     "data": {
      "text/plain": [
       "<matplotlib.axes._subplots.AxesSubplot at 0x12a8914e0>"
      ]
     },
     "execution_count": 145,
     "metadata": {},
     "output_type": "execute_result"
    },
    {
     "data": {
      "image/png": "[encoded data removed]",
      "text/plain": [
       "<Figure size 432x288 with 1 Axes>"
      ]
     },
     "metadata": {
      "needs_background": "light"
     },
     "output_type": "display_data"
    }
   ],
   "source": [
    "topPredictions.predicted.sort_index().plot()"
   ]
  },
  {
   "cell_type": "code",
   "execution_count": 146,
   "metadata": {},
   "outputs": [
    {
     "name": "stderr",
     "output_type": "stream",
     "text": [
      "/Users/lduque/Desktop/MyProjects/moneyManager/venv-money/lib/python3.6/site-packages/sklearn/linear_model/_sag.py:330: ConvergenceWarning: The max_iter was reached which means the coef_ did not converge\n",
      "  \"the coef_ did not converge\", ConvergenceWarning)\n"
     ]
    },
    {
     "data": {
      "text/plain": [
       "Pipeline(memory=None,\n",
       "         steps=[('selectcolumns',\n",
       "                 ColumnSelector(columns=['Open', 'High', 'Low', 'Close',\n",
       "                                         'Volume'])),\n",
       "                ('scaletimeseries',\n",
       "                 FunctionTransformer(accept_sparse=False, check_inverse=True,\n",
       "                                     func=<function timeSeriesScaler at 0x11bb71158>,\n",
       "                                     inv_kw_args=None, inverse_func=None,\n",
       "                                     kw_args=None, validate=False)),\n",
       "                ('featurengineering',\n",
       "                 FunctionTransformer(accept_spars...\n",
       "                 TransformationWrapper(transformation=MinMaxScaler(copy=True,\n",
       "                                                                   feature_range=(0,\n",
       "                                                                                  1)))),\n",
       "                ('classifier',\n",
       "                 LogisticRegression(C=1.0, class_weight=None, dual=False,\n",
       "                                    fit_intercept=True, intercept_scaling=1,\n",
       "                                    l1_ratio=None, max_iter=1000,\n",
       "                                    multi_class='auto', n_jobs=None,\n",
       "                                    penalty='none', random_state=None,\n",
       "                                    solver='sag', tol=0.0001, verbose=0,\n",
       "                                    warm_start=False))],\n",
       "         verbose=False)"
      ]
     },
     "execution_count": 146,
     "metadata": {},
     "output_type": "execute_result"
    }
   ],
   "source": [
    "## now lets do the same but predict when performance is going to be below median\n",
    "ytrain_neg = ~(ytrain)\n",
    "ytest_neg = ~(ytest)\n",
    "model = generatePipeline()\n",
    "model.fit(Xtrain, ytrain_neg)"
   ]
  },
  {
   "cell_type": "code",
   "execution_count": 147,
   "metadata": {},
   "outputs": [
    {
     "data": {
      "image/png": "[encoded data removed]",
      "text/plain": [
       "<Figure size 432x288 with 1 Axes>"
      ]
     },
     "metadata": {
      "needs_background": "light"
     },
     "output_type": "display_data"
    }
   ],
   "source": [
    "base_rate = sum(ytest_neg)/len(ytest_neg)\n",
    "ypredicted_neg=model.predict_proba(Xtest)[:,1]\n",
    "average_precision = average_precision_score(ytest_neg, ypredicted_neg)\n",
    "disp = plot_precision_recall_curve(model, Xtest, ytest_neg)\n",
    "disp.ax_.set_title('2-class Precision-Recall curve: AP={0:0.2f}'.format(average_precision))\n",
    "plt.plot([0, 1], [base_rate, base_rate]);"
   ]
  },
  {
   "cell_type": "code",
   "execution_count": null,
   "metadata": {},
   "outputs": [],
   "source": []
  },
  {
   "cell_type": "markdown",
   "metadata": {},
   "source": [
    "# A precision-recall curve with multiple training batches: this probably needs some rewriting ! (maybe with crossvalidation?)"
   ]
  },
  {
   "cell_type": "code",
   "execution_count": null,
   "metadata": {},
   "outputs": [],
   "source": [
    "X = pd.concat([dg.pastValues.apply(lambda x:pd.Series(x)), dg.currentValue, dg.target], axis=1)\n",
    "firstTimeStamp=X.index[0]\n",
    "first_day = datetime(firstTimeStamp.year, firstTimeStamp.month, firstTimeStamp.day)\n",
    "X['week']=pd.Series(X.index).apply(lambda x: (datetime(x.year, x.month, x.day)-first_day).days//7).values"
   ]
  },
  {
   "cell_type": "code",
   "execution_count": null,
   "metadata": {},
   "outputs": [],
   "source": [
    "# notice that for the week zero we wont have a model.\n",
    "trainSets = [X[X.week==w] for w in X.week.unique()]\n",
    "trainTestBarches = [(None, None, None, None)]+[(trainSets[i].drop(columns='target'),trainSets[i].target,trainSets[i+1].drop(columns='target'),trainSets[i+1].target) for i in range(len(trainSets)-1)]\n",
    "models = [None] + [GridSearchCV(regr, parameters, cv=2, scoring='average_precision') for _ in range(len(trainSets)-1)]"
   ]
  },
  {
   "cell_type": "code",
   "execution_count": null,
   "metadata": {},
   "outputs": [],
   "source": [
    "Xtrain, ytrain, Xtest, ytest = trainTestBarches[1]"
   ]
  },
  {
   "cell_type": "code",
   "execution_count": null,
   "metadata": {},
   "outputs": [],
   "source": [
    "Xtrain # notice: week should not be in the model, but its ok for now"
   ]
  },
  {
   "cell_type": "code",
   "execution_count": null,
   "metadata": {},
   "outputs": [],
   "source": [
    "for i in range(1, len(models)):\n",
    "    print(i)\n",
    "    Xtrain, ytrain, Xtest, ytest = trainTestBarches[i]\n",
    "    models[i].fit(Xtrain.div(Xtrain.currentValue, axis=0), ytrain)"
   ]
  },
  {
   "cell_type": "code",
   "execution_count": null,
   "metadata": {},
   "outputs": [],
   "source": [
    "# this function is worth saving somewhere !\n",
    "def indexedModelEvaluation(x):\n",
    "    row = x.copy()\n",
    "    week = row['week']\n",
    "    row = row.drop('target')\n",
    "    row = [list(row/row.currentValue)]\n",
    "    model = models[week]\n",
    "    return np.nan if model==None else model.predict_proba(row)[0][1]"
   ]
  },
  {
   "cell_type": "code",
   "execution_count": null,
   "metadata": {},
   "outputs": [],
   "source": [
    "ypredicted = X.apply(indexedModelEvaluation,axis=1)"
   ]
  },
  {
   "cell_type": "code",
   "execution_count": null,
   "metadata": {},
   "outputs": [],
   "source": [
    "X['predicted']=ypredicted"
   ]
  },
  {
   "cell_type": "code",
   "execution_count": null,
   "metadata": {},
   "outputs": [],
   "source": [
    "dh = X[['predicted', 'target']].copy()"
   ]
  },
  {
   "cell_type": "code",
   "execution_count": null,
   "metadata": {},
   "outputs": [],
   "source": [
    "dh = dh[dh.predicted.notna()] "
   ]
  },
  {
   "cell_type": "code",
   "execution_count": null,
   "metadata": {},
   "outputs": [],
   "source": [
    "ytest = dh.target\n",
    "ypredicted = dh.predicted\n",
    "base_rate = sum(ytest)/len(ytest)\n",
    "average_precision = average_precision_score(ytest, ypredicted)\n",
    "precision, recall, _ = precision_recall_curve(ytest, ypredicted)"
   ]
  },
  {
   "cell_type": "code",
   "execution_count": null,
   "metadata": {},
   "outputs": [],
   "source": [
    "plt.plot(recall, precision)\n",
    "plt.plot([0, 1], [base_rate, base_rate]);"
   ]
  },
  {
   "cell_type": "code",
   "execution_count": null,
   "metadata": {},
   "outputs": [],
   "source": []
  },
  {
   "cell_type": "code",
   "execution_count": null,
   "metadata": {},
   "outputs": [],
   "source": [
    "A = [-1, -1, -1, -1, -1 ,6,7,8,9,10]"
   ]
  },
  {
   "cell_type": "code",
   "execution_count": null,
   "metadata": {},
   "outputs": [],
   "source": [
    "np.percentile(A, 100)"
   ]
  },
  {
   "cell_type": "code",
   "execution_count": null,
   "metadata": {},
   "outputs": [],
   "source": [
    "np.median(A)"
   ]
  },
  {
   "cell_type": "code",
   "execution_count": null,
   "metadata": {},
   "outputs": [],
   "source": []
  }
 ],
 "metadata": {
  "kernelspec": {
   "display_name": "Python 3",
   "language": "python",
   "name": "python3"
  },
  "language_info": {
   "codemirror_mode": {
    "name": "ipython",
    "version": 3
   },
   "file_extension": ".py",
   "mimetype": "text/x-python",
   "name": "python",
   "nbconvert_exporter": "python",
   "pygments_lexer": "ipython3",
   "version": "3.6.6"
  }
 },
 "nbformat": 4,
 "nbformat_minor": 2
}
