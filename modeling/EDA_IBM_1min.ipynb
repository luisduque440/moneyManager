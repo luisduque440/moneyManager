{
 "cells": [
  {
   "cell_type": "markdown",
   "metadata": {},
   "source": [
    "# EDA IBM stock 1min ticks\n",
    "\n",
    "## Takeouts -  december 29/2019\n",
    "* The distribution of the difference of the time series has very long tails: see plot. This was expected; still very ugly.\n",
    "* Created a very clean dataset with 'pastValues', 'currentValue', 'futureValue', 'deltaMinutes'. \n",
    "* The precision recall curve that we already have looks quite good: we trained one single time.\n",
    "\n",
    "## Takeouts -  december 30/2019\n",
    "* Plot a precision recall curve with several(monthly/weekly) training batches\n",
    "\n",
    "## To do\n",
    "\n",
    "* There is a delicate issue about rescaling before training that needs to be fixed asap.\n",
    "* Turn the code that produces the 'clean' data set into a more reusable one\n",
    "* The current version of the target is not very realistic.\n",
    "* Need a more elaborated way of looking at histograms: the tails don't let me see anything: those tails are a huge concern.\n",
    "* Look out for sklearn methods to do crossvalidation in our setting: do not reinvent the wheel.\n",
    "\n",
    "## Questions to Jake:\n",
    "* Data provider (currently using sample (adjusted) data from Kibot): he uses polygon\n",
    "* How can I authomatize making orders, is there an api? how does this even work in real life? he mentioned 'efficient frontier'\n",
    "* Cost per order (0.5 cents per share or 2 dollars per trade)\n",
    "* Latency issues to be aware of.\n",
    "* How/at what point can we know if we are `moving the market` too much? In the afternoon there is very little volume.\n",
    "\n",
    "\n",
    "## Notes from Jake\n",
    "* Tick data might be more useful for quant analysis.\n",
    "* polygon.io source of data.\n",
    "* thinkorswim.com: 2 dollars per trade, \n",
    "* interactivebrokers : half a cent per share.\n",
    "* kelly criterion?\n",
    "* ibridgepy ... take quantopian to real life.\n",
    "* zipline - quantopian type of thing.\n",
    "* efficient frontier. for blending the strategies.\n",
    "* kygo: his thing.\n",
    "* Use quantopian!"
   ]
  },
  {
   "cell_type": "code",
   "execution_count": 1,
   "metadata": {},
   "outputs": [
    {
     "name": "stdout",
     "output_type": "stream",
     "text": [
      "/Users/lduque/Desktop/MyProjects/moneyManager\n"
     ]
    }
   ],
   "source": [
    "cd ~/Desktop/MyProjects/moneyManager/"
   ]
  },
  {
   "cell_type": "code",
   "execution_count": 2,
   "metadata": {},
   "outputs": [],
   "source": [
    "from modeling.dataSetUtilities import createTrainingDataSet"
   ]
  },
  {
   "cell_type": "code",
   "execution_count": 3,
   "metadata": {},
   "outputs": [],
   "source": [
    "import pandas as pd\n",
    "import numpy as np\n",
    "from datetime import datetime\n",
    "import matplotlib.pyplot as plt\n",
    "from sklearn.metrics import precision_recall_curve\n",
    "from sklearn.metrics import average_precision_score\n",
    "from sklearn.metrics import plot_precision_recall_curve\n",
    "from sklearn.model_selection import GridSearchCV\n",
    "from sklearn.ensemble import RandomForestClassifier"
   ]
  },
  {
   "cell_type": "code",
   "execution_count": 4,
   "metadata": {},
   "outputs": [],
   "source": [
    "# only loading some rows\n",
    "names = ['Date', 'Time', 'Open', 'High', 'Low', 'Close', 'Volume']\n",
    "df = pd.read_csv('data/sampleKibotData/minuteIntraday/IBM_adjusted.txt', header=None, names=names, nrows=2000)\n",
    "df['DateTime']= pd.to_datetime((df.Date+' '+df.Time),infer_datetime_format=True) \n",
    "df = df.drop(columns=['Date', 'Time'])\n",
    "df = df.set_index('DateTime')"
   ]
  },
  {
   "cell_type": "code",
   "execution_count": 5,
   "metadata": {},
   "outputs": [
    {
     "data": {
      "text/html": [
       "<div>\n",
       "<style scoped>\n",
       "    .dataframe tbody tr th:only-of-type {\n",
       "        vertical-align: middle;\n",
       "    }\n",
       "\n",
       "    .dataframe tbody tr th {\n",
       "        vertical-align: top;\n",
       "    }\n",
       "\n",
       "    .dataframe thead th {\n",
       "        text-align: right;\n",
       "    }\n",
       "</style>\n",
       "<table border=\"1\" class=\"dataframe\">\n",
       "  <thead>\n",
       "    <tr style=\"text-align: right;\">\n",
       "      <th></th>\n",
       "      <th>Open</th>\n",
       "      <th>High</th>\n",
       "      <th>Low</th>\n",
       "      <th>Close</th>\n",
       "      <th>Volume</th>\n",
       "    </tr>\n",
       "    <tr>\n",
       "      <th>DateTime</th>\n",
       "      <th></th>\n",
       "      <th></th>\n",
       "      <th></th>\n",
       "      <th></th>\n",
       "      <th></th>\n",
       "    </tr>\n",
       "  </thead>\n",
       "  <tbody>\n",
       "    <tr>\n",
       "      <th>1998-01-02 09:30:00</th>\n",
       "      <td>33.69</td>\n",
       "      <td>33.69</td>\n",
       "      <td>33.69</td>\n",
       "      <td>33.69</td>\n",
       "      <td>207820</td>\n",
       "    </tr>\n",
       "    <tr>\n",
       "      <th>1998-01-02 09:31:00</th>\n",
       "      <td>33.65</td>\n",
       "      <td>33.69</td>\n",
       "      <td>33.65</td>\n",
       "      <td>33.65</td>\n",
       "      <td>33499</td>\n",
       "    </tr>\n",
       "    <tr>\n",
       "      <th>1998-01-02 09:32:00</th>\n",
       "      <td>33.67</td>\n",
       "      <td>33.69</td>\n",
       "      <td>33.65</td>\n",
       "      <td>33.69</td>\n",
       "      <td>41254</td>\n",
       "    </tr>\n",
       "    <tr>\n",
       "      <th>1998-01-02 09:33:00</th>\n",
       "      <td>33.67</td>\n",
       "      <td>33.69</td>\n",
       "      <td>33.65</td>\n",
       "      <td>33.65</td>\n",
       "      <td>52110</td>\n",
       "    </tr>\n",
       "    <tr>\n",
       "      <th>1998-01-02 09:34:00</th>\n",
       "      <td>33.65</td>\n",
       "      <td>33.69</td>\n",
       "      <td>33.65</td>\n",
       "      <td>33.65</td>\n",
       "      <td>14892</td>\n",
       "    </tr>\n",
       "  </tbody>\n",
       "</table>\n",
       "</div>"
      ],
      "text/plain": [
       "                      Open   High    Low  Close  Volume\n",
       "DateTime                                               \n",
       "1998-01-02 09:30:00  33.69  33.69  33.69  33.69  207820\n",
       "1998-01-02 09:31:00  33.65  33.69  33.65  33.65   33499\n",
       "1998-01-02 09:32:00  33.67  33.69  33.65  33.69   41254\n",
       "1998-01-02 09:33:00  33.67  33.69  33.65  33.65   52110\n",
       "1998-01-02 09:34:00  33.65  33.69  33.65  33.65   14892"
      ]
     },
     "execution_count": 5,
     "metadata": {},
     "output_type": "execute_result"
    }
   ],
   "source": [
    "df.head()"
   ]
  },
  {
   "cell_type": "code",
   "execution_count": 6,
   "metadata": {},
   "outputs": [
    {
     "data": {
      "image/png": "[encoded data removed]",
      "text/plain": [
       "<Figure size 1080x360 with 1 Axes>"
      ]
     },
     "metadata": {
      "needs_background": "light"
     },
     "output_type": "display_data"
    }
   ],
   "source": [
    "df.Open.plot(figsize=(15,5), title='IBM stock');"
   ]
  },
  {
   "cell_type": "code",
   "execution_count": 7,
   "metadata": {},
   "outputs": [
    {
     "data": {
      "image/png": "[encoded data removed]",
      "text/plain": [
       "<Figure size 1080x360 with 1 Axes>"
      ]
     },
     "metadata": {
      "needs_background": "light"
     },
     "output_type": "display_data"
    }
   ],
   "source": [
    "df.index.map(lambda x: x.year).value_counts().sort_index().plot.bar(figsize=(15, 5), title='ticks per year');"
   ]
  },
  {
   "cell_type": "code",
   "execution_count": 8,
   "metadata": {},
   "outputs": [
    {
     "data": {
      "image/png": "[encoded data removed]",
      "text/plain": [
       "<Figure size 1080x360 with 1 Axes>"
      ]
     },
     "metadata": {
      "needs_background": "light"
     },
     "output_type": "display_data"
    }
   ],
   "source": [
    "df.Open.diff().plot.hist(bins=200, figsize=(15,5), title= 'distribution of the differential');"
   ]
  },
  {
   "cell_type": "code",
   "execution_count": 9,
   "metadata": {},
   "outputs": [],
   "source": [
    "dg= createTrainingDataSet(df, numPastMins=3, numFutureMins=3)"
   ]
  },
  {
   "cell_type": "code",
   "execution_count": 10,
   "metadata": {},
   "outputs": [],
   "source": [
    "X = dg.copy()\n",
    "y = X.pop('target')"
   ]
  },
  {
   "cell_type": "code",
   "execution_count": 11,
   "metadata": {},
   "outputs": [
    {
     "data": {
      "text/html": [
       "<div>\n",
       "<style scoped>\n",
       "    .dataframe tbody tr th:only-of-type {\n",
       "        vertical-align: middle;\n",
       "    }\n",
       "\n",
       "    .dataframe tbody tr th {\n",
       "        vertical-align: top;\n",
       "    }\n",
       "\n",
       "    .dataframe thead th {\n",
       "        text-align: right;\n",
       "    }\n",
       "</style>\n",
       "<table border=\"1\" class=\"dataframe\">\n",
       "  <thead>\n",
       "    <tr style=\"text-align: right;\">\n",
       "      <th></th>\n",
       "      <th>Open</th>\n",
       "      <th>High</th>\n",
       "      <th>Low</th>\n",
       "      <th>Close</th>\n",
       "      <th>Volume</th>\n",
       "    </tr>\n",
       "    <tr>\n",
       "      <th>DateTime</th>\n",
       "      <th></th>\n",
       "      <th></th>\n",
       "      <th></th>\n",
       "      <th></th>\n",
       "      <th></th>\n",
       "    </tr>\n",
       "  </thead>\n",
       "  <tbody>\n",
       "    <tr>\n",
       "      <th>1998-01-02 09:32:00</th>\n",
       "      <td>[33.69, 33.65, 33.67]</td>\n",
       "      <td>[33.69, 33.69, 33.69]</td>\n",
       "      <td>[33.69, 33.65, 33.65]</td>\n",
       "      <td>[33.69, 33.65, 33.69]</td>\n",
       "      <td>[207820.0, 33499.0, 41254.0]</td>\n",
       "    </tr>\n",
       "    <tr>\n",
       "      <th>1998-01-02 09:33:00</th>\n",
       "      <td>[33.65, 33.67, 33.67]</td>\n",
       "      <td>[33.69, 33.69, 33.69]</td>\n",
       "      <td>[33.65, 33.65, 33.65]</td>\n",
       "      <td>[33.65, 33.69, 33.65]</td>\n",
       "      <td>[33499.0, 41254.0, 52110.0]</td>\n",
       "    </tr>\n",
       "    <tr>\n",
       "      <th>1998-01-02 09:34:00</th>\n",
       "      <td>[33.67, 33.67, 33.65]</td>\n",
       "      <td>[33.69, 33.69, 33.69]</td>\n",
       "      <td>[33.65, 33.65, 33.65]</td>\n",
       "      <td>[33.69, 33.65, 33.65]</td>\n",
       "      <td>[41254.0, 52110.0, 14892.0]</td>\n",
       "    </tr>\n",
       "    <tr>\n",
       "      <th>1998-01-02 09:35:00</th>\n",
       "      <td>[33.67, 33.65, 33.67]</td>\n",
       "      <td>[33.69, 33.69, 33.69]</td>\n",
       "      <td>[33.65, 33.65, 33.65]</td>\n",
       "      <td>[33.65, 33.65, 33.65]</td>\n",
       "      <td>[52110.0, 14892.0, 72272.0]</td>\n",
       "    </tr>\n",
       "    <tr>\n",
       "      <th>1998-01-02 09:36:00</th>\n",
       "      <td>[33.65, 33.67, 33.67]</td>\n",
       "      <td>[33.69, 33.69, 33.67]</td>\n",
       "      <td>[33.65, 33.65, 33.65]</td>\n",
       "      <td>[33.65, 33.65, 33.67]</td>\n",
       "      <td>[14892.0, 72272.0, 8065.0]</td>\n",
       "    </tr>\n",
       "    <tr>\n",
       "      <th>...</th>\n",
       "      <td>...</td>\n",
       "      <td>...</td>\n",
       "      <td>...</td>\n",
       "      <td>...</td>\n",
       "      <td>...</td>\n",
       "    </tr>\n",
       "    <tr>\n",
       "      <th>1998-01-09 10:46:00</th>\n",
       "      <td>[33.19, 33.15, 33.17]</td>\n",
       "      <td>[33.19, 33.17, 33.19]</td>\n",
       "      <td>[33.15, 33.13, 33.17]</td>\n",
       "      <td>[33.15, 33.17, 33.19]</td>\n",
       "      <td>[59865.0, 21415.0, 42805.0]</td>\n",
       "    </tr>\n",
       "    <tr>\n",
       "      <th>1998-01-09 10:47:00</th>\n",
       "      <td>[33.15, 33.17, 33.19]</td>\n",
       "      <td>[33.17, 33.19, 33.21]</td>\n",
       "      <td>[33.13, 33.17, 33.17]</td>\n",
       "      <td>[33.17, 33.19, 33.21]</td>\n",
       "      <td>[21415.0, 42805.0, 22023.0]</td>\n",
       "    </tr>\n",
       "    <tr>\n",
       "      <th>1998-01-09 10:48:00</th>\n",
       "      <td>[33.17, 33.19, 33.21]</td>\n",
       "      <td>[33.19, 33.21, 33.21]</td>\n",
       "      <td>[33.17, 33.17, 33.21]</td>\n",
       "      <td>[33.19, 33.21, 33.21]</td>\n",
       "      <td>[42805.0, 22023.0, 10236.0]</td>\n",
       "    </tr>\n",
       "    <tr>\n",
       "      <th>1998-01-09 10:49:00</th>\n",
       "      <td>[33.19, 33.21, 33.19]</td>\n",
       "      <td>[33.21, 33.21, 33.21]</td>\n",
       "      <td>[33.17, 33.21, 33.17]</td>\n",
       "      <td>[33.21, 33.21, 33.17]</td>\n",
       "      <td>[22023.0, 10236.0, 29467.0]</td>\n",
       "    </tr>\n",
       "    <tr>\n",
       "      <th>1998-01-09 10:50:00</th>\n",
       "      <td>[33.21, 33.19, 33.17]</td>\n",
       "      <td>[33.21, 33.21, 33.17]</td>\n",
       "      <td>[33.21, 33.17, 33.15]</td>\n",
       "      <td>[33.21, 33.17, 33.15]</td>\n",
       "      <td>[10236.0, 29467.0, 64210.0]</td>\n",
       "    </tr>\n",
       "  </tbody>\n",
       "</table>\n",
       "<p>1775 rows × 5 columns</p>\n",
       "</div>"
      ],
      "text/plain": [
       "                                      Open                   High  \\\n",
       "DateTime                                                            \n",
       "1998-01-02 09:32:00  [33.69, 33.65, 33.67]  [33.69, 33.69, 33.69]   \n",
       "1998-01-02 09:33:00  [33.65, 33.67, 33.67]  [33.69, 33.69, 33.69]   \n",
       "1998-01-02 09:34:00  [33.67, 33.67, 33.65]  [33.69, 33.69, 33.69]   \n",
       "1998-01-02 09:35:00  [33.67, 33.65, 33.67]  [33.69, 33.69, 33.69]   \n",
       "1998-01-02 09:36:00  [33.65, 33.67, 33.67]  [33.69, 33.69, 33.67]   \n",
       "...                                    ...                    ...   \n",
       "1998-01-09 10:46:00  [33.19, 33.15, 33.17]  [33.19, 33.17, 33.19]   \n",
       "1998-01-09 10:47:00  [33.15, 33.17, 33.19]  [33.17, 33.19, 33.21]   \n",
       "1998-01-09 10:48:00  [33.17, 33.19, 33.21]  [33.19, 33.21, 33.21]   \n",
       "1998-01-09 10:49:00  [33.19, 33.21, 33.19]  [33.21, 33.21, 33.21]   \n",
       "1998-01-09 10:50:00  [33.21, 33.19, 33.17]  [33.21, 33.21, 33.17]   \n",
       "\n",
       "                                       Low                  Close  \\\n",
       "DateTime                                                            \n",
       "1998-01-02 09:32:00  [33.69, 33.65, 33.65]  [33.69, 33.65, 33.69]   \n",
       "1998-01-02 09:33:00  [33.65, 33.65, 33.65]  [33.65, 33.69, 33.65]   \n",
       "1998-01-02 09:34:00  [33.65, 33.65, 33.65]  [33.69, 33.65, 33.65]   \n",
       "1998-01-02 09:35:00  [33.65, 33.65, 33.65]  [33.65, 33.65, 33.65]   \n",
       "1998-01-02 09:36:00  [33.65, 33.65, 33.65]  [33.65, 33.65, 33.67]   \n",
       "...                                    ...                    ...   \n",
       "1998-01-09 10:46:00  [33.15, 33.13, 33.17]  [33.15, 33.17, 33.19]   \n",
       "1998-01-09 10:47:00  [33.13, 33.17, 33.17]  [33.17, 33.19, 33.21]   \n",
       "1998-01-09 10:48:00  [33.17, 33.17, 33.21]  [33.19, 33.21, 33.21]   \n",
       "1998-01-09 10:49:00  [33.17, 33.21, 33.17]  [33.21, 33.21, 33.17]   \n",
       "1998-01-09 10:50:00  [33.21, 33.17, 33.15]  [33.21, 33.17, 33.15]   \n",
       "\n",
       "                                           Volume  \n",
       "DateTime                                           \n",
       "1998-01-02 09:32:00  [207820.0, 33499.0, 41254.0]  \n",
       "1998-01-02 09:33:00   [33499.0, 41254.0, 52110.0]  \n",
       "1998-01-02 09:34:00   [41254.0, 52110.0, 14892.0]  \n",
       "1998-01-02 09:35:00   [52110.0, 14892.0, 72272.0]  \n",
       "1998-01-02 09:36:00    [14892.0, 72272.0, 8065.0]  \n",
       "...                                           ...  \n",
       "1998-01-09 10:46:00   [59865.0, 21415.0, 42805.0]  \n",
       "1998-01-09 10:47:00   [21415.0, 42805.0, 22023.0]  \n",
       "1998-01-09 10:48:00   [42805.0, 22023.0, 10236.0]  \n",
       "1998-01-09 10:49:00   [22023.0, 10236.0, 29467.0]  \n",
       "1998-01-09 10:50:00   [10236.0, 29467.0, 64210.0]  \n",
       "\n",
       "[1775 rows x 5 columns]"
      ]
     },
     "execution_count": 11,
     "metadata": {},
     "output_type": "execute_result"
    }
   ],
   "source": [
    "X"
   ]
  },
  {
   "cell_type": "code",
   "execution_count": 12,
   "metadata": {},
   "outputs": [],
   "source": [
    "## pipeline sketch:\n",
    "# columnSelector\n",
    "# timeSeriesScaler\n",
    "# featureEngineering (including date features)?\n",
    "# featureTransformer \n",
    "# standardScaler (or something like this)\n",
    "# randomForest (for now??)"
   ]
  },
  {
   "cell_type": "code",
   "execution_count": 13,
   "metadata": {},
   "outputs": [
    {
     "data": {
      "text/html": [
       "<div>\n",
       "<style scoped>\n",
       "    .dataframe tbody tr th:only-of-type {\n",
       "        vertical-align: middle;\n",
       "    }\n",
       "\n",
       "    .dataframe tbody tr th {\n",
       "        vertical-align: top;\n",
       "    }\n",
       "\n",
       "    .dataframe thead th {\n",
       "        text-align: right;\n",
       "    }\n",
       "</style>\n",
       "<table border=\"1\" class=\"dataframe\">\n",
       "  <thead>\n",
       "    <tr style=\"text-align: right;\">\n",
       "      <th></th>\n",
       "      <th>Open</th>\n",
       "      <th>High</th>\n",
       "      <th>Low</th>\n",
       "      <th>Close</th>\n",
       "      <th>Volume</th>\n",
       "    </tr>\n",
       "    <tr>\n",
       "      <th>DateTime</th>\n",
       "      <th></th>\n",
       "      <th></th>\n",
       "      <th></th>\n",
       "      <th></th>\n",
       "      <th></th>\n",
       "    </tr>\n",
       "  </thead>\n",
       "  <tbody>\n",
       "    <tr>\n",
       "      <th>1998-01-02 09:32:00</th>\n",
       "      <td>[33.69, 33.65, 33.67]</td>\n",
       "      <td>[33.69, 33.69, 33.69]</td>\n",
       "      <td>[33.69, 33.65, 33.65]</td>\n",
       "      <td>[33.69, 33.65, 33.69]</td>\n",
       "      <td>[207820.0, 33499.0, 41254.0]</td>\n",
       "    </tr>\n",
       "    <tr>\n",
       "      <th>1998-01-02 09:33:00</th>\n",
       "      <td>[33.65, 33.67, 33.67]</td>\n",
       "      <td>[33.69, 33.69, 33.69]</td>\n",
       "      <td>[33.65, 33.65, 33.65]</td>\n",
       "      <td>[33.65, 33.69, 33.65]</td>\n",
       "      <td>[33499.0, 41254.0, 52110.0]</td>\n",
       "    </tr>\n",
       "    <tr>\n",
       "      <th>1998-01-02 09:34:00</th>\n",
       "      <td>[33.67, 33.67, 33.65]</td>\n",
       "      <td>[33.69, 33.69, 33.69]</td>\n",
       "      <td>[33.65, 33.65, 33.65]</td>\n",
       "      <td>[33.69, 33.65, 33.65]</td>\n",
       "      <td>[41254.0, 52110.0, 14892.0]</td>\n",
       "    </tr>\n",
       "    <tr>\n",
       "      <th>1998-01-02 09:35:00</th>\n",
       "      <td>[33.67, 33.65, 33.67]</td>\n",
       "      <td>[33.69, 33.69, 33.69]</td>\n",
       "      <td>[33.65, 33.65, 33.65]</td>\n",
       "      <td>[33.65, 33.65, 33.65]</td>\n",
       "      <td>[52110.0, 14892.0, 72272.0]</td>\n",
       "    </tr>\n",
       "    <tr>\n",
       "      <th>1998-01-02 09:36:00</th>\n",
       "      <td>[33.65, 33.67, 33.67]</td>\n",
       "      <td>[33.69, 33.69, 33.67]</td>\n",
       "      <td>[33.65, 33.65, 33.65]</td>\n",
       "      <td>[33.65, 33.65, 33.67]</td>\n",
       "      <td>[14892.0, 72272.0, 8065.0]</td>\n",
       "    </tr>\n",
       "    <tr>\n",
       "      <th>...</th>\n",
       "      <td>...</td>\n",
       "      <td>...</td>\n",
       "      <td>...</td>\n",
       "      <td>...</td>\n",
       "      <td>...</td>\n",
       "    </tr>\n",
       "    <tr>\n",
       "      <th>1998-01-09 10:46:00</th>\n",
       "      <td>[33.19, 33.15, 33.17]</td>\n",
       "      <td>[33.19, 33.17, 33.19]</td>\n",
       "      <td>[33.15, 33.13, 33.17]</td>\n",
       "      <td>[33.15, 33.17, 33.19]</td>\n",
       "      <td>[59865.0, 21415.0, 42805.0]</td>\n",
       "    </tr>\n",
       "    <tr>\n",
       "      <th>1998-01-09 10:47:00</th>\n",
       "      <td>[33.15, 33.17, 33.19]</td>\n",
       "      <td>[33.17, 33.19, 33.21]</td>\n",
       "      <td>[33.13, 33.17, 33.17]</td>\n",
       "      <td>[33.17, 33.19, 33.21]</td>\n",
       "      <td>[21415.0, 42805.0, 22023.0]</td>\n",
       "    </tr>\n",
       "    <tr>\n",
       "      <th>1998-01-09 10:48:00</th>\n",
       "      <td>[33.17, 33.19, 33.21]</td>\n",
       "      <td>[33.19, 33.21, 33.21]</td>\n",
       "      <td>[33.17, 33.17, 33.21]</td>\n",
       "      <td>[33.19, 33.21, 33.21]</td>\n",
       "      <td>[42805.0, 22023.0, 10236.0]</td>\n",
       "    </tr>\n",
       "    <tr>\n",
       "      <th>1998-01-09 10:49:00</th>\n",
       "      <td>[33.19, 33.21, 33.19]</td>\n",
       "      <td>[33.21, 33.21, 33.21]</td>\n",
       "      <td>[33.17, 33.21, 33.17]</td>\n",
       "      <td>[33.21, 33.21, 33.17]</td>\n",
       "      <td>[22023.0, 10236.0, 29467.0]</td>\n",
       "    </tr>\n",
       "    <tr>\n",
       "      <th>1998-01-09 10:50:00</th>\n",
       "      <td>[33.21, 33.19, 33.17]</td>\n",
       "      <td>[33.21, 33.21, 33.17]</td>\n",
       "      <td>[33.21, 33.17, 33.15]</td>\n",
       "      <td>[33.21, 33.17, 33.15]</td>\n",
       "      <td>[10236.0, 29467.0, 64210.0]</td>\n",
       "    </tr>\n",
       "  </tbody>\n",
       "</table>\n",
       "<p>1775 rows × 5 columns</p>\n",
       "</div>"
      ],
      "text/plain": [
       "                                      Open                   High  \\\n",
       "DateTime                                                            \n",
       "1998-01-02 09:32:00  [33.69, 33.65, 33.67]  [33.69, 33.69, 33.69]   \n",
       "1998-01-02 09:33:00  [33.65, 33.67, 33.67]  [33.69, 33.69, 33.69]   \n",
       "1998-01-02 09:34:00  [33.67, 33.67, 33.65]  [33.69, 33.69, 33.69]   \n",
       "1998-01-02 09:35:00  [33.67, 33.65, 33.67]  [33.69, 33.69, 33.69]   \n",
       "1998-01-02 09:36:00  [33.65, 33.67, 33.67]  [33.69, 33.69, 33.67]   \n",
       "...                                    ...                    ...   \n",
       "1998-01-09 10:46:00  [33.19, 33.15, 33.17]  [33.19, 33.17, 33.19]   \n",
       "1998-01-09 10:47:00  [33.15, 33.17, 33.19]  [33.17, 33.19, 33.21]   \n",
       "1998-01-09 10:48:00  [33.17, 33.19, 33.21]  [33.19, 33.21, 33.21]   \n",
       "1998-01-09 10:49:00  [33.19, 33.21, 33.19]  [33.21, 33.21, 33.21]   \n",
       "1998-01-09 10:50:00  [33.21, 33.19, 33.17]  [33.21, 33.21, 33.17]   \n",
       "\n",
       "                                       Low                  Close  \\\n",
       "DateTime                                                            \n",
       "1998-01-02 09:32:00  [33.69, 33.65, 33.65]  [33.69, 33.65, 33.69]   \n",
       "1998-01-02 09:33:00  [33.65, 33.65, 33.65]  [33.65, 33.69, 33.65]   \n",
       "1998-01-02 09:34:00  [33.65, 33.65, 33.65]  [33.69, 33.65, 33.65]   \n",
       "1998-01-02 09:35:00  [33.65, 33.65, 33.65]  [33.65, 33.65, 33.65]   \n",
       "1998-01-02 09:36:00  [33.65, 33.65, 33.65]  [33.65, 33.65, 33.67]   \n",
       "...                                    ...                    ...   \n",
       "1998-01-09 10:46:00  [33.15, 33.13, 33.17]  [33.15, 33.17, 33.19]   \n",
       "1998-01-09 10:47:00  [33.13, 33.17, 33.17]  [33.17, 33.19, 33.21]   \n",
       "1998-01-09 10:48:00  [33.17, 33.17, 33.21]  [33.19, 33.21, 33.21]   \n",
       "1998-01-09 10:49:00  [33.17, 33.21, 33.17]  [33.21, 33.21, 33.17]   \n",
       "1998-01-09 10:50:00  [33.21, 33.17, 33.15]  [33.21, 33.17, 33.15]   \n",
       "\n",
       "                                           Volume  \n",
       "DateTime                                           \n",
       "1998-01-02 09:32:00  [207820.0, 33499.0, 41254.0]  \n",
       "1998-01-02 09:33:00   [33499.0, 41254.0, 52110.0]  \n",
       "1998-01-02 09:34:00   [41254.0, 52110.0, 14892.0]  \n",
       "1998-01-02 09:35:00   [52110.0, 14892.0, 72272.0]  \n",
       "1998-01-02 09:36:00    [14892.0, 72272.0, 8065.0]  \n",
       "...                                           ...  \n",
       "1998-01-09 10:46:00   [59865.0, 21415.0, 42805.0]  \n",
       "1998-01-09 10:47:00   [21415.0, 42805.0, 22023.0]  \n",
       "1998-01-09 10:48:00   [42805.0, 22023.0, 10236.0]  \n",
       "1998-01-09 10:49:00   [22023.0, 10236.0, 29467.0]  \n",
       "1998-01-09 10:50:00   [10236.0, 29467.0, 64210.0]  \n",
       "\n",
       "[1775 rows x 5 columns]"
      ]
     },
     "execution_count": 13,
     "metadata": {},
     "output_type": "execute_result"
    }
   ],
   "source": [
    "X"
   ]
  },
  {
   "cell_type": "code",
   "execution_count": null,
   "metadata": {},
   "outputs": [],
   "source": [
    "from sklearn.pipeline import Pipeline\n",
    "from modeling.transformations import ColumnSelector\n",
    "from modeling.transformations import timeSeriesScaler\n",
    "from modeling.transformations import featureEngineering\n",
    "from sklearn.preprocessing import FunctionTransformer\n",
    "\n",
    "\n",
    "pipeline = Pipeline([\n",
    "    ('selectcolumns', ColumnSelector(columns = ['Open', 'High', 'Low', 'Close', 'Volume'])), \n",
    "    ('scaletimeseries', FunctionTransformer(timeSeriesScaler)),\n",
    "    ('featurengineering', FunctionTransformer(featureEngineering))\n",
    "    #('scaler', SVC()),\n",
    "    #('classifier', SVC()),\n",
    "])\n",
    "\n",
    "T = pipeline.transform(X)"
   ]
  },
  {
   "cell_type": "code",
   "execution_count": null,
   "metadata": {},
   "outputs": [],
   "source": [
    "T"
   ]
  },
  {
   "cell_type": "markdown",
   "metadata": {},
   "source": [
    "## A precision recall-curve with only one training split."
   ]
  },
  {
   "cell_type": "code",
   "execution_count": null,
   "metadata": {},
   "outputs": [],
   "source": [
    "# temporal split of train/test\n",
    "trainPercentage = 20\n",
    "testBegins = (len(X)*trainPercentage)//100\n",
    "Xtrain, ytrain = X[:testBegins], y[:testBegins]\n",
    "Xtest, ytest = X[testBegins:], y[testBegins:]"
   ]
  },
  {
   "cell_type": "code",
   "execution_count": null,
   "metadata": {},
   "outputs": [],
   "source": [
    "parameters = {\n",
    "    'min_samples_leaf' : [10, 20, 100],\n",
    "    'max_depth': [5, 10, 20],\n",
    "    'n_estimators': [10, 20, 100],   \n",
    "    'max_features': ['sqrt']\n",
    "}\n",
    "\n",
    "regr = RandomForestClassifier(class_weight='balanced')\n",
    "grid = GridSearchCV(regr, parameters, cv=2, scoring='average_precision')"
   ]
  },
  {
   "cell_type": "code",
   "execution_count": null,
   "metadata": {},
   "outputs": [],
   "source": [
    "grid.fit(Xtrain, ytrain)\n",
    "model = grid.best_estimator_"
   ]
  },
  {
   "cell_type": "code",
   "execution_count": null,
   "metadata": {},
   "outputs": [],
   "source": [
    "base_rate = sum(ytest)/len(ytest)\n",
    "ypredicted=model.predict_proba(Xtest)[:,1]\n",
    "average_precision = average_precision_score(ytest, ypredicted)\n",
    "disp = plot_precision_recall_curve(model, Xtest, ytest)\n",
    "disp.ax_.set_title('2-class Precision-Recall curve: AP={0:0.2f}'.format(average_precision))\n",
    "plt.plot([0, 1], [base_rate, base_rate]);"
   ]
  },
  {
   "cell_type": "code",
   "execution_count": null,
   "metadata": {},
   "outputs": [],
   "source": []
  },
  {
   "cell_type": "markdown",
   "metadata": {},
   "source": [
    "# A precision-recall curve with multiple training batches"
   ]
  },
  {
   "cell_type": "code",
   "execution_count": null,
   "metadata": {},
   "outputs": [],
   "source": [
    "X = pd.concat([dg.pastValues.apply(lambda x:pd.Series(x)), dg.currentValue, dg.target], axis=1)\n",
    "firstTimeStamp=X.index[0]\n",
    "first_day = datetime(firstTimeStamp.year, firstTimeStamp.month, firstTimeStamp.day)\n",
    "X['week']=pd.Series(X.index).apply(lambda x: (datetime(x.year, x.month, x.day)-first_day).days//7).values"
   ]
  },
  {
   "cell_type": "code",
   "execution_count": null,
   "metadata": {},
   "outputs": [],
   "source": [
    "# notice that for the week zero we wont have a model.\n",
    "trainSets = [X[X.week==w] for w in X.week.unique()]\n",
    "trainTestBarches = [(None, None, None, None)]+[(trainSets[i].drop(columns='target'),trainSets[i].target,trainSets[i+1].drop(columns='target'),trainSets[i+1].target) for i in range(len(trainSets)-1)]\n",
    "models = [None] + [GridSearchCV(regr, parameters, cv=2, scoring='average_precision') for _ in range(len(trainSets)-1)]"
   ]
  },
  {
   "cell_type": "code",
   "execution_count": null,
   "metadata": {},
   "outputs": [],
   "source": [
    "Xtrain, ytrain, Xtest, ytest = trainTestBarches[1]"
   ]
  },
  {
   "cell_type": "code",
   "execution_count": null,
   "metadata": {},
   "outputs": [],
   "source": [
    "Xtrain # notice: week should not be in the model, but its ok for now"
   ]
  },
  {
   "cell_type": "code",
   "execution_count": null,
   "metadata": {},
   "outputs": [],
   "source": [
    "for i in range(1, len(models)):\n",
    "    print(i)\n",
    "    Xtrain, ytrain, Xtest, ytest = trainTestBarches[i]\n",
    "    models[i].fit(Xtrain.div(Xtrain.currentValue, axis=0), ytrain)"
   ]
  },
  {
   "cell_type": "code",
   "execution_count": null,
   "metadata": {},
   "outputs": [],
   "source": [
    "# this function is worth saving somewhere !\n",
    "def indexedModelEvaluation(x):\n",
    "    row = x.copy()\n",
    "    week = row['week']\n",
    "    row = row.drop('target')\n",
    "    row = [list(row/row.currentValue)]\n",
    "    model = models[week]\n",
    "    return np.nan if model==None else model.predict_proba(row)[0][1]"
   ]
  },
  {
   "cell_type": "code",
   "execution_count": null,
   "metadata": {},
   "outputs": [],
   "source": [
    "ypredicted = X.apply(indexedModelEvaluation,axis=1)"
   ]
  },
  {
   "cell_type": "code",
   "execution_count": null,
   "metadata": {},
   "outputs": [],
   "source": [
    "X['predicted']=ypredicted"
   ]
  },
  {
   "cell_type": "code",
   "execution_count": null,
   "metadata": {},
   "outputs": [],
   "source": [
    "dh = X[['predicted', 'target']].copy()"
   ]
  },
  {
   "cell_type": "code",
   "execution_count": null,
   "metadata": {},
   "outputs": [],
   "source": [
    "dh = dh[dh.predicted.notna()] "
   ]
  },
  {
   "cell_type": "code",
   "execution_count": null,
   "metadata": {},
   "outputs": [],
   "source": [
    "ytest = dh.target\n",
    "ypredicted = dh.predicted\n",
    "base_rate = sum(ytest)/len(ytest)\n",
    "average_precision = average_precision_score(ytest, ypredicted)\n",
    "precision, recall, _ = precision_recall_curve(ytest, ypredicted)"
   ]
  },
  {
   "cell_type": "code",
   "execution_count": null,
   "metadata": {},
   "outputs": [],
   "source": [
    "plt.plot(recall, precision)\n",
    "plt.plot([0, 1], [base_rate, base_rate]);"
   ]
  },
  {
   "cell_type": "code",
   "execution_count": null,
   "metadata": {},
   "outputs": [],
   "source": []
  },
  {
   "cell_type": "code",
   "execution_count": null,
   "metadata": {},
   "outputs": [],
   "source": []
  }
 ],
 "metadata": {
  "kernelspec": {
   "display_name": "Python 3",
   "language": "python",
   "name": "python3"
  },
  "language_info": {
   "codemirror_mode": {
    "name": "ipython",
    "version": 3
   },
   "file_extension": ".py",
   "mimetype": "text/x-python",
   "name": "python",
   "nbconvert_exporter": "python",
   "pygments_lexer": "ipython3",
   "version": "3.6.6"
  }
 },
 "nbformat": 4,
 "nbformat_minor": 2
}
