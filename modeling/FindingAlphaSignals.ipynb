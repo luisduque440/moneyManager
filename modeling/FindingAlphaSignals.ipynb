{
 "cells": [
  {
   "cell_type": "markdown",
   "metadata": {},
   "source": [
    "# Finding alpha signals \n",
    "* Using two stocks and trying to predict which one will do better next minute is not working\n",
    "* Trying with one single stock, we want to predict if it will have a positive increase in the future"
   ]
  },
  {
   "cell_type": "code",
   "execution_count": 1,
   "metadata": {},
   "outputs": [],
   "source": [
    "import pandas as pd\n",
    "from datetime import datetime"
   ]
  },
  {
   "cell_type": "code",
   "execution_count": 2,
   "metadata": {},
   "outputs": [
    {
     "name": "stdout",
     "output_type": "stream",
     "text": [
      "/Users/lduque/Desktop/myProjects/moneyManager\n"
     ]
    }
   ],
   "source": [
    "cd ~/Desktop/MyProjects/moneyManager/"
   ]
  },
  {
   "cell_type": "code",
   "execution_count": 3,
   "metadata": {},
   "outputs": [],
   "source": [
    "from modeling.createTrainingDataSet import createTrainingDataSet"
   ]
  },
  {
   "cell_type": "markdown",
   "metadata": {},
   "source": [
    "# This is more or less how an alpha signal looks\n",
    "(its just too sparse)\n"
   ]
  },
  {
   "cell_type": "code",
   "execution_count": null,
   "metadata": {},
   "outputs": [],
   "source": [
    "# | ---previous min --- | --- current min --- | ---- next min ---| --- nnext min --- |\n",
    "df1 = pd.read_csv('data/quantopian/minuteIntraday/GS.csv').set_index('date')\n",
    "S1 = df1[['open_price', 'high', 'low', 'close_price']].mean(axis=1)\n",
    "df2 = pd.read_csv('data/quantopian/minuteIntraday/MSFT.csv').set_index('date')\n",
    "S2 = df2[['open_price', 'high', 'low', 'close_price']].mean(axis=1)\n",
    "df = pd.concat([S1,S2, df1.volume, df2.volume], axis=1)\n",
    "df.columns = ['S1', 'S2', 'V1', 'V2'] \n",
    "df['I1'] = (1+df.S1.pct_change())\n",
    "df['I2'] = (1+df.S2.pct_change())\n",
    "# lets find patterns by hand\n",
    "df['F1']=df.I1.shift(-2)\n",
    "df['F2']=df.I2.shift(-2)\n",
    "df['target'] = df.F1>df.F2\n",
    "df['difference']=df.I2-df.I1\n",
    "df['adding']=df.I2-df.I1"
   ]
  },
  {
   "cell_type": "code",
   "execution_count": null,
   "metadata": {},
   "outputs": [],
   "source": [
    "df[df.target==True].V2.describe()"
   ]
  },
  {
   "cell_type": "code",
   "execution_count": null,
   "metadata": {},
   "outputs": [],
   "source": [
    "df['bigVolume']=df.V2>5e5"
   ]
  },
  {
   "cell_type": "code",
   "execution_count": null,
   "metadata": {},
   "outputs": [],
   "source": [
    "df[df.bigVolume].target.value_counts().plot.bar()"
   ]
  },
  {
   "cell_type": "markdown",
   "metadata": {},
   "source": [
    "## Lets try a different target"
   ]
  },
  {
   "cell_type": "code",
   "execution_count": null,
   "metadata": {},
   "outputs": [],
   "source": []
  }
 ],
 "metadata": {
  "kernelspec": {
   "display_name": "Python 3",
   "language": "python",
   "name": "python3"
  },
  "language_info": {
   "codemirror_mode": {
    "name": "ipython",
    "version": 3
   },
   "file_extension": ".py",
   "mimetype": "text/x-python",
   "name": "python",
   "nbconvert_exporter": "python",
   "pygments_lexer": "ipython3",
   "version": "3.6.6"
  }
 },
 "nbformat": 4,
 "nbformat_minor": 2
}
