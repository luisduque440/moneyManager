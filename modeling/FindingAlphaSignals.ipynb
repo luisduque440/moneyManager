{
 "cells": [
  {
   "cell_type": "code",
   "execution_count": 48,
   "metadata": {},
   "outputs": [],
   "source": [
    "import pandas as pd"
   ]
  },
  {
   "cell_type": "code",
   "execution_count": 49,
   "metadata": {},
   "outputs": [
    {
     "name": "stdout",
     "output_type": "stream",
     "text": [
      "/Users/lduque/Desktop/myProjects/moneyManager\n"
     ]
    }
   ],
   "source": [
    "cd ~/Desktop/MyProjects/moneyManager/"
   ]
  },
  {
   "cell_type": "markdown",
   "metadata": {},
   "source": [
    "# This is more or less how an alpha signal looks\n",
    "(its just too sparse)\n"
   ]
  },
  {
   "cell_type": "code",
   "execution_count": 50,
   "metadata": {},
   "outputs": [],
   "source": [
    "# | ---previous min --- | --- current min --- | ---- next min ---| --- nnext min --- |\n",
    "df1 = pd.read_csv('data/quantopian/minuteIntraday/GS.csv').set_index('date')\n",
    "S1 = df1[['open_price', 'high', 'low', 'close_price']].mean(axis=1)\n",
    "df2 = pd.read_csv('data/quantopian/minuteIntraday/MSFT.csv').set_index('date')\n",
    "S2 = df2[['open_price', 'high', 'low', 'close_price']].mean(axis=1)\n",
    "df = pd.concat([S1,S2, df1.volume, df2.volume], axis=1)\n",
    "df.columns = ['S1', 'S2', 'V1', 'V2'] \n",
    "df['I1'] = (1+df.S1.pct_change())\n",
    "df['I2'] = (1+df.S2.pct_change())\n",
    "# lets find patterns by hand\n",
    "df['F1']=df.I1.shift(-2)\n",
    "df['F2']=df.I2.shift(-2)\n",
    "df['target'] = df.F1>df.F2\n",
    "df['difference']=df.I2-df.I1\n",
    "df['adding']=df.I2-df.I1"
   ]
  },
  {
   "cell_type": "code",
   "execution_count": 51,
   "metadata": {},
   "outputs": [
    {
     "data": {
      "text/plain": [
       "count    4.880200e+04\n",
       "mean     4.448672e+04\n",
       "std      9.747233e+04\n",
       "min      0.000000e+00\n",
       "25%      1.908950e+04\n",
       "50%      3.045300e+04\n",
       "75%      4.999000e+04\n",
       "max      1.077367e+07\n",
       "Name: V2, dtype: float64"
      ]
     },
     "execution_count": 51,
     "metadata": {},
     "output_type": "execute_result"
    }
   ],
   "source": [
    "df[df.target==True].V2.describe()"
   ]
  },
  {
   "cell_type": "code",
   "execution_count": 52,
   "metadata": {},
   "outputs": [],
   "source": [
    "df['bigVolume']=df.V2>5e5"
   ]
  },
  {
   "cell_type": "code",
   "execution_count": 53,
   "metadata": {},
   "outputs": [
    {
     "data": {
      "text/plain": [
       "<matplotlib.axes._subplots.AxesSubplot at 0x115214940>"
      ]
     },
     "execution_count": 53,
     "metadata": {},
     "output_type": "execute_result"
    },
    {
     "data": {
      "image/png": "[encoded data removed]",
      "text/plain": [
       "<Figure size 432x288 with 1 Axes>"
      ]
     },
     "metadata": {
      "needs_background": "light"
     },
     "output_type": "display_data"
    }
   ],
   "source": [
    "df[df.bigVolume].target.value_counts().plot.bar()"
   ]
  },
  {
   "cell_type": "markdown",
   "metadata": {},
   "source": [
    "## Lets try a different target"
   ]
  },
  {
   "cell_type": "code",
   "execution_count": 54,
   "metadata": {},
   "outputs": [],
   "source": [
    "df1 = pd.read_csv('data/quantopian/minuteIntraday/GS.csv').set_index('date')\n",
    "df1['S1'] = df1[['open_price', 'high', 'low', 'close_price']].mean(axis=1)\n",
    "df2 = pd.read_csv('data/quantopian/minuteIntraday/MSFT.csv').set_index('date')\n",
    "df2['S2'] = df2[['open_price', 'high', 'low', 'close_price']].mean(axis=1)\n",
    "df = pd.concat([S1,S2, df1.volume, df2.volume], axis=1)\n",
    "df.columns = ['S1', 'S2', 'V1', 'V2'] \n",
    "df['IV1']=(df.V1-df.V1.shift(1))/(df.V1.shift(1)+1)\n",
    "df['IV2']=(df.V2-df.V2.shift(1))/(df.V2.shift(1)+1)\n",
    "df['DIV']=df.IV1-df.IV2\n",
    "df['FI1']= (df.S1.shift(-5)/df.S1.shift(-1))\n",
    "df['FI2']= (df.S2.shift(-5)/df.S2.shift(-1))\n",
    "df['target'] = df.FI1>df.FI2"
   ]
  },
  {
   "cell_type": "code",
   "execution_count": 55,
   "metadata": {},
   "outputs": [
    {
     "data": {
      "text/plain": [
       "count     97739.000000\n",
       "mean         -9.119508\n",
       "std        2536.084171\n",
       "min     -607497.000000\n",
       "25%          -0.535451\n",
       "50%          -0.003861\n",
       "75%           0.743329\n",
       "max       14349.978612\n",
       "Name: DIV, dtype: float64"
      ]
     },
     "execution_count": 55,
     "metadata": {},
     "output_type": "execute_result"
    }
   ],
   "source": [
    "df.DIV.describe()"
   ]
  },
  {
   "cell_type": "code",
   "execution_count": 88,
   "metadata": {},
   "outputs": [
    {
     "data": {
      "text/plain": [
       "4185280"
      ]
     },
     "execution_count": 88,
     "metadata": {},
     "output_type": "execute_result"
    }
   ],
   "source": [
    "df.DIV.memory_usage()"
   ]
  },
  {
   "cell_type": "code",
   "execution_count": null,
   "metadata": {},
   "outputs": [],
   "source": []
  }
 ],
 "metadata": {
  "kernelspec": {
   "display_name": "Python 3",
   "language": "python",
   "name": "python3"
  },
  "language_info": {
   "codemirror_mode": {
    "name": "ipython",
    "version": 3
   },
   "file_extension": ".py",
   "mimetype": "text/x-python",
   "name": "python",
   "nbconvert_exporter": "python",
   "pygments_lexer": "ipython3",
   "version": "3.6.6"
  }
 },
 "nbformat": 4,
 "nbformat_minor": 2
}
