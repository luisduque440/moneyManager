{
 "cells": [
  {
   "cell_type": "markdown",
   "metadata": {},
   "source": [
    "# Predicting IBM 1-min-time series\n",
    "* It is possible to get (ocationally) a signal with around 1% recall and around 80% precision using a regularized logistic regression\n",
    "* If we managed to do this on many stocks we would be able to build a reasonable strategy from there.\n",
    "* What if we negate the target and study NPV instead: recall improves ! (this idea might work !!!)\n",
    "* Use naive Bayes: BernoulliNB out of the box is producing nice precision-recall curves\n",
    "* What if we deal with class weights in the logistic regressions? class_weight\n",
    "* Models are finding things, the behaviour is really not random. The fact that the thresholds in testing vs training are expected to be so different, maybe have to do with the way in which we are scaling things in our pipeline, also, PCA does seam to be helping a lot !!!!!!!!!!!!\n",
    "* Again: can class weights help?"
   ]
  },
  {
   "cell_type": "code",
   "execution_count": 1,
   "metadata": {},
   "outputs": [],
   "source": [
    "import sys\n",
    "sys.path.append(\"/Users/lduque/Desktop/myProjects/moneyManager/marketUtilities\")"
   ]
  },
  {
   "cell_type": "code",
   "execution_count": 2,
   "metadata": {},
   "outputs": [
    {
     "name": "stdout",
     "output_type": "stream",
     "text": [
      "/Users/lduque/Desktop/myProjects/moneyManager\n"
     ]
    }
   ],
   "source": [
    "cd ~/Desktop/MyProjects/moneyManager/"
   ]
  },
  {
   "cell_type": "code",
   "execution_count": 3,
   "metadata": {},
   "outputs": [],
   "source": [
    "#class_weight={True:1, False:1}"
   ]
  },
  {
   "cell_type": "code",
   "execution_count": 4,
   "metadata": {},
   "outputs": [],
   "source": [
    "from datetime import datetime\n",
    "import pandas as pd\n",
    "import numpy as np\n",
    "import matplotlib.pyplot as plt\n",
    "from sklearn.model_selection import GridSearchCV\n",
    "from sklearn.linear_model import LogisticRegression\n",
    "from sklearn.ensemble import RandomForestClassifier\n",
    "from sklearn.naive_bayes import BernoulliNB\n",
    "from modeling.createTrainingDataSet import createTrainingDataSet\n",
    "from modeling.StockModel import generatePipeline\n",
    "from modeling.plotPrecisionRecallThresholds import plotPrecisionRecallThresholds\n",
    "pd.set_option('display.max_columns', None)"
   ]
  },
  {
   "cell_type": "code",
   "execution_count": 5,
   "metadata": {},
   "outputs": [],
   "source": [
    "startDay=datetime(2019,4,1)\n",
    "endDay= datetime(2019,5,1)\n",
    "df = createTrainingDataSet('IBM',  startDay=startDay, endDay=endDay, pastStart=10)\n",
    "df = df[['consolidated', 'volume', 'target']]"
   ]
  },
  {
   "cell_type": "code",
   "execution_count": 6,
   "metadata": {},
   "outputs": [
    {
     "data": {
      "text/html": [
       "<div>\n",
       "<style scoped>\n",
       "    .dataframe tbody tr th:only-of-type {\n",
       "        vertical-align: middle;\n",
       "    }\n",
       "\n",
       "    .dataframe tbody tr th {\n",
       "        vertical-align: top;\n",
       "    }\n",
       "\n",
       "    .dataframe thead th {\n",
       "        text-align: right;\n",
       "    }\n",
       "</style>\n",
       "<table border=\"1\" class=\"dataframe\">\n",
       "  <thead>\n",
       "    <tr style=\"text-align: right;\">\n",
       "      <th></th>\n",
       "      <th>consolidated</th>\n",
       "      <th>volume</th>\n",
       "      <th>target</th>\n",
       "    </tr>\n",
       "    <tr>\n",
       "      <th>date</th>\n",
       "      <th></th>\n",
       "      <th></th>\n",
       "      <th></th>\n",
       "    </tr>\n",
       "  </thead>\n",
       "  <tbody>\n",
       "    <tr>\n",
       "      <th>2019-04-01 13:31:00</th>\n",
       "      <td>[nan, nan, nan, nan, nan, nan, nan, nan, nan, ...</td>\n",
       "      <td>[nan, nan, nan, nan, nan, nan, nan, nan, nan, ...</td>\n",
       "      <td>False</td>\n",
       "    </tr>\n",
       "    <tr>\n",
       "      <th>2019-04-01 13:32:00</th>\n",
       "      <td>[nan, nan, nan, nan, nan, nan, nan, nan, nan, ...</td>\n",
       "      <td>[nan, nan, nan, nan, nan, nan, nan, nan, nan, ...</td>\n",
       "      <td>False</td>\n",
       "    </tr>\n",
       "    <tr>\n",
       "      <th>2019-04-01 13:33:00</th>\n",
       "      <td>[nan, nan, nan, nan, nan, nan, nan, nan, 136.8...</td>\n",
       "      <td>[nan, nan, nan, nan, nan, nan, nan, nan, 11395...</td>\n",
       "      <td>False</td>\n",
       "    </tr>\n",
       "    <tr>\n",
       "      <th>2019-04-01 13:34:00</th>\n",
       "      <td>[nan, nan, nan, nan, nan, nan, nan, 136.8385, ...</td>\n",
       "      <td>[nan, nan, nan, nan, nan, nan, nan, 113956.0, ...</td>\n",
       "      <td>True</td>\n",
       "    </tr>\n",
       "    <tr>\n",
       "      <th>2019-04-01 13:35:00</th>\n",
       "      <td>[nan, nan, nan, nan, nan, nan, 136.8385, 137.1...</td>\n",
       "      <td>[nan, nan, nan, nan, nan, nan, 113956.0, 34153...</td>\n",
       "      <td>False</td>\n",
       "    </tr>\n",
       "  </tbody>\n",
       "</table>\n",
       "</div>"
      ],
      "text/plain": [
       "                                                          consolidated  \\\n",
       "date                                                                     \n",
       "2019-04-01 13:31:00  [nan, nan, nan, nan, nan, nan, nan, nan, nan, ...   \n",
       "2019-04-01 13:32:00  [nan, nan, nan, nan, nan, nan, nan, nan, nan, ...   \n",
       "2019-04-01 13:33:00  [nan, nan, nan, nan, nan, nan, nan, nan, 136.8...   \n",
       "2019-04-01 13:34:00  [nan, nan, nan, nan, nan, nan, nan, 136.8385, ...   \n",
       "2019-04-01 13:35:00  [nan, nan, nan, nan, nan, nan, 136.8385, 137.1...   \n",
       "\n",
       "                                                                volume  target  \n",
       "date                                                                            \n",
       "2019-04-01 13:31:00  [nan, nan, nan, nan, nan, nan, nan, nan, nan, ...   False  \n",
       "2019-04-01 13:32:00  [nan, nan, nan, nan, nan, nan, nan, nan, nan, ...   False  \n",
       "2019-04-01 13:33:00  [nan, nan, nan, nan, nan, nan, nan, nan, 11395...   False  \n",
       "2019-04-01 13:34:00  [nan, nan, nan, nan, nan, nan, nan, 113956.0, ...    True  \n",
       "2019-04-01 13:35:00  [nan, nan, nan, nan, nan, nan, 113956.0, 34153...   False  "
      ]
     },
     "execution_count": 6,
     "metadata": {},
     "output_type": "execute_result"
    }
   ],
   "source": [
    "df.head()"
   ]
  },
  {
   "cell_type": "code",
   "execution_count": 7,
   "metadata": {},
   "outputs": [
    {
     "data": {
      "text/plain": [
       "(8190, 3)"
      ]
     },
     "execution_count": 7,
     "metadata": {},
     "output_type": "execute_result"
    }
   ],
   "source": [
    "df.shape"
   ]
  },
  {
   "cell_type": "code",
   "execution_count": 8,
   "metadata": {},
   "outputs": [
    {
     "data": {
      "image/png": "[encoded data removed]",
      "text/plain": [
       "<Figure size 144x216 with 1 Axes>"
      ]
     },
     "metadata": {
      "needs_background": "light"
     },
     "output_type": "display_data"
    }
   ],
   "source": [
    "(df.target.value_counts()/len(df)).plot.bar(figsize=(2,3), title='distribution of the target');"
   ]
  },
  {
   "cell_type": "code",
   "execution_count": 9,
   "metadata": {},
   "outputs": [],
   "source": [
    "X = df.copy()\n",
    "y = X.pop('target')"
   ]
  },
  {
   "cell_type": "code",
   "execution_count": 10,
   "metadata": {},
   "outputs": [],
   "source": [
    "Xtrain, ytrain = X[:len(X)//2], y[:len(X)//2] \n",
    "Xtest, ytest = X[len(X)//2:], y[len(X)//2:]"
   ]
  },
  {
   "cell_type": "markdown",
   "metadata": {},
   "source": [
    "# Debugging the pipeline\n",
    "* So far we have 83 features"
   ]
  },
  {
   "cell_type": "code",
   "execution_count": 11,
   "metadata": {},
   "outputs": [
    {
     "name": "stderr",
     "output_type": "stream",
     "text": [
      "/Users/lduque/Desktop/myProjects/moneyManager/venv-money/lib/python3.6/site-packages/numpy/core/fromnumeric.py:3584: RuntimeWarning: Degrees of freedom <= 0 for slice\n",
      "  **kwargs)\n"
     ]
    },
    {
     "data": {
      "text/plain": [
       "(4095, 63)"
      ]
     },
     "execution_count": 11,
     "metadata": {},
     "output_type": "execute_result"
    }
   ],
   "source": [
    "pipeline = generatePipeline()\n",
    "pipeline.fit(Xtrain)\n",
    "XtrainTrf = pipeline.transform(Xtrain)\n",
    "XtestTrf = pipeline.transform(Xtest)\n",
    "XtrainTrf.shape"
   ]
  },
  {
   "cell_type": "code",
   "execution_count": 14,
   "metadata": {},
   "outputs": [
    {
     "data": {
      "text/plain": [
       "consolidated_max           8\n",
       "consolidated_argmax        0\n",
       "consolidated_min           8\n",
       "consolidated_argmin        0\n",
       "consolidated_mean         42\n",
       "                          ..\n",
       "volumeDifference_last      4\n",
       "volumeDifference_first     4\n",
       "hour                       0\n",
       "minute                     0\n",
       "hourminute                 0\n",
       "Length: 63, dtype: int64"
      ]
     },
     "execution_count": 14,
     "metadata": {},
     "output_type": "execute_result"
    }
   ],
   "source": [
    "XtestTrf.isna().sum()"
   ]
  },
  {
   "cell_type": "code",
   "execution_count": null,
   "metadata": {},
   "outputs": [],
   "source": [
    "pipeline"
   ]
  },
  {
   "cell_type": "code",
   "execution_count": null,
   "metadata": {},
   "outputs": [],
   "source": [
    "(np.array([3,4,5])-5)/5"
   ]
  },
  {
   "cell_type": "code",
   "execution_count": null,
   "metadata": {},
   "outputs": [],
   "source": [
    "Xtrain[100:105]"
   ]
  },
  {
   "cell_type": "code",
   "execution_count": null,
   "metadata": {},
   "outputs": [],
   "source": [
    "XtrainTrf[100:105]"
   ]
  },
  {
   "cell_type": "code",
   "execution_count": null,
   "metadata": {},
   "outputs": [],
   "source": [
    "#XtrainTrf.isna().sum().sum()"
   ]
  },
  {
   "cell_type": "markdown",
   "metadata": {},
   "source": [
    "# Naive Bayes"
   ]
  },
  {
   "cell_type": "code",
   "execution_count": null,
   "metadata": {},
   "outputs": [],
   "source": [
    "clf = BernoulliNB()\n",
    "clf.fit(XtrainTrf, ytrain); "
   ]
  },
  {
   "cell_type": "code",
   "execution_count": null,
   "metadata": {},
   "outputs": [],
   "source": [
    "plotPrecisionRecallThresholds(clf, XtrainTrf, ytrain, XtestTrf, ytest)"
   ]
  },
  {
   "cell_type": "markdown",
   "metadata": {},
   "source": [
    "# No regularization\n",
    "* Performance is not awesome\n",
    "* Huge overfit: notice how different precision and recall curves are."
   ]
  },
  {
   "cell_type": "code",
   "execution_count": null,
   "metadata": {},
   "outputs": [],
   "source": [
    "clf =LogisticRegression(penalty='none', max_iter=10000)\n",
    "clf.fit(XtrainTrf, ytrain);  "
   ]
  },
  {
   "cell_type": "code",
   "execution_count": null,
   "metadata": {},
   "outputs": [],
   "source": [
    "plotPrecisionRecallThresholds(clf, XtrainTrf, ytrain, XtestTrf, ytest)"
   ]
  },
  {
   "cell_type": "markdown",
   "metadata": {},
   "source": [
    "# L1 regularization"
   ]
  },
  {
   "cell_type": "code",
   "execution_count": null,
   "metadata": {},
   "outputs": [],
   "source": [
    "C = 10**np.linspace(-4,1,50) \n",
    "grid_parameters = {\n",
    "    'C': C,\n",
    "    'penalty':['l1']\n",
    "}\n",
    "\n",
    "clf = GridSearchCV(LogisticRegression(solver='saga',max_iter=10000, multi_class='ovr', C=C), grid_parameters, scoring='average_precision', cv=2, return_train_score=True)\n",
    "clf.fit(XtrainTrf, ytrain);  \n",
    "test_scores = clf.cv_results_['mean_test_score']\n",
    "train_scores = clf.cv_results_['mean_train_score']\n",
    "ds = pd.DataFrame({'train_scores':train_scores, 'evaluation_scores':test_scores}, index=C)"
   ]
  },
  {
   "cell_type": "code",
   "execution_count": null,
   "metadata": {},
   "outputs": [],
   "source": [
    "plotPrecisionRecallThresholds(clf, XtrainTrf, ytrain, XtestTrf, ytest)"
   ]
  },
  {
   "cell_type": "code",
   "execution_count": null,
   "metadata": {},
   "outputs": [],
   "source": [
    "ds.plot()\n",
    "print(ds.evaluation_scores.max())\n",
    "print('---')\n",
    "print(pd.Series(clf.best_estimator_.coef_[0], index=XtrainTrf.columns).abs().sort_values(ascending=False))\n",
    "print('---')\n",
    "print(clf.best_estimator_)"
   ]
  },
  {
   "cell_type": "code",
   "execution_count": null,
   "metadata": {},
   "outputs": [],
   "source": [
    "pd.Series(clf.best_estimator_.coef_[0], index=XtrainTrf.columns).abs().sort_values(ascending=False).plot.bar(figsize=(10,5));"
   ]
  },
  {
   "cell_type": "markdown",
   "metadata": {},
   "source": [
    "# L2 regularization"
   ]
  },
  {
   "cell_type": "code",
   "execution_count": null,
   "metadata": {},
   "outputs": [],
   "source": [
    "C = 10**np.linspace(-5,2,100) \n",
    "grid_parameters = {\n",
    "    'C': C,\n",
    "    'penalty':['l2']\n",
    "}\n",
    "\n",
    "clf = GridSearchCV(LogisticRegression(solver='liblinear', multi_class='ovr', max_iter=10000, C=C), grid_parameters, scoring='average_precision', cv=3, return_train_score=True)\n",
    "clf.fit(XtrainTrf, ytrain);  \n",
    "test_scores = clf.cv_results_['mean_test_score']\n",
    "train_scores = clf.cv_results_['mean_train_score']\n",
    "ds = pd.DataFrame({'train_scores':train_scores, 'evaluation_scores':test_scores}, index=C)"
   ]
  },
  {
   "cell_type": "code",
   "execution_count": null,
   "metadata": {},
   "outputs": [],
   "source": [
    "plotPrecisionRecallThresholds(clf, XtrainTrf, ytrain, XtestTrf, ytest)"
   ]
  },
  {
   "cell_type": "code",
   "execution_count": null,
   "metadata": {},
   "outputs": [],
   "source": [
    "ds.plot()\n",
    "print(ds.evaluation_scores.max())\n",
    "print('---')\n",
    "print(pd.Series(clf.best_estimator_.coef_[0], index=XtrainTrf.columns).abs().sort_values(ascending=False))\n",
    "print('---')\n",
    "print(clf.best_estimator_)"
   ]
  },
  {
   "cell_type": "markdown",
   "metadata": {},
   "source": [
    "# Random Forest\n",
    "* Horrible overift ... for now! ... unexpectedly hard to control !!"
   ]
  },
  {
   "cell_type": "code",
   "execution_count": null,
   "metadata": {},
   "outputs": [],
   "source": [
    "grid_parameters = {\n",
    "    #'min_samples_leaf' : [100, 1000, 2000],\n",
    "    'max_depth': [2, 3, 4, 5, 6, 7, 8,9, 10],\n",
    "    'n_estimators': [5, 10, 100],   \n",
    "    'max_features': ['sqrt', 0.1, 0.2, 0.5, 0.8]\n",
    "}\n",
    "\n",
    "clf = GridSearchCV(RandomForestClassifier(), grid_parameters, scoring='average_precision', cv=3, return_train_score=True)\n",
    "clf.fit(XtrainTrf, ytrain);  \n",
    "test_scores = clf.cv_results_['mean_test_score']\n",
    "train_scores = clf.cv_results_['mean_train_score']\n",
    "ds = pd.DataFrame({'train_scores':train_scores, 'evaluation_scores':test_scores})"
   ]
  },
  {
   "cell_type": "code",
   "execution_count": null,
   "metadata": {},
   "outputs": [],
   "source": [
    "plotPrecisionRecallThresholds(clf, XtrainTrf, ytrain, XtestTrf, ytest)"
   ]
  },
  {
   "cell_type": "code",
   "execution_count": null,
   "metadata": {},
   "outputs": [],
   "source": [
    "ds.sort_values(by='evaluation_scores', ascending=False).plot.bar(figsize=(15,5))"
   ]
  },
  {
   "cell_type": "code",
   "execution_count": null,
   "metadata": {},
   "outputs": [],
   "source": [
    "clf.best_estimator_"
   ]
  },
  {
   "cell_type": "code",
   "execution_count": null,
   "metadata": {},
   "outputs": [],
   "source": [
    "print(\"feature importance\")\n",
    "feature_importance = pd.DataFrame({'feature': XtrainTrf.columns, 'importance':clf.best_estimator_.feature_importances_}).set_index('feature').sort_values(by=['importance'], ascending=False)\n",
    "feature_importance[feature_importance.importance>0].plot.bar(figsize=(15,5))"
   ]
  },
  {
   "cell_type": "code",
   "execution_count": null,
   "metadata": {},
   "outputs": [],
   "source": []
  },
  {
   "cell_type": "code",
   "execution_count": null,
   "metadata": {},
   "outputs": [],
   "source": []
  }
 ],
 "metadata": {
  "kernelspec": {
   "display_name": "Python 3",
   "language": "python",
   "name": "python3"
  },
  "language_info": {
   "codemirror_mode": {
    "name": "ipython",
    "version": 3
   },
   "file_extension": ".py",
   "mimetype": "text/x-python",
   "name": "python",
   "nbconvert_exporter": "python",
   "pygments_lexer": "ipython3",
   "version": "3.6.6"
  }
 },
 "nbformat": 4,
 "nbformat_minor": 2
}
