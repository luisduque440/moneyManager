{
 "cells": [
  {
   "cell_type": "markdown",
   "metadata": {},
   "source": [
    "# What target should we use:\n",
    "* Imagine that we can perfectly predict a certain target.\n",
    "* Can we come out with a trading strategy based on this model?\n",
    "* How often and accurate do we need to be able to do this?"
   ]
  },
  {
   "cell_type": "code",
   "execution_count": 1,
   "metadata": {},
   "outputs": [
    {
     "name": "stdout",
     "output_type": "stream",
     "text": [
      "/Users/lduque/Desktop/myProjects/moneyManager\n"
     ]
    }
   ],
   "source": [
    "cd ~/Desktop/MyProjects/moneyManager/"
   ]
  },
  {
   "cell_type": "code",
   "execution_count": 2,
   "metadata": {},
   "outputs": [],
   "source": [
    "import pandas as pd"
   ]
  },
  {
   "cell_type": "code",
   "execution_count": 3,
   "metadata": {},
   "outputs": [],
   "source": [
    "names = ['Date', 'Time', 'Open', 'High', 'Low', 'Close', 'Volume']\n",
    "df = pd.read_csv('data/sampleKibotData/minuteIntraday/IBM_adjusted.txt', header=None, names=names)\n",
    "df['DateTime']= pd.to_datetime((df.Date+' '+df.Time),infer_datetime_format=True) \n",
    "df = df.set_index('DateTime')\n",
    "\n",
    "dg = pd.read_csv('data/sampleKibotData/minuteIntraday/OIH_adjusted.txt', header=None, names=names)\n",
    "dg['DateTime']= pd.to_datetime((dg.Date+' '+dg.Time),infer_datetime_format=True) \n",
    "dg = dg.set_index('DateTime')\n",
    "\n",
    "s1 = (df.High+df.Low)/2\n",
    "s2 = (dg.High+dg.Low)/2"
   ]
  },
  {
   "cell_type": "code",
   "execution_count": 4,
   "metadata": {},
   "outputs": [
    {
     "data": {
      "text/plain": [
       "(2288289,)"
      ]
     },
     "execution_count": 4,
     "metadata": {},
     "output_type": "execute_result"
    }
   ],
   "source": [
    "s1.shape"
   ]
  },
  {
   "cell_type": "code",
   "execution_count": 5,
   "metadata": {},
   "outputs": [],
   "source": [
    "ds = pd.concat([s1, s2], axis=1)\n",
    "ds = ds.dropna(how='any')\n",
    "ds.columns = ['IBM', 'IOH']"
   ]
  },
  {
   "cell_type": "code",
   "execution_count": 6,
   "metadata": {},
   "outputs": [
    {
     "data": {
      "text/plain": [
       "<matplotlib.axes._subplots.AxesSubplot at 0x11b903588>"
      ]
     },
     "execution_count": 6,
     "metadata": {},
     "output_type": "execute_result"
    },
    {
     "data": {
      "image/png": "[encoded data removed]",
      "text/plain": [
       "<Figure size 432x288 with 1 Axes>"
      ]
     },
     "metadata": {
      "needs_background": "light"
     },
     "output_type": "display_data"
    }
   ],
   "source": [
    "ds.plot()"
   ]
  },
  {
   "cell_type": "code",
   "execution_count": 7,
   "metadata": {},
   "outputs": [
    {
     "data": {
      "text/plain": [
       "DateTime\n",
       "2001-02-26 09:41:00    20.48\n",
       "2001-02-26 09:44:00    20.56\n",
       "2001-02-26 09:46:00    20.64\n",
       "2001-02-26 10:14:00    20.84\n",
       "2001-02-26 10:18:00    20.96\n",
       "dtype: float64"
      ]
     },
     "execution_count": 7,
     "metadata": {},
     "output_type": "execute_result"
    }
   ],
   "source": [
    "s2.head()"
   ]
  },
  {
   "cell_type": "code",
   "execution_count": 8,
   "metadata": {},
   "outputs": [
    {
     "data": {
      "text/plain": [
       "0    NaN\n",
       "1    1.0\n",
       "2    1.0\n",
       "3    1.0\n",
       "4    1.0\n",
       "dtype: float64"
      ]
     },
     "execution_count": 8,
     "metadata": {},
     "output_type": "execute_result"
    }
   ],
   "source": [
    "s = pd.Series([2,4,8,16,32])\n",
    "s.pct_change()"
   ]
  },
  {
   "cell_type": "code",
   "execution_count": 9,
   "metadata": {},
   "outputs": [
    {
     "data": {
      "text/html": [
       "<div>\n",
       "<style scoped>\n",
       "    .dataframe tbody tr th:only-of-type {\n",
       "        vertical-align: middle;\n",
       "    }\n",
       "\n",
       "    .dataframe tbody tr th {\n",
       "        vertical-align: top;\n",
       "    }\n",
       "\n",
       "    .dataframe thead th {\n",
       "        text-align: right;\n",
       "    }\n",
       "</style>\n",
       "<table border=\"1\" class=\"dataframe\">\n",
       "  <thead>\n",
       "    <tr style=\"text-align: right;\">\n",
       "      <th></th>\n",
       "      <th>IBM</th>\n",
       "      <th>IOH</th>\n",
       "    </tr>\n",
       "    <tr>\n",
       "      <th>DateTime</th>\n",
       "      <th></th>\n",
       "      <th></th>\n",
       "    </tr>\n",
       "  </thead>\n",
       "  <tbody>\n",
       "    <tr>\n",
       "      <th>2001-02-26 09:41:00</th>\n",
       "      <td>69.7900</td>\n",
       "      <td>20.4800</td>\n",
       "    </tr>\n",
       "    <tr>\n",
       "      <th>2001-02-26 09:44:00</th>\n",
       "      <td>69.6350</td>\n",
       "      <td>20.5600</td>\n",
       "    </tr>\n",
       "    <tr>\n",
       "      <th>2001-02-26 09:46:00</th>\n",
       "      <td>69.2400</td>\n",
       "      <td>20.6400</td>\n",
       "    </tr>\n",
       "    <tr>\n",
       "      <th>2001-02-26 10:14:00</th>\n",
       "      <td>68.4900</td>\n",
       "      <td>20.8400</td>\n",
       "    </tr>\n",
       "    <tr>\n",
       "      <th>2001-02-26 10:18:00</th>\n",
       "      <td>68.3100</td>\n",
       "      <td>20.9600</td>\n",
       "    </tr>\n",
       "    <tr>\n",
       "      <th>...</th>\n",
       "      <td>...</td>\n",
       "      <td>...</td>\n",
       "    </tr>\n",
       "    <tr>\n",
       "      <th>2019-12-27 15:56:00</th>\n",
       "      <td>135.2675</td>\n",
       "      <td>13.3075</td>\n",
       "    </tr>\n",
       "    <tr>\n",
       "      <th>2019-12-27 15:57:00</th>\n",
       "      <td>135.2500</td>\n",
       "      <td>13.3000</td>\n",
       "    </tr>\n",
       "    <tr>\n",
       "      <th>2019-12-27 15:58:00</th>\n",
       "      <td>135.2500</td>\n",
       "      <td>13.3050</td>\n",
       "    </tr>\n",
       "    <tr>\n",
       "      <th>2019-12-27 15:59:00</th>\n",
       "      <td>135.2500</td>\n",
       "      <td>13.2950</td>\n",
       "    </tr>\n",
       "    <tr>\n",
       "      <th>2019-12-27 16:04:00</th>\n",
       "      <td>135.2700</td>\n",
       "      <td>13.2897</td>\n",
       "    </tr>\n",
       "  </tbody>\n",
       "</table>\n",
       "<p>1667869 rows × 2 columns</p>\n",
       "</div>"
      ],
      "text/plain": [
       "                          IBM      IOH\n",
       "DateTime                              \n",
       "2001-02-26 09:41:00   69.7900  20.4800\n",
       "2001-02-26 09:44:00   69.6350  20.5600\n",
       "2001-02-26 09:46:00   69.2400  20.6400\n",
       "2001-02-26 10:14:00   68.4900  20.8400\n",
       "2001-02-26 10:18:00   68.3100  20.9600\n",
       "...                       ...      ...\n",
       "2019-12-27 15:56:00  135.2675  13.3075\n",
       "2019-12-27 15:57:00  135.2500  13.3000\n",
       "2019-12-27 15:58:00  135.2500  13.3050\n",
       "2019-12-27 15:59:00  135.2500  13.2950\n",
       "2019-12-27 16:04:00  135.2700  13.2897\n",
       "\n",
       "[1667869 rows x 2 columns]"
      ]
     },
     "execution_count": 9,
     "metadata": {},
     "output_type": "execute_result"
    }
   ],
   "source": [
    "ds"
   ]
  },
  {
   "cell_type": "code",
   "execution_count": 49,
   "metadata": {},
   "outputs": [],
   "source": [
    "ds['increaseIBM'] = (1+ds.IBM.pct_change()).fillna(100)\n",
    "ds['increaseIOH'] = (1+ds.IOH.pct_change()).fillna(100)\n",
    "ds['increaseGOD'] = ds.apply(lambda x: max(x.increaseIBM, x.increaseIOH), axis=1)\n",
    "ds['positionGOD'] = ds.apply(lambda x: 'IBM' if x.increaseIBM>x.increaseIOH else 'IOH', axis=1)"
   ]
  },
  {
   "cell_type": "code",
   "execution_count": 111,
   "metadata": {},
   "outputs": [],
   "source": [
    "### this should be implemented as clear as possible!\n",
    "\n",
    "transactionCost = 0.01\n",
    "GOD = []\n",
    "numStocksGOD = []\n",
    "feesGOD=[]\n",
    "IBM = list(ds.IBM)\n",
    "IOH = list(ds.IOH)\n",
    "positionGOD = list(ds.positionGOD)\n",
    "increaseGOD = list(ds.increaseGOD)\n",
    "\n",
    "GOD.append(100) #GOD starts with 100, as usual\n",
    "numStocksGOD.append(GOD[-1]/(IBM[0] if positionGOD[0]=='IBM' else IOH[0]))\n",
    "feesGOD.append(numStocksGOD[-1]* transactionCost)\n",
    "\n",
    "\n",
    "for i in range(1, len(IBM)):\n",
    "    feesGOD.append(numStocksGOD[-1]* transactionCost if positionGOD[i]!=positionGOD[i-1] else 0)\n",
    "    GOD.append(GOD[-1]*increaseGOD[i]-feesGOD[-1])\n",
    "    numStocksGOD.append(GOD[-1]/(IBM[0] if positionGOD[i]=='IBM' else IOH[i]))\n",
    "    \n",
    "    \n",
    "ds['GOD'] = GOD\n",
    "ds['numStocksGOD'] = numStocksGOD\n",
    "ds['feesGOD']=feesGOD"
   ]
  },
  {
   "cell_type": "code",
   "execution_count": 109,
   "metadata": {},
   "outputs": [
    {
     "data": {
      "text/html": [
       "<div>\n",
       "<style scoped>\n",
       "    .dataframe tbody tr th:only-of-type {\n",
       "        vertical-align: middle;\n",
       "    }\n",
       "\n",
       "    .dataframe tbody tr th {\n",
       "        vertical-align: top;\n",
       "    }\n",
       "\n",
       "    .dataframe thead th {\n",
       "        text-align: right;\n",
       "    }\n",
       "</style>\n",
       "<table border=\"1\" class=\"dataframe\">\n",
       "  <thead>\n",
       "    <tr style=\"text-align: right;\">\n",
       "      <th></th>\n",
       "      <th>IBM</th>\n",
       "      <th>IOH</th>\n",
       "      <th>increaseIBM</th>\n",
       "      <th>increaseIOH</th>\n",
       "      <th>increaseGOD</th>\n",
       "      <th>positionGOD</th>\n",
       "      <th>GOD</th>\n",
       "      <th>numStocksGOD</th>\n",
       "      <th>feesGOD</th>\n",
       "    </tr>\n",
       "    <tr>\n",
       "      <th>DateTime</th>\n",
       "      <th></th>\n",
       "      <th></th>\n",
       "      <th></th>\n",
       "      <th></th>\n",
       "      <th></th>\n",
       "      <th></th>\n",
       "      <th></th>\n",
       "      <th></th>\n",
       "      <th></th>\n",
       "    </tr>\n",
       "  </thead>\n",
       "  <tbody>\n",
       "    <tr>\n",
       "      <th>2001-02-26 09:41:00</th>\n",
       "      <td>69.790</td>\n",
       "      <td>20.48</td>\n",
       "      <td>100.000000</td>\n",
       "      <td>100.000000</td>\n",
       "      <td>100.000000</td>\n",
       "      <td>IOH</td>\n",
       "      <td>100.000000</td>\n",
       "      <td>4.882812</td>\n",
       "      <td>0.048828</td>\n",
       "    </tr>\n",
       "    <tr>\n",
       "      <th>2001-02-26 09:44:00</th>\n",
       "      <td>69.635</td>\n",
       "      <td>20.56</td>\n",
       "      <td>0.997779</td>\n",
       "      <td>1.003906</td>\n",
       "      <td>1.003906</td>\n",
       "      <td>IOH</td>\n",
       "      <td>100.390625</td>\n",
       "      <td>4.882812</td>\n",
       "      <td>0.000000</td>\n",
       "    </tr>\n",
       "    <tr>\n",
       "      <th>2001-02-26 09:46:00</th>\n",
       "      <td>69.240</td>\n",
       "      <td>20.64</td>\n",
       "      <td>0.994328</td>\n",
       "      <td>1.003891</td>\n",
       "      <td>1.003891</td>\n",
       "      <td>IOH</td>\n",
       "      <td>100.781250</td>\n",
       "      <td>4.882812</td>\n",
       "      <td>0.000000</td>\n",
       "    </tr>\n",
       "    <tr>\n",
       "      <th>2001-02-26 10:14:00</th>\n",
       "      <td>68.490</td>\n",
       "      <td>20.84</td>\n",
       "      <td>0.989168</td>\n",
       "      <td>1.009690</td>\n",
       "      <td>1.009690</td>\n",
       "      <td>IOH</td>\n",
       "      <td>101.757812</td>\n",
       "      <td>4.882812</td>\n",
       "      <td>0.000000</td>\n",
       "    </tr>\n",
       "    <tr>\n",
       "      <th>2001-02-26 10:18:00</th>\n",
       "      <td>68.310</td>\n",
       "      <td>20.96</td>\n",
       "      <td>0.997372</td>\n",
       "      <td>1.005758</td>\n",
       "      <td>1.005758</td>\n",
       "      <td>IOH</td>\n",
       "      <td>102.343750</td>\n",
       "      <td>4.882812</td>\n",
       "      <td>0.000000</td>\n",
       "    </tr>\n",
       "  </tbody>\n",
       "</table>\n",
       "</div>"
      ],
      "text/plain": [
       "                        IBM    IOH  increaseIBM  increaseIOH  increaseGOD  \\\n",
       "DateTime                                                                    \n",
       "2001-02-26 09:41:00  69.790  20.48   100.000000   100.000000   100.000000   \n",
       "2001-02-26 09:44:00  69.635  20.56     0.997779     1.003906     1.003906   \n",
       "2001-02-26 09:46:00  69.240  20.64     0.994328     1.003891     1.003891   \n",
       "2001-02-26 10:14:00  68.490  20.84     0.989168     1.009690     1.009690   \n",
       "2001-02-26 10:18:00  68.310  20.96     0.997372     1.005758     1.005758   \n",
       "\n",
       "                    positionGOD         GOD  numStocksGOD   feesGOD  \n",
       "DateTime                                                             \n",
       "2001-02-26 09:41:00         IOH  100.000000      4.882812  0.048828  \n",
       "2001-02-26 09:44:00         IOH  100.390625      4.882812  0.000000  \n",
       "2001-02-26 09:46:00         IOH  100.781250      4.882812  0.000000  \n",
       "2001-02-26 10:14:00         IOH  101.757812      4.882812  0.000000  \n",
       "2001-02-26 10:18:00         IOH  102.343750      4.882812  0.000000  "
      ]
     },
     "execution_count": 109,
     "metadata": {},
     "output_type": "execute_result"
    }
   ],
   "source": [
    "ds.head()"
   ]
  },
  {
   "cell_type": "code",
   "execution_count": 110,
   "metadata": {},
   "outputs": [
    {
     "name": "stdout",
     "output_type": "stream",
     "text": [
      "1667869\n",
      "1667869\n",
      "1667869\n"
     ]
    }
   ],
   "source": [
    "print(len(GOD))\n",
    "print(len(numStocksGOD))\n",
    "print(len(feesGOD))"
   ]
  },
  {
   "cell_type": "code",
   "execution_count": 107,
   "metadata": {},
   "outputs": [
    {
     "data": {
      "text/html": [
       "<div>\n",
       "<style scoped>\n",
       "    .dataframe tbody tr th:only-of-type {\n",
       "        vertical-align: middle;\n",
       "    }\n",
       "\n",
       "    .dataframe tbody tr th {\n",
       "        vertical-align: top;\n",
       "    }\n",
       "\n",
       "    .dataframe thead th {\n",
       "        text-align: right;\n",
       "    }\n",
       "</style>\n",
       "<table border=\"1\" class=\"dataframe\">\n",
       "  <thead>\n",
       "    <tr style=\"text-align: right;\">\n",
       "      <th></th>\n",
       "      <th>IBM</th>\n",
       "      <th>IOH</th>\n",
       "      <th>increaseIBM</th>\n",
       "      <th>increaseIOH</th>\n",
       "      <th>increaseGOD</th>\n",
       "      <th>positionGOD</th>\n",
       "      <th>GOD</th>\n",
       "      <th>numStocksGOD</th>\n",
       "      <th>feesGOD</th>\n",
       "    </tr>\n",
       "    <tr>\n",
       "      <th>DateTime</th>\n",
       "      <th></th>\n",
       "      <th></th>\n",
       "      <th></th>\n",
       "      <th></th>\n",
       "      <th></th>\n",
       "      <th></th>\n",
       "      <th></th>\n",
       "      <th></th>\n",
       "      <th></th>\n",
       "    </tr>\n",
       "  </thead>\n",
       "  <tbody>\n",
       "    <tr>\n",
       "      <th>2001-02-26 09:41:00</th>\n",
       "      <td>69.7900</td>\n",
       "      <td>20.4800</td>\n",
       "      <td>100.000000</td>\n",
       "      <td>100.000000</td>\n",
       "      <td>100.000000</td>\n",
       "      <td>IOH</td>\n",
       "      <td>1.000000e+02</td>\n",
       "      <td>4.882812e+00</td>\n",
       "      <td>4.882812e-02</td>\n",
       "    </tr>\n",
       "    <tr>\n",
       "      <th>2001-02-26 09:44:00</th>\n",
       "      <td>69.6350</td>\n",
       "      <td>20.5600</td>\n",
       "      <td>0.997779</td>\n",
       "      <td>1.003906</td>\n",
       "      <td>1.003906</td>\n",
       "      <td>IOH</td>\n",
       "      <td>1.003906e+02</td>\n",
       "      <td>4.882812e+00</td>\n",
       "      <td>0.000000e+00</td>\n",
       "    </tr>\n",
       "    <tr>\n",
       "      <th>2001-02-26 09:46:00</th>\n",
       "      <td>69.2400</td>\n",
       "      <td>20.6400</td>\n",
       "      <td>0.994328</td>\n",
       "      <td>1.003891</td>\n",
       "      <td>1.003891</td>\n",
       "      <td>IOH</td>\n",
       "      <td>1.007812e+02</td>\n",
       "      <td>4.882812e+00</td>\n",
       "      <td>0.000000e+00</td>\n",
       "    </tr>\n",
       "    <tr>\n",
       "      <th>2001-02-26 10:14:00</th>\n",
       "      <td>68.4900</td>\n",
       "      <td>20.8400</td>\n",
       "      <td>0.989168</td>\n",
       "      <td>1.009690</td>\n",
       "      <td>1.009690</td>\n",
       "      <td>IOH</td>\n",
       "      <td>1.017578e+02</td>\n",
       "      <td>4.882812e+00</td>\n",
       "      <td>0.000000e+00</td>\n",
       "    </tr>\n",
       "    <tr>\n",
       "      <th>2001-02-26 10:18:00</th>\n",
       "      <td>68.3100</td>\n",
       "      <td>20.9600</td>\n",
       "      <td>0.997372</td>\n",
       "      <td>1.005758</td>\n",
       "      <td>1.005758</td>\n",
       "      <td>IOH</td>\n",
       "      <td>1.023438e+02</td>\n",
       "      <td>4.882812e+00</td>\n",
       "      <td>0.000000e+00</td>\n",
       "    </tr>\n",
       "    <tr>\n",
       "      <th>...</th>\n",
       "      <td>...</td>\n",
       "      <td>...</td>\n",
       "      <td>...</td>\n",
       "      <td>...</td>\n",
       "      <td>...</td>\n",
       "      <td>...</td>\n",
       "      <td>...</td>\n",
       "      <td>...</td>\n",
       "      <td>...</td>\n",
       "    </tr>\n",
       "    <tr>\n",
       "      <th>2019-12-27 15:56:00</th>\n",
       "      <td>135.2675</td>\n",
       "      <td>13.3075</td>\n",
       "      <td>1.000129</td>\n",
       "      <td>0.999437</td>\n",
       "      <td>1.000129</td>\n",
       "      <td>IBM</td>\n",
       "      <td>4.621533e+129</td>\n",
       "      <td>6.622056e+127</td>\n",
       "      <td>3.473081e+126</td>\n",
       "    </tr>\n",
       "    <tr>\n",
       "      <th>2019-12-27 15:57:00</th>\n",
       "      <td>135.2500</td>\n",
       "      <td>13.3000</td>\n",
       "      <td>0.999871</td>\n",
       "      <td>0.999436</td>\n",
       "      <td>0.999871</td>\n",
       "      <td>IBM</td>\n",
       "      <td>4.620935e+129</td>\n",
       "      <td>6.621200e+127</td>\n",
       "      <td>0.000000e+00</td>\n",
       "    </tr>\n",
       "    <tr>\n",
       "      <th>2019-12-27 15:58:00</th>\n",
       "      <td>135.2500</td>\n",
       "      <td>13.3050</td>\n",
       "      <td>1.000000</td>\n",
       "      <td>1.000376</td>\n",
       "      <td>1.000376</td>\n",
       "      <td>IOH</td>\n",
       "      <td>4.622010e+129</td>\n",
       "      <td>3.473890e+128</td>\n",
       "      <td>6.621200e+125</td>\n",
       "    </tr>\n",
       "    <tr>\n",
       "      <th>2019-12-27 15:59:00</th>\n",
       "      <td>135.2500</td>\n",
       "      <td>13.2950</td>\n",
       "      <td>1.000000</td>\n",
       "      <td>0.999248</td>\n",
       "      <td>1.000000</td>\n",
       "      <td>IBM</td>\n",
       "      <td>4.618536e+129</td>\n",
       "      <td>6.617762e+127</td>\n",
       "      <td>3.473890e+126</td>\n",
       "    </tr>\n",
       "    <tr>\n",
       "      <th>2019-12-27 16:04:00</th>\n",
       "      <td>135.2700</td>\n",
       "      <td>13.2897</td>\n",
       "      <td>1.000148</td>\n",
       "      <td>0.999601</td>\n",
       "      <td>1.000148</td>\n",
       "      <td>IBM</td>\n",
       "      <td>4.619219e+129</td>\n",
       "      <td>6.618741e+127</td>\n",
       "      <td>0.000000e+00</td>\n",
       "    </tr>\n",
       "  </tbody>\n",
       "</table>\n",
       "<p>1667869 rows × 9 columns</p>\n",
       "</div>"
      ],
      "text/plain": [
       "                          IBM      IOH  increaseIBM  increaseIOH  increaseGOD  \\\n",
       "DateTime                                                                        \n",
       "2001-02-26 09:41:00   69.7900  20.4800   100.000000   100.000000   100.000000   \n",
       "2001-02-26 09:44:00   69.6350  20.5600     0.997779     1.003906     1.003906   \n",
       "2001-02-26 09:46:00   69.2400  20.6400     0.994328     1.003891     1.003891   \n",
       "2001-02-26 10:14:00   68.4900  20.8400     0.989168     1.009690     1.009690   \n",
       "2001-02-26 10:18:00   68.3100  20.9600     0.997372     1.005758     1.005758   \n",
       "...                       ...      ...          ...          ...          ...   \n",
       "2019-12-27 15:56:00  135.2675  13.3075     1.000129     0.999437     1.000129   \n",
       "2019-12-27 15:57:00  135.2500  13.3000     0.999871     0.999436     0.999871   \n",
       "2019-12-27 15:58:00  135.2500  13.3050     1.000000     1.000376     1.000376   \n",
       "2019-12-27 15:59:00  135.2500  13.2950     1.000000     0.999248     1.000000   \n",
       "2019-12-27 16:04:00  135.2700  13.2897     1.000148     0.999601     1.000148   \n",
       "\n",
       "                    positionGOD            GOD   numStocksGOD        feesGOD  \n",
       "DateTime                                                                      \n",
       "2001-02-26 09:41:00         IOH   1.000000e+02   4.882812e+00   4.882812e-02  \n",
       "2001-02-26 09:44:00         IOH   1.003906e+02   4.882812e+00   0.000000e+00  \n",
       "2001-02-26 09:46:00         IOH   1.007812e+02   4.882812e+00   0.000000e+00  \n",
       "2001-02-26 10:14:00         IOH   1.017578e+02   4.882812e+00   0.000000e+00  \n",
       "2001-02-26 10:18:00         IOH   1.023438e+02   4.882812e+00   0.000000e+00  \n",
       "...                         ...            ...            ...            ...  \n",
       "2019-12-27 15:56:00         IBM  4.621533e+129  6.622056e+127  3.473081e+126  \n",
       "2019-12-27 15:57:00         IBM  4.620935e+129  6.621200e+127   0.000000e+00  \n",
       "2019-12-27 15:58:00         IOH  4.622010e+129  3.473890e+128  6.621200e+125  \n",
       "2019-12-27 15:59:00         IBM  4.618536e+129  6.617762e+127  3.473890e+126  \n",
       "2019-12-27 16:04:00         IBM  4.619219e+129  6.618741e+127   0.000000e+00  \n",
       "\n",
       "[1667869 rows x 9 columns]"
      ]
     },
     "execution_count": 107,
     "metadata": {},
     "output_type": "execute_result"
    }
   ],
   "source": [
    "ds"
   ]
  },
  {
   "cell_type": "code",
   "execution_count": 54,
   "metadata": {},
   "outputs": [
    {
     "data": {
      "text/plain": [
       "<matplotlib.axes._subplots.AxesSubplot at 0x13229c518>"
      ]
     },
     "execution_count": 54,
     "metadata": {},
     "output_type": "execute_result"
    },
    {
     "data": {
      "image/png": "[encoded data removed]",
      "text/plain": [
       "<Figure size 432x288 with 1 Axes>"
      ]
     },
     "metadata": {
      "needs_background": "light"
     },
     "output_type": "display_data"
    }
   ],
   "source": [
    "ds[['increaseIBM', 'increaseIOH', 'increaseGOD']][:100].cumprod().plot()"
   ]
  },
  {
   "cell_type": "code",
   "execution_count": 34,
   "metadata": {},
   "outputs": [
    {
     "data": {
      "text/plain": [
       "<matplotlib.axes._subplots.AxesSubplot at 0x183e10c50>"
      ]
     },
     "execution_count": 34,
     "metadata": {},
     "output_type": "execute_result"
    },
    {
     "data": {
      "image/png": "[encoded data removed]",
      "text/plain": [
       "<Figure size 432x288 with 1 Axes>"
      ]
     },
     "metadata": {
      "needs_background": "light"
     },
     "output_type": "display_data"
    }
   ],
   "source": [
    "ds.increaseIBM.cumprod().plot()"
   ]
  },
  {
   "cell_type": "code",
   "execution_count": 35,
   "metadata": {},
   "outputs": [
    {
     "data": {
      "text/plain": [
       "<matplotlib.axes._subplots.AxesSubplot at 0x1927d30b8>"
      ]
     },
     "execution_count": 35,
     "metadata": {},
     "output_type": "execute_result"
    },
    {
     "data": {
      "image/png": "[encoded data removed]",
      "text/plain": [
       "<Figure size 432x288 with 1 Axes>"
      ]
     },
     "metadata": {
      "needs_background": "light"
     },
     "output_type": "display_data"
    }
   ],
   "source": [
    "ds.IBM.plot()"
   ]
  },
  {
   "cell_type": "code",
   "execution_count": 36,
   "metadata": {},
   "outputs": [
    {
     "data": {
      "text/plain": [
       "69.78999999999999"
      ]
     },
     "execution_count": 36,
     "metadata": {},
     "output_type": "execute_result"
    }
   ],
   "source": [
    "ds.IBM.values[0]"
   ]
  },
  {
   "cell_type": "code",
   "execution_count": null,
   "metadata": {},
   "outputs": [],
   "source": []
  }
 ],
 "metadata": {
  "kernelspec": {
   "display_name": "Python 3",
   "language": "python",
   "name": "python3"
  },
  "language_info": {
   "codemirror_mode": {
    "name": "ipython",
    "version": 3
   },
   "file_extension": ".py",
   "mimetype": "text/x-python",
   "name": "python",
   "nbconvert_exporter": "python",
   "pygments_lexer": "ipython3",
   "version": "3.6.6"
  }
 },
 "nbformat": 4,
 "nbformat_minor": 2
}
