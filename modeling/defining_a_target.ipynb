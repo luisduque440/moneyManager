{
 "cells": [
  {
   "cell_type": "markdown",
   "metadata": {},
   "source": [
    "# What target should we use:\n",
    "* Imagine that we can perfectly predict a certain target.\n",
    "* Can we come out with a trading strategy based on this model?\n",
    "* How often and accurate do we need to be able to do this?\n",
    "* Lets not think on fees for now - ugly."
   ]
  },
  {
   "cell_type": "code",
   "execution_count": 7,
   "metadata": {},
   "outputs": [],
   "source": [
    "from sys import platform"
   ]
  },
  {
   "cell_type": "code",
   "execution_count": 8,
   "metadata": {},
   "outputs": [
    {
     "data": {
      "text/plain": [
       "'darwin'"
      ]
     },
     "execution_count": 8,
     "metadata": {},
     "output_type": "execute_result"
    }
   ],
   "source": [
    "platform"
   ]
  },
  {
   "cell_type": "code",
   "execution_count": 1,
   "metadata": {},
   "outputs": [
    {
     "name": "stdout",
     "output_type": "stream",
     "text": [
      "/Users/lduque/Desktop/myProjects/moneyManager\n"
     ]
    }
   ],
   "source": [
    "cd ~/Desktop/MyProjects/moneyManager/"
   ]
  },
  {
   "cell_type": "code",
   "execution_count": 2,
   "metadata": {},
   "outputs": [],
   "source": [
    "import pandas as pd\n",
    "import random\n",
    "import numpy as np"
   ]
  },
  {
   "cell_type": "code",
   "execution_count": null,
   "metadata": {},
   "outputs": [],
   "source": [
    "names = ['Date', 'Time', 'Open', 'High', 'Low', 'Close', 'Volume']\n",
    "df = pd.read_csv('data/sampleKibotData/minuteIntraday/IBM_adjusted.txt', header=None, names=names)\n",
    "df['DateTime']= pd.to_datetime((df.Date+' '+df.Time),infer_datetime_format=True) \n",
    "df = df.set_index('DateTime')\n",
    "\n",
    "dg = pd.read_csv('data/sampleKibotData/minuteIntraday/OIH_adjusted.txt', header=None, names=names)\n",
    "dg['DateTime']= pd.to_datetime((dg.Date+' '+dg.Time),infer_datetime_format=True) \n",
    "dg = dg.set_index('DateTime')\n",
    "\n",
    "s1 = (df.High+df.Low)/2\n",
    "s2 = (dg.High+dg.Low)/2"
   ]
  },
  {
   "cell_type": "code",
   "execution_count": null,
   "metadata": {},
   "outputs": [],
   "source": [
    "ds = pd.concat([s1, s2], axis=1)\n",
    "ds = ds.dropna(how='any')\n",
    "ds.columns = ['IBM', 'IOH']\n",
    "ds.plot(figsize=(15,5))"
   ]
  },
  {
   "cell_type": "code",
   "execution_count": null,
   "metadata": {},
   "outputs": [],
   "source": [
    "ds"
   ]
  },
  {
   "cell_type": "code",
   "execution_count": null,
   "metadata": {},
   "outputs": [],
   "source": [
    "ds = ds[-100000:].copy()\n",
    "ds['increaseIBM'] = (1+ds.IBM.pct_change()).fillna(1)\n",
    "ds['increaseIOH'] = (1+ds.IOH.pct_change()).fillna(1)\n",
    "ds['increaseGOD'] = ds.apply(lambda x: max(x.increaseIBM, x.increaseIOH), axis=1)\n",
    "ds['positionGOD'] = ds.apply(lambda x: 'IBM' if x.increaseIBM>x.increaseIOH else 'IOH', axis=1)\n",
    "ds['increaseDUM'] = ds.apply(lambda x: min(x.increaseIBM, x.increaseIOH), axis=1)\n",
    "ds['positionDUM'] = ds.apply(lambda x: 'IBM' if x.increaseIBM<x.increaseIOH else 'IOH', axis=1)\n",
    "ds['positionMON'] = [random.choice(['IBM','IOH']) for _ in range(len(ds))]\n",
    "ds['increaseMON'] = ds.apply(lambda x: x['increase'+x.positionMON], axis=1)\n",
    "# sanity check:\n",
    "#ds.increaseIBM.prod()"
   ]
  },
  {
   "cell_type": "code",
   "execution_count": null,
   "metadata": {},
   "outputs": [],
   "source": [
    "100*(5000/100000)"
   ]
  },
  {
   "cell_type": "code",
   "execution_count": null,
   "metadata": {},
   "outputs": [],
   "source": [
    "moves = [None for _ in range(len(ds))]\n",
    "indexes = [i for i in range(len(ds))]\n",
    "goodMoves = np.random.choice(indexes, size = 4000, replace=False, p=None)\n",
    "badMoves = np.random.choice(indexes, size = 1000, replace=False, p=None)\n",
    "for gi in goodMoves: moves[gi]='positionGOD'\n",
    "for bi in badMoves: moves[bi]='positionDUM'\n",
    "\n",
    "ds['positionSTR'] = moves\n",
    "ds['positionSTR'] = ds.apply(lambda x: x[x.positionSTR] if x.positionSTR is not None else None, axis=1)\n",
    "   \n",
    "positions = ds.positionSTR.values\n",
    "positions[0]='IBM'\n",
    "\n",
    "for i in range(1, len(positions)):\n",
    "    positions[i]=positions[i-1] if positions[i]==None else positions[i]\n",
    "\n",
    "ds['positionSTR']=positions\n",
    "ds['increaseSTR']= ds.apply(lambda x: x['increase'+x.positionSTR], axis=1)"
   ]
  },
  {
   "cell_type": "code",
   "execution_count": null,
   "metadata": {},
   "outputs": [],
   "source": [
    "print(ds.increaseIBM.product())\n",
    "print(ds.increaseIOH.product())\n",
    "print(ds.increaseGOD.product())\n",
    "print(ds.increaseMON.product())\n",
    "print(ds.increaseDUM.product())"
   ]
  },
  {
   "cell_type": "code",
   "execution_count": null,
   "metadata": {},
   "outputs": [],
   "source": [
    "ds[[col for col in ds.columns if 'increase' in col ]].drop(columns=['increaseGOD', 'increaseDUM']).cumprod().plot(figsize=(15, 6))"
   ]
  },
  {
   "cell_type": "code",
   "execution_count": null,
   "metadata": {},
   "outputs": [],
   "source": [
    "positions = ds.positionSTR.values\n",
    "counter = 0\n",
    "for i in range(1, len(positions)):\n",
    "    counter+=0 if positions[i]==positions[i-1] else 1\n",
    "print(counter)"
   ]
  },
  {
   "cell_type": "code",
   "execution_count": null,
   "metadata": {},
   "outputs": [],
   "source": [
    "2500"
   ]
  },
  {
   "cell_type": "code",
   "execution_count": null,
   "metadata": {},
   "outputs": [],
   "source": [
    "ds.shape"
   ]
  },
  {
   "cell_type": "code",
   "execution_count": null,
   "metadata": {},
   "outputs": [],
   "source": [
    "import datetime as datetime"
   ]
  },
  {
   "cell_type": "code",
   "execution_count": null,
   "metadata": {},
   "outputs": [],
   "source": [
    "pd.Series(ds.index).apply(lambda x: datetime.date(x.year, x.month, x.day)).value_counts().index"
   ]
  },
  {
   "cell_type": "code",
   "execution_count": null,
   "metadata": {},
   "outputs": [],
   "source": [
    "#259 days 4800 transactions"
   ]
  },
  {
   "cell_type": "code",
   "execution_count": null,
   "metadata": {},
   "outputs": [],
   "source": [
    "2500/259"
   ]
  },
  {
   "cell_type": "code",
   "execution_count": null,
   "metadata": {},
   "outputs": [],
   "source": [
    "### this should be implemented as clear as possible!\n",
    "\n",
    "transactionCost = 0.01\n",
    "GOD = []\n",
    "numStocksGOD = []\n",
    "feesGOD=[]\n",
    "IBM = list(ds.IBM)\n",
    "IOH = list(ds.IOH)\n",
    "positionGOD = list(ds.positionGOD)\n",
    "increaseGOD = list(ds.increaseGOD)\n",
    "\n",
    "GOD.append(100) #GOD starts with 100, as usual\n",
    "numStocksGOD.append(GOD[-1]/(IBM[0] if positionGOD[0]=='IBM' else IOH[0]))\n",
    "feesGOD.append(numStocksGOD[-1]* transactionCost)\n",
    "\n",
    "\n",
    "for i in range(1, len(IBM)):\n",
    "    feesGOD.append(numStocksGOD[-1]* transactionCost if positionGOD[i]!=positionGOD[i-1] else 0)\n",
    "    GOD.append(GOD[-1]*increaseGOD[i]-feesGOD[-1])\n",
    "    numStocksGOD.append(GOD[-1]/(IBM[0] if positionGOD[i]=='IBM' else IOH[i]))\n",
    "    \n",
    "    \n",
    "ds['GOD'] = GOD\n",
    "ds['numStocksGOD'] = numStocksGOD\n",
    "ds['feesGOD']=feesGOD"
   ]
  },
  {
   "cell_type": "code",
   "execution_count": null,
   "metadata": {},
   "outputs": [],
   "source": [
    "ds.head()"
   ]
  },
  {
   "cell_type": "code",
   "execution_count": null,
   "metadata": {},
   "outputs": [],
   "source": [
    "print(len(GOD))\n",
    "print(len(numStocksGOD))\n",
    "print(len(feesGOD))"
   ]
  },
  {
   "cell_type": "code",
   "execution_count": null,
   "metadata": {},
   "outputs": [],
   "source": [
    "ds"
   ]
  },
  {
   "cell_type": "code",
   "execution_count": null,
   "metadata": {},
   "outputs": [],
   "source": [
    "ds[['increaseIBM', 'increaseIOH', 'increaseGOD']][:100].cumprod().plot()"
   ]
  },
  {
   "cell_type": "code",
   "execution_count": null,
   "metadata": {},
   "outputs": [],
   "source": [
    "ds.increaseIBM.cumprod().plot()"
   ]
  },
  {
   "cell_type": "code",
   "execution_count": null,
   "metadata": {},
   "outputs": [],
   "source": [
    "ds.IBM.plot()"
   ]
  },
  {
   "cell_type": "code",
   "execution_count": null,
   "metadata": {},
   "outputs": [],
   "source": [
    "ds.IBM.values[0]"
   ]
  },
  {
   "cell_type": "code",
   "execution_count": null,
   "metadata": {},
   "outputs": [],
   "source": []
  }
 ],
 "metadata": {
  "kernelspec": {
   "display_name": "Python 3",
   "language": "python",
   "name": "python3"
  },
  "language_info": {
   "codemirror_mode": {
    "name": "ipython",
    "version": 3
   },
   "file_extension": ".py",
   "mimetype": "text/x-python",
   "name": "python",
   "nbconvert_exporter": "python",
   "pygments_lexer": "ipython3",
   "version": "3.6.6"
  }
 },
 "nbformat": 4,
 "nbformat_minor": 2
}
