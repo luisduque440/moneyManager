{
 "cells": [
  {
   "cell_type": "markdown",
   "metadata": {},
   "source": [
    "# Defining a target\n",
    "\n",
    "## Goal\n",
    "Imagine that we can perfectly predict `a certain` target. Can we come out with a trading strategy based on this model? How often and accurate do our models need to be able to do this?\n",
    "* This is the quantity that we want to predict: (S1.pct_change()+1).shift(-2) = S1.pct_change().shift(-2)+1\n",
    "* Its equivalent to predicting S1.pct_change().shift(-2)"
   ]
  },
  {
   "cell_type": "code",
   "execution_count": 3,
   "metadata": {},
   "outputs": [
    {
     "name": "stdout",
     "output_type": "stream",
     "text": [
      "/Users/lduque/Desktop/myProjects/moneyManager\n"
     ]
    }
   ],
   "source": [
    "cd ~/Desktop/MyProjects/moneyManager/"
   ]
  },
  {
   "cell_type": "code",
   "execution_count": 4,
   "metadata": {},
   "outputs": [],
   "source": [
    "import pandas as pd\n",
    "import random\n",
    "import numpy as np\n",
    "from datetime import datetime"
   ]
  },
  {
   "cell_type": "code",
   "execution_count": 7,
   "metadata": {},
   "outputs": [],
   "source": [
    "from modeling.loadTimeSeries import loadTimeSeries\n",
    "S=loadTimeSeries('GS', datetime(2019,1,1), datetime(2020,1,1)).consolidated"
   ]
  },
  {
   "cell_type": "code",
   "execution_count": 23,
   "metadata": {},
   "outputs": [
    {
     "data": {
      "text/html": [
       "<div>\n",
       "<style scoped>\n",
       "    .dataframe tbody tr th:only-of-type {\n",
       "        vertical-align: middle;\n",
       "    }\n",
       "\n",
       "    .dataframe tbody tr th {\n",
       "        vertical-align: top;\n",
       "    }\n",
       "\n",
       "    .dataframe thead th {\n",
       "        text-align: right;\n",
       "    }\n",
       "</style>\n",
       "<table border=\"1\" class=\"dataframe\">\n",
       "  <thead>\n",
       "    <tr style=\"text-align: right;\">\n",
       "      <th></th>\n",
       "      <th>date</th>\n",
       "      <th>consolidated</th>\n",
       "    </tr>\n",
       "  </thead>\n",
       "  <tbody>\n",
       "    <tr>\n",
       "      <th>0</th>\n",
       "      <td>2019-01-02 14:31:00</td>\n",
       "      <td>160.85250</td>\n",
       "    </tr>\n",
       "    <tr>\n",
       "      <th>1</th>\n",
       "      <td>2019-01-02 14:32:00</td>\n",
       "      <td>160.76400</td>\n",
       "    </tr>\n",
       "    <tr>\n",
       "      <th>2</th>\n",
       "      <td>2019-01-02 14:33:00</td>\n",
       "      <td>161.08350</td>\n",
       "    </tr>\n",
       "    <tr>\n",
       "      <th>3</th>\n",
       "      <td>2019-01-02 14:34:00</td>\n",
       "      <td>161.08750</td>\n",
       "    </tr>\n",
       "    <tr>\n",
       "      <th>4</th>\n",
       "      <td>2019-01-02 14:35:00</td>\n",
       "      <td>161.04075</td>\n",
       "    </tr>\n",
       "    <tr>\n",
       "      <th>...</th>\n",
       "      <td>...</td>\n",
       "      <td>...</td>\n",
       "    </tr>\n",
       "    <tr>\n",
       "      <th>97735</th>\n",
       "      <td>2019-12-31 20:56:00</td>\n",
       "      <td>229.75000</td>\n",
       "    </tr>\n",
       "    <tr>\n",
       "      <th>97736</th>\n",
       "      <td>2019-12-31 20:57:00</td>\n",
       "      <td>229.67750</td>\n",
       "    </tr>\n",
       "    <tr>\n",
       "      <th>97737</th>\n",
       "      <td>2019-12-31 20:58:00</td>\n",
       "      <td>229.54000</td>\n",
       "    </tr>\n",
       "    <tr>\n",
       "      <th>97738</th>\n",
       "      <td>2019-12-31 20:59:00</td>\n",
       "      <td>229.51000</td>\n",
       "    </tr>\n",
       "    <tr>\n",
       "      <th>97739</th>\n",
       "      <td>2019-12-31 21:00:00</td>\n",
       "      <td>229.69250</td>\n",
       "    </tr>\n",
       "  </tbody>\n",
       "</table>\n",
       "<p>97740 rows × 2 columns</p>\n",
       "</div>"
      ],
      "text/plain": [
       "                     date  consolidated\n",
       "0     2019-01-02 14:31:00     160.85250\n",
       "1     2019-01-02 14:32:00     160.76400\n",
       "2     2019-01-02 14:33:00     161.08350\n",
       "3     2019-01-02 14:34:00     161.08750\n",
       "4     2019-01-02 14:35:00     161.04075\n",
       "...                   ...           ...\n",
       "97735 2019-12-31 20:56:00     229.75000\n",
       "97736 2019-12-31 20:57:00     229.67750\n",
       "97737 2019-12-31 20:58:00     229.54000\n",
       "97738 2019-12-31 20:59:00     229.51000\n",
       "97739 2019-12-31 21:00:00     229.69250\n",
       "\n",
       "[97740 rows x 2 columns]"
      ]
     },
     "execution_count": 23,
     "metadata": {},
     "output_type": "execute_result"
    }
   ],
   "source": [
    "S.reset_index()"
   ]
  },
  {
   "cell_type": "code",
   "execution_count": 13,
   "metadata": {},
   "outputs": [
    {
     "data": {
      "text/plain": [
       "date\n",
       "2019-01-02 14:31:00    160.85250\n",
       "2019-01-02 14:32:00    160.76400\n",
       "2019-01-02 14:33:00    161.08350\n",
       "2019-01-02 14:34:00    161.08750\n",
       "2019-01-02 14:35:00    161.04075\n",
       "Name: consolidated, dtype: float64"
      ]
     },
     "execution_count": 13,
     "metadata": {},
     "output_type": "execute_result"
    }
   ],
   "source": [
    "S.head()"
   ]
  },
  {
   "cell_type": "code",
   "execution_count": 10,
   "metadata": {},
   "outputs": [
    {
     "data": {
      "text/plain": [
       "Timestamp('2019-01-02 14:31:00')"
      ]
     },
     "execution_count": 10,
     "metadata": {},
     "output_type": "execute_result"
    }
   ],
   "source": [
    "S.index[0]"
   ]
  },
  {
   "cell_type": "code",
   "execution_count": 14,
   "metadata": {},
   "outputs": [
    {
     "data": {
      "text/plain": [
       "160.85250000000002"
      ]
     },
     "execution_count": 14,
     "metadata": {},
     "output_type": "execute_result"
    }
   ],
   "source": [
    "S[datetime(2019,1,2,14,31)]"
   ]
  },
  {
   "cell_type": "code",
   "execution_count": 17,
   "metadata": {},
   "outputs": [
    {
     "data": {
      "text/plain": [
       "True"
      ]
     },
     "execution_count": 17,
     "metadata": {},
     "output_type": "execute_result"
    }
   ],
   "source": [
    "datetime(2019,1,2,14,32) in S"
   ]
  },
  {
   "cell_type": "code",
   "execution_count": 27,
   "metadata": {},
   "outputs": [],
   "source": [
    "minutesPerDay = 390\n",
    "\n",
    "def simulateMultipleStrategies(S1, S2, precision = 80, recall=10, numExperiments=100, sizeExperiment=1*minutesPerDay):\n",
    "    \"\"\" Comment\n",
    "    \"\"\"\n",
    "\n",
    "    S = pd.concat([S1,S2], axis=1).dropna()\n",
    "    S.columns=['S1', 'S2']\n",
    "    lenS=len(S)\n",
    "    experimentStarts = random.choices(range(lenS-sizeExperiment), k=numExperiments)\n",
    "\n",
    "    endPriceS1=[]\n",
    "    endPriceS2= []\n",
    "    endPriceStragegy = []\n",
    "    movementsStrategy = []\n",
    "    \n",
    "    for es in experimentStarts:\n",
    "        T1=S[es:es+sizeExperiment]['S1']\n",
    "        T2=S[es:es+sizeExperiment]['S2']\n",
    "        end1, end2, endStrategy, numMovements = simulateStrategyWithNoisyPredictor(T1, T2, precision, recall)\n",
    "        endPriceS1.append(end1)\n",
    "        endPriceS2.append(end2)\n",
    "        endPriceStragegy.append(endStrategy)\n",
    "        movementsStrategy.append(numMovements)\n",
    "    return endPriceS1, endPriceS2, endPriceStragegy, movementsStrategy\n",
    "\n",
    "\n",
    "def simulateStrategyWithNoisyPredictor(S1, S2, precision, recall):\n",
    "    \"\"\" Comment\n",
    "    \"\"\"\n",
    "    lenS = len(S1)\n",
    "    I1 = (1+S1.pct_change()).fillna(1).values\n",
    "    I2 = (1+S2.pct_change()).fillna(1).values\n",
    "    SymbolMin = ['S1' if I1[i]<I2[i] else 'S2' for i in range(lenS)]\n",
    "    SymbolMax = ['S1' if I1[i]>I2[i] else 'S2' for i in range(lenS)]\n",
    "    \n",
    "    numPredictions = (lenS*recall)//100\n",
    "    numCorrectPredictions = (numPredictions*precision)//100\n",
    "    predictionIndexes = random.sample(range(lenS), numPredictions)\n",
    "    correctPredictionIndexes = predictionIndexes[:numCorrectPredictions]\n",
    "    wrongPredictionIndexes = predictionIndexes[numCorrectPredictions:]\n",
    "        \n",
    "    SymbolStrategy = [None]*lenS\n",
    "    for goodIndex in correctPredictionIndexes: SymbolStrategy[goodIndex]=SymbolMax[goodIndex] \n",
    "    for badIndex in wrongPredictionIndexes: SymbolStrategy[badIndex]=SymbolMin[badIndex]\n",
    "    SymbolStrategy[0] = random.choice(['S1','S2']) if  SymbolStrategy[0]==None else SymbolStrategy[0]\n",
    "    for i in range(1, lenS): SymbolStrategy[i]=SymbolStrategy[i-1] if SymbolStrategy[i]==None else SymbolStrategy[i]    \n",
    "    Strategy = [I1[i] if SymbolStrategy[i]=='S1' else I2[i] for i in range(lenS)]\n",
    "    \n",
    "    numMovements = 0\n",
    "    for i in range(1,lenS): numMovements+=(1 if SymbolStrategy[i]!=SymbolStrategy[i-1] else 0)    \n",
    "    return np.prod(I1), np.prod(I2), np.prod(Strategy), numMovements\n",
    "    "
   ]
  },
  {
   "cell_type": "code",
   "execution_count": 28,
   "metadata": {},
   "outputs": [
    {
     "data": {
      "text/plain": [
       "<matplotlib.axes._subplots.AxesSubplot at 0x116797a20>"
      ]
     },
     "execution_count": 28,
     "metadata": {},
     "output_type": "execute_result"
    },
    {
     "data": {
      "image/png": "[encoded data removed]",
      "text/plain": [
       "<Figure size 1080x360 with 1 Axes>"
      ]
     },
     "metadata": {
      "needs_background": "light"
     },
     "output_type": "display_data"
    }
   ],
   "source": [
    "df = pd.read_csv('data/quantopian/minuteIntraday/GS.csv').drop(columns=['volume']).set_index('date')\n",
    "S1 = df.mean(axis=1)\n",
    "df = pd.read_csv('data/quantopian/minuteIntraday/MSFT.csv').drop(columns=['volume']).set_index('date')\n",
    "S2 = df.mean(axis=1)\n",
    "pd.concat([S1,S2], axis=1).plot(figsize=(15,5))"
   ]
  },
  {
   "cell_type": "code",
   "execution_count": 29,
   "metadata": {},
   "outputs": [
    {
     "data": {
      "text/html": [
       "<div>\n",
       "<style scoped>\n",
       "    .dataframe tbody tr th:only-of-type {\n",
       "        vertical-align: middle;\n",
       "    }\n",
       "\n",
       "    .dataframe tbody tr th {\n",
       "        vertical-align: top;\n",
       "    }\n",
       "\n",
       "    .dataframe thead th {\n",
       "        text-align: right;\n",
       "    }\n",
       "</style>\n",
       "<table border=\"1\" class=\"dataframe\">\n",
       "  <thead>\n",
       "    <tr style=\"text-align: right;\">\n",
       "      <th></th>\n",
       "      <th>open_price</th>\n",
       "      <th>high</th>\n",
       "      <th>low</th>\n",
       "      <th>close_price</th>\n",
       "      <th>symbol</th>\n",
       "    </tr>\n",
       "    <tr>\n",
       "      <th>date</th>\n",
       "      <th></th>\n",
       "      <th></th>\n",
       "      <th></th>\n",
       "      <th></th>\n",
       "      <th></th>\n",
       "    </tr>\n",
       "  </thead>\n",
       "  <tbody>\n",
       "    <tr>\n",
       "      <th>2019-01-02 14:31</th>\n",
       "      <td>98.100</td>\n",
       "      <td>98.149</td>\n",
       "      <td>97.499</td>\n",
       "      <td>97.568</td>\n",
       "      <td>MSFT</td>\n",
       "    </tr>\n",
       "    <tr>\n",
       "      <th>2019-01-02 14:32</th>\n",
       "      <td>97.568</td>\n",
       "      <td>97.903</td>\n",
       "      <td>97.508</td>\n",
       "      <td>97.804</td>\n",
       "      <td>MSFT</td>\n",
       "    </tr>\n",
       "    <tr>\n",
       "      <th>2019-01-02 14:33</th>\n",
       "      <td>97.824</td>\n",
       "      <td>97.913</td>\n",
       "      <td>97.706</td>\n",
       "      <td>97.775</td>\n",
       "      <td>MSFT</td>\n",
       "    </tr>\n",
       "    <tr>\n",
       "      <th>2019-01-02 14:34</th>\n",
       "      <td>97.771</td>\n",
       "      <td>97.942</td>\n",
       "      <td>97.706</td>\n",
       "      <td>97.908</td>\n",
       "      <td>MSFT</td>\n",
       "    </tr>\n",
       "    <tr>\n",
       "      <th>2019-01-02 14:35</th>\n",
       "      <td>97.897</td>\n",
       "      <td>98.208</td>\n",
       "      <td>97.893</td>\n",
       "      <td>97.962</td>\n",
       "      <td>MSFT</td>\n",
       "    </tr>\n",
       "    <tr>\n",
       "      <th>...</th>\n",
       "      <td>...</td>\n",
       "      <td>...</td>\n",
       "      <td>...</td>\n",
       "      <td>...</td>\n",
       "      <td>...</td>\n",
       "    </tr>\n",
       "    <tr>\n",
       "      <th>2019-12-31 20:56</th>\n",
       "      <td>157.610</td>\n",
       "      <td>157.770</td>\n",
       "      <td>157.610</td>\n",
       "      <td>157.705</td>\n",
       "      <td>MSFT</td>\n",
       "    </tr>\n",
       "    <tr>\n",
       "      <th>2019-12-31 20:57</th>\n",
       "      <td>157.705</td>\n",
       "      <td>157.740</td>\n",
       "      <td>157.600</td>\n",
       "      <td>157.610</td>\n",
       "      <td>MSFT</td>\n",
       "    </tr>\n",
       "    <tr>\n",
       "      <th>2019-12-31 20:58</th>\n",
       "      <td>157.610</td>\n",
       "      <td>157.660</td>\n",
       "      <td>157.570</td>\n",
       "      <td>157.610</td>\n",
       "      <td>MSFT</td>\n",
       "    </tr>\n",
       "    <tr>\n",
       "      <th>2019-12-31 20:59</th>\n",
       "      <td>157.605</td>\n",
       "      <td>157.660</td>\n",
       "      <td>157.560</td>\n",
       "      <td>157.660</td>\n",
       "      <td>MSFT</td>\n",
       "    </tr>\n",
       "    <tr>\n",
       "      <th>2019-12-31 21:00</th>\n",
       "      <td>157.655</td>\n",
       "      <td>157.740</td>\n",
       "      <td>157.460</td>\n",
       "      <td>157.501</td>\n",
       "      <td>MSFT</td>\n",
       "    </tr>\n",
       "  </tbody>\n",
       "</table>\n",
       "<p>97740 rows × 5 columns</p>\n",
       "</div>"
      ],
      "text/plain": [
       "                  open_price     high      low  close_price symbol\n",
       "date                                                              \n",
       "2019-01-02 14:31      98.100   98.149   97.499       97.568   MSFT\n",
       "2019-01-02 14:32      97.568   97.903   97.508       97.804   MSFT\n",
       "2019-01-02 14:33      97.824   97.913   97.706       97.775   MSFT\n",
       "2019-01-02 14:34      97.771   97.942   97.706       97.908   MSFT\n",
       "2019-01-02 14:35      97.897   98.208   97.893       97.962   MSFT\n",
       "...                      ...      ...      ...          ...    ...\n",
       "2019-12-31 20:56     157.610  157.770  157.610      157.705   MSFT\n",
       "2019-12-31 20:57     157.705  157.740  157.600      157.610   MSFT\n",
       "2019-12-31 20:58     157.610  157.660  157.570      157.610   MSFT\n",
       "2019-12-31 20:59     157.605  157.660  157.560      157.660   MSFT\n",
       "2019-12-31 21:00     157.655  157.740  157.460      157.501   MSFT\n",
       "\n",
       "[97740 rows x 5 columns]"
      ]
     },
     "execution_count": 29,
     "metadata": {},
     "output_type": "execute_result"
    }
   ],
   "source": [
    "df"
   ]
  },
  {
   "cell_type": "code",
   "execution_count": 30,
   "metadata": {},
   "outputs": [],
   "source": [
    "endStock1, endStock2, endStrategy, movementsStrategy = simulateMultipleStrategies(S1, S2, precision = 70, recall=10, numExperiments=200, sizeExperiment=20*390)"
   ]
  },
  {
   "cell_type": "code",
   "execution_count": 31,
   "metadata": {},
   "outputs": [
    {
     "data": {
      "text/plain": [
       "<matplotlib.axes._subplots.AxesSubplot at 0x11817f0b8>"
      ]
     },
     "execution_count": 31,
     "metadata": {},
     "output_type": "execute_result"
    },
    {
     "data": {
      "image/png": "[encoded data removed]",
      "text/plain": [
       "<Figure size 432x288 with 1 Axes>"
      ]
     },
     "metadata": {
      "needs_background": "light"
     },
     "output_type": "display_data"
    }
   ],
   "source": [
    "pd.Series(movementsStrategy).plot.hist()"
   ]
  },
  {
   "cell_type": "code",
   "execution_count": 32,
   "metadata": {},
   "outputs": [],
   "source": [
    "dr=pd.DataFrame({'endStock1':endStock1, 'endStock2':endStock2, 'endStrategy':endStrategy})"
   ]
  },
  {
   "cell_type": "code",
   "execution_count": 33,
   "metadata": {},
   "outputs": [
    {
     "data": {
      "text/plain": [
       "<matplotlib.axes._subplots.AxesSubplot at 0x11678d518>"
      ]
     },
     "execution_count": 33,
     "metadata": {},
     "output_type": "execute_result"
    },
    {
     "data": {
      "image/png": "[encoded data removed]",
      "text/plain": [
       "<Figure size 432x288 with 1 Axes>"
      ]
     },
     "metadata": {
      "needs_background": "light"
     },
     "output_type": "display_data"
    }
   ],
   "source": [
    "dr.plot.hist(bins=10, alpha=0.5)"
   ]
  },
  {
   "cell_type": "code",
   "execution_count": 34,
   "metadata": {},
   "outputs": [],
   "source": [
    "dr['bestStock']=dr[['endStock1', 'endStock2']].max(axis=1)"
   ]
  },
  {
   "cell_type": "code",
   "execution_count": 35,
   "metadata": {},
   "outputs": [],
   "source": [
    "dr['difference']=dr.endStrategy-dr.bestStock"
   ]
  },
  {
   "cell_type": "code",
   "execution_count": 36,
   "metadata": {},
   "outputs": [
    {
     "data": {
      "text/plain": [
       "<matplotlib.axes._subplots.AxesSubplot at 0x1183a7898>"
      ]
     },
     "execution_count": 36,
     "metadata": {},
     "output_type": "execute_result"
    },
    {
     "data": {
      "image/png": "[encoded data removed]",
      "text/plain": [
       "<Figure size 432x288 with 1 Axes>"
      ]
     },
     "metadata": {
      "needs_background": "light"
     },
     "output_type": "display_data"
    }
   ],
   "source": [
    "dr.difference.plot.hist(bins=10, alpha=0.5)"
   ]
  },
  {
   "cell_type": "code",
   "execution_count": 42,
   "metadata": {},
   "outputs": [
    {
     "data": {
      "text/plain": [
       "count    200.000000\n",
       "mean       0.053382\n",
       "std        0.039084\n",
       "min       -0.073730\n",
       "25%        0.027145\n",
       "50%        0.051429\n",
       "75%        0.078090\n",
       "max        0.212266\n",
       "Name: difference, dtype: float64"
      ]
     },
     "execution_count": 42,
     "metadata": {},
     "output_type": "execute_result"
    }
   ],
   "source": [
    "dr.difference.describe()"
   ]
  },
  {
   "cell_type": "code",
   "execution_count": 52,
   "metadata": {},
   "outputs": [
    {
     "data": {
      "text/plain": [
       "date\n",
       "2019-01-02 14:31     97.499\n",
       "2019-01-02 14:32     97.508\n",
       "2019-01-02 14:33     97.706\n",
       "2019-01-02 14:34     97.706\n",
       "2019-01-02 14:35     97.893\n",
       "                     ...   \n",
       "2019-12-31 20:56    157.610\n",
       "2019-12-31 20:57    157.600\n",
       "2019-12-31 20:58    157.570\n",
       "2019-12-31 20:59    157.560\n",
       "2019-12-31 21:00    157.460\n",
       "Name: low, Length: 97740, dtype: float64"
      ]
     },
     "execution_count": 52,
     "metadata": {},
     "output_type": "execute_result"
    }
   ],
   "source": [
    "\n"
   ]
  },
  {
   "cell_type": "code",
   "execution_count": 51,
   "metadata": {},
   "outputs": [
    {
     "data": {
      "text/plain": [
       "datetime.datetime(2019, 1, 1, 14, 32)"
      ]
     },
     "execution_count": 51,
     "metadata": {},
     "output_type": "execute_result"
    }
   ],
   "source": [
    "datetime(2019,1,1,14,32).to"
   ]
  },
  {
   "cell_type": "code",
   "execution_count": 54,
   "metadata": {},
   "outputs": [
    {
     "data": {
      "text/plain": [
       "'2019-01-02 14:31'"
      ]
     },
     "execution_count": 54,
     "metadata": {},
     "output_type": "execute_result"
    }
   ],
   "source": [
    "S.index[0]"
   ]
  },
  {
   "cell_type": "code",
   "execution_count": null,
   "metadata": {},
   "outputs": [],
   "source": []
  }
 ],
 "metadata": {
  "kernelspec": {
   "display_name": "Python 3",
   "language": "python",
   "name": "python3"
  },
  "language_info": {
   "codemirror_mode": {
    "name": "ipython",
    "version": 3
   },
   "file_extension": ".py",
   "mimetype": "text/x-python",
   "name": "python",
   "nbconvert_exporter": "python",
   "pygments_lexer": "ipython3",
   "version": "3.6.6"
  }
 },
 "nbformat": 4,
 "nbformat_minor": 2
}
