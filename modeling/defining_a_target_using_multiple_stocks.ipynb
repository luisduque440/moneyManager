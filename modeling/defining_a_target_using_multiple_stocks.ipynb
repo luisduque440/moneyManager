{
 "cells": [
  {
   "cell_type": "markdown",
   "metadata": {},
   "source": [
    "# Defining a target with multiple stocks\n",
    "## Goal\n",
    "* Quantify how good our models have to be if we have one model for each stock in Dow Jones\n",
    "* In this set up, each model is trying to predict if the asset is going to be higher in exactly 20 mins when compared to the next minute.\n",
    "\n",
    "## Main takeouts\n",
    "\n"
   ]
  },
  {
   "cell_type": "code",
   "execution_count": 193,
   "metadata": {},
   "outputs": [
    {
     "name": "stdout",
     "output_type": "stream",
     "text": [
      "/Users/lduque/Desktop/myProjects/moneyManager\n"
     ]
    }
   ],
   "source": [
    "cd ~/Desktop/MyProjects/moneyManager/"
   ]
  },
  {
   "cell_type": "code",
   "execution_count": 194,
   "metadata": {},
   "outputs": [],
   "source": [
    "import pandas as pd\n",
    "import random\n",
    "import numpy as np\n",
    "from datetime import datetime\n",
    "from modeling.loadTimeSeries import loadTimeSeries\n",
    "from modeling.loadTimeSeries import getListOfAvailableStocks\n",
    "from modeling.loadTimeSeries import loadPriceTimeSeries\n",
    "from modeling.marketSimulator import marketSimulator"
   ]
  },
  {
   "cell_type": "code",
   "execution_count": 195,
   "metadata": {},
   "outputs": [],
   "source": [
    "def simulateStrategyMultipleTimes(precision, recall, availableStocks, numSimulations):\n",
    "    outcome = []\n",
    "    numMovements = []\n",
    "    for i in range(numSimulations):\n",
    "        strategy =strategySimulatorWithMultipleStocks(precision, recall, availableStocks)\n",
    "        outcome.append(marketSimulator(strategy).values[-1])\n",
    "        numMovements.append(countPositionChanges(strategy))\n",
    "    return outcome, numMovements\n",
    "    \n",
    "\n",
    "\n",
    "def strategySimulatorWithMultipleStocks(precision, recall, availableStocks, startTime=datetime(2019,1,1), endTime=datetime(2020,1,1)):\n",
    "    \"\"\"\n",
    "        This is cool enough to document\n",
    "    \"\"\"\n",
    "    availableMarketMinutes = loadTimeSeries('GS').index\n",
    "    strategyTimes = [t for t in availableMarketMinutes if t>=startTime and t<endTime]\n",
    "    possibleMoves=[[] for _ in range(len(strategyTimes))]\n",
    "    \n",
    "    priceTimeSeries = loadPriceTimeSeries(startTime, endTime, availableStocks)\n",
    "    bestPossiblePredictions = {stock: priceTimeSeries[stock].shift(-20)>priceTimeSeries[stock].shift(-1) for stock in priceTimeSeries}\n",
    "    \n",
    "    \n",
    "    for stock in availableStocks:\n",
    "        allPositives = bestPossiblePredictions[stock].value_counts()[True]\n",
    "        predictedPositives = int(allPositives*recall/precision)\n",
    "        truePositives = int(precision*predictedPositives)\n",
    "        P = bestPossiblePredictions[stock].values\n",
    "        TP = random.choices([i for i in range(len(P)) if P[i]==True], k=truePositives)\n",
    "        FP = random.choices([i for i in range(len(P)) if P[i]==False], k=predictedPositives-truePositives)\n",
    "        PP = TP+FP\n",
    "        for p in PP:possibleMoves[p].append(stock)\n",
    "\n",
    "    strategy = [None for _ in range(len(strategyTimes))]\n",
    "    strategy[0] = random.choice(availableStocks)\n",
    "    for i in range(1, len(strategy)):\n",
    "        if len(possibleMoves[i])==0:\n",
    "            strategy[i]=strategy[i-1]\n",
    "        else:\n",
    "            strategy[i] = random.choice(possibleMoves[i])\n",
    "\n",
    "    strategy=pd.Series(strategy, index=strategyTimes)\n",
    "    return strategy\n",
    "\n",
    "\n",
    "def countPositionChanges(strategy):\n",
    "    counter=0\n",
    "    for i in range(1,len(strategy)):\n",
    "        counter+=1 if strategy[i]!=strategy[i-1] else 0\n",
    "    return counter\n"
   ]
  },
  {
   "cell_type": "code",
   "execution_count": null,
   "metadata": {},
   "outputs": [],
   "source": [
    "strat, movs =simulateStrategyMultipleTimes(precision=0.6, recall=0.02, availableStocks=['GS', 'MSFT', 'IBM'], numSimulations=100)"
   ]
  },
  {
   "cell_type": "code",
   "execution_count": null,
   "metadata": {},
   "outputs": [],
   "source": [
    "pd.Series(strat).plot.hist()"
   ]
  },
  {
   "cell_type": "code",
   "execution_count": null,
   "metadata": {},
   "outputs": [],
   "source": []
  }
 ],
 "metadata": {
  "kernelspec": {
   "display_name": "Python 3",
   "language": "python",
   "name": "python3"
  },
  "language_info": {
   "codemirror_mode": {
    "name": "ipython",
    "version": 3
   },
   "file_extension": ".py",
   "mimetype": "text/x-python",
   "name": "python",
   "nbconvert_exporter": "python",
   "pygments_lexer": "ipython3",
   "version": "3.6.6"
  }
 },
 "nbformat": 4,
 "nbformat_minor": 2
}
