{
 "cells": [
  {
   "cell_type": "markdown",
   "metadata": {},
   "source": [
    "# Notes\n",
    "* Need a wrapper of pipeline type objects that makes its evaluation easier.\n",
    "* Maybe each pipeline can generate its own model? lets call it a stockPipeline\n",
    "* The pipelines/stock model must be designed to 'easily' support expansions, specially we have to be able to easily feed it with exogenous data."
   ]
  },
  {
   "cell_type": "code",
   "execution_count": 1,
   "metadata": {},
   "outputs": [
    {
     "name": "stdout",
     "output_type": "stream",
     "text": [
      "/Users/lduque/Desktop/myProjects/moneyManager\n"
     ]
    }
   ],
   "source": [
    "cd ~/Desktop/MyProjects/moneyManager/"
   ]
  },
  {
   "cell_type": "code",
   "execution_count": 2,
   "metadata": {},
   "outputs": [],
   "source": [
    "import os, time\n",
    "os.environ[\"TZ\"] = \"America/New_York\""
   ]
  },
  {
   "cell_type": "code",
   "execution_count": 3,
   "metadata": {},
   "outputs": [],
   "source": [
    "import pandas as pd\n",
    "from datetime import datetime, timedelta"
   ]
  },
  {
   "cell_type": "code",
   "execution_count": 4,
   "metadata": {},
   "outputs": [],
   "source": [
    "class stockModel():\n",
    "    \"\"\"Wrapper of a single stock-pipeline with its respective thresholds, train datasets and evaluators\n",
    "    \"\"\"\n",
    "    def __init__(self, stockSymbol, startDay, endDay):\n",
    "        self.stockSymbol = stockSymbol\n",
    "        self.startDay = startDay\n",
    "        self.endDay = endDay\n",
    "        self.validModel = None\n",
    "        self.pipelineInfo = {}\n",
    "        self.percentageOfDataSetAvailable = None\n",
    "    \n",
    "    def fullyTrain(self):\n",
    "        self.gatherData()\n",
    "        return self\n",
    "\n",
    "    def gatherData(self):\n",
    "        df = pd.DataFrame()\n",
    "        return df\n",
    "\n",
    "    \n",
    "def getStockModelDictionary(stockSymbols, startDay=None, endDay=None):\n",
    "    \"\"\" Trains all the stockModels\n",
    "    \"\"\"\n",
    "    modelDictionary = {}\n",
    "    for symbol in stockSymbols:\n",
    "        modelDictionary[symbol] = stockModel(symbol, startDay, endDay).fullyTrain()\n",
    "    return modelDictionary"
   ]
  },
  {
   "cell_type": "code",
   "execution_count": 5,
   "metadata": {},
   "outputs": [],
   "source": [
    "def getCurrentMinute(timezone=None):\n",
    "    cMinute = datetime.now()\n",
    "    cMinute.replace(second=0, microsecond=0)\n",
    "    return cMinute\n",
    "\n",
    "def getLastAvailableMinute(timezone=None):\n",
    "    print(\"method getLastAvailableMinute() is not available yet\")\n",
    "    return datetime(1970,1,1)\n",
    "\n",
    "def getTodayCloseTime(timezone=None):\n",
    "    return datetime.now().replace(hour=16, minute =0, second=0, microsecond=0)\n",
    "\n",
    "def getTodayOpenTime(timezone=None):\n",
    "    return datetime.now().replace(hour=9, minute =0, second=0, microsecond=0)\n",
    "\n",
    "def marketIsOpen():\n",
    "    cTime = datetime.now()\n",
    "    openTime = getTodayOpenTime()\n",
    "    closeTime = getTodayCloseTime()\n",
    "    return (cTime>=openTime and cTime<closeTime())\n",
    "\n",
    "def marketClosedToday():\n",
    "    cTime = datetime.now()\n",
    "    closeTime = getTodayCloseTime()\n",
    "    return cTime>=closeTime\n",
    "    "
   ]
  },
  {
   "cell_type": "code",
   "execution_count": 6,
   "metadata": {},
   "outputs": [],
   "source": [
    "def getOrderSuggestions(stockModelDictionary, minute):\n",
    "    \"\"\" returns a dictionary with the orders that our stockModels suggest\n",
    "    \"\"\"\n",
    "    df = pd.DataFrame()\n",
    "    return df\n",
    "\n",
    "\n",
    "def getExecutableOrders():\n",
    "    \"\"\" From the infor\n",
    "    \"\"\"\n",
    "    orders = {}\n",
    "    return orders\n",
    "    \n",
    "    \n",
    "def executeOrders(orders):\n",
    "    \"\"\" Execute a dictionary with orders\n",
    "    \"\"\"\n",
    "    \n",
    "    return \n",
    "\n",
    "def produceDailyReport():\n",
    "    \"\"\" produces a detailed report of what happened during the day\n",
    "    \"\"\"\n",
    "    pass\n",
    "    return \"Daily Report\""
   ]
  },
  {
   "cell_type": "code",
   "execution_count": 7,
   "metadata": {},
   "outputs": [],
   "source": [
    "#executes a couple of hours before markets open\n",
    "stockList = ['GOOGL', 'IBM']"
   ]
  },
  {
   "cell_type": "code",
   "execution_count": 9,
   "metadata": {},
   "outputs": [],
   "source": [
    "def dailyTradingRoutine():\n",
    "    stockModelDictionary = getStockModelDictionary(stockList) \n",
    "    lastTradedMinute = datetime.now().replace(hour=0, minute =0, second=0, microsecond=0)\n",
    "\n",
    "    while(not marketClosedToday()):\n",
    "        lastAvailableMinute = getLastAvailableMinute()\n",
    "        if lastAvailableMinute>lastTradedMinute:\n",
    "            orderSuggestions = getOrderSuggestions(stockModelDictionary, lastAvailableMinute)\n",
    "            orders = getExecutableOrders(orderSuggestions)\n",
    "            executeOrders(orders)\n",
    "            lastTradedMinute = lastAvailableMinute\n",
    "        break\n",
    "\n",
    "    produceDailyReport()\n",
    "    print(\"--- end of daily trading routine ---\")"
   ]
  },
  {
   "cell_type": "code",
   "execution_count": null,
   "metadata": {},
   "outputs": [],
   "source": []
  },
  {
   "cell_type": "code",
   "execution_count": null,
   "metadata": {},
   "outputs": [],
   "source": []
  }
 ],
 "metadata": {
  "kernelspec": {
   "display_name": "Python 3",
   "language": "python",
   "name": "python3"
  },
  "language_info": {
   "codemirror_mode": {
    "name": "ipython",
    "version": 3
   },
   "file_extension": ".py",
   "mimetype": "text/x-python",
   "name": "python",
   "nbconvert_exporter": "python",
   "pygments_lexer": "ipython3",
   "version": "3.6.6"
  }
 },
 "nbformat": 4,
 "nbformat_minor": 2
}
