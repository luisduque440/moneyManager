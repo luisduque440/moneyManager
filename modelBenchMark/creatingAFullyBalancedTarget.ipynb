{
 "cells": [
  {
   "cell_type": "markdown",
   "metadata": {},
   "source": [
    "# The following was achieved:\n",
    "* I found a away of defining the target that is going to be way more balanced than the one we have now.\n",
    "* In an ideal I would mantain two heaps to do this, instead of computing like crazy things with a median."
   ]
  },
  {
   "cell_type": "code",
   "execution_count": 86,
   "metadata": {},
   "outputs": [
    {
     "name": "stdout",
     "output_type": "stream",
     "text": [
      "/Users/lduque/Desktop/myProjects/moneyManager\n"
     ]
    }
   ],
   "source": [
    "cd ~/Desktop/MyProjects/moneyManager/"
   ]
  },
  {
   "cell_type": "code",
   "execution_count": 87,
   "metadata": {},
   "outputs": [],
   "source": [
    "import matplotlib.pyplot as plt\n",
    "import pandas as pd\n",
    "import numpy as np\n",
    "from marketUtilities.loadTimeSeries import loadTimeSeries"
   ]
  },
  {
   "cell_type": "code",
   "execution_count": 88,
   "metadata": {},
   "outputs": [
    {
     "data": {
      "text/html": [
       "<div>\n",
       "<style scoped>\n",
       "    .dataframe tbody tr th:only-of-type {\n",
       "        vertical-align: middle;\n",
       "    }\n",
       "\n",
       "    .dataframe tbody tr th {\n",
       "        vertical-align: top;\n",
       "    }\n",
       "\n",
       "    .dataframe thead th {\n",
       "        text-align: right;\n",
       "    }\n",
       "</style>\n",
       "<table border=\"1\" class=\"dataframe\">\n",
       "  <thead>\n",
       "    <tr style=\"text-align: right;\">\n",
       "      <th></th>\n",
       "      <th>consolidated</th>\n",
       "    </tr>\n",
       "    <tr>\n",
       "      <th>date</th>\n",
       "      <th></th>\n",
       "    </tr>\n",
       "  </thead>\n",
       "  <tbody>\n",
       "    <tr>\n",
       "      <th>2019-01-18 19:51:00</th>\n",
       "      <td>105.68800</td>\n",
       "    </tr>\n",
       "    <tr>\n",
       "      <th>2019-01-18 19:52:00</th>\n",
       "      <td>105.67525</td>\n",
       "    </tr>\n",
       "    <tr>\n",
       "      <th>2019-01-18 19:53:00</th>\n",
       "      <td>105.70975</td>\n",
       "    </tr>\n",
       "    <tr>\n",
       "      <th>2019-01-18 19:54:00</th>\n",
       "      <td>105.73550</td>\n",
       "    </tr>\n",
       "    <tr>\n",
       "      <th>2019-01-18 19:55:00</th>\n",
       "      <td>105.76775</td>\n",
       "    </tr>\n",
       "  </tbody>\n",
       "</table>\n",
       "</div>"
      ],
      "text/plain": [
       "                     consolidated\n",
       "date                             \n",
       "2019-01-18 19:51:00     105.68800\n",
       "2019-01-18 19:52:00     105.67525\n",
       "2019-01-18 19:53:00     105.70975\n",
       "2019-01-18 19:54:00     105.73550\n",
       "2019-01-18 19:55:00     105.76775"
      ]
     },
     "execution_count": 88,
     "metadata": {},
     "output_type": "execute_result"
    }
   ],
   "source": [
    "ds = loadTimeSeries('MSFT')[['consolidated']][5000:6000]\n",
    "ds.head()"
   ]
  },
  {
   "cell_type": "code",
   "execution_count": 89,
   "metadata": {},
   "outputs": [],
   "source": [
    "ds['difference'] = (ds.consolidated.shift(-20)-ds.consolidated.shift(-1)) # this is our current target.\n",
    "ds['target']=ds.difference>0"
   ]
  },
  {
   "cell_type": "code",
   "execution_count": 90,
   "metadata": {},
   "outputs": [],
   "source": [
    "memory = []\n",
    "values = ds.difference.values\n",
    "target = []\n",
    "memSize = 120\n",
    "\n",
    "for v in values:\n",
    "    if len(memory)<memSize:\n",
    "        target.append(v>0)\n",
    "        memory.append(v)\n",
    "    else:\n",
    "        target.append(v>np.median(memory))\n",
    "        memory.pop(0)\n",
    "        memory.append(v)"
   ]
  },
  {
   "cell_type": "code",
   "execution_count": 91,
   "metadata": {},
   "outputs": [
    {
     "data": {
      "text/html": [
       "<div>\n",
       "<style scoped>\n",
       "    .dataframe tbody tr th:only-of-type {\n",
       "        vertical-align: middle;\n",
       "    }\n",
       "\n",
       "    .dataframe tbody tr th {\n",
       "        vertical-align: top;\n",
       "    }\n",
       "\n",
       "    .dataframe thead th {\n",
       "        text-align: right;\n",
       "    }\n",
       "</style>\n",
       "<table border=\"1\" class=\"dataframe\">\n",
       "  <thead>\n",
       "    <tr style=\"text-align: right;\">\n",
       "      <th></th>\n",
       "      <th>consolidated</th>\n",
       "      <th>difference</th>\n",
       "      <th>target</th>\n",
       "      <th>new_target</th>\n",
       "    </tr>\n",
       "    <tr>\n",
       "      <th>date</th>\n",
       "      <th></th>\n",
       "      <th></th>\n",
       "      <th></th>\n",
       "      <th></th>\n",
       "    </tr>\n",
       "  </thead>\n",
       "  <tbody>\n",
       "    <tr>\n",
       "      <th>2019-01-18 19:51:00</th>\n",
       "      <td>105.68800</td>\n",
       "      <td>0.19175</td>\n",
       "      <td>True</td>\n",
       "      <td>True</td>\n",
       "    </tr>\n",
       "    <tr>\n",
       "      <th>2019-01-18 19:52:00</th>\n",
       "      <td>105.67525</td>\n",
       "      <td>0.20425</td>\n",
       "      <td>True</td>\n",
       "      <td>True</td>\n",
       "    </tr>\n",
       "    <tr>\n",
       "      <th>2019-01-18 19:53:00</th>\n",
       "      <td>105.70975</td>\n",
       "      <td>0.22575</td>\n",
       "      <td>True</td>\n",
       "      <td>True</td>\n",
       "    </tr>\n",
       "    <tr>\n",
       "      <th>2019-01-18 19:54:00</th>\n",
       "      <td>105.73550</td>\n",
       "      <td>0.19825</td>\n",
       "      <td>True</td>\n",
       "      <td>True</td>\n",
       "    </tr>\n",
       "    <tr>\n",
       "      <th>2019-01-18 19:55:00</th>\n",
       "      <td>105.76775</td>\n",
       "      <td>0.21425</td>\n",
       "      <td>True</td>\n",
       "      <td>True</td>\n",
       "    </tr>\n",
       "    <tr>\n",
       "      <th>...</th>\n",
       "      <td>...</td>\n",
       "      <td>...</td>\n",
       "      <td>...</td>\n",
       "      <td>...</td>\n",
       "    </tr>\n",
       "    <tr>\n",
       "      <th>2019-01-24 16:56:00</th>\n",
       "      <td>104.60975</td>\n",
       "      <td>NaN</td>\n",
       "      <td>False</td>\n",
       "      <td>False</td>\n",
       "    </tr>\n",
       "    <tr>\n",
       "      <th>2019-01-24 16:57:00</th>\n",
       "      <td>104.61100</td>\n",
       "      <td>NaN</td>\n",
       "      <td>False</td>\n",
       "      <td>False</td>\n",
       "    </tr>\n",
       "    <tr>\n",
       "      <th>2019-01-24 16:58:00</th>\n",
       "      <td>104.62475</td>\n",
       "      <td>NaN</td>\n",
       "      <td>False</td>\n",
       "      <td>False</td>\n",
       "    </tr>\n",
       "    <tr>\n",
       "      <th>2019-01-24 16:59:00</th>\n",
       "      <td>104.70225</td>\n",
       "      <td>NaN</td>\n",
       "      <td>False</td>\n",
       "      <td>False</td>\n",
       "    </tr>\n",
       "    <tr>\n",
       "      <th>2019-01-24 17:00:00</th>\n",
       "      <td>104.71875</td>\n",
       "      <td>NaN</td>\n",
       "      <td>False</td>\n",
       "      <td>False</td>\n",
       "    </tr>\n",
       "  </tbody>\n",
       "</table>\n",
       "<p>1000 rows × 4 columns</p>\n",
       "</div>"
      ],
      "text/plain": [
       "                     consolidated  difference  target  new_target\n",
       "date                                                             \n",
       "2019-01-18 19:51:00     105.68800     0.19175    True        True\n",
       "2019-01-18 19:52:00     105.67525     0.20425    True        True\n",
       "2019-01-18 19:53:00     105.70975     0.22575    True        True\n",
       "2019-01-18 19:54:00     105.73550     0.19825    True        True\n",
       "2019-01-18 19:55:00     105.76775     0.21425    True        True\n",
       "...                           ...         ...     ...         ...\n",
       "2019-01-24 16:56:00     104.60975         NaN   False       False\n",
       "2019-01-24 16:57:00     104.61100         NaN   False       False\n",
       "2019-01-24 16:58:00     104.62475         NaN   False       False\n",
       "2019-01-24 16:59:00     104.70225         NaN   False       False\n",
       "2019-01-24 17:00:00     104.71875         NaN   False       False\n",
       "\n",
       "[1000 rows x 4 columns]"
      ]
     },
     "execution_count": 91,
     "metadata": {},
     "output_type": "execute_result"
    }
   ],
   "source": [
    "ds['new_target']=target\n",
    "ds"
   ]
  },
  {
   "cell_type": "code",
   "execution_count": 92,
   "metadata": {},
   "outputs": [
    {
     "data": {
      "text/plain": [
       "<matplotlib.axes._subplots.AxesSubplot at 0x11bfb8780>"
      ]
     },
     "execution_count": 92,
     "metadata": {},
     "output_type": "execute_result"
    },
    {
     "data": {
      "image/png": "[encoded data removed]",
      "text/plain": [
       "<Figure size 432x288 with 1 Axes>"
      ]
     },
     "metadata": {
      "needs_background": "light"
     },
     "output_type": "display_data"
    }
   ],
   "source": [
    "(ds.new_target.value_counts()/len(ds)).plot.bar()"
   ]
  },
  {
   "cell_type": "code",
   "execution_count": 93,
   "metadata": {},
   "outputs": [
    {
     "data": {
      "text/plain": [
       "<matplotlib.axes._subplots.AxesSubplot at 0x11d425f60>"
      ]
     },
     "execution_count": 93,
     "metadata": {},
     "output_type": "execute_result"
    },
    {
     "data": {
      "image/png": "[encoded data removed]",
      "text/plain": [
       "<Figure size 432x288 with 1 Axes>"
      ]
     },
     "metadata": {
      "needs_background": "light"
     },
     "output_type": "display_data"
    }
   ],
   "source": [
    "(ds.target.value_counts()/len(ds)).plot.bar()"
   ]
  }
 ],
 "metadata": {
  "kernelspec": {
   "display_name": "Python 3",
   "language": "python",
   "name": "python3"
  },
  "language_info": {
   "codemirror_mode": {
    "name": "ipython",
    "version": 3
   },
   "file_extension": ".py",
   "mimetype": "text/x-python",
   "name": "python",
   "nbconvert_exporter": "python",
   "pygments_lexer": "ipython3",
   "version": "3.6.6"
  }
 },
 "nbformat": 4,
 "nbformat_minor": 2
}
