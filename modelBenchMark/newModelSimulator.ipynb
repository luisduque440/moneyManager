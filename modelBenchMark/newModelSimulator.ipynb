{
 "cells": [
  {
   "cell_type": "code",
   "execution_count": null,
   "metadata": {},
   "outputs": [],
   "source": [
    "cd ~/Desktop/MyProjects/moneyManager/"
   ]
  },
  {
   "cell_type": "code",
   "execution_count": null,
   "metadata": {},
   "outputs": [],
   "source": [
    "import pandas as pd\n",
    "import random\n",
    "import numpy as np\n",
    "from datetime import datetime\n",
    "from marketUtilities.loadTimeSeries import loadTimeSeries\n",
    "from marketUtilities.loadTimeSeries import getListOfAvailableStocks\n",
    "from marketUtilities.loadTimeSeries import loadPriceTimeSeries\n",
    "from marketUtilities.marketSimulator import marketSimulator"
   ]
  },
  {
   "cell_type": "code",
   "execution_count": 32,
   "metadata": {},
   "outputs": [],
   "source": [
    "def createBalancedTarget(s, memSize=60):\n",
    "    \"\"\" Sweet and elegant.\n",
    "    \"\"\"\n",
    "    d=(s.shift(-20)-s.shift(-1))\n",
    "    rollingMean = d.rolling(memSize).mean()\n",
    "    return (d>rollingMean)\n",
    "\n",
    "def createTarget(s, memSize=60):\n",
    "    \"\"\" Sweet and elegant.\n",
    "    \"\"\"\n",
    "    d=(s.shift(-20)-s.shift(-1))\n",
    "    return (d>0)\n",
    "\n",
    "\n",
    "def getPossibleGoodMoves(startDay, endDay, availableStocks):\n",
    "    priceTimeSeries = loadPriceTimeSeries(startDay, endDay, availableStocks)\n",
    "    bestPossiblePredictions = {stock: createTarget(priceTimeSeries[stock]) for stock in priceTimeSeries} \n",
    "    stockName=availableStocks[0]\n",
    "    marketMinutes = priceTimeSeries[stockName].index\n",
    "    possibleGoodMoves=[[] for _ in range(len(marketMinutes))]\n",
    "    for s in availableStocks:\n",
    "        for i in range(len(possibleGoodMoves)):\n",
    "            if bestPossiblePredictions[s][i]:\n",
    "                 possibleGoodMoves[i].append(s)\n",
    "    return pd.Series(possibleGoodMoves, index=marketMinutes)# series minute by minute, and good choices.\n",
    "\n",
    "\n",
    "def getPossibleBadMoves(possibleGoodMoves, availableStocks):\n",
    "    possibleBadMoves = [[] for _ in range(len(possibleGoodMoves))]\n",
    "    for s in availableStocks:\n",
    "        for i in range(len(possibleGoodMoves)):\n",
    "            if s not in possibleGoodMoves.values[i]:\n",
    "                possibleBadMoves[i].append(s)\n",
    "    return pd.Series(possibleBadMoves, index=possibleGoodMoves.index)\n",
    "    \n",
    "\n",
    "def simulateStrategy(possibleGoodMoves, possibleBadMoves, modelPrecision, modelRecall):\n",
    "    numGoodMoves = 100\n",
    "    numBadMoves = 30\n",
    "    \n",
    "    \n",
    "    \n",
    "    return # an actual strategy\n"
   ]
  },
  {
   "cell_type": "code",
   "execution_count": 39,
   "metadata": {},
   "outputs": [],
   "source": [
    "startDay=datetime(2019,1,1)\n",
    "endDay=datetime(2020,1,1)\n",
    "modelPrecision=0.6\n",
    "modelRecall=0.01\n",
    "availableStocks=['GS', 'MSFT', 'IBM']\n",
    "possibleGoodMoves=getPossibleGoodMoves(startDay, endDay, availableStocks)\n",
    "possibleBadMoves=getPossibleBadMoves(possibleGoodMoves, availableStocks)\n",
    "simulateStrategy(possibleGoodMoves, possibleBadMoves, modelPrecision, modelRecall)\n"
   ]
  },
  {
   "cell_type": "code",
   "execution_count": 41,
   "metadata": {},
   "outputs": [
    {
     "data": {
      "text/plain": [
       "array([list([]), list([]), list([]), ..., list(['GS', 'MSFT', 'IBM']),\n",
       "       list(['GS', 'MSFT', 'IBM']), list(['GS', 'MSFT', 'IBM'])],\n",
       "      dtype=object)"
      ]
     },
     "execution_count": 41,
     "metadata": {},
     "output_type": "execute_result"
    }
   ],
   "source": [
    "possibleBadMoves.values"
   ]
  },
  {
   "cell_type": "code",
   "execution_count": 30,
   "metadata": {},
   "outputs": [
    {
     "data": {
      "text/plain": [
       "True     75341\n",
       "False    22399\n",
       "dtype: int64"
      ]
     },
     "execution_count": 30,
     "metadata": {},
     "output_type": "execute_result"
    }
   ],
   "source": [
    "possibleGoodMoves.apply(lambda x: len(x)>0).value_counts()"
   ]
  },
  {
   "cell_type": "code",
   "execution_count": 31,
   "metadata": {},
   "outputs": [
    {
     "data": {
      "text/plain": [
       "False    75341\n",
       "True     22399\n",
       "dtype: int64"
      ]
     },
     "execution_count": 31,
     "metadata": {},
     "output_type": "execute_result"
    }
   ],
   "source": [
    "possibleBadMoves.apply(lambda x: len(x)==3).value_counts()"
   ]
  },
  {
   "cell_type": "code",
   "execution_count": 26,
   "metadata": {},
   "outputs": [
    {
     "data": {
      "text/plain": [
       "date\n",
       "2019-01-02 15:31:00    [GS, MSFT, IBM]\n",
       "2019-01-02 15:32:00    [GS, MSFT, IBM]\n",
       "2019-01-02 15:33:00    [GS, MSFT, IBM]\n",
       "2019-01-02 15:34:00    [GS, MSFT, IBM]\n",
       "2019-01-02 15:35:00    [GS, MSFT, IBM]\n",
       "2019-01-02 15:36:00    [GS, MSFT, IBM]\n",
       "2019-01-02 15:37:00    [GS, MSFT, IBM]\n",
       "2019-01-02 15:38:00    [GS, MSFT, IBM]\n",
       "2019-01-02 15:39:00    [GS, MSFT, IBM]\n",
       "2019-01-02 15:40:00    [GS, MSFT, IBM]\n",
       "dtype: object"
      ]
     },
     "execution_count": 26,
     "metadata": {},
     "output_type": "execute_result"
    }
   ],
   "source": [
    "possibleGoodMoves[60:70]"
   ]
  },
  {
   "cell_type": "code",
   "execution_count": 28,
   "metadata": {},
   "outputs": [
    {
     "data": {
      "text/plain": [
       "date\n",
       "2019-01-02 15:31:00    []\n",
       "2019-01-02 15:32:00    []\n",
       "2019-01-02 15:33:00    []\n",
       "2019-01-02 15:34:00    []\n",
       "2019-01-02 15:35:00    []\n",
       "2019-01-02 15:36:00    []\n",
       "2019-01-02 15:37:00    []\n",
       "2019-01-02 15:38:00    []\n",
       "2019-01-02 15:39:00    []\n",
       "2019-01-02 15:40:00    []\n",
       "dtype: object"
      ]
     },
     "execution_count": 28,
     "metadata": {},
     "output_type": "execute_result"
    }
   ],
   "source": [
    "possibleBadMoves[60:70]"
   ]
  },
  {
   "cell_type": "code",
   "execution_count": 45,
   "metadata": {},
   "outputs": [
    {
     "data": {
      "text/plain": [
       "2    26557\n",
       "1    24955\n",
       "3    23829\n",
       "0    22399\n",
       "dtype: int64"
      ]
     },
     "execution_count": 45,
     "metadata": {},
     "output_type": "execute_result"
    }
   ],
   "source": [
    "possibleGoodMoves.apply(len).value_counts()"
   ]
  },
  {
   "cell_type": "code",
   "execution_count": 38,
   "metadata": {},
   "outputs": [
    {
     "data": {
      "text/plain": [
       "()                 23829\n",
       "(GS, MSFT, IBM)    22399\n",
       "(GS,)              10397\n",
       "(MSFT, IBM)         9316\n",
       "(GS, IBM)           9218\n",
       "(MSFT,)             9109\n",
       "(IBM,)              7051\n",
       "(GS, MSFT)          6421\n",
       "dtype: int64"
      ]
     },
     "execution_count": 38,
     "metadata": {},
     "output_type": "execute_result"
    }
   ],
   "source": [
    "possibleBadMoves.apply(tuple).value_counts()"
   ]
  },
  {
   "cell_type": "code",
   "execution_count": null,
   "metadata": {},
   "outputs": [],
   "source": []
  }
 ],
 "metadata": {
  "kernelspec": {
   "display_name": "Python 3",
   "language": "python",
   "name": "python3"
  },
  "language_info": {
   "codemirror_mode": {
    "name": "ipython",
    "version": 3
   },
   "file_extension": ".py",
   "mimetype": "text/x-python",
   "name": "python",
   "nbconvert_exporter": "python",
   "pygments_lexer": "ipython3",
   "version": "3.6.6"
  }
 },
 "nbformat": 4,
 "nbformat_minor": 2
}
