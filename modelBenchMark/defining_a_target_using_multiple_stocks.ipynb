{
 "cells": [
  {
   "cell_type": "markdown",
   "metadata": {},
   "source": [
    "# Defining a target with multiple stocks\n",
    "## Goal\n",
    "* Quantify how good our models have to be if we have one model for each stock in Dow Jones\n",
    "* In this set up, each model is trying to predict if the asset is going to be higher in exactly 20 mins when compared to the next minute.\n",
    "\n",
    "## Main takeouts\n",
    "\n"
   ]
  },
  {
   "cell_type": "code",
   "execution_count": null,
   "metadata": {},
   "outputs": [],
   "source": [
    "cd ~/Desktop/MyProjects/moneyManager/"
   ]
  },
  {
   "cell_type": "code",
   "execution_count": null,
   "metadata": {},
   "outputs": [],
   "source": [
    "import matplotlib.pyplot as plt\n",
    "import pandas as pd\n",
    "from modelBenchMark.strategySimulator import strategySimulator, simulateSingleStrategy\n",
    "from modelBenchMark.strategySimulator import testCaseForModelSimulator\n",
    "from datetime import datetime"
   ]
  },
  {
   "cell_type": "code",
   "execution_count": null,
   "metadata": {},
   "outputs": [],
   "source": [
    "def createTarget(consolidatedPrice, memSize=120):\n",
    "    \"\"\" Document asap\n",
    "    \"\"\"\n",
    "    d=(consolidatedPrice.shift(-19)-consolidatedPrice.shift(-0))\n",
    "    rollingMean = d.rolling(memSize).mean() \n",
    "    return (d>0)\n"
   ]
  },
  {
   "cell_type": "code",
   "execution_count": 20,
   "metadata": {},
   "outputs": [],
   "source": [
    "startDay, endDay = datetime(2019,1,1), datetime(2020,1,1)\n",
    "precision, recall = 0.90, 0.2\n",
    "stocks=['GS', 'MSFT', 'IBM'] \n",
    "numSimulations = 10"
   ]
  },
  {
   "cell_type": "code",
   "execution_count": 21,
   "metadata": {},
   "outputs": [],
   "source": [
    "strategy=simulateSingleStrategy(precision, recall, stocks, startDay, endDay, createTarget)"
   ]
  },
  {
   "cell_type": "code",
   "execution_count": null,
   "metadata": {},
   "outputs": [
    {
     "name": "stdout",
     "output_type": "stream",
     "text": [
      "0 "
     ]
    }
   ],
   "source": [
    "stratOutcome, stratMoves = strategySimulator(precision, recall, stocks, startDay, endDay, createTarget, numSimulations)\n",
    "randOutcome, randMoves = strategySimulator(precision, recall, stocks, startDay, endDay, createTarget, numSimulations)\n"
   ]
  },
  {
   "cell_type": "code",
   "execution_count": null,
   "metadata": {},
   "outputs": [],
   "source": [
    "dr = pd.DataFrame({'stratOutcome':stratOutcome, 'randOutcome': randOutcome})\n",
    "dr.plot.hist(bins=20, alpha=0.5);\n",
    "plt.title('Performance of strategies with precision=  and precision= ')"
   ]
  },
  {
   "cell_type": "code",
   "execution_count": null,
   "metadata": {},
   "outputs": [],
   "source": [
    "dm = pd.DataFrame({'stratMoves':stratMoves, 'randMoves': randMoves})\n",
    "dm.plot.hist(bins=20, alpha=0.5);\n",
    "plt.title('Number of movements of strategies with precision=  and precision= ')"
   ]
  },
  {
   "cell_type": "code",
   "execution_count": null,
   "metadata": {},
   "outputs": [],
   "source": [
    "# just checks how was the gain of GS, IBM, MSFT\n",
    "winGS = testCaseForModelSimulator('GS')\n",
    "winIBM = testCaseForModelSimulator('IBM')\n",
    "winMSFT = testCaseForModelSimulator('MSFT')"
   ]
  },
  {
   "cell_type": "code",
   "execution_count": null,
   "metadata": {},
   "outputs": [],
   "source": [
    "print(winGS, winIBM, winMSFT)"
   ]
  },
  {
   "cell_type": "code",
   "execution_count": null,
   "metadata": {},
   "outputs": [],
   "source": [
    "plt.close('all')\n",
    "dr.plot.hist(bins=10, alpha=0.5);\n",
    "fig = plt.gcf()\n",
    "fig.set_size_inches(10, 5)\n",
    "plt.show()"
   ]
  },
  {
   "cell_type": "code",
   "execution_count": null,
   "metadata": {},
   "outputs": [],
   "source": [
    "difference = dr.stratOutcome-dr.randOutcome"
   ]
  },
  {
   "cell_type": "code",
   "execution_count": null,
   "metadata": {},
   "outputs": [],
   "source": [
    "difference.plot.hist()"
   ]
  },
  {
   "cell_type": "code",
   "execution_count": null,
   "metadata": {},
   "outputs": [],
   "source": []
  },
  {
   "cell_type": "code",
   "execution_count": null,
   "metadata": {},
   "outputs": [],
   "source": []
  }
 ],
 "metadata": {
  "kernelspec": {
   "display_name": "Python 3",
   "language": "python",
   "name": "python3"
  },
  "language_info": {
   "codemirror_mode": {
    "name": "ipython",
    "version": 3
   },
   "file_extension": ".py",
   "mimetype": "text/x-python",
   "name": "python",
   "nbconvert_exporter": "python",
   "pygments_lexer": "ipython3",
   "version": "3.6.6"
  }
 },
 "nbformat": 4,
 "nbformat_minor": 2
}
