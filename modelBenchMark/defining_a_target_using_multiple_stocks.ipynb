{
 "cells": [
  {
   "cell_type": "markdown",
   "metadata": {},
   "source": [
    "# Defining a target with multiple stocks\n",
    "## Goal\n",
    "* Quantify how good our models have to be if we have one model for each stock in Dow Jones\n",
    "* In this set up, each model is trying to predict if the asset is going to be higher in exactly 20 mins when compared to the next minute.\n",
    "* Need to also track the percentage of succesfull moves, maybe from market utilities.\n",
    "\n",
    "## Main takeouts\n",
    "\n"
   ]
  },
  {
   "cell_type": "code",
   "execution_count": null,
   "metadata": {},
   "outputs": [],
   "source": [
    "cd ~/Desktop/MyProjects/moneyManager/"
   ]
  },
  {
   "cell_type": "code",
   "execution_count": null,
   "metadata": {},
   "outputs": [],
   "source": [
    "import matplotlib.pyplot as plt\n",
    "import pandas as pd\n",
    "from modelBenchMark.strategySimulator import strategySimulator, simulateSingleStrategy\n",
    "from modelBenchMark.strategySimulator import testCaseForModelSimulator\n",
    "from marketUtilities.marketSimulator import marketSimulator\n",
    "from marketUtilities.loadTimeSeries import loadTimeSeries\n",
    "from datetime import datetime"
   ]
  },
  {
   "cell_type": "code",
   "execution_count": null,
   "metadata": {},
   "outputs": [],
   "source": [
    "def createTarget(consolidatedPrice, memSize=120):\n",
    "    \"\"\" Document asap\n",
    "    \"\"\"\n",
    "    d=(consolidatedPrice.shift(-20)-consolidatedPrice.shift(-1))\n",
    "    #rollingMean = d.rolling(memSize).mean() \n",
    "    return (d>0)"
   ]
  },
  {
   "cell_type": "code",
   "execution_count": null,
   "metadata": {},
   "outputs": [],
   "source": [
    "def getGainOfOnlyOneStockStrategy(stock, startDay, endDay):\n",
    "    marketTimes = loadTimeSeries(stock, startDay, endDay).index\n",
    "    onlyOne = pd.Series([stock]*len(marketTimes), index=marketTimes)\n",
    "    return marketSimulator(onlyOne, initialAmount=1)[-1]"
   ]
  },
  {
   "cell_type": "code",
   "execution_count": null,
   "metadata": {},
   "outputs": [],
   "source": [
    "startDay, endDay = datetime(2019,1,1), datetime(2020,1,1)\n",
    "stocks=['GS', 'MSFT', 'IBM'] \n",
    "numSimulations = 100"
   ]
  },
  {
   "cell_type": "code",
   "execution_count": null,
   "metadata": {},
   "outputs": [
    {
     "name": "stdout",
     "output_type": "stream",
     "text": [
      "....................................."
     ]
    }
   ],
   "source": [
    "stratOutcome, stratMoves, stratPosIncreases = strategySimulator(0.55, 0.05, stocks, startDay, endDay, createTarget, numSimulations)\n",
    "randOutcome, randMoves, randPosIncreases = strategySimulator(0.5, 0.5, stocks, startDay, endDay, createTarget, numSimulations)"
   ]
  },
  {
   "cell_type": "code",
   "execution_count": null,
   "metadata": {},
   "outputs": [],
   "source": [
    "dr = pd.DataFrame({'stratOutcome':stratOutcome, 'randOutcome': randOutcome})\n",
    "dr.plot.hist(bins=20, alpha=0.5);\n",
    "plt.title('Performance of strategy ')"
   ]
  },
  {
   "cell_type": "code",
   "execution_count": null,
   "metadata": {},
   "outputs": [],
   "source": [
    "dm = pd.DataFrame({'stratMoves':stratMoves, 'randMoves': randMoves})\n",
    "dm.plot.hist(bins=20, alpha=0.5);\n",
    "plt.title('Number of movements')"
   ]
  },
  {
   "cell_type": "code",
   "execution_count": null,
   "metadata": {},
   "outputs": [],
   "source": [
    "dm = pd.DataFrame({'stratPosIncreases':stratPosIncreases, 'randPosIncreases': randPosIncreases})\n",
    "dm.plot.hist(bins=20, alpha=0.5);\n",
    "plt.title('Percentage of positive increases')"
   ]
  },
  {
   "cell_type": "code",
   "execution_count": null,
   "metadata": {},
   "outputs": [],
   "source": [
    "# just checks how was the gain of GS, IBM, MSFT\n",
    "winGS = getGainOfOnlyOneStockStrategy('GS', startDay, endDay)\n",
    "winIBM = getGainOfOnlyOneStockStrategy('IBM', startDay, endDay)\n",
    "winMSFT = getGainOfOnlyOneStockStrategy('MSFT', startDay, endDay)\n",
    "print(winGS, winIBM, winMSFT)"
   ]
  },
  {
   "cell_type": "code",
   "execution_count": null,
   "metadata": {},
   "outputs": [],
   "source": [
    "difference = dr.stratOutcome-dr.randOutcome\n",
    "difference.plot.hist()"
   ]
  }
 ],
 "metadata": {
  "kernelspec": {
   "display_name": "Python 3",
   "language": "python",
   "name": "python3"
  },
  "language_info": {
   "codemirror_mode": {
    "name": "ipython",
    "version": 3
   },
   "file_extension": ".py",
   "mimetype": "text/x-python",
   "name": "python",
   "nbconvert_exporter": "python",
   "pygments_lexer": "ipython3",
   "version": "3.6.6"
  }
 },
 "nbformat": 4,
 "nbformat_minor": 2
}
