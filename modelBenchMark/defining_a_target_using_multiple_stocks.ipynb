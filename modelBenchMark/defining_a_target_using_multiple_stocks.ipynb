{
 "cells": [
  {
   "cell_type": "markdown",
   "metadata": {},
   "source": [
    "# Defining a target with multiple stocks\n",
    "## Goal\n",
    "* Quantify how good our models have to be if we have one model for each stock in Dow Jones\n",
    "* In this set up, each model is trying to predict if the asset is going to be higher in exactly 20 mins when compared to the next minute.\n",
    "\n",
    "## Main takeouts\n",
    "\n"
   ]
  },
  {
   "cell_type": "code",
   "execution_count": null,
   "metadata": {},
   "outputs": [],
   "source": [
    "cd ~/Desktop/MyProjects/moneyManager/"
   ]
  },
  {
   "cell_type": "code",
   "execution_count": null,
   "metadata": {},
   "outputs": [],
   "source": [
    "# need many imports !\n",
    "import matplotlib.pyplot as plt"
   ]
  },
  {
   "cell_type": "code",
   "execution_count": null,
   "metadata": {},
   "outputs": [],
   "source": [
    "stratOutcome, stratMoves = simulateStrategyMultipleTimes(precision=0.6, recall=0.02, availableStocks=['GS', 'MSFT', 'IBM'], numSimulations=200)\n",
    "randOutcome, randMoves = simulateStrategyMultipleTimes(precision=0.5, recall=0.02, availableStocks=['GS', 'MSFT', 'IBM'], numSimulations=200)"
   ]
  },
  {
   "cell_type": "code",
   "execution_count": null,
   "metadata": {},
   "outputs": [],
   "source": [
    "dr = pd.DataFrame({'stratOutcome':stratOutcome, 'randOutcome': randOutcome})\n",
    "dr.plot.hist(bins=20, alpha=0.5);\n",
    "plt.title('Performance of strategies with precision=0.5 and precision=0.6')"
   ]
  },
  {
   "cell_type": "code",
   "execution_count": null,
   "metadata": {},
   "outputs": [],
   "source": [
    "dm = pd.DataFrame({'stratMoves':stratMoves, 'randMoves': randMoves})\n",
    "dm.plot.hist(bins=20, alpha=0.5);\n",
    "plt.title('Number of movements of strategies with precision=0.5 and precision=0.6')"
   ]
  },
  {
   "cell_type": "code",
   "execution_count": null,
   "metadata": {},
   "outputs": [],
   "source": [
    "# just checks how was the gain of GS, IBM, MSFT\n",
    "winGS = testCaseForModelSimulator('GS')\n",
    "winIBM = testCaseForModelSimulator('IBM')\n",
    "winMSFT = testCaseForModelSimulator('MSFT')"
   ]
  },
  {
   "cell_type": "code",
   "execution_count": null,
   "metadata": {},
   "outputs": [],
   "source": [
    "print(winGS, winIBM, winMSFT)"
   ]
  },
  {
   "cell_type": "code",
   "execution_count": null,
   "metadata": {},
   "outputs": [],
   "source": [
    "plt.close('all')\n",
    "dr.plot.hist(bins=10, alpha=0.5);\n",
    "fig = plt.gcf()\n",
    "fig.set_size_inches(10, 5)\n",
    "plt.show()"
   ]
  },
  {
   "cell_type": "code",
   "execution_count": null,
   "metadata": {},
   "outputs": [],
   "source": [
    "difference = dr.stratOutcome-dr.randOutcome"
   ]
  }
 ],
 "metadata": {
  "kernelspec": {
   "display_name": "Python 3",
   "language": "python",
   "name": "python3"
  },
  "language_info": {
   "codemirror_mode": {
    "name": "ipython",
    "version": 3
   },
   "file_extension": ".py",
   "mimetype": "text/x-python",
   "name": "python",
   "nbconvert_exporter": "python",
   "pygments_lexer": "ipython3",
   "version": "3.6.6"
  }
 },
 "nbformat": 4,
 "nbformat_minor": 2
}
