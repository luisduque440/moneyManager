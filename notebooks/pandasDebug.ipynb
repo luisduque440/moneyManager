{
 "cells": [
  {
   "cell_type": "code",
   "execution_count": 5,
   "metadata": {},
   "outputs": [
    {
     "name": "stdout",
     "output_type": "stream",
     "text": [
      "/Users/lduque/Desktop/myProjects/moneyManager\n"
     ]
    }
   ],
   "source": [
    "cd /Users/lduque/Desktop/myProjects/moneyManager/"
   ]
  },
  {
   "cell_type": "code",
   "execution_count": 47,
   "metadata": {},
   "outputs": [],
   "source": [
    "from datetime import datetime, timedelta\n",
    "import pandas as pd\n",
    "import numpy as np\n",
    "from loadData.loadTimeSeries import loadTimeSeries\n",
    "from stockModel.createTrainingDataSet import _createFeaturesFromTimeSeries"
   ]
  },
  {
   "cell_type": "code",
   "execution_count": 11,
   "metadata": {},
   "outputs": [
    {
     "name": "stdout",
     "output_type": "stream",
     "text": [
      "currentTime  2019-01-02 14:40:00\n"
     ]
    }
   ],
   "source": [
    "pastStarts=5\n",
    "currentTime = datetime(2019,1,2,14,40)\n",
    "print('currentTime ', currentTime)\n",
    "dt = loadTimeSeries('GS', pastStarts+1, currentTime)\n",
    "dt['date']=dt.index\n",
    "X = _createFeaturesFromTimeSeries(dt, pastStarts)"
   ]
  },
  {
   "cell_type": "code",
   "execution_count": 12,
   "metadata": {},
   "outputs": [
    {
     "data": {
      "text/html": [
       "<div>\n",
       "<style scoped>\n",
       "    .dataframe tbody tr th:only-of-type {\n",
       "        vertical-align: middle;\n",
       "    }\n",
       "\n",
       "    .dataframe tbody tr th {\n",
       "        vertical-align: top;\n",
       "    }\n",
       "\n",
       "    .dataframe thead th {\n",
       "        text-align: right;\n",
       "    }\n",
       "</style>\n",
       "<table border=\"1\" class=\"dataframe\">\n",
       "  <thead>\n",
       "    <tr style=\"text-align: right;\">\n",
       "      <th></th>\n",
       "      <th>open</th>\n",
       "      <th>high</th>\n",
       "      <th>low</th>\n",
       "      <th>close</th>\n",
       "      <th>volume</th>\n",
       "      <th>consolidated</th>\n",
       "      <th>date</th>\n",
       "    </tr>\n",
       "    <tr>\n",
       "      <th>date</th>\n",
       "      <th></th>\n",
       "      <th></th>\n",
       "      <th></th>\n",
       "      <th></th>\n",
       "      <th></th>\n",
       "      <th></th>\n",
       "      <th></th>\n",
       "    </tr>\n",
       "  </thead>\n",
       "  <tbody>\n",
       "    <tr>\n",
       "      <th>2019-01-02 14:34:00</th>\n",
       "      <td>161.080</td>\n",
       "      <td>161.286</td>\n",
       "      <td>160.806</td>\n",
       "      <td>161.178</td>\n",
       "      <td>8973.0</td>\n",
       "      <td>161.08750</td>\n",
       "      <td>2019-01-02 14:34:00</td>\n",
       "    </tr>\n",
       "    <tr>\n",
       "      <th>2019-01-02 14:35:00</th>\n",
       "      <td>161.207</td>\n",
       "      <td>161.276</td>\n",
       "      <td>160.698</td>\n",
       "      <td>160.982</td>\n",
       "      <td>8727.0</td>\n",
       "      <td>161.04075</td>\n",
       "      <td>2019-01-02 14:35:00</td>\n",
       "    </tr>\n",
       "    <tr>\n",
       "      <th>2019-01-02 14:36:00</th>\n",
       "      <td>160.962</td>\n",
       "      <td>161.276</td>\n",
       "      <td>160.639</td>\n",
       "      <td>161.134</td>\n",
       "      <td>16163.0</td>\n",
       "      <td>161.00275</td>\n",
       "      <td>2019-01-02 14:36:00</td>\n",
       "    </tr>\n",
       "    <tr>\n",
       "      <th>2019-01-02 14:37:00</th>\n",
       "      <td>161.100</td>\n",
       "      <td>161.633</td>\n",
       "      <td>161.100</td>\n",
       "      <td>161.560</td>\n",
       "      <td>4900.0</td>\n",
       "      <td>161.34825</td>\n",
       "      <td>2019-01-02 14:37:00</td>\n",
       "    </tr>\n",
       "    <tr>\n",
       "      <th>2019-01-02 14:38:00</th>\n",
       "      <td>161.560</td>\n",
       "      <td>162.192</td>\n",
       "      <td>161.433</td>\n",
       "      <td>162.192</td>\n",
       "      <td>11183.0</td>\n",
       "      <td>161.84425</td>\n",
       "      <td>2019-01-02 14:38:00</td>\n",
       "    </tr>\n",
       "    <tr>\n",
       "      <th>2019-01-02 14:39:00</th>\n",
       "      <td>162.148</td>\n",
       "      <td>162.256</td>\n",
       "      <td>161.570</td>\n",
       "      <td>161.911</td>\n",
       "      <td>10427.0</td>\n",
       "      <td>161.97125</td>\n",
       "      <td>2019-01-02 14:39:00</td>\n",
       "    </tr>\n",
       "  </tbody>\n",
       "</table>\n",
       "</div>"
      ],
      "text/plain": [
       "                        open     high      low    close   volume  \\\n",
       "date                                                               \n",
       "2019-01-02 14:34:00  161.080  161.286  160.806  161.178   8973.0   \n",
       "2019-01-02 14:35:00  161.207  161.276  160.698  160.982   8727.0   \n",
       "2019-01-02 14:36:00  160.962  161.276  160.639  161.134  16163.0   \n",
       "2019-01-02 14:37:00  161.100  161.633  161.100  161.560   4900.0   \n",
       "2019-01-02 14:38:00  161.560  162.192  161.433  162.192  11183.0   \n",
       "2019-01-02 14:39:00  162.148  162.256  161.570  161.911  10427.0   \n",
       "\n",
       "                     consolidated                date  \n",
       "date                                                   \n",
       "2019-01-02 14:34:00     161.08750 2019-01-02 14:34:00  \n",
       "2019-01-02 14:35:00     161.04075 2019-01-02 14:35:00  \n",
       "2019-01-02 14:36:00     161.00275 2019-01-02 14:36:00  \n",
       "2019-01-02 14:37:00     161.34825 2019-01-02 14:37:00  \n",
       "2019-01-02 14:38:00     161.84425 2019-01-02 14:38:00  \n",
       "2019-01-02 14:39:00     161.97125 2019-01-02 14:39:00  "
      ]
     },
     "execution_count": 12,
     "metadata": {},
     "output_type": "execute_result"
    }
   ],
   "source": [
    "dt"
   ]
  },
  {
   "cell_type": "code",
   "execution_count": 16,
   "metadata": {},
   "outputs": [],
   "source": [
    "D = X.date.values[0]"
   ]
  },
  {
   "cell_type": "code",
   "execution_count": 19,
   "metadata": {},
   "outputs": [
    {
     "data": {
      "text/plain": [
       "[NaT, NaT, NaT, NaT, NaT, Timestamp('2019-01-02 14:34:00')]"
      ]
     },
     "execution_count": 19,
     "metadata": {},
     "output_type": "execute_result"
    }
   ],
   "source": [
    "D"
   ]
  },
  {
   "cell_type": "code",
   "execution_count": 32,
   "metadata": {},
   "outputs": [
    {
     "data": {
      "text/plain": [
       "[Timestamp('2019-01-02 14:34:00')]"
      ]
     },
     "execution_count": 32,
     "metadata": {},
     "output_type": "execute_result"
    }
   ],
   "source": [
    "[d for d in D if pd.notnull(d)]"
   ]
  },
  {
   "cell_type": "code",
   "execution_count": 37,
   "metadata": {},
   "outputs": [],
   "source": [
    "hasNulls= lambda x: len([t for t in x if pd.isnull(t)])>0\n",
    "correctLen = lambda x: False if hasNulls(x) else (x[-1] - x[0]).minutes == len(x) - 1"
   ]
  },
  {
   "cell_type": "code",
   "execution_count": 46,
   "metadata": {},
   "outputs": [
    {
     "data": {
      "text/plain": [
       "0"
      ]
     },
     "execution_count": 46,
     "metadata": {},
     "output_type": "execute_result"
    }
   ],
   "source": [
    "t1=datetime(2019,1,1,1,1,1)\n",
    "t2=datetime(2019,1,2,1,1,5)\n",
    "(t2-t1).seconds//60"
   ]
  },
  {
   "cell_type": "code",
   "execution_count": 49,
   "metadata": {},
   "outputs": [
    {
     "data": {
      "text/plain": [
       "datetime.timedelta(0, 60)"
      ]
     },
     "execution_count": 49,
     "metadata": {},
     "output_type": "execute_result"
    }
   ],
   "source": [
    "timedelta(minutes=1)"
   ]
  },
  {
   "cell_type": "code",
   "execution_count": null,
   "metadata": {},
   "outputs": [],
   "source": []
  }
 ],
 "metadata": {
  "kernelspec": {
   "display_name": "Python 3",
   "language": "python",
   "name": "python3"
  },
  "language_info": {
   "codemirror_mode": {
    "name": "ipython",
    "version": 3
   },
   "file_extension": ".py",
   "mimetype": "text/x-python",
   "name": "python",
   "nbconvert_exporter": "python",
   "pygments_lexer": "ipython3",
   "version": "3.6.6"
  }
 },
 "nbformat": 4,
 "nbformat_minor": 4
}
