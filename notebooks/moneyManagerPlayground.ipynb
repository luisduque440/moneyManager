{
 "cells": [
  {
   "cell_type": "code",
   "execution_count": 1,
   "metadata": {},
   "outputs": [
    {
     "name": "stdout",
     "output_type": "stream",
     "text": [
      "/Users/lduque/Desktop/myProjects/moneyManager\n"
     ]
    }
   ],
   "source": [
    "cd ~/Desktop/MyProjects/moneyManager/"
   ]
  },
  {
   "cell_type": "code",
   "execution_count": 2,
   "metadata": {},
   "outputs": [
    {
     "name": "stdout",
     "output_type": "stream",
     "text": [
      "CPU times: user 4.85 s, sys: 699 ms, total: 5.55 s\n",
      "Wall time: 5.51 s\n"
     ]
    }
   ],
   "source": [
    "%%time\n",
    "from datetime import datetime\n",
    "from stockModel.stockModel import stockModel\n",
    "from moneyManager.moneyManager import moneyManager\n",
    "from loadData.loadTimeSeries import getAvailableMarketMinutes\n",
    "marketMinutes = getAvailableMarketMinutes()\n",
    "currentTime = marketMinutes[10000]"
   ]
  },
  {
   "cell_type": "code",
   "execution_count": 3,
   "metadata": {},
   "outputs": [
    {
     "data": {
      "text/plain": [
       "Timestamp('2019-02-07 18:41:00')"
      ]
     },
     "execution_count": 3,
     "metadata": {},
     "output_type": "execute_result"
    }
   ],
   "source": [
    "currentTime"
   ]
  },
  {
   "cell_type": "code",
   "execution_count": 4,
   "metadata": {},
   "outputs": [],
   "source": [
    "#manager = moneyManager(stocks=['MSFT'])\n",
    "#manager.updateAllModels(currentMinute)"
   ]
  },
  {
   "cell_type": "code",
   "execution_count": 5,
   "metadata": {},
   "outputs": [],
   "source": [
    "sModel = stockModel(stock='MSFT', pastStarts=20, futureEnds=-20, trainSize=1200)"
   ]
  },
  {
   "cell_type": "code",
   "execution_count": 6,
   "metadata": {},
   "outputs": [
    {
     "name": "stdout",
     "output_type": "stream",
     "text": [
      "                                                                  open  \\\n",
      "date                                                                     \n",
      "2019-02-04 18:11:00  [nan, nan, nan, nan, nan, nan, nan, nan, nan, ...   \n",
      "2019-02-04 18:12:00  [nan, nan, nan, nan, nan, nan, nan, nan, nan, ...   \n",
      "2019-02-04 18:13:00  [nan, nan, nan, nan, nan, nan, nan, nan, nan, ...   \n",
      "2019-02-04 18:14:00  [nan, nan, nan, nan, nan, nan, nan, nan, nan, ...   \n",
      "2019-02-04 18:15:00  [nan, nan, nan, nan, nan, nan, nan, nan, nan, ...   \n",
      "\n",
      "                                                                  high  \\\n",
      "date                                                                     \n",
      "2019-02-04 18:11:00  [nan, nan, nan, nan, nan, nan, nan, nan, nan, ...   \n",
      "2019-02-04 18:12:00  [nan, nan, nan, nan, nan, nan, nan, nan, nan, ...   \n",
      "2019-02-04 18:13:00  [nan, nan, nan, nan, nan, nan, nan, nan, nan, ...   \n",
      "2019-02-04 18:14:00  [nan, nan, nan, nan, nan, nan, nan, nan, nan, ...   \n",
      "2019-02-04 18:15:00  [nan, nan, nan, nan, nan, nan, nan, nan, nan, ...   \n",
      "\n",
      "                                                                   low  \\\n",
      "date                                                                     \n",
      "2019-02-04 18:11:00  [nan, nan, nan, nan, nan, nan, nan, nan, nan, ...   \n",
      "2019-02-04 18:12:00  [nan, nan, nan, nan, nan, nan, nan, nan, nan, ...   \n",
      "2019-02-04 18:13:00  [nan, nan, nan, nan, nan, nan, nan, nan, nan, ...   \n",
      "2019-02-04 18:14:00  [nan, nan, nan, nan, nan, nan, nan, nan, nan, ...   \n",
      "2019-02-04 18:15:00  [nan, nan, nan, nan, nan, nan, nan, nan, nan, ...   \n",
      "\n",
      "                                                                 close  \\\n",
      "date                                                                     \n",
      "2019-02-04 18:11:00  [nan, nan, nan, nan, nan, nan, nan, nan, nan, ...   \n",
      "2019-02-04 18:12:00  [nan, nan, nan, nan, nan, nan, nan, nan, nan, ...   \n",
      "2019-02-04 18:13:00  [nan, nan, nan, nan, nan, nan, nan, nan, nan, ...   \n",
      "2019-02-04 18:14:00  [nan, nan, nan, nan, nan, nan, nan, nan, nan, ...   \n",
      "2019-02-04 18:15:00  [nan, nan, nan, nan, nan, nan, nan, nan, nan, ...   \n",
      "\n",
      "                                                                volume  \\\n",
      "date                                                                     \n",
      "2019-02-04 18:11:00  [nan, nan, nan, nan, nan, nan, nan, nan, nan, ...   \n",
      "2019-02-04 18:12:00  [nan, nan, nan, nan, nan, nan, nan, nan, nan, ...   \n",
      "2019-02-04 18:13:00  [nan, nan, nan, nan, nan, nan, nan, nan, nan, ...   \n",
      "2019-02-04 18:14:00  [nan, nan, nan, nan, nan, nan, nan, nan, nan, ...   \n",
      "2019-02-04 18:15:00  [nan, nan, nan, nan, nan, nan, nan, nan, nan, ...   \n",
      "\n",
      "                                                          consolidated  \n",
      "date                                                                    \n",
      "2019-02-04 18:11:00  [nan, nan, nan, nan, nan, nan, nan, nan, nan, ...  \n",
      "2019-02-04 18:12:00  [nan, nan, nan, nan, nan, nan, nan, nan, nan, ...  \n",
      "2019-02-04 18:13:00  [nan, nan, nan, nan, nan, nan, nan, nan, nan, ...  \n",
      "2019-02-04 18:14:00  [nan, nan, nan, nan, nan, nan, nan, nan, nan, ...  \n",
      "2019-02-04 18:15:00  [nan, nan, nan, nan, nan, nan, nan, nan, nan, ...  \n",
      "                                                                  open  \\\n",
      "date                                                                     \n",
      "2019-02-04 18:11:00  [nan, nan, nan, nan, nan, nan, nan, nan, nan, ...   \n",
      "2019-02-04 18:12:00  [nan, nan, nan, nan, nan, nan, nan, nan, nan, ...   \n",
      "2019-02-04 18:13:00  [nan, nan, nan, nan, nan, nan, nan, nan, nan, ...   \n",
      "2019-02-04 18:14:00  [nan, nan, nan, nan, nan, nan, nan, nan, nan, ...   \n",
      "2019-02-04 18:15:00  [nan, nan, nan, nan, nan, nan, nan, nan, nan, ...   \n",
      "\n",
      "                                                                  high  \\\n",
      "date                                                                     \n",
      "2019-02-04 18:11:00  [nan, nan, nan, nan, nan, nan, nan, nan, nan, ...   \n",
      "2019-02-04 18:12:00  [nan, nan, nan, nan, nan, nan, nan, nan, nan, ...   \n",
      "2019-02-04 18:13:00  [nan, nan, nan, nan, nan, nan, nan, nan, nan, ...   \n",
      "2019-02-04 18:14:00  [nan, nan, nan, nan, nan, nan, nan, nan, nan, ...   \n",
      "2019-02-04 18:15:00  [nan, nan, nan, nan, nan, nan, nan, nan, nan, ...   \n",
      "\n",
      "                                                                   low  \\\n",
      "date                                                                     \n",
      "2019-02-04 18:11:00  [nan, nan, nan, nan, nan, nan, nan, nan, nan, ...   \n",
      "2019-02-04 18:12:00  [nan, nan, nan, nan, nan, nan, nan, nan, nan, ...   \n",
      "2019-02-04 18:13:00  [nan, nan, nan, nan, nan, nan, nan, nan, nan, ...   \n",
      "2019-02-04 18:14:00  [nan, nan, nan, nan, nan, nan, nan, nan, nan, ...   \n",
      "2019-02-04 18:15:00  [nan, nan, nan, nan, nan, nan, nan, nan, nan, ...   \n",
      "\n",
      "                                                                 close  \\\n",
      "date                                                                     \n",
      "2019-02-04 18:11:00  [nan, nan, nan, nan, nan, nan, nan, nan, nan, ...   \n",
      "2019-02-04 18:12:00  [nan, nan, nan, nan, nan, nan, nan, nan, nan, ...   \n",
      "2019-02-04 18:13:00  [nan, nan, nan, nan, nan, nan, nan, nan, nan, ...   \n",
      "2019-02-04 18:14:00  [nan, nan, nan, nan, nan, nan, nan, nan, nan, ...   \n",
      "2019-02-04 18:15:00  [nan, nan, nan, nan, nan, nan, nan, nan, nan, ...   \n",
      "\n",
      "                                                                volume  \\\n",
      "date                                                                     \n",
      "2019-02-04 18:11:00  [nan, nan, nan, nan, nan, nan, nan, nan, nan, ...   \n",
      "2019-02-04 18:12:00  [nan, nan, nan, nan, nan, nan, nan, nan, nan, ...   \n",
      "2019-02-04 18:13:00  [nan, nan, nan, nan, nan, nan, nan, nan, nan, ...   \n",
      "2019-02-04 18:14:00  [nan, nan, nan, nan, nan, nan, nan, nan, nan, ...   \n",
      "2019-02-04 18:15:00  [nan, nan, nan, nan, nan, nan, nan, nan, nan, ...   \n",
      "\n",
      "                                                          consolidated  \n",
      "date                                                                    \n",
      "2019-02-04 18:11:00  [nan, nan, nan, nan, nan, nan, nan, nan, nan, ...  \n",
      "2019-02-04 18:12:00  [nan, nan, nan, nan, nan, nan, nan, nan, nan, ...  \n",
      "2019-02-04 18:13:00  [nan, nan, nan, nan, nan, nan, nan, nan, nan, ...  \n",
      "2019-02-04 18:14:00  [nan, nan, nan, nan, nan, nan, nan, nan, nan, ...  \n",
      "2019-02-04 18:15:00  [nan, nan, nan, nan, nan, nan, nan, nan, nan, ...  \n",
      "False    743\n",
      "True     457\n",
      "Name: target, dtype: int64\n"
     ]
    },
    {
     "name": "stderr",
     "output_type": "stream",
     "text": [
      "/Users/lduque/Desktop/myProjects/moneyManager/venv-money/lib/python3.6/site-packages/numpy/core/fromnumeric.py:3584: RuntimeWarning: Degrees of freedom <= 0 for slice\n",
      "  **kwargs)\n",
      "/Users/lduque/Desktop/myProjects/moneyManager/venv-money/lib/python3.6/site-packages/sklearn/linear_model/_logistic.py:940: ConvergenceWarning: lbfgs failed to converge (status=1):\n",
      "STOP: TOTAL NO. of ITERATIONS REACHED LIMIT.\n",
      "\n",
      "Increase the number of iterations (max_iter) or scale the data as shown in:\n",
      "    https://scikit-learn.org/stable/modules/preprocessing.html\n",
      "Please also refer to the documentation for alternative solver options:\n",
      "    https://scikit-learn.org/stable/modules/linear_model.html#logistic-regression\n",
      "  extra_warning_msg=_LOGISTIC_SOLVER_CONVERGENCE_MSG)\n",
      "/Users/lduque/Desktop/myProjects/moneyManager/venv-money/lib/python3.6/site-packages/sklearn/linear_model/_logistic.py:940: ConvergenceWarning: lbfgs failed to converge (status=1):\n",
      "STOP: TOTAL NO. of ITERATIONS REACHED LIMIT.\n",
      "\n",
      "Increase the number of iterations (max_iter) or scale the data as shown in:\n",
      "    https://scikit-learn.org/stable/modules/preprocessing.html\n",
      "Please also refer to the documentation for alternative solver options:\n",
      "    https://scikit-learn.org/stable/modules/linear_model.html#logistic-regression\n",
      "  extra_warning_msg=_LOGISTIC_SOLVER_CONVERGENCE_MSG)\n",
      "/Users/lduque/Desktop/myProjects/moneyManager/venv-money/lib/python3.6/site-packages/sklearn/linear_model/_logistic.py:940: ConvergenceWarning: lbfgs failed to converge (status=1):\n",
      "STOP: TOTAL NO. of ITERATIONS REACHED LIMIT.\n",
      "\n",
      "Increase the number of iterations (max_iter) or scale the data as shown in:\n",
      "    https://scikit-learn.org/stable/modules/preprocessing.html\n",
      "Please also refer to the documentation for alternative solver options:\n",
      "    https://scikit-learn.org/stable/modules/linear_model.html#logistic-regression\n",
      "  extra_warning_msg=_LOGISTIC_SOLVER_CONVERGENCE_MSG)\n"
     ]
    }
   ],
   "source": [
    "sModel.train(currentTime)"
   ]
  },
  {
   "cell_type": "code",
   "execution_count": null,
   "metadata": {},
   "outputs": [],
   "source": [
    "from stockModel.createTrainingDataSet import createTrainingDataSet\n",
    "df = createTrainingDataSet(stock='MSFT', numSamples=1200, endTime=currentTime, pastStarts=20, futureEnds=-20)\n",
    "df.target.value_counts()\n",
    "df=df.dropna()\n",
    "df.target.value_counts()"
   ]
  },
  {
   "cell_type": "code",
   "execution_count": null,
   "metadata": {},
   "outputs": [],
   "source": []
  },
  {
   "cell_type": "code",
   "execution_count": null,
   "metadata": {},
   "outputs": [],
   "source": [
    "len(df)"
   ]
  },
  {
   "cell_type": "code",
   "execution_count": null,
   "metadata": {},
   "outputs": [],
   "source": []
  },
  {
   "cell_type": "code",
   "execution_count": null,
   "metadata": {},
   "outputs": [],
   "source": [
    "import sklearn\n",
    "sklearn.metrics.SCORERS.keys()"
   ]
  },
  {
   "cell_type": "code",
   "execution_count": null,
   "metadata": {},
   "outputs": [],
   "source": []
  }
 ],
 "metadata": {
  "kernelspec": {
   "display_name": "Python 3",
   "language": "python",
   "name": "python3"
  },
  "language_info": {
   "codemirror_mode": {
    "name": "ipython",
    "version": 3
   },
   "file_extension": ".py",
   "mimetype": "text/x-python",
   "name": "python",
   "nbconvert_exporter": "python",
   "pygments_lexer": "ipython3",
   "version": "3.6.6"
  }
 },
 "nbformat": 4,
 "nbformat_minor": 4
}
