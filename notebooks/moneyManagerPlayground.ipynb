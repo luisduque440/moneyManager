{
 "cells": [
  {
   "cell_type": "code",
   "execution_count": null,
   "metadata": {},
   "outputs": [],
   "source": [
    "cd ~/Desktop/MyProjects/moneyManager/"
   ]
  },
  {
   "cell_type": "code",
   "execution_count": null,
   "metadata": {},
   "outputs": [],
   "source": [
    "%%time\n",
    "from datetime import datetime\n",
    "import pandas as pd\n",
    "import numpy as np\n",
    "from stockModel.stockModel import stockModel\n",
    "from moneyManager.moneyManager import moneyManager\n",
    "from loadData.loadTimeSeries import loadTimeSeries\n",
    "#from stockModel.createTarget import createTarget\n",
    "from loadData.loadTimeSeries import getAvailableMarketMinutes\n",
    "from loadData.loadTimeSeries import getListOfAvailableStocks\n",
    "from loadData.loadTimeSeries import countEmptyValuesInAvailableData\n",
    "pd.set_option('display.max_columns', None)"
   ]
  },
  {
   "cell_type": "code",
   "execution_count": null,
   "metadata": {},
   "outputs": [],
   "source": [
    "de = countEmptyValuesInAvailableData()\n",
    "de.sum(axis=0)"
   ]
  },
  {
   "cell_type": "code",
   "execution_count": null,
   "metadata": {},
   "outputs": [],
   "source": [
    "marketMinutes = getAvailableMarketMinutes()[-10000:]\n",
    "currentTime = marketMinutes[0]\n",
    "stocks = list(de.sum().sort_values().index.values[:2])"
   ]
  },
  {
   "cell_type": "code",
   "execution_count": null,
   "metadata": {},
   "outputs": [],
   "source": [
    "manager = moneyManager(stocks=stocks)\n",
    "manager.updateAllModels(currentTime)"
   ]
  },
  {
   "cell_type": "code",
   "execution_count": null,
   "metadata": {},
   "outputs": [],
   "source": [
    "for cTime in marketMinutes:\n",
    "    cThesholds = manager.thresholds\n",
    "    validThresholds = {s:cThesholds[s] for s in cThesholds if cThesholds[s]!=None}\n",
    "    if len(validThresholds)>0: print(cTime, validThresholds)\n",
    "    manager.update(cTime)"
   ]
  },
  {
   "cell_type": "code",
   "execution_count": null,
   "metadata": {},
   "outputs": [],
   "source": []
  },
  {
   "cell_type": "code",
   "execution_count": null,
   "metadata": {},
   "outputs": [],
   "source": []
  }
 ],
 "metadata": {
  "kernelspec": {
   "display_name": "Python 3",
   "language": "python",
   "name": "python3"
  },
  "language_info": {
   "codemirror_mode": {
    "name": "ipython",
    "version": 3
   },
   "file_extension": ".py",
   "mimetype": "text/x-python",
   "name": "python",
   "nbconvert_exporter": "python",
   "pygments_lexer": "ipython3",
   "version": "3.6.6"
  }
 },
 "nbformat": 4,
 "nbformat_minor": 4
}
