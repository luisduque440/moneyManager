{
 "cells": [
  {
   "cell_type": "code",
   "execution_count": null,
   "metadata": {},
   "outputs": [],
   "source": [
    "cd ~/Desktop/MyProjects/moneyManager/"
   ]
  },
  {
   "cell_type": "code",
   "execution_count": 59,
   "metadata": {},
   "outputs": [
    {
     "name": "stdout",
     "output_type": "stream",
     "text": [
      "CPU times: user 68 µs, sys: 0 ns, total: 68 µs\n",
      "Wall time: 72 µs\n"
     ]
    }
   ],
   "source": [
    "%%time\n",
    "from datetime import datetime\n",
    "import pandas as pd\n",
    "import numpy as np\n",
    "from stockModel.stockModel import stockModel\n",
    "from moneyManager.moneyManager import moneyManager\n",
    "from loadData.loadTimeSeries import loadTimeSeries\n",
    "from stockModel.createTarget import createTarget\n",
    "from loadData.loadTimeSeries import getAvailableMarketMinutes\n",
    "from loadData.loadTimeSeries import getListOfAvailableStocks\n",
    "from loadData.loadTimeSeries import countEmptyValuesInAvailableData\n",
    "pd.set_option('display.max_columns', None)"
   ]
  },
  {
   "cell_type": "code",
   "execution_count": null,
   "metadata": {},
   "outputs": [],
   "source": [
    "marketMinutes = getAvailableMarketMinutes()\n",
    "de = countEmptyValuesInAvailableData()\n",
    "stocks = list(de.sum().sort_values().index.values[:2])\n",
    "currentTime = marketMinutes[10000]"
   ]
  },
  {
   "cell_type": "code",
   "execution_count": null,
   "metadata": {},
   "outputs": [],
   "source": [
    "manager = moneyManager(stocks=stocks)\n",
    "manager.updateAllModels(currentTime)\n",
    "\n",
    "for cTime in marketMinutes[-500:]:\n",
    "    print(cTime, manager.thresholds)\n",
    "    manager.updateTime(cTime)"
   ]
  },
  {
   "cell_type": "code",
   "execution_count": 58,
   "metadata": {},
   "outputs": [],
   "source": [
    "# gets Lists of the times in which the manager is suggesting to buy the stocks\n",
    "managerSuggestions = [b for b in manager.suggestions if b[0]=='buyAndKeep20mins']\n",
    "buySuggestions = {}\n",
    "for s in stocks:\n",
    "    buySuggestions[s]= {b[2] for b in managerSuggestions if b[1]==s}"
   ]
  },
  {
   "cell_type": "code",
   "execution_count": 67,
   "metadata": {},
   "outputs": [],
   "source": [
    "# gets Times in which it is a good idea to buyAndKeep for 20 mins\n",
    "idealBuyTimes={}\n",
    "for s in stocks:\n",
    "    ds = loadTimeSeries(s)\n",
    "    dB = createTarget(ds)\n",
    "    idealBuyTimes[s] = set(dB[dB==True].index)"
   ]
  },
  {
   "cell_type": "code",
   "execution_count": 69,
   "metadata": {},
   "outputs": [],
   "source": [
    "buySuggestionsCount=sum([len(buySuggestions[s]) for s in stocks])\n",
    "\n"
   ]
  },
  {
   "cell_type": "code",
   "execution_count": 70,
   "metadata": {},
   "outputs": [
    {
     "data": {
      "text/plain": [
       "105"
      ]
     },
     "execution_count": 70,
     "metadata": {},
     "output_type": "execute_result"
    }
   ],
   "source": [
    "buySuggestionsCount"
   ]
  },
  {
   "cell_type": "code",
   "execution_count": 73,
   "metadata": {},
   "outputs": [
    {
     "data": {
      "text/plain": [
       "85"
      ]
     },
     "execution_count": 73,
     "metadata": {},
     "output_type": "execute_result"
    }
   ],
   "source": [
    "len(buySuggestions['CSCO'])"
   ]
  },
  {
   "cell_type": "code",
   "execution_count": 72,
   "metadata": {},
   "outputs": [
    {
     "data": {
      "text/plain": [
       "{'CSCO': {Timestamp('2019-12-31 15:13:00'),\n",
       "  Timestamp('2019-12-31 15:14:00'),\n",
       "  Timestamp('2019-12-31 15:15:00'),\n",
       "  Timestamp('2019-12-31 15:16:00'),\n",
       "  Timestamp('2019-12-31 15:17:00'),\n",
       "  Timestamp('2019-12-31 15:18:00'),\n",
       "  Timestamp('2019-12-31 15:19:00'),\n",
       "  Timestamp('2019-12-31 15:20:00'),\n",
       "  Timestamp('2019-12-31 15:21:00'),\n",
       "  Timestamp('2019-12-31 15:22:00'),\n",
       "  Timestamp('2019-12-31 15:23:00'),\n",
       "  Timestamp('2019-12-31 15:24:00'),\n",
       "  Timestamp('2019-12-31 15:25:00'),\n",
       "  Timestamp('2019-12-31 15:26:00'),\n",
       "  Timestamp('2019-12-31 15:27:00'),\n",
       "  Timestamp('2019-12-31 15:28:00'),\n",
       "  Timestamp('2019-12-31 15:29:00'),\n",
       "  Timestamp('2019-12-31 15:30:00'),\n",
       "  Timestamp('2019-12-31 15:31:00'),\n",
       "  Timestamp('2019-12-31 15:32:00'),\n",
       "  Timestamp('2019-12-31 15:33:00'),\n",
       "  Timestamp('2019-12-31 15:34:00'),\n",
       "  Timestamp('2019-12-31 17:41:00'),\n",
       "  Timestamp('2019-12-31 17:42:00'),\n",
       "  Timestamp('2019-12-31 17:43:00'),\n",
       "  Timestamp('2019-12-31 17:44:00'),\n",
       "  Timestamp('2019-12-31 17:45:00'),\n",
       "  Timestamp('2019-12-31 17:46:00'),\n",
       "  Timestamp('2019-12-31 17:47:00'),\n",
       "  Timestamp('2019-12-31 17:48:00'),\n",
       "  Timestamp('2019-12-31 17:49:00'),\n",
       "  Timestamp('2019-12-31 17:50:00'),\n",
       "  Timestamp('2019-12-31 17:51:00'),\n",
       "  Timestamp('2019-12-31 17:52:00'),\n",
       "  Timestamp('2019-12-31 17:53:00'),\n",
       "  Timestamp('2019-12-31 17:54:00'),\n",
       "  Timestamp('2019-12-31 17:55:00'),\n",
       "  Timestamp('2019-12-31 17:56:00'),\n",
       "  Timestamp('2019-12-31 17:57:00'),\n",
       "  Timestamp('2019-12-31 17:58:00'),\n",
       "  Timestamp('2019-12-31 17:59:00'),\n",
       "  Timestamp('2019-12-31 18:00:00'),\n",
       "  Timestamp('2019-12-31 18:01:00'),\n",
       "  Timestamp('2019-12-31 18:02:00'),\n",
       "  Timestamp('2019-12-31 18:03:00'),\n",
       "  Timestamp('2019-12-31 18:04:00'),\n",
       "  Timestamp('2019-12-31 18:05:00'),\n",
       "  Timestamp('2019-12-31 18:06:00'),\n",
       "  Timestamp('2019-12-31 18:07:00'),\n",
       "  Timestamp('2019-12-31 18:08:00'),\n",
       "  Timestamp('2019-12-31 18:09:00'),\n",
       "  Timestamp('2019-12-31 18:10:00'),\n",
       "  Timestamp('2019-12-31 18:11:00'),\n",
       "  Timestamp('2019-12-31 18:12:00'),\n",
       "  Timestamp('2019-12-31 18:13:00'),\n",
       "  Timestamp('2019-12-31 18:14:00'),\n",
       "  Timestamp('2019-12-31 18:15:00'),\n",
       "  Timestamp('2019-12-31 18:16:00'),\n",
       "  Timestamp('2019-12-31 18:17:00'),\n",
       "  Timestamp('2019-12-31 18:18:00'),\n",
       "  Timestamp('2019-12-31 18:19:00'),\n",
       "  Timestamp('2019-12-31 18:20:00'),\n",
       "  Timestamp('2019-12-31 18:21:00'),\n",
       "  Timestamp('2019-12-31 18:22:00'),\n",
       "  Timestamp('2019-12-31 18:23:00'),\n",
       "  Timestamp('2019-12-31 18:24:00'),\n",
       "  Timestamp('2019-12-31 18:25:00'),\n",
       "  Timestamp('2019-12-31 18:26:00'),\n",
       "  Timestamp('2019-12-31 18:27:00'),\n",
       "  Timestamp('2019-12-31 18:28:00'),\n",
       "  Timestamp('2019-12-31 18:29:00'),\n",
       "  Timestamp('2019-12-31 18:30:00'),\n",
       "  Timestamp('2019-12-31 18:31:00'),\n",
       "  Timestamp('2019-12-31 18:32:00'),\n",
       "  Timestamp('2019-12-31 18:33:00'),\n",
       "  Timestamp('2019-12-31 18:34:00'),\n",
       "  Timestamp('2019-12-31 18:35:00'),\n",
       "  Timestamp('2019-12-31 18:36:00'),\n",
       "  Timestamp('2019-12-31 18:37:00'),\n",
       "  Timestamp('2019-12-31 18:38:00'),\n",
       "  Timestamp('2019-12-31 18:39:00'),\n",
       "  Timestamp('2019-12-31 18:40:00'),\n",
       "  Timestamp('2019-12-31 18:41:00'),\n",
       "  Timestamp('2019-12-31 18:42:00'),\n",
       "  Timestamp('2019-12-31 18:43:00')},\n",
       " 'AAPL': {Timestamp('2019-12-31 20:41:00'),\n",
       "  Timestamp('2019-12-31 20:42:00'),\n",
       "  Timestamp('2019-12-31 20:43:00'),\n",
       "  Timestamp('2019-12-31 20:44:00'),\n",
       "  Timestamp('2019-12-31 20:45:00'),\n",
       "  Timestamp('2019-12-31 20:46:00'),\n",
       "  Timestamp('2019-12-31 20:47:00'),\n",
       "  Timestamp('2019-12-31 20:48:00'),\n",
       "  Timestamp('2019-12-31 20:49:00'),\n",
       "  Timestamp('2019-12-31 20:50:00'),\n",
       "  Timestamp('2019-12-31 20:51:00'),\n",
       "  Timestamp('2019-12-31 20:52:00'),\n",
       "  Timestamp('2019-12-31 20:53:00'),\n",
       "  Timestamp('2019-12-31 20:54:00'),\n",
       "  Timestamp('2019-12-31 20:55:00'),\n",
       "  Timestamp('2019-12-31 20:56:00'),\n",
       "  Timestamp('2019-12-31 20:57:00'),\n",
       "  Timestamp('2019-12-31 20:58:00'),\n",
       "  Timestamp('2019-12-31 20:59:00'),\n",
       "  Timestamp('2019-12-31 21:00:00')}}"
      ]
     },
     "execution_count": 72,
     "metadata": {},
     "output_type": "execute_result"
    }
   ],
   "source": [
    "buySuggestions"
   ]
  },
  {
   "cell_type": "code",
   "execution_count": null,
   "metadata": {},
   "outputs": [],
   "source": []
  }
 ],
 "metadata": {
  "kernelspec": {
   "display_name": "Python 3",
   "language": "python",
   "name": "python3"
  },
  "language_info": {
   "codemirror_mode": {
    "name": "ipython",
    "version": 3
   },
   "file_extension": ".py",
   "mimetype": "text/x-python",
   "name": "python",
   "nbconvert_exporter": "python",
   "pygments_lexer": "ipython3",
   "version": "3.6.6"
  }
 },
 "nbformat": 4,
 "nbformat_minor": 4
}
